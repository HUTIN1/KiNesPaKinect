{
 "cells": [
  {
   "cell_type": "code",
   "execution_count": 56,
   "metadata": {},
   "outputs": [],
   "source": [
    "import csv\n",
    "\n",
    "import numpy as np\n",
    "import tensorflow as tf\n",
    "from sklearn.model_selection import train_test_split\n",
    "\n",
    "RANDOM_SEED = 42"
   ]
  },
  {
   "cell_type": "markdown",
   "metadata": {},
   "source": [
    "# 各パス指定"
   ]
  },
  {
   "cell_type": "code",
   "execution_count": 57,
   "metadata": {},
   "outputs": [],
   "source": [
    "dataset = 'model/two_hands_keypoint_classifier/two_hands_keypoint.csv'\n",
    "model_save_path = 'model/two_hands_keypoint_classifier/two_hands_keypoint_classifier.hdf5'"
   ]
  },
  {
   "cell_type": "markdown",
   "metadata": {},
   "source": [
    "# 分類数設定"
   ]
  },
  {
   "cell_type": "code",
   "execution_count": 58,
   "metadata": {},
   "outputs": [],
   "source": [
    "NUM_CLASSES = 4"
   ]
  },
  {
   "cell_type": "markdown",
   "metadata": {},
   "source": [
    "# 学習データ読み込み"
   ]
  },
  {
   "cell_type": "code",
   "execution_count": 59,
   "metadata": {},
   "outputs": [],
   "source": [
    "X_dataset = np.loadtxt(dataset, delimiter=',', dtype='float32', usecols=list(range(1, (21 * 2 * 2) + 1)))"
   ]
  },
  {
   "cell_type": "code",
   "execution_count": 60,
   "metadata": {},
   "outputs": [],
   "source": [
    "y_dataset = np.loadtxt(dataset, delimiter=',', dtype='int32', usecols=(0))"
   ]
  },
  {
   "cell_type": "code",
   "execution_count": 61,
   "metadata": {},
   "outputs": [],
   "source": [
    "X_train, X_test, y_train, y_test = train_test_split(X_dataset, y_dataset, train_size=0.75, random_state=RANDOM_SEED)"
   ]
  },
  {
   "cell_type": "markdown",
   "metadata": {},
   "source": [
    "# モデル構築"
   ]
  },
  {
   "cell_type": "code",
   "execution_count": 62,
   "metadata": {},
   "outputs": [],
   "source": [
    "model = tf.keras.models.Sequential([\n",
    "    tf.keras.layers.Input((21 * 2 * 2, )),\n",
    "    tf.keras.layers.Dense(80, activation='relu'),\n",
    "    tf.keras.layers.Dropout(0.2),\n",
    "    tf.keras.layers.Dense(40, activation='relu'),\n",
    "    tf.keras.layers.Dropout(0.2),\n",
    "    tf.keras.layers.Dense(20, activation='relu'),\n",
    "    tf.keras.layers.Dropout(0.4),\n",
    "    tf.keras.layers.Dense(10, activation='relu'),\n",
    "    tf.keras.layers.Dense(NUM_CLASSES, activation='softmax')\n",
    "])"
   ]
  },
  {
   "cell_type": "code",
   "execution_count": 63,
   "metadata": {},
   "outputs": [
    {
     "name": "stdout",
     "output_type": "stream",
     "text": [
      "Model: \"sequential_3\"\n",
      "_________________________________________________________________\n",
      " Layer (type)                Output Shape              Param #   \n",
      "=================================================================\n",
      " dropout_9 (Dropout)         (None, 84)                0         \n",
      "                                                                 \n",
      " dense_12 (Dense)            (None, 60)                5100      \n",
      "                                                                 \n",
      " dropout_10 (Dropout)        (None, 60)                0         \n",
      "                                                                 \n",
      " dense_13 (Dense)            (None, 20)                1220      \n",
      "                                                                 \n",
      " dropout_11 (Dropout)        (None, 20)                0         \n",
      "                                                                 \n",
      " dense_14 (Dense)            (None, 10)                210       \n",
      "                                                                 \n",
      " dense_15 (Dense)            (None, 4)                 44        \n",
      "                                                                 \n",
      "=================================================================\n",
      "Total params: 6574 (25.68 KB)\n",
      "Trainable params: 6574 (25.68 KB)\n",
      "Non-trainable params: 0 (0.00 Byte)\n",
      "_________________________________________________________________\n"
     ]
    }
   ],
   "source": [
    "model.summary()  # tf.keras.utils.plot_model(model, show_shapes=True)"
   ]
  },
  {
   "cell_type": "code",
   "execution_count": 64,
   "metadata": {},
   "outputs": [],
   "source": [
    "# モデルチェックポイントのコールバック\n",
    "cp_callback = tf.keras.callbacks.ModelCheckpoint(\n",
    "    model_save_path, verbose=1, save_weights_only=False)\n",
    "# 早期打ち切り用コールバック\n",
    "es_callback = tf.keras.callbacks.EarlyStopping(patience=20, verbose=1)"
   ]
  },
  {
   "cell_type": "code",
   "execution_count": 65,
   "metadata": {},
   "outputs": [],
   "source": [
    "# モデルコンパイル\n",
    "model.compile(\n",
    "    optimizer='adam',\n",
    "    loss='sparse_categorical_crossentropy',\n",
    "    metrics=['accuracy']\n",
    ")"
   ]
  },
  {
   "cell_type": "markdown",
   "metadata": {},
   "source": [
    "# モデル訓練"
   ]
  },
  {
   "cell_type": "code",
   "execution_count": 66,
   "metadata": {
    "scrolled": true
   },
   "outputs": [
    {
     "name": "stdout",
     "output_type": "stream",
     "text": [
      "Epoch 1/1000\n"
     ]
    },
    {
     "name": "stdout",
     "output_type": "stream",
     "text": [
      "16/16 [==============================] - ETA: 0s - loss: 162.3667 - accuracy: 0.2284 \n",
      "Epoch 1: saving model to model/two_hands_keypoint_classifier/two_hands_keypoint_classifier.hdf5\n",
      "16/16 [==============================] - 2s 23ms/step - loss: 162.3667 - accuracy: 0.2284 - val_loss: 8.1913 - val_accuracy: 0.2715\n",
      "Epoch 2/1000\n",
      " 1/16 [>.............................] - ETA: 0s - loss: 51.1522 - accuracy: 0.1797\n",
      "Epoch 2: saving model to model/two_hands_keypoint_classifier/two_hands_keypoint_classifier.hdf5\n",
      "16/16 [==============================] - 0s 7ms/step - loss: 37.9158 - accuracy: 0.2458 - val_loss: 7.4006 - val_accuracy: 0.2715\n",
      "Epoch 3/1000\n",
      " 1/16 [>.............................] - ETA: 0s - loss: 20.8251 - accuracy: 0.2891"
     ]
    },
    {
     "name": "stderr",
     "output_type": "stream",
     "text": [
      "/tmp/myenv/lib/python3.10/site-packages/keras/src/engine/training.py:3103: UserWarning: You are saving your model as an HDF5 file via `model.save()`. This file format is considered legacy. We recommend using instead the native Keras format, e.g. `model.save('my_model.keras')`.\n",
      "  saving_api.save_model(\n"
     ]
    },
    {
     "name": "stdout",
     "output_type": "stream",
     "text": [
      "\n",
      "Epoch 3: saving model to model/two_hands_keypoint_classifier/two_hands_keypoint_classifier.hdf5\n",
      "16/16 [==============================] - 0s 10ms/step - loss: 20.4801 - accuracy: 0.2632 - val_loss: 1.7695 - val_accuracy: 0.2715\n",
      "Epoch 4/1000\n",
      "14/16 [=========================>....] - ETA: 0s - loss: 14.2060 - accuracy: 0.2673\n",
      "Epoch 4: saving model to model/two_hands_keypoint_classifier/two_hands_keypoint_classifier.hdf5\n",
      "16/16 [==============================] - 0s 11ms/step - loss: 14.1049 - accuracy: 0.2678 - val_loss: 1.3268 - val_accuracy: 0.2914\n",
      "Epoch 5/1000\n",
      " 9/16 [===============>..............] - ETA: 0s - loss: 10.6753 - accuracy: 0.2812\n",
      "Epoch 5: saving model to model/two_hands_keypoint_classifier/two_hands_keypoint_classifier.hdf5\n",
      "16/16 [==============================] - 0s 13ms/step - loss: 10.8096 - accuracy: 0.2785 - val_loss: 1.5344 - val_accuracy: 0.3144\n",
      "Epoch 6/1000\n",
      "13/16 [=======================>......] - ETA: 0s - loss: 9.4526 - accuracy: 0.2674 \n",
      "Epoch 6: saving model to model/two_hands_keypoint_classifier/two_hands_keypoint_classifier.hdf5\n",
      "16/16 [==============================] - 0s 12ms/step - loss: 9.4600 - accuracy: 0.2606 - val_loss: 1.7120 - val_accuracy: 0.3144\n",
      "Epoch 7/1000\n",
      "14/16 [=========================>....] - ETA: 0s - loss: 7.2684 - accuracy: 0.2840\n",
      "Epoch 7: saving model to model/two_hands_keypoint_classifier/two_hands_keypoint_classifier.hdf5\n",
      "16/16 [==============================] - 0s 10ms/step - loss: 7.2813 - accuracy: 0.2826 - val_loss: 1.5152 - val_accuracy: 0.3144\n",
      "Epoch 8/1000\n",
      " 1/16 [>.............................] - ETA: 0s - loss: 7.1897 - accuracy: 0.2578\n",
      "Epoch 8: saving model to model/two_hands_keypoint_classifier/two_hands_keypoint_classifier.hdf5\n",
      "16/16 [==============================] - 0s 9ms/step - loss: 5.9393 - accuracy: 0.2698 - val_loss: 1.3150 - val_accuracy: 0.3144\n",
      "Epoch 9/1000\n",
      "16/16 [==============================] - ETA: 0s - loss: 5.1007 - accuracy: 0.2755\n",
      "Epoch 9: saving model to model/two_hands_keypoint_classifier/two_hands_keypoint_classifier.hdf5\n",
      "16/16 [==============================] - 0s 10ms/step - loss: 5.1007 - accuracy: 0.2755 - val_loss: 1.3010 - val_accuracy: 0.3144\n",
      "Epoch 10/1000\n",
      "14/16 [=========================>....] - ETA: 0s - loss: 4.5339 - accuracy: 0.2812\n",
      "Epoch 10: saving model to model/two_hands_keypoint_classifier/two_hands_keypoint_classifier.hdf5\n",
      "16/16 [==============================] - 0s 12ms/step - loss: 4.4661 - accuracy: 0.2801 - val_loss: 1.3606 - val_accuracy: 0.3144\n",
      "Epoch 11/1000\n",
      "15/16 [===========================>..] - ETA: 0s - loss: 3.8997 - accuracy: 0.2927\n",
      "Epoch 11: saving model to model/two_hands_keypoint_classifier/two_hands_keypoint_classifier.hdf5\n",
      "16/16 [==============================] - 0s 10ms/step - loss: 3.8796 - accuracy: 0.2908 - val_loss: 1.3837 - val_accuracy: 0.3144\n",
      "Epoch 12/1000\n",
      "14/16 [=========================>....] - ETA: 0s - loss: 3.8127 - accuracy: 0.2757\n",
      "Epoch 12: saving model to model/two_hands_keypoint_classifier/two_hands_keypoint_classifier.hdf5\n",
      "16/16 [==============================] - 0s 10ms/step - loss: 3.7564 - accuracy: 0.2765 - val_loss: 1.3834 - val_accuracy: 0.3144\n",
      "Epoch 13/1000\n",
      "12/16 [=====================>........] - ETA: 0s - loss: 3.2371 - accuracy: 0.2891\n",
      "Epoch 13: saving model to model/two_hands_keypoint_classifier/two_hands_keypoint_classifier.hdf5\n",
      "16/16 [==============================] - 0s 11ms/step - loss: 3.1567 - accuracy: 0.2939 - val_loss: 1.3829 - val_accuracy: 0.3144\n",
      "Epoch 14/1000\n",
      "15/16 [===========================>..] - ETA: 0s - loss: 2.8329 - accuracy: 0.2880\n",
      "Epoch 14: saving model to model/two_hands_keypoint_classifier/two_hands_keypoint_classifier.hdf5\n",
      "16/16 [==============================] - 0s 11ms/step - loss: 2.8198 - accuracy: 0.2857 - val_loss: 1.3824 - val_accuracy: 0.3144\n",
      "Epoch 15/1000\n",
      "15/16 [===========================>..] - ETA: 0s - loss: 2.5016 - accuracy: 0.3104\n",
      "Epoch 15: saving model to model/two_hands_keypoint_classifier/two_hands_keypoint_classifier.hdf5\n",
      "16/16 [==============================] - 0s 11ms/step - loss: 2.4875 - accuracy: 0.3103 - val_loss: 1.3819 - val_accuracy: 0.3144\n",
      "Epoch 16/1000\n",
      "14/16 [=========================>....] - ETA: 0s - loss: 2.5828 - accuracy: 0.3025\n",
      "Epoch 16: saving model to model/two_hands_keypoint_classifier/two_hands_keypoint_classifier.hdf5\n",
      "16/16 [==============================] - 0s 11ms/step - loss: 2.5723 - accuracy: 0.2985 - val_loss: 1.3813 - val_accuracy: 0.3144\n",
      "Epoch 17/1000\n",
      "16/16 [==============================] - ETA: 0s - loss: 2.3291 - accuracy: 0.3118\n",
      "Epoch 17: saving model to model/two_hands_keypoint_classifier/two_hands_keypoint_classifier.hdf5\n",
      "16/16 [==============================] - 0s 10ms/step - loss: 2.3291 - accuracy: 0.3118 - val_loss: 1.3806 - val_accuracy: 0.3144\n",
      "Epoch 18/1000\n",
      "16/16 [==============================] - ETA: 0s - loss: 2.1504 - accuracy: 0.3016\n",
      "Epoch 18: saving model to model/two_hands_keypoint_classifier/two_hands_keypoint_classifier.hdf5\n",
      "16/16 [==============================] - 0s 10ms/step - loss: 2.1504 - accuracy: 0.3016 - val_loss: 1.3799 - val_accuracy: 0.3144\n",
      "Epoch 19/1000\n",
      "13/16 [=======================>......] - ETA: 0s - loss: 2.0136 - accuracy: 0.3065\n",
      "Epoch 19: saving model to model/two_hands_keypoint_classifier/two_hands_keypoint_classifier.hdf5\n",
      "16/16 [==============================] - 0s 11ms/step - loss: 2.0123 - accuracy: 0.3047 - val_loss: 1.3793 - val_accuracy: 0.3144\n",
      "Epoch 20/1000\n",
      "15/16 [===========================>..] - ETA: 0s - loss: 1.9155 - accuracy: 0.3010\n",
      "Epoch 20: saving model to model/two_hands_keypoint_classifier/two_hands_keypoint_classifier.hdf5\n",
      "16/16 [==============================] - 0s 10ms/step - loss: 1.9079 - accuracy: 0.3026 - val_loss: 1.3786 - val_accuracy: 0.3144\n",
      "Epoch 21/1000\n",
      "14/16 [=========================>....] - ETA: 0s - loss: 2.1543 - accuracy: 0.2857\n",
      "Epoch 21: saving model to model/two_hands_keypoint_classifier/two_hands_keypoint_classifier.hdf5\n",
      "16/16 [==============================] - 0s 11ms/step - loss: 2.1041 - accuracy: 0.2888 - val_loss: 1.3779 - val_accuracy: 0.3144\n",
      "Epoch 22/1000\n",
      "16/16 [==============================] - ETA: 0s - loss: 2.0207 - accuracy: 0.2888\n",
      "Epoch 22: saving model to model/two_hands_keypoint_classifier/two_hands_keypoint_classifier.hdf5\n",
      "16/16 [==============================] - 0s 10ms/step - loss: 2.0207 - accuracy: 0.2888 - val_loss: 1.3773 - val_accuracy: 0.3144\n",
      "Epoch 23/1000\n",
      "15/16 [===========================>..] - ETA: 0s - loss: 1.8432 - accuracy: 0.3115\n",
      "Epoch 23: saving model to model/two_hands_keypoint_classifier/two_hands_keypoint_classifier.hdf5\n",
      "16/16 [==============================] - 0s 10ms/step - loss: 1.8570 - accuracy: 0.3118 - val_loss: 1.3766 - val_accuracy: 0.3144\n",
      "Epoch 24/1000\n",
      "16/16 [==============================] - ETA: 0s - loss: 1.9387 - accuracy: 0.2949\n",
      "Epoch 24: saving model to model/two_hands_keypoint_classifier/two_hands_keypoint_classifier.hdf5\n",
      "16/16 [==============================] - 0s 10ms/step - loss: 1.9387 - accuracy: 0.2949 - val_loss: 1.3760 - val_accuracy: 0.3144\n",
      "Epoch 25/1000\n",
      "15/16 [===========================>..] - ETA: 0s - loss: 1.8298 - accuracy: 0.2995\n",
      "Epoch 25: saving model to model/two_hands_keypoint_classifier/two_hands_keypoint_classifier.hdf5\n",
      "16/16 [==============================] - 0s 10ms/step - loss: 1.8329 - accuracy: 0.2980 - val_loss: 1.3754 - val_accuracy: 0.3144\n",
      "Epoch 26/1000\n",
      "16/16 [==============================] - ETA: 0s - loss: 2.0104 - accuracy: 0.2995\n",
      "Epoch 26: saving model to model/two_hands_keypoint_classifier/two_hands_keypoint_classifier.hdf5\n",
      "16/16 [==============================] - 0s 9ms/step - loss: 2.0104 - accuracy: 0.2995 - val_loss: 1.3749 - val_accuracy: 0.3144\n",
      "Epoch 27/1000\n",
      "15/16 [===========================>..] - ETA: 0s - loss: 1.7675 - accuracy: 0.3073\n",
      "Epoch 27: saving model to model/two_hands_keypoint_classifier/two_hands_keypoint_classifier.hdf5\n",
      "16/16 [==============================] - 0s 10ms/step - loss: 1.7665 - accuracy: 0.3062 - val_loss: 1.3744 - val_accuracy: 0.3144\n",
      "Epoch 28/1000\n",
      "16/16 [==============================] - ETA: 0s - loss: 1.5936 - accuracy: 0.3118\n",
      "Epoch 28: saving model to model/two_hands_keypoint_classifier/two_hands_keypoint_classifier.hdf5\n",
      "16/16 [==============================] - 0s 12ms/step - loss: 1.5936 - accuracy: 0.3118 - val_loss: 1.3739 - val_accuracy: 0.3144\n",
      "Epoch 29/1000\n",
      "10/16 [=================>............] - ETA: 0s - loss: 1.6576 - accuracy: 0.2984\n",
      "Epoch 29: saving model to model/two_hands_keypoint_classifier/two_hands_keypoint_classifier.hdf5\n",
      "16/16 [==============================] - 0s 13ms/step - loss: 1.6369 - accuracy: 0.3036 - val_loss: 1.3734 - val_accuracy: 0.3144\n",
      "Epoch 29: early stopping\n"
     ]
    },
    {
     "data": {
      "text/plain": [
       "<keras.src.callbacks.History at 0x7fad10bd8940>"
      ]
     },
     "execution_count": 66,
     "metadata": {},
     "output_type": "execute_result"
    }
   ],
   "source": [
    "model.fit(\n",
    "    X_train,\n",
    "    y_train,\n",
    "    epochs=1000,\n",
    "    batch_size=128,\n",
    "    validation_data=(X_test, y_test),\n",
    "    callbacks=[cp_callback, es_callback]\n",
    ")"
   ]
  },
  {
   "cell_type": "code",
   "execution_count": 67,
   "metadata": {},
   "outputs": [
    {
     "name": "stdout",
     "output_type": "stream",
     "text": [
      "6/6 [==============================] - 0s 4ms/step - loss: 1.3734 - accuracy: 0.3144\n"
     ]
    }
   ],
   "source": [
    "# モデル評価\n",
    "val_loss, val_acc = model.evaluate(X_test, y_test, batch_size=128)"
   ]
  },
  {
   "cell_type": "code",
   "execution_count": 68,
   "metadata": {},
   "outputs": [],
   "source": [
    "# 保存したモデルのロード\n",
    "model = tf.keras.models.load_model(model_save_path)"
   ]
  },
  {
   "cell_type": "code",
   "execution_count": 69,
   "metadata": {},
   "outputs": [
    {
     "name": "stdout",
     "output_type": "stream",
     "text": [
      "1/1 [==============================] - 0s 85ms/step\n",
      "[0.24570267 0.2262055  0.22952698 0.29856485]\n",
      "3\n"
     ]
    }
   ],
   "source": [
    "# 推論テスト\n",
    "predict_result = model.predict(np.array([X_test[0]]))\n",
    "print(np.squeeze(predict_result))\n",
    "print(np.argmax(np.squeeze(predict_result)))"
   ]
  },
  {
   "cell_type": "markdown",
   "metadata": {},
   "source": [
    "# 混同行列"
   ]
  },
  {
   "cell_type": "code",
   "execution_count": 70,
   "metadata": {},
   "outputs": [
    {
     "name": "stdout",
     "output_type": "stream",
     "text": [
      "21/21 [==============================] - 0s 1ms/step\n"
     ]
    },
    {
     "data": {
      "image/png": "[encoded data removed]",
      "text/plain": [
       "<Figure size 700x600 with 2 Axes>"
      ]
     },
     "metadata": {},
     "output_type": "display_data"
    },
    {
     "name": "stdout",
     "output_type": "stream",
     "text": [
      "Classification Report\n",
      "              precision    recall  f1-score   support\n",
      "\n",
      "           0       0.00      0.00      0.00       177\n",
      "           1       0.00      0.00      0.00       127\n",
      "           2       0.00      0.00      0.00       143\n",
      "           3       0.31      1.00      0.48       205\n",
      "\n",
      "    accuracy                           0.31       652\n",
      "   macro avg       0.08      0.25      0.12       652\n",
      "weighted avg       0.10      0.31      0.15       652\n",
      "\n"
     ]
    },
    {
     "name": "stderr",
     "output_type": "stream",
     "text": [
      "/tmp/myenv/lib/python3.10/site-packages/sklearn/metrics/_classification.py:1471: UndefinedMetricWarning: Precision and F-score are ill-defined and being set to 0.0 in labels with no predicted samples. Use `zero_division` parameter to control this behavior.\n",
      "  _warn_prf(average, modifier, msg_start, len(result))\n",
      "/tmp/myenv/lib/python3.10/site-packages/sklearn/metrics/_classification.py:1471: UndefinedMetricWarning: Precision and F-score are ill-defined and being set to 0.0 in labels with no predicted samples. Use `zero_division` parameter to control this behavior.\n",
      "  _warn_prf(average, modifier, msg_start, len(result))\n",
      "/tmp/myenv/lib/python3.10/site-packages/sklearn/metrics/_classification.py:1471: UndefinedMetricWarning: Precision and F-score are ill-defined and being set to 0.0 in labels with no predicted samples. Use `zero_division` parameter to control this behavior.\n",
      "  _warn_prf(average, modifier, msg_start, len(result))\n"
     ]
    }
   ],
   "source": [
    "import pandas as pd\n",
    "import seaborn as sns\n",
    "import matplotlib.pyplot as plt\n",
    "from sklearn.metrics import confusion_matrix, classification_report\n",
    "\n",
    "def print_confusion_matrix(y_true, y_pred, report=True):\n",
    "    labels = sorted(list(set(y_true)))\n",
    "    cmx_data = confusion_matrix(y_true, y_pred, labels=labels)\n",
    "    \n",
    "    df_cmx = pd.DataFrame(cmx_data, index=labels, columns=labels)\n",
    " \n",
    "    fig, ax = plt.subplots(figsize=(7, 6))\n",
    "    sns.heatmap(df_cmx, annot=True, fmt='g' ,square=False)\n",
    "    ax.set_ylim(len(set(y_true)), 0)\n",
    "    plt.show()\n",
    "    \n",
    "    if report:\n",
    "        print('Classification Report')\n",
    "        print(classification_report(y_test, y_pred))\n",
    "\n",
    "Y_pred = model.predict(X_test)\n",
    "y_pred = np.argmax(Y_pred, axis=1)\n",
    "\n",
    "print_confusion_matrix(y_test, y_pred)"
   ]
  },
  {
   "cell_type": "markdown",
   "metadata": {},
   "source": [
    "# Tensorflow-Lite用のモデルへ変換"
   ]
  },
  {
   "cell_type": "code",
   "execution_count": 71,
   "metadata": {},
   "outputs": [
    {
     "name": "stderr",
     "output_type": "stream",
     "text": [
      "/tmp/myenv/lib/python3.10/site-packages/keras/src/engine/training.py:3103: UserWarning: You are saving your model as an HDF5 file via `model.save()`. This file format is considered legacy. We recommend using instead the native Keras format, e.g. `model.save('my_model.keras')`.\n",
      "  saving_api.save_model(\n"
     ]
    }
   ],
   "source": [
    "# 推論専用のモデルとして保存\n",
    "model.save(model_save_path, include_optimizer=False)"
   ]
  },
  {
   "cell_type": "code",
   "execution_count": 72,
   "metadata": {},
   "outputs": [
    {
     "name": "stdout",
     "output_type": "stream",
     "text": [
      "INFO:tensorflow:Assets written to: /tmp/tmpn1hk2v1t/assets\n"
     ]
    },
    {
     "name": "stderr",
     "output_type": "stream",
     "text": [
      "INFO:tensorflow:Assets written to: /tmp/tmpn1hk2v1t/assets\n",
      "2024-01-09 10:37:41.440475: W tensorflow/compiler/mlir/lite/python/tf_tfl_flatbuffer_helpers.cc:378] Ignored output_format.\n",
      "2024-01-09 10:37:41.440504: W tensorflow/compiler/mlir/lite/python/tf_tfl_flatbuffer_helpers.cc:381] Ignored drop_control_dependency.\n",
      "2024-01-09 10:37:41.440704: I tensorflow/cc/saved_model/reader.cc:83] Reading SavedModel from: /tmp/tmpn1hk2v1t\n",
      "2024-01-09 10:37:41.442522: I tensorflow/cc/saved_model/reader.cc:51] Reading meta graph with tags { serve }\n",
      "2024-01-09 10:37:41.442535: I tensorflow/cc/saved_model/reader.cc:146] Reading SavedModel debug info (if present) from: /tmp/tmpn1hk2v1t\n",
      "2024-01-09 10:37:41.446609: I tensorflow/cc/saved_model/loader.cc:233] Restoring SavedModel bundle.\n",
      "2024-01-09 10:37:41.501172: I tensorflow/cc/saved_model/loader.cc:217] Running initialization op on SavedModel bundle at path: /tmp/tmpn1hk2v1t\n",
      "2024-01-09 10:37:41.517934: I tensorflow/cc/saved_model/loader.cc:316] SavedModel load for tags { serve }; Status: success: OK. Took 77225 microseconds.\n",
      "Summary on the non-converted ops:\n",
      "---------------------------------\n",
      " * Accepted dialects: tfl, builtin, func\n",
      " * Non-Converted Ops: 6, Total Ops 16, % non-converted = 37.50 %\n",
      " * 6 ARITH ops\n",
      "\n",
      "- arith.constant:    6 occurrences  (f32: 6)\n",
      "\n",
      "\n",
      "\n",
      "  (f32: 4)\n",
      "  (uq_8: 2)\n",
      "  (f32: 1)\n"
     ]
    },
    {
     "data": {
      "text/plain": [
       "10280"
      ]
     },
     "execution_count": 72,
     "metadata": {},
     "output_type": "execute_result"
    }
   ],
   "source": [
    "# モデルを変換(量子化)\n",
    "tflite_save_path = 'model/two_hands_keypoint_classifier/two_hands_keypoint_classifier.tflite'\n",
    "\n",
    "converter = tf.lite.TFLiteConverter.from_keras_model(model)\n",
    "converter.optimizations = [tf.lite.Optimize.DEFAULT]\n",
    "tflite_quantized_model = converter.convert()\n",
    "\n",
    "open(tflite_save_path, 'wb').write(tflite_quantized_model)"
   ]
  },
  {
   "cell_type": "markdown",
   "metadata": {},
   "source": [
    "# 推論テスト"
   ]
  },
  {
   "cell_type": "code",
   "execution_count": 73,
   "metadata": {},
   "outputs": [],
   "source": [
    "interpreter = tf.lite.Interpreter(model_path=tflite_save_path)\n",
    "interpreter.allocate_tensors()"
   ]
  },
  {
   "cell_type": "code",
   "execution_count": 74,
   "metadata": {},
   "outputs": [],
   "source": [
    "# 入出力テンソルを取得\n",
    "input_details = interpreter.get_input_details()\n",
    "output_details = interpreter.get_output_details()"
   ]
  },
  {
   "cell_type": "code",
   "execution_count": 75,
   "metadata": {},
   "outputs": [],
   "source": [
    "interpreter.set_tensor(input_details[0]['index'], np.array([X_test[0]]))"
   ]
  },
  {
   "cell_type": "code",
   "execution_count": 76,
   "metadata": {
    "scrolled": true
   },
   "outputs": [
    {
     "name": "stdout",
     "output_type": "stream",
     "text": [
      "CPU times: user 57 µs, sys: 4 µs, total: 61 µs\n",
      "Wall time: 67.7 µs\n"
     ]
    }
   ],
   "source": [
    "%%time\n",
    "# 推論実施\n",
    "interpreter.invoke()\n",
    "tflite_results = interpreter.get_tensor(output_details[0]['index'])"
   ]
  },
  {
   "cell_type": "code",
   "execution_count": 77,
   "metadata": {},
   "outputs": [
    {
     "name": "stdout",
     "output_type": "stream",
     "text": [
      "[0.24570265 0.22620551 0.22952698 0.29856485]\n",
      "3\n"
     ]
    }
   ],
   "source": [
    "print(np.squeeze(tflite_results))\n",
    "print(np.argmax(np.squeeze(tflite_results)))"
   ]
  }
 ],
 "metadata": {
  "kernelspec": {
   "display_name": "Python 3",
   "language": "python",
   "name": "python3"
  },
  "language_info": {
   "codemirror_mode": {
    "name": "ipython",
    "version": 3
   },
   "file_extension": ".py",
   "mimetype": "text/x-python",
   "name": "python",
   "nbconvert_exporter": "python",
   "pygments_lexer": "ipython3",
   "version": "3.10.12"
  }
 },
 "nbformat": 4,
 "nbformat_minor": 4
}
