{
 "cells": [
  {
   "cell_type": "code",
   "execution_count": 23,
   "metadata": {},
   "outputs": [],
   "source": [
    "import csv\n",
    "\n",
    "import numpy as np\n",
    "import tensorflow as tf\n",
    "from sklearn.model_selection import train_test_split\n",
    "\n",
    "RANDOM_SEED = 42"
   ]
  },
  {
   "cell_type": "markdown",
   "metadata": {},
   "source": [
    "# 各パス指定"
   ]
  },
  {
   "cell_type": "code",
   "execution_count": 24,
   "metadata": {},
   "outputs": [],
   "source": [
    "dataset = 'model/two_hands_keypoint_classifier/two_hands_keypoint.csv'\n",
    "model_save_path = 'model/two_hands_keypoint_classifier/two_hands_keypoint_classifier.hdf5'"
   ]
  },
  {
   "cell_type": "markdown",
   "metadata": {},
   "source": [
    "# 分類数設定"
   ]
  },
  {
   "cell_type": "code",
   "execution_count": 25,
   "metadata": {},
   "outputs": [],
   "source": [
    "NUM_CLASSES = 5"
   ]
  },
  {
   "cell_type": "markdown",
   "metadata": {},
   "source": [
    "# 学習データ読み込み"
   ]
  },
  {
   "cell_type": "code",
   "execution_count": 26,
   "metadata": {},
   "outputs": [],
   "source": [
    "X_dataset = np.loadtxt(dataset, delimiter=',', dtype='float32', usecols=list(range(1, (21 * 2 * 2) + 1)))"
   ]
  },
  {
   "cell_type": "code",
   "execution_count": 27,
   "metadata": {},
   "outputs": [],
   "source": [
    "y_dataset = np.loadtxt(dataset, delimiter=',', dtype='int32', usecols=(0))"
   ]
  },
  {
   "cell_type": "code",
   "execution_count": 28,
   "metadata": {},
   "outputs": [],
   "source": [
    "X_train, X_test, y_train, y_test = train_test_split(X_dataset, y_dataset, train_size=0.75, random_state=RANDOM_SEED)"
   ]
  },
  {
   "cell_type": "markdown",
   "metadata": {},
   "source": [
    "# モデル構築"
   ]
  },
  {
   "cell_type": "code",
   "execution_count": 29,
   "metadata": {},
   "outputs": [],
   "source": [
    "model = tf.keras.models.Sequential([\n",
    "    tf.keras.layers.Input((21 * 2 * 2, )),\n",
    "    tf.keras.layers.Dense(80, activation='relu'),\n",
    "    tf.keras.layers.Dropout(0.2),\n",
    "    tf.keras.layers.Dense(40, activation='relu'),\n",
    "    tf.keras.layers.Dropout(0.2),\n",
    "    tf.keras.layers.Dense(20, activation='relu'),\n",
    "    tf.keras.layers.Dropout(0.4),\n",
    "    tf.keras.layers.Dense(10, activation='relu'),\n",
    "    tf.keras.layers.Dense(NUM_CLASSES, activation='softmax')\n",
    "])"
   ]
  },
  {
   "cell_type": "code",
   "execution_count": 30,
   "metadata": {},
   "outputs": [
    {
     "name": "stdout",
     "output_type": "stream",
     "text": [
      "Model: \"sequential_1\"\n",
      "_________________________________________________________________\n",
      " Layer (type)                Output Shape              Param #   \n",
      "=================================================================\n",
      " dense_5 (Dense)             (None, 80)                6800      \n",
      "                                                                 \n",
      " dropout_3 (Dropout)         (None, 80)                0         \n",
      "                                                                 \n",
      " dense_6 (Dense)             (None, 40)                3240      \n",
      "                                                                 \n",
      " dropout_4 (Dropout)         (None, 40)                0         \n",
      "                                                                 \n",
      " dense_7 (Dense)             (None, 20)                820       \n",
      "                                                                 \n",
      " dropout_5 (Dropout)         (None, 20)                0         \n",
      "                                                                 \n",
      " dense_8 (Dense)             (None, 10)                210       \n",
      "                                                                 \n",
      " dense_9 (Dense)             (None, 5)                 55        \n",
      "                                                                 \n",
      "=================================================================\n",
      "Total params: 11125 (43.46 KB)\n",
      "Trainable params: 11125 (43.46 KB)\n",
      "Non-trainable params: 0 (0.00 Byte)\n",
      "_________________________________________________________________\n"
     ]
    }
   ],
   "source": [
    "model.summary()  # tf.keras.utils.plot_model(model, show_shapes=True)"
   ]
  },
  {
   "cell_type": "code",
   "execution_count": 31,
   "metadata": {},
   "outputs": [],
   "source": [
    "# モデルチェックポイントのコールバック\n",
    "cp_callback = tf.keras.callbacks.ModelCheckpoint(\n",
    "    model_save_path, verbose=1, save_weights_only=False)\n",
    "# 早期打ち切り用コールバック\n",
    "es_callback = tf.keras.callbacks.EarlyStopping(patience=20, verbose=1)"
   ]
  },
  {
   "cell_type": "code",
   "execution_count": 32,
   "metadata": {},
   "outputs": [],
   "source": [
    "# モデルコンパイル\n",
    "model.compile(\n",
    "    optimizer='adam',\n",
    "    loss='sparse_categorical_crossentropy',\n",
    "    metrics=['accuracy']\n",
    ")"
   ]
  },
  {
   "cell_type": "markdown",
   "metadata": {},
   "source": [
    "# モデル訓練"
   ]
  },
  {
   "cell_type": "code",
   "execution_count": 33,
   "metadata": {
    "scrolled": true
   },
   "outputs": [
    {
     "name": "stdout",
     "output_type": "stream",
     "text": [
      "Epoch 1/1000\n"
     ]
    },
    {
     "name": "stdout",
     "output_type": "stream",
     "text": [
      "19/23 [=======================>......] - ETA: 0s - loss: 55.4066 - accuracy: 0.2418  \n",
      "Epoch 1: saving model to model/two_hands_keypoint_classifier/two_hands_keypoint_classifier.hdf5\n",
      "23/23 [==============================] - 2s 13ms/step - loss: 49.0751 - accuracy: 0.2599 - val_loss: 2.8338 - val_accuracy: 0.5015\n",
      "Epoch 2/1000\n",
      "18/23 [======================>.......] - ETA: 0s - loss: 9.8831 - accuracy: 0.4062 \n",
      "Epoch 2: saving model to model/two_hands_keypoint_classifier/two_hands_keypoint_classifier.hdf5\n",
      "23/23 [==============================] - 0s 6ms/step - loss: 9.2425 - accuracy: 0.4204 - val_loss: 1.1405 - val_accuracy: 0.7688\n",
      "Epoch 3/1000\n",
      " 1/23 [>.............................] - ETA: 0s - loss: 6.4023 - accuracy: 0.4062"
     ]
    },
    {
     "name": "stderr",
     "output_type": "stream",
     "text": [
      "/tmp/myenv/lib/python3.10/site-packages/keras/src/engine/training.py:3103: UserWarning: You are saving your model as an HDF5 file via `model.save()`. This file format is considered legacy. We recommend using instead the native Keras format, e.g. `model.save('my_model.keras')`.\n",
      "  saving_api.save_model(\n"
     ]
    },
    {
     "name": "stdout",
     "output_type": "stream",
     "text": [
      "19/23 [=======================>......] - ETA: 0s - loss: 4.9740 - accuracy: 0.5082\n",
      "Epoch 3: saving model to model/two_hands_keypoint_classifier/two_hands_keypoint_classifier.hdf5\n",
      "23/23 [==============================] - 0s 7ms/step - loss: 4.8091 - accuracy: 0.5096 - val_loss: 0.2697 - val_accuracy: 0.8931\n",
      "Epoch 4/1000\n",
      "20/23 [=========================>....] - ETA: 0s - loss: 2.8720 - accuracy: 0.5836\n",
      "Epoch 4: saving model to model/two_hands_keypoint_classifier/two_hands_keypoint_classifier.hdf5\n",
      "23/23 [==============================] - 0s 7ms/step - loss: 2.7929 - accuracy: 0.5909 - val_loss: 0.1537 - val_accuracy: 0.9784\n",
      "Epoch 5/1000\n",
      "15/23 [==================>...........] - ETA: 0s - loss: 2.3498 - accuracy: 0.5979\n",
      "Epoch 5: saving model to model/two_hands_keypoint_classifier/two_hands_keypoint_classifier.hdf5\n",
      "23/23 [==============================] - 0s 8ms/step - loss: 2.2031 - accuracy: 0.6135 - val_loss: 0.1716 - val_accuracy: 0.9918\n",
      "Epoch 6/1000\n",
      "15/23 [==================>...........] - ETA: 0s - loss: 1.8652 - accuracy: 0.6672\n",
      "Epoch 6: saving model to model/two_hands_keypoint_classifier/two_hands_keypoint_classifier.hdf5\n",
      "23/23 [==============================] - 0s 8ms/step - loss: 1.7423 - accuracy: 0.6752 - val_loss: 0.1210 - val_accuracy: 0.9969\n",
      "Epoch 7/1000\n",
      "20/23 [=========================>....] - ETA: 0s - loss: 1.1915 - accuracy: 0.7184\n",
      "Epoch 7: saving model to model/two_hands_keypoint_classifier/two_hands_keypoint_classifier.hdf5\n",
      "23/23 [==============================] - 0s 6ms/step - loss: 1.2545 - accuracy: 0.7154 - val_loss: 0.0866 - val_accuracy: 0.9959\n",
      "Epoch 8/1000\n",
      "21/23 [==========================>...] - ETA: 0s - loss: 1.2001 - accuracy: 0.7377\n",
      "Epoch 8: saving model to model/two_hands_keypoint_classifier/two_hands_keypoint_classifier.hdf5\n",
      "23/23 [==============================] - 0s 7ms/step - loss: 1.1828 - accuracy: 0.7404 - val_loss: 0.0570 - val_accuracy: 0.9959\n",
      "Epoch 9/1000\n",
      "15/23 [==================>...........] - ETA: 0s - loss: 0.7923 - accuracy: 0.7719\n",
      "Epoch 9: saving model to model/two_hands_keypoint_classifier/two_hands_keypoint_classifier.hdf5\n",
      "23/23 [==============================] - 0s 9ms/step - loss: 0.8730 - accuracy: 0.7654 - val_loss: 0.0447 - val_accuracy: 0.9979\n",
      "Epoch 10/1000\n",
      "13/23 [===============>..............] - ETA: 0s - loss: 0.8780 - accuracy: 0.7620\n",
      "Epoch 10: saving model to model/two_hands_keypoint_classifier/two_hands_keypoint_classifier.hdf5\n",
      "23/23 [==============================] - 0s 9ms/step - loss: 0.8472 - accuracy: 0.7709 - val_loss: 0.0523 - val_accuracy: 0.9979\n",
      "Epoch 11/1000\n",
      "12/23 [==============>...............] - ETA: 0s - loss: 0.7819 - accuracy: 0.7839\n",
      "Epoch 11: saving model to model/two_hands_keypoint_classifier/two_hands_keypoint_classifier.hdf5\n",
      "23/23 [==============================] - 0s 9ms/step - loss: 0.7250 - accuracy: 0.8001 - val_loss: 0.0386 - val_accuracy: 0.9979\n",
      "Epoch 12/1000\n",
      "16/23 [===================>..........] - ETA: 0s - loss: 0.7114 - accuracy: 0.8022\n",
      "Epoch 12: saving model to model/two_hands_keypoint_classifier/two_hands_keypoint_classifier.hdf5\n",
      "23/23 [==============================] - 0s 8ms/step - loss: 0.6755 - accuracy: 0.8069 - val_loss: 0.0270 - val_accuracy: 0.9979\n",
      "Epoch 13/1000\n",
      "15/23 [==================>...........] - ETA: 0s - loss: 0.5705 - accuracy: 0.8359\n",
      "Epoch 13: saving model to model/two_hands_keypoint_classifier/two_hands_keypoint_classifier.hdf5\n",
      "23/23 [==============================] - 0s 9ms/step - loss: 0.5784 - accuracy: 0.8392 - val_loss: 0.0306 - val_accuracy: 0.9979\n",
      "Epoch 14/1000\n",
      "14/23 [=================>............] - ETA: 0s - loss: 0.5357 - accuracy: 0.8504\n",
      "Epoch 14: saving model to model/two_hands_keypoint_classifier/two_hands_keypoint_classifier.hdf5\n",
      "23/23 [==============================] - 0s 8ms/step - loss: 0.5234 - accuracy: 0.8471 - val_loss: 0.0270 - val_accuracy: 0.9979\n",
      "Epoch 15/1000\n",
      "16/23 [===================>..........] - ETA: 0s - loss: 0.4812 - accuracy: 0.8413\n",
      "Epoch 15: saving model to model/two_hands_keypoint_classifier/two_hands_keypoint_classifier.hdf5\n",
      "23/23 [==============================] - 0s 8ms/step - loss: 0.5068 - accuracy: 0.8405 - val_loss: 0.0216 - val_accuracy: 0.9979\n",
      "Epoch 16/1000\n",
      "16/23 [===================>..........] - ETA: 0s - loss: 0.4830 - accuracy: 0.8594\n",
      "Epoch 16: saving model to model/two_hands_keypoint_classifier/two_hands_keypoint_classifier.hdf5\n",
      "23/23 [==============================] - 0s 8ms/step - loss: 0.4609 - accuracy: 0.8625 - val_loss: 0.0211 - val_accuracy: 0.9979\n",
      "Epoch 17/1000\n",
      "16/23 [===================>..........] - ETA: 0s - loss: 0.4963 - accuracy: 0.8848\n",
      "Epoch 17: saving model to model/two_hands_keypoint_classifier/two_hands_keypoint_classifier.hdf5\n",
      "23/23 [==============================] - 0s 9ms/step - loss: 0.4745 - accuracy: 0.8789 - val_loss: 0.0093 - val_accuracy: 0.9979\n",
      "Epoch 18/1000\n",
      "16/23 [===================>..........] - ETA: 0s - loss: 0.3835 - accuracy: 0.8848\n",
      "Epoch 18: saving model to model/two_hands_keypoint_classifier/two_hands_keypoint_classifier.hdf5\n",
      "23/23 [==============================] - 0s 8ms/step - loss: 0.4055 - accuracy: 0.8786 - val_loss: 0.0063 - val_accuracy: 0.9990\n",
      "Epoch 19/1000\n",
      "15/23 [==================>...........] - ETA: 0s - loss: 0.3655 - accuracy: 0.8885\n",
      "Epoch 19: saving model to model/two_hands_keypoint_classifier/two_hands_keypoint_classifier.hdf5\n",
      "23/23 [==============================] - 0s 8ms/step - loss: 0.3949 - accuracy: 0.8844 - val_loss: 0.0018 - val_accuracy: 1.0000\n",
      "Epoch 20/1000\n",
      "14/23 [=================>............] - ETA: 0s - loss: 0.4070 - accuracy: 0.8823\n",
      "Epoch 20: saving model to model/two_hands_keypoint_classifier/two_hands_keypoint_classifier.hdf5\n",
      "23/23 [==============================] - 0s 9ms/step - loss: 0.3808 - accuracy: 0.8844 - val_loss: 0.0109 - val_accuracy: 0.9979\n",
      "Epoch 21/1000\n",
      "13/23 [===============>..............] - ETA: 0s - loss: 0.3843 - accuracy: 0.8978\n",
      "Epoch 21: saving model to model/two_hands_keypoint_classifier/two_hands_keypoint_classifier.hdf5\n",
      "23/23 [==============================] - 0s 8ms/step - loss: 0.3776 - accuracy: 0.8951 - val_loss: 0.0108 - val_accuracy: 0.9979\n",
      "Epoch 22/1000\n",
      "15/23 [==================>...........] - ETA: 0s - loss: 0.4031 - accuracy: 0.9036\n",
      "Epoch 22: saving model to model/two_hands_keypoint_classifier/two_hands_keypoint_classifier.hdf5\n",
      "23/23 [==============================] - 0s 9ms/step - loss: 0.3799 - accuracy: 0.8992 - val_loss: 0.0032 - val_accuracy: 0.9990\n",
      "Epoch 23/1000\n",
      "14/23 [=================>............] - ETA: 0s - loss: 0.3304 - accuracy: 0.9001\n",
      "Epoch 23: saving model to model/two_hands_keypoint_classifier/two_hands_keypoint_classifier.hdf5\n",
      "23/23 [==============================] - 0s 8ms/step - loss: 0.3045 - accuracy: 0.9088 - val_loss: 0.0103 - val_accuracy: 0.9979\n",
      "Epoch 24/1000\n",
      "15/23 [==================>...........] - ETA: 0s - loss: 0.3300 - accuracy: 0.8943\n",
      "Epoch 24: saving model to model/two_hands_keypoint_classifier/two_hands_keypoint_classifier.hdf5\n",
      "23/23 [==============================] - 0s 8ms/step - loss: 0.3207 - accuracy: 0.8978 - val_loss: 0.0134 - val_accuracy: 0.9979\n",
      "Epoch 25/1000\n",
      "14/23 [=================>............] - ETA: 0s - loss: 0.3419 - accuracy: 0.9180\n",
      "Epoch 25: saving model to model/two_hands_keypoint_classifier/two_hands_keypoint_classifier.hdf5\n",
      "23/23 [==============================] - 0s 8ms/step - loss: 0.3207 - accuracy: 0.9187 - val_loss: 0.0138 - val_accuracy: 0.9979\n",
      "Epoch 26/1000\n",
      "14/23 [=================>............] - ETA: 0s - loss: 0.2978 - accuracy: 0.9074\n",
      "Epoch 26: saving model to model/two_hands_keypoint_classifier/two_hands_keypoint_classifier.hdf5\n",
      "23/23 [==============================] - 0s 10ms/step - loss: 0.2948 - accuracy: 0.9119 - val_loss: 0.0071 - val_accuracy: 0.9979\n",
      "Epoch 27/1000\n",
      "13/23 [===============>..............] - ETA: 0s - loss: 0.2488 - accuracy: 0.9285\n",
      "Epoch 27: saving model to model/two_hands_keypoint_classifier/two_hands_keypoint_classifier.hdf5\n",
      "23/23 [==============================] - 0s 9ms/step - loss: 0.2459 - accuracy: 0.9246 - val_loss: 0.0038 - val_accuracy: 0.9990\n",
      "Epoch 28/1000\n",
      "14/23 [=================>............] - ETA: 0s - loss: 0.3024 - accuracy: 0.9191\n",
      "Epoch 28: saving model to model/two_hands_keypoint_classifier/two_hands_keypoint_classifier.hdf5\n",
      "23/23 [==============================] - 0s 9ms/step - loss: 0.2894 - accuracy: 0.9174 - val_loss: 0.0026 - val_accuracy: 0.9990\n",
      "Epoch 29/1000\n",
      "14/23 [=================>............] - ETA: 0s - loss: 0.3421 - accuracy: 0.9247\n",
      "Epoch 29: saving model to model/two_hands_keypoint_classifier/two_hands_keypoint_classifier.hdf5\n",
      "23/23 [==============================] - 0s 9ms/step - loss: 0.3103 - accuracy: 0.9211 - val_loss: 0.0010 - val_accuracy: 1.0000\n",
      "Epoch 30/1000\n",
      "23/23 [==============================] - ETA: 0s - loss: 0.2767 - accuracy: 0.9139\n",
      "Epoch 30: saving model to model/two_hands_keypoint_classifier/two_hands_keypoint_classifier.hdf5\n",
      "23/23 [==============================] - 0s 9ms/step - loss: 0.2767 - accuracy: 0.9139 - val_loss: 9.9305e-04 - val_accuracy: 1.0000\n",
      "Epoch 31/1000\n",
      "16/23 [===================>..........] - ETA: 0s - loss: 0.2044 - accuracy: 0.9375\n",
      "Epoch 31: saving model to model/two_hands_keypoint_classifier/two_hands_keypoint_classifier.hdf5\n",
      "23/23 [==============================] - 0s 8ms/step - loss: 0.2039 - accuracy: 0.9366 - val_loss: 0.0018 - val_accuracy: 0.9990\n",
      "Epoch 32/1000\n",
      "15/23 [==================>...........] - ETA: 0s - loss: 0.2846 - accuracy: 0.9276\n",
      "Epoch 32: saving model to model/two_hands_keypoint_classifier/two_hands_keypoint_classifier.hdf5\n",
      "23/23 [==============================] - 0s 9ms/step - loss: 0.2869 - accuracy: 0.9249 - val_loss: 0.0014 - val_accuracy: 0.9990\n",
      "Epoch 33/1000\n",
      "14/23 [=================>............] - ETA: 0s - loss: 0.2313 - accuracy: 0.9297\n",
      "Epoch 33: saving model to model/two_hands_keypoint_classifier/two_hands_keypoint_classifier.hdf5\n",
      "23/23 [==============================] - 0s 9ms/step - loss: 0.2513 - accuracy: 0.9242 - val_loss: 9.1797e-04 - val_accuracy: 1.0000\n",
      "Epoch 34/1000\n",
      "13/23 [===============>..............] - ETA: 0s - loss: 0.2361 - accuracy: 0.9279\n",
      "Epoch 34: saving model to model/two_hands_keypoint_classifier/two_hands_keypoint_classifier.hdf5\n",
      "23/23 [==============================] - 0s 9ms/step - loss: 0.2116 - accuracy: 0.9331 - val_loss: 0.0034 - val_accuracy: 0.9990\n",
      "Epoch 35/1000\n",
      "14/23 [=================>............] - ETA: 0s - loss: 0.1879 - accuracy: 0.9336\n",
      "Epoch 35: saving model to model/two_hands_keypoint_classifier/two_hands_keypoint_classifier.hdf5\n",
      "23/23 [==============================] - 0s 9ms/step - loss: 0.1951 - accuracy: 0.9352 - val_loss: 0.0016 - val_accuracy: 0.9990\n",
      "Epoch 36/1000\n",
      "14/23 [=================>............] - ETA: 0s - loss: 0.2040 - accuracy: 0.9358\n",
      "Epoch 36: saving model to model/two_hands_keypoint_classifier/two_hands_keypoint_classifier.hdf5\n",
      "23/23 [==============================] - 0s 8ms/step - loss: 0.1966 - accuracy: 0.9420 - val_loss: 5.8959e-04 - val_accuracy: 1.0000\n",
      "Epoch 37/1000\n",
      "15/23 [==================>...........] - ETA: 0s - loss: 0.2687 - accuracy: 0.9354\n",
      "Epoch 37: saving model to model/two_hands_keypoint_classifier/two_hands_keypoint_classifier.hdf5\n",
      "23/23 [==============================] - 0s 8ms/step - loss: 0.2640 - accuracy: 0.9352 - val_loss: 0.0011 - val_accuracy: 1.0000\n",
      "Epoch 38/1000\n",
      "15/23 [==================>...........] - ETA: 0s - loss: 0.1858 - accuracy: 0.9380\n",
      "Epoch 38: saving model to model/two_hands_keypoint_classifier/two_hands_keypoint_classifier.hdf5\n",
      "23/23 [==============================] - 0s 10ms/step - loss: 0.2059 - accuracy: 0.9379 - val_loss: 5.1705e-04 - val_accuracy: 1.0000\n",
      "Epoch 39/1000\n",
      "13/23 [===============>..............] - ETA: 0s - loss: 0.1684 - accuracy: 0.9489\n",
      "Epoch 39: saving model to model/two_hands_keypoint_classifier/two_hands_keypoint_classifier.hdf5\n",
      "23/23 [==============================] - 0s 9ms/step - loss: 0.1741 - accuracy: 0.9451 - val_loss: 0.0013 - val_accuracy: 0.9990\n",
      "Epoch 40/1000\n",
      "15/23 [==================>...........] - ETA: 0s - loss: 0.1730 - accuracy: 0.9443\n",
      "Epoch 40: saving model to model/two_hands_keypoint_classifier/two_hands_keypoint_classifier.hdf5\n",
      "23/23 [==============================] - 0s 8ms/step - loss: 0.1735 - accuracy: 0.9458 - val_loss: 8.4689e-04 - val_accuracy: 1.0000\n",
      "Epoch 41/1000\n",
      "14/23 [=================>............] - ETA: 0s - loss: 0.1817 - accuracy: 0.9442\n",
      "Epoch 41: saving model to model/two_hands_keypoint_classifier/two_hands_keypoint_classifier.hdf5\n",
      "23/23 [==============================] - 0s 9ms/step - loss: 0.1934 - accuracy: 0.9472 - val_loss: 0.0031 - val_accuracy: 0.9990\n",
      "Epoch 42/1000\n",
      "15/23 [==================>...........] - ETA: 0s - loss: 0.1800 - accuracy: 0.9490\n",
      "Epoch 42: saving model to model/two_hands_keypoint_classifier/two_hands_keypoint_classifier.hdf5\n",
      "23/23 [==============================] - 0s 8ms/step - loss: 0.1825 - accuracy: 0.9479 - val_loss: 5.3751e-04 - val_accuracy: 1.0000\n",
      "Epoch 43/1000\n",
      "14/23 [=================>............] - ETA: 0s - loss: 0.1686 - accuracy: 0.9459\n",
      "Epoch 43: saving model to model/two_hands_keypoint_classifier/two_hands_keypoint_classifier.hdf5\n",
      "23/23 [==============================] - 0s 8ms/step - loss: 0.1779 - accuracy: 0.9472 - val_loss: 6.6661e-04 - val_accuracy: 1.0000\n",
      "Epoch 44/1000\n",
      "16/23 [===================>..........] - ETA: 0s - loss: 0.1510 - accuracy: 0.9590\n",
      "Epoch 44: saving model to model/two_hands_keypoint_classifier/two_hands_keypoint_classifier.hdf5\n",
      "23/23 [==============================] - 0s 9ms/step - loss: 0.1512 - accuracy: 0.9595 - val_loss: 0.0067 - val_accuracy: 0.9990\n",
      "Epoch 45/1000\n",
      "14/23 [=================>............] - ETA: 0s - loss: 0.1620 - accuracy: 0.9537\n",
      "Epoch 45: saving model to model/two_hands_keypoint_classifier/two_hands_keypoint_classifier.hdf5\n",
      "23/23 [==============================] - 0s 9ms/step - loss: 0.1551 - accuracy: 0.9561 - val_loss: 0.0090 - val_accuracy: 0.9990\n",
      "Epoch 46/1000\n",
      "15/23 [==================>...........] - ETA: 0s - loss: 0.1777 - accuracy: 0.9557\n",
      "Epoch 46: saving model to model/two_hands_keypoint_classifier/two_hands_keypoint_classifier.hdf5\n",
      "23/23 [==============================] - 0s 8ms/step - loss: 0.1938 - accuracy: 0.9482 - val_loss: 0.0015 - val_accuracy: 0.9990\n",
      "Epoch 47/1000\n",
      "14/23 [=================>............] - ETA: 0s - loss: 0.1467 - accuracy: 0.9570\n",
      "Epoch 47: saving model to model/two_hands_keypoint_classifier/two_hands_keypoint_classifier.hdf5\n",
      "23/23 [==============================] - 0s 9ms/step - loss: 0.1534 - accuracy: 0.9564 - val_loss: 3.2414e-04 - val_accuracy: 1.0000\n",
      "Epoch 48/1000\n",
      "14/23 [=================>............] - ETA: 0s - loss: 0.1333 - accuracy: 0.9637\n",
      "Epoch 48: saving model to model/two_hands_keypoint_classifier/two_hands_keypoint_classifier.hdf5\n",
      "23/23 [==============================] - 0s 8ms/step - loss: 0.1502 - accuracy: 0.9558 - val_loss: 2.0967e-04 - val_accuracy: 1.0000\n",
      "Epoch 49/1000\n",
      "15/23 [==================>...........] - ETA: 0s - loss: 0.1523 - accuracy: 0.9531\n",
      "Epoch 49: saving model to model/two_hands_keypoint_classifier/two_hands_keypoint_classifier.hdf5\n",
      "23/23 [==============================] - 0s 10ms/step - loss: 0.1420 - accuracy: 0.9554 - val_loss: 1.1091e-04 - val_accuracy: 1.0000\n",
      "Epoch 50/1000\n",
      "13/23 [===============>..............] - ETA: 0s - loss: 0.1580 - accuracy: 0.9597\n",
      "Epoch 50: saving model to model/two_hands_keypoint_classifier/two_hands_keypoint_classifier.hdf5\n",
      "23/23 [==============================] - 0s 9ms/step - loss: 0.1676 - accuracy: 0.9551 - val_loss: 8.2244e-04 - val_accuracy: 1.0000\n",
      "Epoch 51/1000\n",
      "15/23 [==================>...........] - ETA: 0s - loss: 0.1502 - accuracy: 0.9630\n",
      "Epoch 51: saving model to model/two_hands_keypoint_classifier/two_hands_keypoint_classifier.hdf5\n",
      "23/23 [==============================] - 0s 8ms/step - loss: 0.1471 - accuracy: 0.9609 - val_loss: 0.0034 - val_accuracy: 0.9990\n",
      "Epoch 52/1000\n",
      "15/23 [==================>...........] - ETA: 0s - loss: 0.1086 - accuracy: 0.9661\n",
      "Epoch 52: saving model to model/two_hands_keypoint_classifier/two_hands_keypoint_classifier.hdf5\n",
      "23/23 [==============================] - 0s 9ms/step - loss: 0.1221 - accuracy: 0.9636 - val_loss: 0.0014 - val_accuracy: 0.9990\n",
      "Epoch 53/1000\n",
      "15/23 [==================>...........] - ETA: 0s - loss: 0.1366 - accuracy: 0.9583\n",
      "Epoch 53: saving model to model/two_hands_keypoint_classifier/two_hands_keypoint_classifier.hdf5\n",
      "23/23 [==============================] - 0s 9ms/step - loss: 0.1373 - accuracy: 0.9592 - val_loss: 3.7018e-04 - val_accuracy: 1.0000\n",
      "Epoch 54/1000\n",
      "16/23 [===================>..........] - ETA: 0s - loss: 0.1329 - accuracy: 0.9604\n",
      "Epoch 54: saving model to model/two_hands_keypoint_classifier/two_hands_keypoint_classifier.hdf5\n",
      "23/23 [==============================] - 0s 8ms/step - loss: 0.1384 - accuracy: 0.9578 - val_loss: 0.0033 - val_accuracy: 0.9990\n",
      "Epoch 55/1000\n",
      "14/23 [=================>............] - ETA: 0s - loss: 0.1356 - accuracy: 0.9665\n",
      "Epoch 55: saving model to model/two_hands_keypoint_classifier/two_hands_keypoint_classifier.hdf5\n",
      "23/23 [==============================] - 0s 8ms/step - loss: 0.1362 - accuracy: 0.9636 - val_loss: 0.0057 - val_accuracy: 0.9990\n",
      "Epoch 56/1000\n",
      "14/23 [=================>............] - ETA: 0s - loss: 0.1071 - accuracy: 0.9648\n",
      "Epoch 56: saving model to model/two_hands_keypoint_classifier/two_hands_keypoint_classifier.hdf5\n",
      "23/23 [==============================] - 0s 8ms/step - loss: 0.1080 - accuracy: 0.9643 - val_loss: 2.0932e-04 - val_accuracy: 1.0000\n",
      "Epoch 57/1000\n",
      "15/23 [==================>...........] - ETA: 0s - loss: 0.1326 - accuracy: 0.9620\n",
      "Epoch 57: saving model to model/two_hands_keypoint_classifier/two_hands_keypoint_classifier.hdf5\n",
      "23/23 [==============================] - 0s 9ms/step - loss: 0.1527 - accuracy: 0.9626 - val_loss: 2.3220e-04 - val_accuracy: 1.0000\n",
      "Epoch 58/1000\n",
      "14/23 [=================>............] - ETA: 0s - loss: 0.1411 - accuracy: 0.9654\n",
      "Epoch 58: saving model to model/two_hands_keypoint_classifier/two_hands_keypoint_classifier.hdf5\n",
      "23/23 [==============================] - 0s 8ms/step - loss: 0.1376 - accuracy: 0.9681 - val_loss: 5.3748e-04 - val_accuracy: 1.0000\n",
      "Epoch 59/1000\n",
      "15/23 [==================>...........] - ETA: 0s - loss: 0.1113 - accuracy: 0.9714\n",
      "Epoch 59: saving model to model/two_hands_keypoint_classifier/two_hands_keypoint_classifier.hdf5\n",
      "23/23 [==============================] - 0s 8ms/step - loss: 0.1113 - accuracy: 0.9709 - val_loss: 5.8201e-04 - val_accuracy: 1.0000\n",
      "Epoch 60/1000\n",
      "15/23 [==================>...........] - ETA: 0s - loss: 0.0970 - accuracy: 0.9724\n",
      "Epoch 60: saving model to model/two_hands_keypoint_classifier/two_hands_keypoint_classifier.hdf5\n",
      "23/23 [==============================] - 0s 11ms/step - loss: 0.1190 - accuracy: 0.9698 - val_loss: 5.9329e-04 - val_accuracy: 1.0000\n",
      "Epoch 61/1000\n",
      "15/23 [==================>...........] - ETA: 0s - loss: 0.1161 - accuracy: 0.9661\n",
      "Epoch 61: saving model to model/two_hands_keypoint_classifier/two_hands_keypoint_classifier.hdf5\n",
      "23/23 [==============================] - 0s 8ms/step - loss: 0.1067 - accuracy: 0.9695 - val_loss: 2.4419e-04 - val_accuracy: 1.0000\n",
      "Epoch 62/1000\n",
      "14/23 [=================>............] - ETA: 0s - loss: 0.1180 - accuracy: 0.9626\n",
      "Epoch 62: saving model to model/two_hands_keypoint_classifier/two_hands_keypoint_classifier.hdf5\n",
      "23/23 [==============================] - 0s 9ms/step - loss: 0.1191 - accuracy: 0.9619 - val_loss: 0.0192 - val_accuracy: 0.9990\n",
      "Epoch 63/1000\n",
      "15/23 [==================>...........] - ETA: 0s - loss: 0.1000 - accuracy: 0.9703\n",
      "Epoch 63: saving model to model/two_hands_keypoint_classifier/two_hands_keypoint_classifier.hdf5\n",
      "23/23 [==============================] - 0s 8ms/step - loss: 0.1107 - accuracy: 0.9691 - val_loss: 1.6067e-04 - val_accuracy: 1.0000\n",
      "Epoch 64/1000\n",
      "14/23 [=================>............] - ETA: 0s - loss: 0.1125 - accuracy: 0.9621\n",
      "Epoch 64: saving model to model/two_hands_keypoint_classifier/two_hands_keypoint_classifier.hdf5\n",
      "23/23 [==============================] - 0s 9ms/step - loss: 0.1170 - accuracy: 0.9636 - val_loss: 2.7460e-04 - val_accuracy: 1.0000\n",
      "Epoch 65/1000\n",
      "14/23 [=================>............] - ETA: 0s - loss: 0.1108 - accuracy: 0.9665\n",
      "Epoch 65: saving model to model/two_hands_keypoint_classifier/two_hands_keypoint_classifier.hdf5\n",
      "23/23 [==============================] - 0s 8ms/step - loss: 0.1073 - accuracy: 0.9667 - val_loss: 3.3933e-04 - val_accuracy: 1.0000\n",
      "Epoch 66/1000\n",
      "16/23 [===================>..........] - ETA: 0s - loss: 0.1124 - accuracy: 0.9673\n",
      "Epoch 66: saving model to model/two_hands_keypoint_classifier/two_hands_keypoint_classifier.hdf5\n",
      "23/23 [==============================] - 0s 8ms/step - loss: 0.1103 - accuracy: 0.9678 - val_loss: 5.5889e-04 - val_accuracy: 1.0000\n",
      "Epoch 67/1000\n",
      "15/23 [==================>...........] - ETA: 0s - loss: 0.1161 - accuracy: 0.9776\n",
      "Epoch 67: saving model to model/two_hands_keypoint_classifier/two_hands_keypoint_classifier.hdf5\n",
      "23/23 [==============================] - 0s 9ms/step - loss: 0.1070 - accuracy: 0.9757 - val_loss: 8.8785e-05 - val_accuracy: 1.0000\n",
      "Epoch 68/1000\n",
      "14/23 [=================>............] - ETA: 0s - loss: 0.1415 - accuracy: 0.9715\n",
      "Epoch 68: saving model to model/two_hands_keypoint_classifier/two_hands_keypoint_classifier.hdf5\n",
      "23/23 [==============================] - 0s 9ms/step - loss: 0.1292 - accuracy: 0.9702 - val_loss: 1.1063e-04 - val_accuracy: 1.0000\n",
      "Epoch 69/1000\n",
      "13/23 [===============>..............] - ETA: 0s - loss: 0.1046 - accuracy: 0.9712\n",
      "Epoch 69: saving model to model/two_hands_keypoint_classifier/two_hands_keypoint_classifier.hdf5\n",
      "23/23 [==============================] - 0s 9ms/step - loss: 0.0860 - accuracy: 0.9746 - val_loss: 2.0046e-04 - val_accuracy: 1.0000\n",
      "Epoch 70/1000\n",
      "13/23 [===============>..............] - ETA: 0s - loss: 0.1068 - accuracy: 0.9651\n",
      "Epoch 70: saving model to model/two_hands_keypoint_classifier/two_hands_keypoint_classifier.hdf5\n",
      "23/23 [==============================] - 0s 11ms/step - loss: 0.0983 - accuracy: 0.9671 - val_loss: 2.0973e-04 - val_accuracy: 1.0000\n",
      "Epoch 71/1000\n",
      "20/23 [=========================>....] - ETA: 0s - loss: 0.1115 - accuracy: 0.9723\n",
      "Epoch 71: saving model to model/two_hands_keypoint_classifier/two_hands_keypoint_classifier.hdf5\n",
      "23/23 [==============================] - 0s 10ms/step - loss: 0.1063 - accuracy: 0.9736 - val_loss: 1.8406e-04 - val_accuracy: 1.0000\n",
      "Epoch 72/1000\n",
      "17/23 [=====================>........] - ETA: 0s - loss: 0.1175 - accuracy: 0.9692\n",
      "Epoch 72: saving model to model/two_hands_keypoint_classifier/two_hands_keypoint_classifier.hdf5\n",
      "23/23 [==============================] - 0s 8ms/step - loss: 0.1239 - accuracy: 0.9664 - val_loss: 2.8688e-04 - val_accuracy: 1.0000\n",
      "Epoch 73/1000\n",
      "15/23 [==================>...........] - ETA: 0s - loss: 0.1010 - accuracy: 0.9677\n",
      "Epoch 73: saving model to model/two_hands_keypoint_classifier/two_hands_keypoint_classifier.hdf5\n",
      "23/23 [==============================] - 0s 8ms/step - loss: 0.0944 - accuracy: 0.9705 - val_loss: 2.1100e-04 - val_accuracy: 1.0000\n",
      "Epoch 74/1000\n",
      "15/23 [==================>...........] - ETA: 0s - loss: 0.0772 - accuracy: 0.9786\n",
      "Epoch 74: saving model to model/two_hands_keypoint_classifier/two_hands_keypoint_classifier.hdf5\n",
      "23/23 [==============================] - 0s 9ms/step - loss: 0.0903 - accuracy: 0.9715 - val_loss: 1.6119e-04 - val_accuracy: 1.0000\n",
      "Epoch 75/1000\n",
      "15/23 [==================>...........] - ETA: 0s - loss: 0.0911 - accuracy: 0.9729\n",
      "Epoch 75: saving model to model/two_hands_keypoint_classifier/two_hands_keypoint_classifier.hdf5\n",
      "23/23 [==============================] - 0s 8ms/step - loss: 0.0862 - accuracy: 0.9729 - val_loss: 1.7338e-04 - val_accuracy: 1.0000\n",
      "Epoch 76/1000\n",
      "14/23 [=================>............] - ETA: 0s - loss: 0.0864 - accuracy: 0.9738\n",
      "Epoch 76: saving model to model/two_hands_keypoint_classifier/two_hands_keypoint_classifier.hdf5\n",
      "23/23 [==============================] - 0s 9ms/step - loss: 0.0793 - accuracy: 0.9777 - val_loss: 2.0942e-04 - val_accuracy: 1.0000\n",
      "Epoch 77/1000\n",
      "14/23 [=================>............] - ETA: 0s - loss: 0.1250 - accuracy: 0.9766\n",
      "Epoch 77: saving model to model/two_hands_keypoint_classifier/two_hands_keypoint_classifier.hdf5\n",
      "23/23 [==============================] - 0s 8ms/step - loss: 0.1034 - accuracy: 0.9767 - val_loss: 2.3901e-04 - val_accuracy: 1.0000\n",
      "Epoch 78/1000\n",
      "14/23 [=================>............] - ETA: 0s - loss: 0.0869 - accuracy: 0.9794\n",
      "Epoch 78: saving model to model/two_hands_keypoint_classifier/two_hands_keypoint_classifier.hdf5\n",
      "23/23 [==============================] - 0s 9ms/step - loss: 0.0850 - accuracy: 0.9777 - val_loss: 2.9133e-04 - val_accuracy: 1.0000\n",
      "Epoch 79/1000\n",
      "14/23 [=================>............] - ETA: 0s - loss: 0.0739 - accuracy: 0.9799\n",
      "Epoch 79: saving model to model/two_hands_keypoint_classifier/two_hands_keypoint_classifier.hdf5\n",
      "23/23 [==============================] - 0s 9ms/step - loss: 0.0801 - accuracy: 0.9784 - val_loss: 2.8992e-04 - val_accuracy: 1.0000\n",
      "Epoch 80/1000\n",
      "14/23 [=================>............] - ETA: 0s - loss: 0.0838 - accuracy: 0.9788\n",
      "Epoch 80: saving model to model/two_hands_keypoint_classifier/two_hands_keypoint_classifier.hdf5\n",
      "23/23 [==============================] - 0s 10ms/step - loss: 0.0875 - accuracy: 0.9794 - val_loss: 3.8406e-04 - val_accuracy: 1.0000\n",
      "Epoch 81/1000\n",
      "21/23 [==========================>...] - ETA: 0s - loss: 0.0929 - accuracy: 0.9714\n",
      "Epoch 81: saving model to model/two_hands_keypoint_classifier/two_hands_keypoint_classifier.hdf5\n",
      "23/23 [==============================] - 0s 10ms/step - loss: 0.0915 - accuracy: 0.9715 - val_loss: 1.4719e-04 - val_accuracy: 1.0000\n",
      "Epoch 82/1000\n",
      "13/23 [===============>..............] - ETA: 0s - loss: 0.0987 - accuracy: 0.9730\n",
      "Epoch 82: saving model to model/two_hands_keypoint_classifier/two_hands_keypoint_classifier.hdf5\n",
      "23/23 [==============================] - 0s 9ms/step - loss: 0.0930 - accuracy: 0.9750 - val_loss: 1.0948e-04 - val_accuracy: 1.0000\n",
      "Epoch 83/1000\n",
      "13/23 [===============>..............] - ETA: 0s - loss: 0.0805 - accuracy: 0.9748\n",
      "Epoch 83: saving model to model/two_hands_keypoint_classifier/two_hands_keypoint_classifier.hdf5\n",
      "23/23 [==============================] - 0s 8ms/step - loss: 0.0763 - accuracy: 0.9763 - val_loss: 3.8706e-04 - val_accuracy: 1.0000\n",
      "Epoch 84/1000\n",
      "15/23 [==================>...........] - ETA: 0s - loss: 0.0807 - accuracy: 0.9828\n",
      "Epoch 84: saving model to model/two_hands_keypoint_classifier/two_hands_keypoint_classifier.hdf5\n",
      "23/23 [==============================] - 0s 9ms/step - loss: 0.0836 - accuracy: 0.9805 - val_loss: 5.2641e-04 - val_accuracy: 1.0000\n",
      "Epoch 85/1000\n",
      "23/23 [==============================] - ETA: 0s - loss: 0.0707 - accuracy: 0.9842\n",
      "Epoch 85: saving model to model/two_hands_keypoint_classifier/two_hands_keypoint_classifier.hdf5\n",
      "23/23 [==============================] - 0s 10ms/step - loss: 0.0707 - accuracy: 0.9842 - val_loss: 4.7105e-04 - val_accuracy: 1.0000\n",
      "Epoch 86/1000\n",
      "15/23 [==================>...........] - ETA: 0s - loss: 0.0896 - accuracy: 0.9776\n",
      "Epoch 86: saving model to model/two_hands_keypoint_classifier/two_hands_keypoint_classifier.hdf5\n",
      "23/23 [==============================] - 0s 8ms/step - loss: 0.1027 - accuracy: 0.9743 - val_loss: 1.5073e-04 - val_accuracy: 1.0000\n",
      "Epoch 87/1000\n",
      "15/23 [==================>...........] - ETA: 0s - loss: 0.0849 - accuracy: 0.9745\n",
      "Epoch 87: saving model to model/two_hands_keypoint_classifier/two_hands_keypoint_classifier.hdf5\n",
      "23/23 [==============================] - 0s 8ms/step - loss: 0.1107 - accuracy: 0.9753 - val_loss: 1.0961e-04 - val_accuracy: 1.0000\n",
      "Epoch 87: early stopping\n"
     ]
    },
    {
     "data": {
      "text/plain": [
       "<keras.src.callbacks.History at 0x7f2a5cb70c70>"
      ]
     },
     "execution_count": 33,
     "metadata": {},
     "output_type": "execute_result"
    }
   ],
   "source": [
    "model.fit(\n",
    "    X_train,\n",
    "    y_train,\n",
    "    epochs=1000,\n",
    "    batch_size=128,\n",
    "    validation_data=(X_test, y_test),\n",
    "    callbacks=[cp_callback, es_callback]\n",
    ")"
   ]
  },
  {
   "cell_type": "code",
   "execution_count": 34,
   "metadata": {},
   "outputs": [
    {
     "name": "stdout",
     "output_type": "stream",
     "text": [
      "8/8 [==============================] - 0s 2ms/step - loss: 1.0961e-04 - accuracy: 1.0000\n"
     ]
    }
   ],
   "source": [
    "# モデル評価\n",
    "val_loss, val_acc = model.evaluate(X_test, y_test, batch_size=128)"
   ]
  },
  {
   "cell_type": "code",
   "execution_count": 35,
   "metadata": {},
   "outputs": [],
   "source": [
    "# 保存したモデルのロード\n",
    "model = tf.keras.models.load_model(model_save_path)"
   ]
  },
  {
   "cell_type": "code",
   "execution_count": 36,
   "metadata": {},
   "outputs": [
    {
     "name": "stdout",
     "output_type": "stream",
     "text": [
      "1/1 [==============================] - 0s 89ms/step\n",
      "[1.0000000e+00 2.2068558e-15 1.7999995e-10 4.2283857e-26 3.7312906e-21]\n",
      "0\n"
     ]
    }
   ],
   "source": [
    "# 推論テスト\n",
    "predict_result = model.predict(np.array([X_test[0]]))\n",
    "print(np.squeeze(predict_result))\n",
    "print(np.argmax(np.squeeze(predict_result)))"
   ]
  },
  {
   "cell_type": "markdown",
   "metadata": {},
   "source": [
    "# 混同行列"
   ]
  },
  {
   "cell_type": "code",
   "execution_count": 37,
   "metadata": {},
   "outputs": [
    {
     "name": "stdout",
     "output_type": "stream",
     "text": [
      "31/31 [==============================] - 0s 2ms/step\n"
     ]
    },
    {
     "data": {
      "image/png": "[encoded data removed]",
      "text/plain": [
       "<Figure size 700x600 with 2 Axes>"
      ]
     },
     "metadata": {},
     "output_type": "display_data"
    },
    {
     "name": "stdout",
     "output_type": "stream",
     "text": [
      "Classification Report\n",
      "              precision    recall  f1-score   support\n",
      "\n",
      "           0       1.00      1.00      1.00       197\n",
      "           1       1.00      1.00      1.00       217\n",
      "           2       1.00      1.00      1.00       136\n",
      "           3       1.00      1.00      1.00       202\n",
      "           4       1.00      1.00      1.00       221\n",
      "\n",
      "    accuracy                           1.00       973\n",
      "   macro avg       1.00      1.00      1.00       973\n",
      "weighted avg       1.00      1.00      1.00       973\n",
      "\n"
     ]
    }
   ],
   "source": [
    "import pandas as pd\n",
    "import seaborn as sns\n",
    "import matplotlib.pyplot as plt\n",
    "from sklearn.metrics import confusion_matrix, classification_report\n",
    "\n",
    "def print_confusion_matrix(y_true, y_pred, report=True):\n",
    "    labels = sorted(list(set(y_true)))\n",
    "    cmx_data = confusion_matrix(y_true, y_pred, labels=labels)\n",
    "    \n",
    "    df_cmx = pd.DataFrame(cmx_data, index=labels, columns=labels)\n",
    " \n",
    "    fig, ax = plt.subplots(figsize=(7, 6))\n",
    "    sns.heatmap(df_cmx, annot=True, fmt='g' ,square=False)\n",
    "    ax.set_ylim(len(set(y_true)), 0)\n",
    "    plt.show()\n",
    "    \n",
    "    if report:\n",
    "        print('Classification Report')\n",
    "        print(classification_report(y_test, y_pred))\n",
    "\n",
    "Y_pred = model.predict(X_test)\n",
    "y_pred = np.argmax(Y_pred, axis=1)\n",
    "\n",
    "print_confusion_matrix(y_test, y_pred)"
   ]
  },
  {
   "cell_type": "markdown",
   "metadata": {},
   "source": [
    "# Tensorflow-Lite用のモデルへ変換"
   ]
  },
  {
   "cell_type": "code",
   "execution_count": 38,
   "metadata": {},
   "outputs": [
    {
     "name": "stderr",
     "output_type": "stream",
     "text": [
      "/tmp/myenv/lib/python3.10/site-packages/keras/src/engine/training.py:3103: UserWarning: You are saving your model as an HDF5 file via `model.save()`. This file format is considered legacy. We recommend using instead the native Keras format, e.g. `model.save('my_model.keras')`.\n",
      "  saving_api.save_model(\n"
     ]
    }
   ],
   "source": [
    "# 推論専用のモデルとして保存\n",
    "model.save(model_save_path, include_optimizer=False)"
   ]
  },
  {
   "cell_type": "code",
   "execution_count": 39,
   "metadata": {},
   "outputs": [
    {
     "name": "stdout",
     "output_type": "stream",
     "text": [
      "INFO:tensorflow:Assets written to: /tmp/tmpwagqripj/assets\n"
     ]
    },
    {
     "name": "stderr",
     "output_type": "stream",
     "text": [
      "INFO:tensorflow:Assets written to: /tmp/tmpwagqripj/assets\n",
      "2024-01-09 16:19:52.584758: W tensorflow/compiler/mlir/lite/python/tf_tfl_flatbuffer_helpers.cc:378] Ignored output_format.\n",
      "2024-01-09 16:19:52.584786: W tensorflow/compiler/mlir/lite/python/tf_tfl_flatbuffer_helpers.cc:381] Ignored drop_control_dependency.\n",
      "2024-01-09 16:19:52.584989: I tensorflow/cc/saved_model/reader.cc:83] Reading SavedModel from: /tmp/tmpwagqripj\n",
      "2024-01-09 16:19:52.586754: I tensorflow/cc/saved_model/reader.cc:51] Reading meta graph with tags { serve }\n",
      "2024-01-09 16:19:52.586802: I tensorflow/cc/saved_model/reader.cc:146] Reading SavedModel debug info (if present) from: /tmp/tmpwagqripj\n",
      "2024-01-09 16:19:52.590749: I tensorflow/cc/saved_model/loader.cc:233] Restoring SavedModel bundle.\n",
      "2024-01-09 16:19:52.645882: I tensorflow/cc/saved_model/loader.cc:217] Running initialization op on SavedModel bundle at path: /tmp/tmpwagqripj\n",
      "2024-01-09 16:19:52.663204: I tensorflow/cc/saved_model/loader.cc:316] SavedModel load for tags { serve }; Status: success: OK. Took 78216 microseconds.\n",
      "Summary on the non-converted ops:\n",
      "---------------------------------\n",
      " * Accepted dialects: tfl, builtin, func\n",
      " * Non-Converted Ops: 8, Total Ops 19, % non-converted = 42.11 %\n",
      " * 8 ARITH ops\n",
      "\n",
      "- arith.constant:    8 occurrences  (f32: 8)\n",
      "\n",
      "\n",
      "\n",
      "  (f32: 5)\n",
      "  (uq_8: 2)\n",
      "  (f32: 1)\n"
     ]
    },
    {
     "data": {
      "text/plain": [
       "17808"
      ]
     },
     "execution_count": 39,
     "metadata": {},
     "output_type": "execute_result"
    }
   ],
   "source": [
    "# モデルを変換(量子化)\n",
    "tflite_save_path = 'model/two_hands_keypoint_classifier/two_hands_keypoint_classifier.tflite'\n",
    "\n",
    "converter = tf.lite.TFLiteConverter.from_keras_model(model)\n",
    "converter.optimizations = [tf.lite.Optimize.DEFAULT]\n",
    "tflite_quantized_model = converter.convert()\n",
    "\n",
    "open(tflite_save_path, 'wb').write(tflite_quantized_model)"
   ]
  },
  {
   "cell_type": "markdown",
   "metadata": {},
   "source": [
    "# 推論テスト"
   ]
  },
  {
   "cell_type": "code",
   "execution_count": 40,
   "metadata": {},
   "outputs": [],
   "source": [
    "interpreter = tf.lite.Interpreter(model_path=tflite_save_path)\n",
    "interpreter.allocate_tensors()"
   ]
  },
  {
   "cell_type": "code",
   "execution_count": 41,
   "metadata": {},
   "outputs": [],
   "source": [
    "# 入出力テンソルを取得\n",
    "input_details = interpreter.get_input_details()\n",
    "output_details = interpreter.get_output_details()"
   ]
  },
  {
   "cell_type": "code",
   "execution_count": 42,
   "metadata": {},
   "outputs": [],
   "source": [
    "interpreter.set_tensor(input_details[0]['index'], np.array([X_test[0]]))"
   ]
  },
  {
   "cell_type": "code",
   "execution_count": 43,
   "metadata": {
    "scrolled": true
   },
   "outputs": [
    {
     "name": "stdout",
     "output_type": "stream",
     "text": [
      "CPU times: user 484 µs, sys: 36 µs, total: 520 µs\n",
      "Wall time: 412 µs\n"
     ]
    }
   ],
   "source": [
    "%%time\n",
    "# 推論実施\n",
    "interpreter.invoke()\n",
    "tflite_results = interpreter.get_tensor(output_details[0]['index'])"
   ]
  },
  {
   "cell_type": "code",
   "execution_count": 44,
   "metadata": {},
   "outputs": [
    {
     "name": "stdout",
     "output_type": "stream",
     "text": [
      "[1.0000000e+00 2.9260298e-15 3.7172748e-10 7.6268256e-26 6.1521158e-21]\n",
      "0\n"
     ]
    }
   ],
   "source": [
    "print(np.squeeze(tflite_results))\n",
    "print(np.argmax(np.squeeze(tflite_results)))"
   ]
  }
 ],
 "metadata": {
  "kernelspec": {
   "display_name": "Python 3",
   "language": "python",
   "name": "python3"
  },
  "language_info": {
   "codemirror_mode": {
    "name": "ipython",
    "version": 3
   },
   "file_extension": ".py",
   "mimetype": "text/x-python",
   "name": "python",
   "nbconvert_exporter": "python",
   "pygments_lexer": "ipython3",
   "version": "3.10.12"
  }
 },
 "nbformat": 4,
 "nbformat_minor": 4
}
