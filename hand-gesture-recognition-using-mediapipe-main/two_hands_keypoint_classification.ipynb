{
 "cells": [
  {
   "cell_type": "code",
   "execution_count": 1,
   "metadata": {},
   "outputs": [
    {
     "name": "stderr",
     "output_type": "stream",
     "text": [
      "2024-01-10 17:11:45.349303: E external/local_xla/xla/stream_executor/cuda/cuda_dnn.cc:9261] Unable to register cuDNN factory: Attempting to register factory for plugin cuDNN when one has already been registered\n",
      "2024-01-10 17:11:45.349509: E external/local_xla/xla/stream_executor/cuda/cuda_fft.cc:607] Unable to register cuFFT factory: Attempting to register factory for plugin cuFFT when one has already been registered\n",
      "2024-01-10 17:11:45.352502: E external/local_xla/xla/stream_executor/cuda/cuda_blas.cc:1515] Unable to register cuBLAS factory: Attempting to register factory for plugin cuBLAS when one has already been registered\n",
      "2024-01-10 17:11:45.363953: I tensorflow/core/platform/cpu_feature_guard.cc:182] This TensorFlow binary is optimized to use available CPU instructions in performance-critical operations.\n",
      "To enable the following instructions: AVX2 FMA, in other operations, rebuild TensorFlow with the appropriate compiler flags.\n",
      "2024-01-10 17:11:46.615608: W tensorflow/compiler/tf2tensorrt/utils/py_utils.cc:38] TF-TRT Warning: Could not find TensorRT\n"
     ]
    }
   ],
   "source": [
    "import csv\n",
    "\n",
    "import numpy as np\n",
    "import tensorflow as tf\n",
    "from sklearn.model_selection import train_test_split\n",
    "\n",
    "RANDOM_SEED = 42"
   ]
  },
  {
   "cell_type": "markdown",
   "metadata": {},
   "source": [
    "# 各パス指定"
   ]
  },
  {
   "cell_type": "code",
   "execution_count": 2,
   "metadata": {},
   "outputs": [],
   "source": [
    "dataset = 'model/two_hands_keypoint_classifier/two_hands_keypoint.csv'\n",
    "model_save_path = 'model/two_hands_keypoint_classifier/two_hands_keypoint_classifier.hdf5'"
   ]
  },
  {
   "cell_type": "markdown",
   "metadata": {},
   "source": [
    "# 分類数設定"
   ]
  },
  {
   "cell_type": "code",
   "execution_count": 3,
   "metadata": {},
   "outputs": [],
   "source": [
    "NUM_CLASSES = 6"
   ]
  },
  {
   "cell_type": "markdown",
   "metadata": {},
   "source": [
    "# 学習データ読み込み"
   ]
  },
  {
   "cell_type": "code",
   "execution_count": 4,
   "metadata": {},
   "outputs": [],
   "source": [
    "X_dataset = np.loadtxt(dataset, delimiter=',', dtype='float32', usecols=list(range(1, (21 * 2 * 2) + 1)))"
   ]
  },
  {
   "cell_type": "code",
   "execution_count": 5,
   "metadata": {},
   "outputs": [],
   "source": [
    "y_dataset = np.loadtxt(dataset, delimiter=',', dtype='int32', usecols=(0))"
   ]
  },
  {
   "cell_type": "code",
   "execution_count": 6,
   "metadata": {},
   "outputs": [],
   "source": [
    "X_train, X_test, y_train, y_test = train_test_split(X_dataset, y_dataset, train_size=0.75, random_state=RANDOM_SEED)"
   ]
  },
  {
   "cell_type": "markdown",
   "metadata": {},
   "source": [
    "# モデル構築"
   ]
  },
  {
   "cell_type": "code",
   "execution_count": 7,
   "metadata": {},
   "outputs": [],
   "source": [
    "model = tf.keras.models.Sequential([\n",
    "    tf.keras.layers.Input((21 * 2 * 2, )),\n",
    "    tf.keras.layers.Dense(80, activation='relu'),\n",
    "    tf.keras.layers.Dropout(0.2),\n",
    "    tf.keras.layers.Dense(40, activation='relu'),\n",
    "    tf.keras.layers.Dropout(0.2),\n",
    "    tf.keras.layers.Dense(20, activation='relu'),\n",
    "    tf.keras.layers.Dropout(0.4),\n",
    "    tf.keras.layers.Dense(10, activation='relu'),\n",
    "    tf.keras.layers.Dense(NUM_CLASSES, activation='softmax')\n",
    "])"
   ]
  },
  {
   "cell_type": "code",
   "execution_count": 8,
   "metadata": {},
   "outputs": [
    {
     "name": "stdout",
     "output_type": "stream",
     "text": [
      "Model: \"sequential\"\n",
      "_________________________________________________________________\n",
      " Layer (type)                Output Shape              Param #   \n",
      "=================================================================\n",
      " dense (Dense)               (None, 80)                6800      \n",
      "                                                                 \n",
      " dropout (Dropout)           (None, 80)                0         \n",
      "                                                                 \n",
      " dense_1 (Dense)             (None, 40)                3240      \n",
      "                                                                 \n",
      " dropout_1 (Dropout)         (None, 40)                0         \n",
      "                                                                 \n",
      " dense_2 (Dense)             (None, 20)                820       \n",
      "                                                                 \n",
      " dropout_2 (Dropout)         (None, 20)                0         \n",
      "                                                                 \n",
      " dense_3 (Dense)             (None, 10)                210       \n",
      "                                                                 \n",
      " dense_4 (Dense)             (None, 6)                 66        \n",
      "                                                                 \n",
      "=================================================================\n",
      "Total params: 11136 (43.50 KB)\n",
      "Trainable params: 11136 (43.50 KB)\n",
      "Non-trainable params: 0 (0.00 Byte)\n",
      "_________________________________________________________________\n"
     ]
    }
   ],
   "source": [
    "model.summary()  # tf.keras.utils.plot_model(model, show_shapes=True)"
   ]
  },
  {
   "cell_type": "code",
   "execution_count": 9,
   "metadata": {},
   "outputs": [],
   "source": [
    "# モデルチェックポイントのコールバック\n",
    "cp_callback = tf.keras.callbacks.ModelCheckpoint(\n",
    "    model_save_path, verbose=1, save_weights_only=False)\n",
    "# 早期打ち切り用コールバック\n",
    "es_callback = tf.keras.callbacks.EarlyStopping(patience=20, verbose=1)"
   ]
  },
  {
   "cell_type": "code",
   "execution_count": 10,
   "metadata": {},
   "outputs": [],
   "source": [
    "# モデルコンパイル\n",
    "model.compile(\n",
    "    optimizer='adam',\n",
    "    loss='sparse_categorical_crossentropy',\n",
    "    metrics=['accuracy']\n",
    ")"
   ]
  },
  {
   "cell_type": "markdown",
   "metadata": {},
   "source": [
    "# モデル訓練"
   ]
  },
  {
   "cell_type": "code",
   "execution_count": 11,
   "metadata": {
    "scrolled": true
   },
   "outputs": [
    {
     "name": "stdout",
     "output_type": "stream",
     "text": [
      "Epoch 1/1000\n"
     ]
    },
    {
     "name": "stdout",
     "output_type": "stream",
     "text": [
      "16/28 [================>.............] - ETA: 0s - loss: 1.6588 - accuracy: 0.2783 \n",
      "Epoch 1: saving model to model/two_hands_keypoint_classifier/two_hands_keypoint_classifier.hdf5\n",
      "28/28 [==============================] - 2s 16ms/step - loss: 1.5575 - accuracy: 0.3184 - val_loss: 1.1465 - val_accuracy: 0.4286\n",
      "Epoch 2/1000\n",
      "28/28 [==============================] - ETA: 0s - loss: 1.1081 - accuracy: 0.5126"
     ]
    },
    {
     "name": "stderr",
     "output_type": "stream",
     "text": [
      "/tmp/myenv/lib/python3.10/site-packages/keras/src/engine/training.py:3103: UserWarning: You are saving your model as an HDF5 file via `model.save()`. This file format is considered legacy. We recommend using instead the native Keras format, e.g. `model.save('my_model.keras')`.\n",
      "  saving_api.save_model(\n"
     ]
    },
    {
     "name": "stdout",
     "output_type": "stream",
     "text": [
      "\n",
      "Epoch 2: saving model to model/two_hands_keypoint_classifier/two_hands_keypoint_classifier.hdf5\n",
      "28/28 [==============================] - 0s 9ms/step - loss: 1.1081 - accuracy: 0.5126 - val_loss: 0.6968 - val_accuracy: 0.8333\n",
      "Epoch 3/1000\n",
      "26/28 [==========================>...] - ETA: 0s - loss: 0.7575 - accuracy: 0.6650\n",
      "Epoch 3: saving model to model/two_hands_keypoint_classifier/two_hands_keypoint_classifier.hdf5\n",
      "28/28 [==============================] - 0s 9ms/step - loss: 0.7534 - accuracy: 0.6657 - val_loss: 0.3479 - val_accuracy: 0.9881\n",
      "Epoch 4/1000\n",
      "28/28 [==============================] - ETA: 0s - loss: 0.5350 - accuracy: 0.7993\n",
      "Epoch 4: saving model to model/two_hands_keypoint_classifier/two_hands_keypoint_classifier.hdf5\n",
      "28/28 [==============================] - 0s 10ms/step - loss: 0.5350 - accuracy: 0.7993 - val_loss: 0.2282 - val_accuracy: 0.9770\n",
      "Epoch 5/1000\n",
      "14/28 [==============>...............] - ETA: 0s - loss: 0.4421 - accuracy: 0.8438\n",
      "Epoch 5: saving model to model/two_hands_keypoint_classifier/two_hands_keypoint_classifier.hdf5\n",
      "28/28 [==============================] - 0s 8ms/step - loss: 0.4114 - accuracy: 0.8577 - val_loss: 0.1448 - val_accuracy: 0.9770\n",
      "Epoch 6/1000\n",
      "16/28 [================>.............] - ETA: 0s - loss: 0.3491 - accuracy: 0.8726\n",
      "Epoch 6: saving model to model/two_hands_keypoint_classifier/two_hands_keypoint_classifier.hdf5\n",
      "28/28 [==============================] - 0s 7ms/step - loss: 0.3253 - accuracy: 0.8821 - val_loss: 0.0970 - val_accuracy: 0.9719\n",
      "Epoch 7/1000\n",
      "16/28 [================>.............] - ETA: 0s - loss: 0.2666 - accuracy: 0.9058\n",
      "Epoch 7: saving model to model/two_hands_keypoint_classifier/two_hands_keypoint_classifier.hdf5\n",
      "28/28 [==============================] - 0s 7ms/step - loss: 0.2750 - accuracy: 0.9042 - val_loss: 0.0695 - val_accuracy: 0.9762\n",
      "Epoch 8/1000\n",
      "16/28 [================>.............] - ETA: 0s - loss: 0.2425 - accuracy: 0.9136\n",
      "Epoch 8: saving model to model/two_hands_keypoint_classifier/two_hands_keypoint_classifier.hdf5\n",
      "28/28 [==============================] - 0s 7ms/step - loss: 0.2330 - accuracy: 0.9155 - val_loss: 0.0600 - val_accuracy: 0.9787\n",
      "Epoch 9/1000\n",
      "17/28 [=================>............] - ETA: 0s - loss: 0.2079 - accuracy: 0.9274\n",
      "Epoch 9: saving model to model/two_hands_keypoint_classifier/two_hands_keypoint_classifier.hdf5\n",
      "28/28 [==============================] - 0s 7ms/step - loss: 0.2055 - accuracy: 0.9271 - val_loss: 0.0430 - val_accuracy: 0.9881\n",
      "Epoch 10/1000\n",
      "17/28 [=================>............] - ETA: 0s - loss: 0.1742 - accuracy: 0.9370\n",
      "Epoch 10: saving model to model/two_hands_keypoint_classifier/two_hands_keypoint_classifier.hdf5\n",
      "28/28 [==============================] - 0s 7ms/step - loss: 0.1729 - accuracy: 0.9365 - val_loss: 0.0407 - val_accuracy: 0.9889\n",
      "Epoch 11/1000\n",
      "26/28 [==========================>...] - ETA: 0s - loss: 0.1616 - accuracy: 0.9426\n",
      "Epoch 11: saving model to model/two_hands_keypoint_classifier/two_hands_keypoint_classifier.hdf5\n",
      "28/28 [==============================] - 0s 9ms/step - loss: 0.1662 - accuracy: 0.9410 - val_loss: 0.0327 - val_accuracy: 0.9906\n",
      "Epoch 12/1000\n",
      "26/28 [==========================>...] - ETA: 0s - loss: 0.1423 - accuracy: 0.9486\n",
      "Epoch 12: saving model to model/two_hands_keypoint_classifier/two_hands_keypoint_classifier.hdf5\n",
      "28/28 [==============================] - 0s 9ms/step - loss: 0.1414 - accuracy: 0.9498 - val_loss: 0.0271 - val_accuracy: 0.9949\n",
      "Epoch 13/1000\n",
      "28/28 [==============================] - ETA: 0s - loss: 0.1269 - accuracy: 0.9578\n",
      "Epoch 13: saving model to model/two_hands_keypoint_classifier/two_hands_keypoint_classifier.hdf5\n",
      "28/28 [==============================] - 0s 8ms/step - loss: 0.1269 - accuracy: 0.9578 - val_loss: 0.0240 - val_accuracy: 0.9949\n",
      "Epoch 14/1000\n",
      "16/28 [================>.............] - ETA: 0s - loss: 0.1203 - accuracy: 0.9600\n",
      "Epoch 14: saving model to model/two_hands_keypoint_classifier/two_hands_keypoint_classifier.hdf5\n",
      "28/28 [==============================] - 0s 7ms/step - loss: 0.1280 - accuracy: 0.9566 - val_loss: 0.0200 - val_accuracy: 0.9957\n",
      "Epoch 15/1000\n",
      "15/28 [===============>..............] - ETA: 0s - loss: 0.1215 - accuracy: 0.9552\n",
      "Epoch 15: saving model to model/two_hands_keypoint_classifier/two_hands_keypoint_classifier.hdf5\n",
      "28/28 [==============================] - 0s 9ms/step - loss: 0.1224 - accuracy: 0.9541 - val_loss: 0.0207 - val_accuracy: 0.9949\n",
      "Epoch 16/1000\n",
      "28/28 [==============================] - ETA: 0s - loss: 0.1057 - accuracy: 0.9623\n",
      "Epoch 16: saving model to model/two_hands_keypoint_classifier/two_hands_keypoint_classifier.hdf5\n",
      "28/28 [==============================] - 0s 8ms/step - loss: 0.1057 - accuracy: 0.9623 - val_loss: 0.0228 - val_accuracy: 0.9932\n",
      "Epoch 17/1000\n",
      "16/28 [================>.............] - ETA: 0s - loss: 0.0896 - accuracy: 0.9741\n",
      "Epoch 17: saving model to model/two_hands_keypoint_classifier/two_hands_keypoint_classifier.hdf5\n",
      "28/28 [==============================] - 0s 8ms/step - loss: 0.0978 - accuracy: 0.9688 - val_loss: 0.0173 - val_accuracy: 0.9957\n",
      "Epoch 18/1000\n",
      "28/28 [==============================] - ETA: 0s - loss: 0.1034 - accuracy: 0.9629\n",
      "Epoch 18: saving model to model/two_hands_keypoint_classifier/two_hands_keypoint_classifier.hdf5\n",
      "28/28 [==============================] - 0s 8ms/step - loss: 0.1034 - accuracy: 0.9629 - val_loss: 0.0168 - val_accuracy: 0.9957\n",
      "Epoch 19/1000\n",
      "15/28 [===============>..............] - ETA: 0s - loss: 0.0834 - accuracy: 0.9703\n",
      "Epoch 19: saving model to model/two_hands_keypoint_classifier/two_hands_keypoint_classifier.hdf5\n",
      "28/28 [==============================] - 0s 7ms/step - loss: 0.0912 - accuracy: 0.9680 - val_loss: 0.0163 - val_accuracy: 0.9957\n",
      "Epoch 20/1000\n",
      "16/28 [================>.............] - ETA: 0s - loss: 0.0836 - accuracy: 0.9702\n",
      "Epoch 20: saving model to model/two_hands_keypoint_classifier/two_hands_keypoint_classifier.hdf5\n",
      "28/28 [==============================] - 0s 7ms/step - loss: 0.0833 - accuracy: 0.9714 - val_loss: 0.0162 - val_accuracy: 0.9957\n",
      "Epoch 21/1000\n",
      "16/28 [================>.............] - ETA: 0s - loss: 0.0905 - accuracy: 0.9712\n",
      "Epoch 21: saving model to model/two_hands_keypoint_classifier/two_hands_keypoint_classifier.hdf5\n",
      "28/28 [==============================] - 0s 7ms/step - loss: 0.0847 - accuracy: 0.9750 - val_loss: 0.0132 - val_accuracy: 0.9966\n",
      "Epoch 22/1000\n",
      "15/28 [===============>..............] - ETA: 0s - loss: 0.0901 - accuracy: 0.9667\n",
      "Epoch 22: saving model to model/two_hands_keypoint_classifier/two_hands_keypoint_classifier.hdf5\n",
      "28/28 [==============================] - 0s 7ms/step - loss: 0.0848 - accuracy: 0.9694 - val_loss: 0.0101 - val_accuracy: 0.9974\n",
      "Epoch 23/1000\n",
      "15/28 [===============>..............] - ETA: 0s - loss: 0.0851 - accuracy: 0.9745\n",
      "Epoch 23: saving model to model/two_hands_keypoint_classifier/two_hands_keypoint_classifier.hdf5\n",
      "28/28 [==============================] - 0s 7ms/step - loss: 0.0766 - accuracy: 0.9762 - val_loss: 0.0115 - val_accuracy: 0.9966\n",
      "Epoch 24/1000\n",
      "15/28 [===============>..............] - ETA: 0s - loss: 0.0797 - accuracy: 0.9719\n",
      "Epoch 24: saving model to model/two_hands_keypoint_classifier/two_hands_keypoint_classifier.hdf5\n",
      "28/28 [==============================] - 0s 7ms/step - loss: 0.0707 - accuracy: 0.9765 - val_loss: 0.0113 - val_accuracy: 0.9966\n",
      "Epoch 25/1000\n",
      "16/28 [================>.............] - ETA: 0s - loss: 0.0659 - accuracy: 0.9819\n",
      "Epoch 25: saving model to model/two_hands_keypoint_classifier/two_hands_keypoint_classifier.hdf5\n",
      "28/28 [==============================] - 0s 7ms/step - loss: 0.0683 - accuracy: 0.9816 - val_loss: 0.0112 - val_accuracy: 0.9974\n",
      "Epoch 26/1000\n",
      "16/28 [================>.............] - ETA: 0s - loss: 0.0564 - accuracy: 0.9814\n",
      "Epoch 26: saving model to model/two_hands_keypoint_classifier/two_hands_keypoint_classifier.hdf5\n",
      "28/28 [==============================] - 0s 7ms/step - loss: 0.0596 - accuracy: 0.9804 - val_loss: 0.0120 - val_accuracy: 0.9966\n",
      "Epoch 27/1000\n",
      "15/28 [===============>..............] - ETA: 0s - loss: 0.0518 - accuracy: 0.9844\n",
      "Epoch 27: saving model to model/two_hands_keypoint_classifier/two_hands_keypoint_classifier.hdf5\n",
      "28/28 [==============================] - 0s 7ms/step - loss: 0.0583 - accuracy: 0.9819 - val_loss: 0.0119 - val_accuracy: 0.9966\n",
      "Epoch 28/1000\n",
      "27/28 [===========================>..] - ETA: 0s - loss: 0.0609 - accuracy: 0.9780\n",
      "Epoch 28: saving model to model/two_hands_keypoint_classifier/two_hands_keypoint_classifier.hdf5\n",
      "28/28 [==============================] - 0s 10ms/step - loss: 0.0607 - accuracy: 0.9779 - val_loss: 0.0126 - val_accuracy: 0.9966\n",
      "Epoch 29/1000\n",
      "16/28 [================>.............] - ETA: 0s - loss: 0.0659 - accuracy: 0.9766\n",
      "Epoch 29: saving model to model/two_hands_keypoint_classifier/two_hands_keypoint_classifier.hdf5\n",
      "28/28 [==============================] - 0s 8ms/step - loss: 0.0618 - accuracy: 0.9785 - val_loss: 0.0087 - val_accuracy: 0.9983\n",
      "Epoch 30/1000\n",
      "15/28 [===============>..............] - ETA: 0s - loss: 0.0498 - accuracy: 0.9839\n",
      "Epoch 30: saving model to model/two_hands_keypoint_classifier/two_hands_keypoint_classifier.hdf5\n",
      "28/28 [==============================] - 0s 8ms/step - loss: 0.0550 - accuracy: 0.9813 - val_loss: 0.0075 - val_accuracy: 0.9983\n",
      "Epoch 31/1000\n",
      "27/28 [===========================>..] - ETA: 0s - loss: 0.0584 - accuracy: 0.9792\n",
      "Epoch 31: saving model to model/two_hands_keypoint_classifier/two_hands_keypoint_classifier.hdf5\n",
      "28/28 [==============================] - 0s 8ms/step - loss: 0.0589 - accuracy: 0.9787 - val_loss: 0.0076 - val_accuracy: 0.9983\n",
      "Epoch 32/1000\n",
      "28/28 [==============================] - ETA: 0s - loss: 0.0528 - accuracy: 0.9827\n",
      "Epoch 32: saving model to model/two_hands_keypoint_classifier/two_hands_keypoint_classifier.hdf5\n",
      "28/28 [==============================] - 0s 8ms/step - loss: 0.0528 - accuracy: 0.9827 - val_loss: 0.0089 - val_accuracy: 0.9983\n",
      "Epoch 33/1000\n",
      "15/28 [===============>..............] - ETA: 0s - loss: 0.0514 - accuracy: 0.9849\n",
      "Epoch 33: saving model to model/two_hands_keypoint_classifier/two_hands_keypoint_classifier.hdf5\n",
      "28/28 [==============================] - 0s 8ms/step - loss: 0.0539 - accuracy: 0.9841 - val_loss: 0.0101 - val_accuracy: 0.9974\n",
      "Epoch 34/1000\n",
      "25/28 [=========================>....] - ETA: 0s - loss: 0.0494 - accuracy: 0.9847\n",
      "Epoch 34: saving model to model/two_hands_keypoint_classifier/two_hands_keypoint_classifier.hdf5\n",
      "28/28 [==============================] - 0s 8ms/step - loss: 0.0527 - accuracy: 0.9827 - val_loss: 0.0086 - val_accuracy: 0.9983\n",
      "Epoch 35/1000\n",
      "16/28 [================>.............] - ETA: 0s - loss: 0.0523 - accuracy: 0.9839\n",
      "Epoch 35: saving model to model/two_hands_keypoint_classifier/two_hands_keypoint_classifier.hdf5\n",
      "28/28 [==============================] - 0s 8ms/step - loss: 0.0514 - accuracy: 0.9841 - val_loss: 0.0075 - val_accuracy: 0.9983\n",
      "Epoch 36/1000\n",
      "15/28 [===============>..............] - ETA: 0s - loss: 0.0415 - accuracy: 0.9844\n",
      "Epoch 36: saving model to model/two_hands_keypoint_classifier/two_hands_keypoint_classifier.hdf5\n",
      "28/28 [==============================] - 0s 8ms/step - loss: 0.0434 - accuracy: 0.9853 - val_loss: 0.0072 - val_accuracy: 0.9983\n",
      "Epoch 37/1000\n",
      "15/28 [===============>..............] - ETA: 0s - loss: 0.0470 - accuracy: 0.9870\n",
      "Epoch 37: saving model to model/two_hands_keypoint_classifier/two_hands_keypoint_classifier.hdf5\n",
      "28/28 [==============================] - 0s 8ms/step - loss: 0.0488 - accuracy: 0.9864 - val_loss: 0.0090 - val_accuracy: 0.9974\n",
      "Epoch 38/1000\n",
      "28/28 [==============================] - ETA: 0s - loss: 0.0435 - accuracy: 0.9850\n",
      "Epoch 38: saving model to model/two_hands_keypoint_classifier/two_hands_keypoint_classifier.hdf5\n",
      "28/28 [==============================] - 0s 10ms/step - loss: 0.0435 - accuracy: 0.9850 - val_loss: 0.0093 - val_accuracy: 0.9974\n",
      "Epoch 39/1000\n",
      "16/28 [================>.............] - ETA: 0s - loss: 0.0517 - accuracy: 0.9834\n",
      "Epoch 39: saving model to model/two_hands_keypoint_classifier/two_hands_keypoint_classifier.hdf5\n",
      "28/28 [==============================] - 0s 7ms/step - loss: 0.0494 - accuracy: 0.9838 - val_loss: 0.0070 - val_accuracy: 0.9983\n",
      "Epoch 40/1000\n",
      "15/28 [===============>..............] - ETA: 0s - loss: 0.0486 - accuracy: 0.9833\n",
      "Epoch 40: saving model to model/two_hands_keypoint_classifier/two_hands_keypoint_classifier.hdf5\n",
      "28/28 [==============================] - 0s 7ms/step - loss: 0.0424 - accuracy: 0.9861 - val_loss: 0.0078 - val_accuracy: 0.9983\n",
      "Epoch 41/1000\n",
      "16/28 [================>.............] - ETA: 0s - loss: 0.0445 - accuracy: 0.9858\n",
      "Epoch 41: saving model to model/two_hands_keypoint_classifier/two_hands_keypoint_classifier.hdf5\n",
      "28/28 [==============================] - 0s 7ms/step - loss: 0.0449 - accuracy: 0.9850 - val_loss: 0.0075 - val_accuracy: 0.9991\n",
      "Epoch 42/1000\n",
      "28/28 [==============================] - ETA: 0s - loss: 0.0464 - accuracy: 0.9853\n",
      "Epoch 42: saving model to model/two_hands_keypoint_classifier/two_hands_keypoint_classifier.hdf5\n",
      "28/28 [==============================] - 0s 7ms/step - loss: 0.0464 - accuracy: 0.9853 - val_loss: 0.0075 - val_accuracy: 0.9991\n",
      "Epoch 43/1000\n",
      "16/28 [================>.............] - ETA: 0s - loss: 0.0527 - accuracy: 0.9814\n",
      "Epoch 43: saving model to model/two_hands_keypoint_classifier/two_hands_keypoint_classifier.hdf5\n",
      "28/28 [==============================] - 0s 7ms/step - loss: 0.0511 - accuracy: 0.9813 - val_loss: 0.0090 - val_accuracy: 0.9983\n",
      "Epoch 44/1000\n",
      "28/28 [==============================] - ETA: 0s - loss: 0.0479 - accuracy: 0.9844\n",
      "Epoch 44: saving model to model/two_hands_keypoint_classifier/two_hands_keypoint_classifier.hdf5\n",
      "28/28 [==============================] - 0s 8ms/step - loss: 0.0479 - accuracy: 0.9844 - val_loss: 0.0236 - val_accuracy: 0.9932\n",
      "Epoch 45/1000\n",
      "28/28 [==============================] - ETA: 0s - loss: 0.0503 - accuracy: 0.9836\n",
      "Epoch 45: saving model to model/two_hands_keypoint_classifier/two_hands_keypoint_classifier.hdf5\n",
      "28/28 [==============================] - 0s 8ms/step - loss: 0.0503 - accuracy: 0.9836 - val_loss: 0.0094 - val_accuracy: 0.9983\n",
      "Epoch 46/1000\n",
      "15/28 [===============>..............] - ETA: 0s - loss: 0.0380 - accuracy: 0.9896\n",
      "Epoch 46: saving model to model/two_hands_keypoint_classifier/two_hands_keypoint_classifier.hdf5\n",
      "28/28 [==============================] - 0s 7ms/step - loss: 0.0432 - accuracy: 0.9864 - val_loss: 0.0055 - val_accuracy: 0.9991\n",
      "Epoch 47/1000\n",
      "17/28 [=================>............] - ETA: 0s - loss: 0.0345 - accuracy: 0.9894\n",
      "Epoch 47: saving model to model/two_hands_keypoint_classifier/two_hands_keypoint_classifier.hdf5\n",
      "28/28 [==============================] - 0s 7ms/step - loss: 0.0389 - accuracy: 0.9884 - val_loss: 0.0064 - val_accuracy: 0.9991\n",
      "Epoch 48/1000\n",
      "16/28 [================>.............] - ETA: 0s - loss: 0.0482 - accuracy: 0.9829\n",
      "Epoch 48: saving model to model/two_hands_keypoint_classifier/two_hands_keypoint_classifier.hdf5\n",
      "28/28 [==============================] - 0s 7ms/step - loss: 0.0463 - accuracy: 0.9841 - val_loss: 0.0065 - val_accuracy: 0.9991\n",
      "Epoch 49/1000\n",
      "18/28 [==================>...........] - ETA: 0s - loss: 0.0418 - accuracy: 0.9874\n",
      "Epoch 49: saving model to model/two_hands_keypoint_classifier/two_hands_keypoint_classifier.hdf5\n",
      "28/28 [==============================] - 0s 9ms/step - loss: 0.0385 - accuracy: 0.9875 - val_loss: 0.0069 - val_accuracy: 0.9983\n",
      "Epoch 50/1000\n",
      "16/28 [================>.............] - ETA: 0s - loss: 0.0317 - accuracy: 0.9893\n",
      "Epoch 50: saving model to model/two_hands_keypoint_classifier/two_hands_keypoint_classifier.hdf5\n",
      "28/28 [==============================] - 0s 7ms/step - loss: 0.0370 - accuracy: 0.9881 - val_loss: 0.0059 - val_accuracy: 0.9991\n",
      "Epoch 51/1000\n",
      "16/28 [================>.............] - ETA: 0s - loss: 0.0408 - accuracy: 0.9863\n",
      "Epoch 51: saving model to model/two_hands_keypoint_classifier/two_hands_keypoint_classifier.hdf5\n",
      "28/28 [==============================] - 0s 9ms/step - loss: 0.0430 - accuracy: 0.9841 - val_loss: 0.0070 - val_accuracy: 0.9991\n",
      "Epoch 52/1000\n",
      "26/28 [==========================>...] - ETA: 0s - loss: 0.0317 - accuracy: 0.9895\n",
      "Epoch 52: saving model to model/two_hands_keypoint_classifier/two_hands_keypoint_classifier.hdf5\n",
      "28/28 [==============================] - 0s 9ms/step - loss: 0.0341 - accuracy: 0.9884 - val_loss: 0.0074 - val_accuracy: 0.9991\n",
      "Epoch 53/1000\n",
      "16/28 [================>.............] - ETA: 0s - loss: 0.0287 - accuracy: 0.9902\n",
      "Epoch 53: saving model to model/two_hands_keypoint_classifier/two_hands_keypoint_classifier.hdf5\n",
      "28/28 [==============================] - 0s 8ms/step - loss: 0.0301 - accuracy: 0.9898 - val_loss: 0.0082 - val_accuracy: 0.9991\n",
      "Epoch 54/1000\n",
      "15/28 [===============>..............] - ETA: 0s - loss: 0.0312 - accuracy: 0.9911\n",
      "Epoch 54: saving model to model/two_hands_keypoint_classifier/two_hands_keypoint_classifier.hdf5\n",
      "28/28 [==============================] - 0s 8ms/step - loss: 0.0344 - accuracy: 0.9898 - val_loss: 0.0089 - val_accuracy: 0.9983\n",
      "Epoch 55/1000\n",
      "16/28 [================>.............] - ETA: 0s - loss: 0.0323 - accuracy: 0.9917\n",
      "Epoch 55: saving model to model/two_hands_keypoint_classifier/two_hands_keypoint_classifier.hdf5\n",
      "28/28 [==============================] - 0s 7ms/step - loss: 0.0326 - accuracy: 0.9901 - val_loss: 0.0076 - val_accuracy: 0.9991\n",
      "Epoch 56/1000\n",
      "26/28 [==========================>...] - ETA: 0s - loss: 0.0334 - accuracy: 0.9889\n",
      "Epoch 56: saving model to model/two_hands_keypoint_classifier/two_hands_keypoint_classifier.hdf5\n",
      "28/28 [==============================] - 0s 12ms/step - loss: 0.0338 - accuracy: 0.9889 - val_loss: 0.0078 - val_accuracy: 0.9991\n",
      "Epoch 57/1000\n",
      "24/28 [========================>.....] - ETA: 0s - loss: 0.0338 - accuracy: 0.9896\n",
      "Epoch 57: saving model to model/two_hands_keypoint_classifier/two_hands_keypoint_classifier.hdf5\n",
      "28/28 [==============================] - 0s 11ms/step - loss: 0.0341 - accuracy: 0.9892 - val_loss: 0.0073 - val_accuracy: 0.9991\n",
      "Epoch 58/1000\n",
      "23/28 [=======================>......] - ETA: 0s - loss: 0.0256 - accuracy: 0.9925\n",
      "Epoch 58: saving model to model/two_hands_keypoint_classifier/two_hands_keypoint_classifier.hdf5\n",
      "28/28 [==============================] - 0s 9ms/step - loss: 0.0250 - accuracy: 0.9929 - val_loss: 0.0070 - val_accuracy: 0.9991\n",
      "Epoch 59/1000\n",
      "15/28 [===============>..............] - ETA: 0s - loss: 0.0416 - accuracy: 0.9844\n",
      "Epoch 59: saving model to model/two_hands_keypoint_classifier/two_hands_keypoint_classifier.hdf5\n",
      "28/28 [==============================] - 0s 8ms/step - loss: 0.0369 - accuracy: 0.9867 - val_loss: 0.0080 - val_accuracy: 0.9991\n",
      "Epoch 60/1000\n",
      "15/28 [===============>..............] - ETA: 0s - loss: 0.0253 - accuracy: 0.9906\n",
      "Epoch 60: saving model to model/two_hands_keypoint_classifier/two_hands_keypoint_classifier.hdf5\n",
      "28/28 [==============================] - 0s 8ms/step - loss: 0.0288 - accuracy: 0.9901 - val_loss: 0.0081 - val_accuracy: 0.9991\n",
      "Epoch 61/1000\n",
      "15/28 [===============>..............] - ETA: 0s - loss: 0.0248 - accuracy: 0.9943\n",
      "Epoch 61: saving model to model/two_hands_keypoint_classifier/two_hands_keypoint_classifier.hdf5\n",
      "28/28 [==============================] - 0s 8ms/step - loss: 0.0288 - accuracy: 0.9938 - val_loss: 0.0073 - val_accuracy: 0.9991\n",
      "Epoch 62/1000\n",
      "28/28 [==============================] - ETA: 0s - loss: 0.0328 - accuracy: 0.9901\n",
      "Epoch 62: saving model to model/two_hands_keypoint_classifier/two_hands_keypoint_classifier.hdf5\n",
      "28/28 [==============================] - 0s 8ms/step - loss: 0.0328 - accuracy: 0.9901 - val_loss: 0.0076 - val_accuracy: 0.9991\n",
      "Epoch 63/1000\n",
      "23/28 [=======================>......] - ETA: 0s - loss: 0.0266 - accuracy: 0.9915\n",
      "Epoch 63: saving model to model/two_hands_keypoint_classifier/two_hands_keypoint_classifier.hdf5\n",
      "28/28 [==============================] - 0s 9ms/step - loss: 0.0272 - accuracy: 0.9904 - val_loss: 0.0087 - val_accuracy: 0.9991\n",
      "Epoch 64/1000\n",
      "28/28 [==============================] - ETA: 0s - loss: 0.0407 - accuracy: 0.9892\n",
      "Epoch 64: saving model to model/two_hands_keypoint_classifier/two_hands_keypoint_classifier.hdf5\n",
      "28/28 [==============================] - 0s 8ms/step - loss: 0.0407 - accuracy: 0.9892 - val_loss: 0.0092 - val_accuracy: 0.9991\n",
      "Epoch 65/1000\n",
      "15/28 [===============>..............] - ETA: 0s - loss: 0.0336 - accuracy: 0.9891\n",
      "Epoch 65: saving model to model/two_hands_keypoint_classifier/two_hands_keypoint_classifier.hdf5\n",
      "28/28 [==============================] - 0s 10ms/step - loss: 0.0338 - accuracy: 0.9892 - val_loss: 0.0081 - val_accuracy: 0.9991\n",
      "Epoch 66/1000\n",
      "15/28 [===============>..............] - ETA: 0s - loss: 0.0325 - accuracy: 0.9901\n",
      "Epoch 66: saving model to model/two_hands_keypoint_classifier/two_hands_keypoint_classifier.hdf5\n",
      "28/28 [==============================] - 0s 7ms/step - loss: 0.0321 - accuracy: 0.9889 - val_loss: 0.0071 - val_accuracy: 0.9991\n",
      "Epoch 66: early stopping\n"
     ]
    },
    {
     "data": {
      "text/plain": [
       "<keras.src.callbacks.History at 0x7f94101f27d0>"
      ]
     },
     "execution_count": 11,
     "metadata": {},
     "output_type": "execute_result"
    }
   ],
   "source": [
    "model.fit(\n",
    "    X_train,\n",
    "    y_train,\n",
    "    epochs=1000,\n",
    "    batch_size=128,\n",
    "    validation_data=(X_test, y_test),\n",
    "    callbacks=[cp_callback, es_callback]\n",
    ")"
   ]
  },
  {
   "cell_type": "code",
   "execution_count": 12,
   "metadata": {},
   "outputs": [
    {
     "name": "stdout",
     "output_type": "stream",
     "text": [
      " 1/10 [==>...........................] - ETA: 0s - loss: 2.8670e-04 - accuracy: 1.0000"
     ]
    },
    {
     "name": "stdout",
     "output_type": "stream",
     "text": [
      "10/10 [==============================] - 0s 4ms/step - loss: 0.0071 - accuracy: 0.9991\n"
     ]
    }
   ],
   "source": [
    "# モデル評価\n",
    "val_loss, val_acc = model.evaluate(X_test, y_test, batch_size=128)"
   ]
  },
  {
   "cell_type": "code",
   "execution_count": 13,
   "metadata": {},
   "outputs": [],
   "source": [
    "# 保存したモデルのロード\n",
    "model = tf.keras.models.load_model(model_save_path)"
   ]
  },
  {
   "cell_type": "code",
   "execution_count": 14,
   "metadata": {},
   "outputs": [
    {
     "name": "stdout",
     "output_type": "stream",
     "text": [
      "1/1 [==============================] - 0s 123ms/step\n",
      "[3.1548695e-18 4.7190152e-10 7.6304950e-14 8.8033448e-32 7.5937376e-24\n",
      " 1.0000000e+00]\n",
      "5\n"
     ]
    }
   ],
   "source": [
    "# 推論テスト\n",
    "predict_result = model.predict(np.array([X_test[0]]))\n",
    "print(np.squeeze(predict_result))\n",
    "print(np.argmax(np.squeeze(predict_result)))"
   ]
  },
  {
   "cell_type": "markdown",
   "metadata": {},
   "source": [
    "# 混同行列"
   ]
  },
  {
   "cell_type": "code",
   "execution_count": 15,
   "metadata": {},
   "outputs": [
    {
     "name": "stdout",
     "output_type": "stream",
     "text": [
      "37/37 [==============================] - 0s 2ms/step\n"
     ]
    },
    {
     "data": {
      "image/png": "[encoded data removed]",
      "text/plain": [
       "<Figure size 700x600 with 2 Axes>"
      ]
     },
     "metadata": {},
     "output_type": "display_data"
    },
    {
     "name": "stdout",
     "output_type": "stream",
     "text": [
      "Classification Report\n",
      "              precision    recall  f1-score   support\n",
      "\n",
      "           0       1.00      1.00      1.00       298\n",
      "           1       1.00      1.00      1.00       197\n",
      "           2       1.00      0.99      1.00       164\n",
      "           3       1.00      1.00      1.00       205\n",
      "           4       1.00      1.00      1.00       130\n",
      "           5       1.00      1.00      1.00       182\n",
      "\n",
      "    accuracy                           1.00      1176\n",
      "   macro avg       1.00      1.00      1.00      1176\n",
      "weighted avg       1.00      1.00      1.00      1176\n",
      "\n"
     ]
    }
   ],
   "source": [
    "import pandas as pd\n",
    "import seaborn as sns\n",
    "import matplotlib.pyplot as plt\n",
    "from sklearn.metrics import confusion_matrix, classification_report\n",
    "\n",
    "def print_confusion_matrix(y_true, y_pred, report=True):\n",
    "    labels = sorted(list(set(y_true)))\n",
    "    cmx_data = confusion_matrix(y_true, y_pred, labels=labels)\n",
    "    \n",
    "    df_cmx = pd.DataFrame(cmx_data, index=labels, columns=labels)\n",
    " \n",
    "    fig, ax = plt.subplots(figsize=(7, 6))\n",
    "    sns.heatmap(df_cmx, annot=True, fmt='g' ,square=False)\n",
    "    ax.set_ylim(len(set(y_true)), 0)\n",
    "    plt.show()\n",
    "    \n",
    "    if report:\n",
    "        print('Classification Report')\n",
    "        print(classification_report(y_test, y_pred))\n",
    "\n",
    "Y_pred = model.predict(X_test)\n",
    "y_pred = np.argmax(Y_pred, axis=1)\n",
    "\n",
    "print_confusion_matrix(y_test, y_pred)"
   ]
  },
  {
   "cell_type": "markdown",
   "metadata": {},
   "source": [
    "# Tensorflow-Lite用のモデルへ変換"
   ]
  },
  {
   "cell_type": "code",
   "execution_count": 16,
   "metadata": {},
   "outputs": [
    {
     "name": "stderr",
     "output_type": "stream",
     "text": [
      "/tmp/myenv/lib/python3.10/site-packages/keras/src/engine/training.py:3103: UserWarning: You are saving your model as an HDF5 file via `model.save()`. This file format is considered legacy. We recommend using instead the native Keras format, e.g. `model.save('my_model.keras')`.\n",
      "  saving_api.save_model(\n"
     ]
    }
   ],
   "source": [
    "# 推論専用のモデルとして保存\n",
    "model.save(model_save_path, include_optimizer=False)"
   ]
  },
  {
   "cell_type": "code",
   "execution_count": 17,
   "metadata": {},
   "outputs": [
    {
     "name": "stdout",
     "output_type": "stream",
     "text": [
      "INFO:tensorflow:Assets written to: /tmp/tmpkhxzg4f4/assets\n"
     ]
    },
    {
     "name": "stderr",
     "output_type": "stream",
     "text": [
      "INFO:tensorflow:Assets written to: /tmp/tmpkhxzg4f4/assets\n",
      "2024-01-10 17:12:09.230473: W tensorflow/compiler/mlir/lite/python/tf_tfl_flatbuffer_helpers.cc:378] Ignored output_format.\n",
      "2024-01-10 17:12:09.230569: W tensorflow/compiler/mlir/lite/python/tf_tfl_flatbuffer_helpers.cc:381] Ignored drop_control_dependency.\n",
      "2024-01-10 17:12:09.231082: I tensorflow/cc/saved_model/reader.cc:83] Reading SavedModel from: /tmp/tmpkhxzg4f4\n",
      "2024-01-10 17:12:09.233047: I tensorflow/cc/saved_model/reader.cc:51] Reading meta graph with tags { serve }\n",
      "2024-01-10 17:12:09.233073: I tensorflow/cc/saved_model/reader.cc:146] Reading SavedModel debug info (if present) from: /tmp/tmpkhxzg4f4\n",
      "2024-01-10 17:12:09.236712: I tensorflow/compiler/mlir/mlir_graph_optimization_pass.cc:388] MLIR V1 optimization pass is not enabled\n",
      "2024-01-10 17:12:09.237964: I tensorflow/cc/saved_model/loader.cc:233] Restoring SavedModel bundle.\n",
      "2024-01-10 17:12:09.295291: I tensorflow/cc/saved_model/loader.cc:217] Running initialization op on SavedModel bundle at path: /tmp/tmpkhxzg4f4\n",
      "2024-01-10 17:12:09.317415: I tensorflow/cc/saved_model/loader.cc:316] SavedModel load for tags { serve }; Status: success: OK. Took 86334 microseconds.\n",
      "2024-01-10 17:12:09.337964: I tensorflow/compiler/mlir/tensorflow/utils/dump_mlir_util.cc:269] disabling MLIR crash reproducer, set env var `MLIR_CRASH_REPRODUCER_DIRECTORY` to enable.\n",
      "Summary on the non-converted ops:\n",
      "---------------------------------\n",
      " * Accepted dialects: tfl, builtin, func\n",
      " * Non-Converted Ops: 8, Total Ops 19, % non-converted = 42.11 %\n",
      " * 8 ARITH ops\n",
      "\n",
      "- arith.constant:    8 occurrences  (f32: 8)\n",
      "\n",
      "\n",
      "\n",
      "  (f32: 5)\n",
      "  (uq_8: 2)\n",
      "  (f32: 1)\n"
     ]
    },
    {
     "data": {
      "text/plain": [
       "17816"
      ]
     },
     "execution_count": 17,
     "metadata": {},
     "output_type": "execute_result"
    }
   ],
   "source": [
    "# モデルを変換(量子化)\n",
    "tflite_save_path = 'model/two_hands_keypoint_classifier/two_hands_keypoint_classifier.tflite'\n",
    "\n",
    "converter = tf.lite.TFLiteConverter.from_keras_model(model)\n",
    "converter.optimizations = [tf.lite.Optimize.DEFAULT]\n",
    "tflite_quantized_model = converter.convert()\n",
    "\n",
    "open(tflite_save_path, 'wb').write(tflite_quantized_model)"
   ]
  },
  {
   "cell_type": "markdown",
   "metadata": {},
   "source": [
    "# 推論テスト"
   ]
  },
  {
   "cell_type": "code",
   "execution_count": 18,
   "metadata": {},
   "outputs": [
    {
     "name": "stderr",
     "output_type": "stream",
     "text": [
      "INFO: Created TensorFlow Lite XNNPACK delegate for CPU.\n"
     ]
    }
   ],
   "source": [
    "interpreter = tf.lite.Interpreter(model_path=tflite_save_path)\n",
    "interpreter.allocate_tensors()"
   ]
  },
  {
   "cell_type": "code",
   "execution_count": 19,
   "metadata": {},
   "outputs": [],
   "source": [
    "# 入出力テンソルを取得\n",
    "input_details = interpreter.get_input_details()\n",
    "output_details = interpreter.get_output_details()"
   ]
  },
  {
   "cell_type": "code",
   "execution_count": 20,
   "metadata": {},
   "outputs": [],
   "source": [
    "interpreter.set_tensor(input_details[0]['index'], np.array([X_test[0]]))"
   ]
  },
  {
   "cell_type": "code",
   "execution_count": 21,
   "metadata": {
    "scrolled": true
   },
   "outputs": [
    {
     "name": "stdout",
     "output_type": "stream",
     "text": [
      "CPU times: user 1.92 ms, sys: 0 ns, total: 1.92 ms\n",
      "Wall time: 1.6 ms\n"
     ]
    }
   ],
   "source": [
    "%%time\n",
    "# 推論実施\n",
    "interpreter.invoke()\n",
    "tflite_results = interpreter.get_tensor(output_details[0]['index'])"
   ]
  },
  {
   "cell_type": "code",
   "execution_count": 22,
   "metadata": {},
   "outputs": [
    {
     "name": "stdout",
     "output_type": "stream",
     "text": [
      "[3.5262846e-18 4.9809373e-10 8.3476764e-14 1.0830529e-31 8.8991375e-24\n",
      " 1.0000000e+00]\n",
      "5\n"
     ]
    }
   ],
   "source": [
    "print(np.squeeze(tflite_results))\n",
    "print(np.argmax(np.squeeze(tflite_results)))"
   ]
  }
 ],
 "metadata": {
  "kernelspec": {
   "display_name": "Python 3",
   "language": "python",
   "name": "python3"
  },
  "language_info": {
   "codemirror_mode": {
    "name": "ipython",
    "version": 3
   },
   "file_extension": ".py",
   "mimetype": "text/x-python",
   "name": "python",
   "nbconvert_exporter": "python",
   "pygments_lexer": "ipython3",
   "version": "3.10.12"
  }
 },
 "nbformat": 4,
 "nbformat_minor": 4
}
