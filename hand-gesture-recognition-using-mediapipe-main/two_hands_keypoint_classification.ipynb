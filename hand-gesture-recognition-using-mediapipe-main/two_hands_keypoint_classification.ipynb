{
 "cells": [
  {
   "cell_type": "code",
   "execution_count": 67,
   "metadata": {},
   "outputs": [],
   "source": [
    "import csv\n",
    "\n",
    "import numpy as np\n",
    "import tensorflow as tf\n",
    "from sklearn.model_selection import train_test_split\n",
    "\n",
    "RANDOM_SEED = 42"
   ]
  },
  {
   "cell_type": "markdown",
   "metadata": {},
   "source": [
    "# 各パス指定"
   ]
  },
  {
   "cell_type": "code",
   "execution_count": 68,
   "metadata": {},
   "outputs": [],
   "source": [
    "dataset = 'model/two_hands_keypoint_classifier/two_hands_keypoint_video.csv'\n",
    "model_save_path = 'model/two_hands_keypoint_classifier/two_hands_keypoint_classifier.hdf5'"
   ]
  },
  {
   "cell_type": "markdown",
   "metadata": {},
   "source": [
    "# 分類数設定"
   ]
  },
  {
   "cell_type": "code",
   "execution_count": 69,
   "metadata": {},
   "outputs": [],
   "source": [
    "NUM_CLASSES = 6"
   ]
  },
  {
   "cell_type": "markdown",
   "metadata": {},
   "source": [
    "# 学習データ読み込み"
   ]
  },
  {
   "cell_type": "code",
   "execution_count": 70,
   "metadata": {},
   "outputs": [],
   "source": [
    "X_dataset = np.loadtxt(dataset, delimiter=',', dtype='float32', usecols=list(range(1, (21 * 2 * 2) + 1)))"
   ]
  },
  {
   "cell_type": "code",
   "execution_count": 71,
   "metadata": {},
   "outputs": [],
   "source": [
    "y_dataset = np.loadtxt(dataset, delimiter=',', dtype='int32', usecols=(0))"
   ]
  },
  {
   "cell_type": "code",
   "execution_count": 72,
   "metadata": {},
   "outputs": [],
   "source": [
    "X_train, X_test, y_train, y_test = train_test_split(X_dataset, y_dataset, train_size=0.75, random_state=RANDOM_SEED)"
   ]
  },
  {
   "cell_type": "markdown",
   "metadata": {},
   "source": [
    "# モデル構築"
   ]
  },
  {
   "cell_type": "code",
   "execution_count": 73,
   "metadata": {},
   "outputs": [],
   "source": [
    "model = tf.keras.models.Sequential([\n",
    "    tf.keras.layers.Input((21 * 2 * 2, )),\n",
    "    tf.keras.layers.Dense(80, activation='relu'),\n",
    "    tf.keras.layers.Dropout(0.2),\n",
    "    tf.keras.layers.Dense(40, activation='relu'),\n",
    "    tf.keras.layers.Dropout(0.2),\n",
    "    tf.keras.layers.Dense(20, activation='relu'),\n",
    "    tf.keras.layers.Dropout(0.4),\n",
    "    tf.keras.layers.Dense(10, activation='relu'),\n",
    "    tf.keras.layers.Dense(NUM_CLASSES, activation='softmax')\n",
    "])"
   ]
  },
  {
   "cell_type": "code",
   "execution_count": 74,
   "metadata": {},
   "outputs": [
    {
     "name": "stdout",
     "output_type": "stream",
     "text": [
      "Model: \"sequential_3\"\n",
      "_________________________________________________________________\n",
      " Layer (type)                Output Shape              Param #   \n",
      "=================================================================\n",
      " dense_15 (Dense)            (None, 80)                6800      \n",
      "                                                                 \n",
      " dropout_9 (Dropout)         (None, 80)                0         \n",
      "                                                                 \n",
      " dense_16 (Dense)            (None, 40)                3240      \n",
      "                                                                 \n",
      " dropout_10 (Dropout)        (None, 40)                0         \n",
      "                                                                 \n",
      " dense_17 (Dense)            (None, 20)                820       \n",
      "                                                                 \n",
      " dropout_11 (Dropout)        (None, 20)                0         \n",
      "                                                                 \n",
      " dense_18 (Dense)            (None, 10)                210       \n",
      "                                                                 \n",
      " dense_19 (Dense)            (None, 6)                 66        \n",
      "                                                                 \n",
      "=================================================================\n",
      "Total params: 11136 (43.50 KB)\n",
      "Trainable params: 11136 (43.50 KB)\n",
      "Non-trainable params: 0 (0.00 Byte)\n",
      "_________________________________________________________________\n"
     ]
    }
   ],
   "source": [
    "model.summary()  # tf.keras.utils.plot_model(model, show_shapes=True)"
   ]
  },
  {
   "cell_type": "code",
   "execution_count": 75,
   "metadata": {},
   "outputs": [],
   "source": [
    "# モデルチェックポイントのコールバック\n",
    "cp_callback = tf.keras.callbacks.ModelCheckpoint(\n",
    "    model_save_path, verbose=1, save_weights_only=False)\n",
    "# 早期打ち切り用コールバック\n",
    "es_callback = tf.keras.callbacks.EarlyStopping(patience=20, verbose=1)"
   ]
  },
  {
   "cell_type": "code",
   "execution_count": 76,
   "metadata": {},
   "outputs": [],
   "source": [
    "# モデルコンパイル\n",
    "model.compile(\n",
    "    optimizer='adam',\n",
    "    loss='sparse_categorical_crossentropy',\n",
    "    metrics=['accuracy']\n",
    ")"
   ]
  },
  {
   "cell_type": "markdown",
   "metadata": {},
   "source": [
    "# モデル訓練"
   ]
  },
  {
   "cell_type": "code",
   "execution_count": 77,
   "metadata": {
    "scrolled": true
   },
   "outputs": [
    {
     "name": "stdout",
     "output_type": "stream",
     "text": [
      "Epoch 1/1000\n"
     ]
    },
    {
     "name": "stdout",
     "output_type": "stream",
     "text": [
      "22/23 [===========================>..] - ETA: 0s - loss: 1.6389 - accuracy: 0.3036 \n",
      "Epoch 1: saving model to model/two_hands_keypoint_classifier/two_hands_keypoint_classifier.hdf5\n",
      "23/23 [==============================] - 2s 13ms/step - loss: 1.6357 - accuracy: 0.3046 - val_loss: 1.3503 - val_accuracy: 0.4033\n",
      "Epoch 2/1000\n",
      "21/23 [==========================>...] - ETA: 0s - loss: 1.3317 - accuracy: 0.4178\n",
      "Epoch 2: saving model to model/two_hands_keypoint_classifier/two_hands_keypoint_classifier.hdf5\n",
      "23/23 [==============================] - 0s 6ms/step - loss: 1.3194 - accuracy: 0.4262 - val_loss: 1.0013 - val_accuracy: 0.5613\n",
      "Epoch 3/1000\n",
      " 1/23 [>.............................] - ETA: 0s - loss: 1.2665 - accuracy: 0.3906"
     ]
    },
    {
     "name": "stderr",
     "output_type": "stream",
     "text": [
      "/tmp/myenv/lib/python3.10/site-packages/keras/src/engine/training.py:3103: UserWarning: You are saving your model as an HDF5 file via `model.save()`. This file format is considered legacy. We recommend using instead the native Keras format, e.g. `model.save('my_model.keras')`.\n",
      "  saving_api.save_model(\n"
     ]
    },
    {
     "name": "stdout",
     "output_type": "stream",
     "text": [
      "20/23 [=========================>....] - ETA: 0s - loss: 1.0525 - accuracy: 0.5367\n",
      "Epoch 3: saving model to model/two_hands_keypoint_classifier/two_hands_keypoint_classifier.hdf5\n",
      "23/23 [==============================] - 0s 7ms/step - loss: 1.0336 - accuracy: 0.5475 - val_loss: 0.5867 - val_accuracy: 0.8399\n",
      "Epoch 4/1000\n",
      "21/23 [==========================>...] - ETA: 0s - loss: 0.7117 - accuracy: 0.7117\n",
      "Epoch 4: saving model to model/two_hands_keypoint_classifier/two_hands_keypoint_classifier.hdf5\n",
      "23/23 [==============================] - 0s 6ms/step - loss: 0.7082 - accuracy: 0.7148 - val_loss: 0.2764 - val_accuracy: 0.9969\n",
      "Epoch 5/1000\n",
      "20/23 [=========================>....] - ETA: 0s - loss: 0.4787 - accuracy: 0.8520\n",
      "Epoch 5: saving model to model/two_hands_keypoint_classifier/two_hands_keypoint_classifier.hdf5\n",
      "23/23 [==============================] - 0s 6ms/step - loss: 0.4743 - accuracy: 0.8527 - val_loss: 0.1121 - val_accuracy: 0.9969\n",
      "Epoch 6/1000\n",
      "21/23 [==========================>...] - ETA: 0s - loss: 0.3644 - accuracy: 0.8761\n",
      "Epoch 6: saving model to model/two_hands_keypoint_classifier/two_hands_keypoint_classifier.hdf5\n",
      "23/23 [==============================] - 0s 6ms/step - loss: 0.3595 - accuracy: 0.8791 - val_loss: 0.0620 - val_accuracy: 0.9979\n",
      "Epoch 7/1000\n",
      "22/23 [===========================>..] - ETA: 0s - loss: 0.2770 - accuracy: 0.9055\n",
      "Epoch 7: saving model to model/two_hands_keypoint_classifier/two_hands_keypoint_classifier.hdf5\n",
      "23/23 [==============================] - 0s 6ms/step - loss: 0.2763 - accuracy: 0.9054 - val_loss: 0.0425 - val_accuracy: 0.9979\n",
      "Epoch 8/1000\n",
      "21/23 [==========================>...] - ETA: 0s - loss: 0.2225 - accuracy: 0.9222\n",
      "Epoch 8: saving model to model/two_hands_keypoint_classifier/two_hands_keypoint_classifier.hdf5\n",
      "23/23 [==============================] - 0s 6ms/step - loss: 0.2218 - accuracy: 0.9220 - val_loss: 0.0339 - val_accuracy: 0.9990\n",
      "Epoch 9/1000\n",
      "21/23 [==========================>...] - ETA: 0s - loss: 0.1806 - accuracy: 0.9375\n",
      "Epoch 9: saving model to model/two_hands_keypoint_classifier/two_hands_keypoint_classifier.hdf5\n",
      "23/23 [==============================] - 0s 6ms/step - loss: 0.1772 - accuracy: 0.9397 - val_loss: 0.0293 - val_accuracy: 0.9990\n",
      "Epoch 10/1000\n",
      "21/23 [==========================>...] - ETA: 0s - loss: 0.1741 - accuracy: 0.9327\n",
      "Epoch 10: saving model to model/two_hands_keypoint_classifier/two_hands_keypoint_classifier.hdf5\n",
      "23/23 [==============================] - 0s 6ms/step - loss: 0.1732 - accuracy: 0.9342 - val_loss: 0.0293 - val_accuracy: 0.9990\n",
      "Epoch 11/1000\n",
      "21/23 [==========================>...] - ETA: 0s - loss: 0.1620 - accuracy: 0.9405\n",
      "Epoch 11: saving model to model/two_hands_keypoint_classifier/two_hands_keypoint_classifier.hdf5\n",
      "23/23 [==============================] - 0s 6ms/step - loss: 0.1597 - accuracy: 0.9418 - val_loss: 0.0289 - val_accuracy: 0.9990\n",
      "Epoch 12/1000\n",
      "21/23 [==========================>...] - ETA: 0s - loss: 0.1198 - accuracy: 0.9539\n",
      "Epoch 12: saving model to model/two_hands_keypoint_classifier/two_hands_keypoint_classifier.hdf5\n",
      "23/23 [==============================] - 0s 6ms/step - loss: 0.1197 - accuracy: 0.9546 - val_loss: 0.0290 - val_accuracy: 0.9990\n",
      "Epoch 13/1000\n",
      "21/23 [==========================>...] - ETA: 0s - loss: 0.1230 - accuracy: 0.9539\n",
      "Epoch 13: saving model to model/two_hands_keypoint_classifier/two_hands_keypoint_classifier.hdf5\n",
      "23/23 [==============================] - 0s 6ms/step - loss: 0.1219 - accuracy: 0.9539 - val_loss: 0.0302 - val_accuracy: 0.9990\n",
      "Epoch 14/1000\n",
      "21/23 [==========================>...] - ETA: 0s - loss: 0.1041 - accuracy: 0.9576\n",
      "Epoch 14: saving model to model/two_hands_keypoint_classifier/two_hands_keypoint_classifier.hdf5\n",
      "23/23 [==============================] - 0s 6ms/step - loss: 0.1056 - accuracy: 0.9560 - val_loss: 0.0336 - val_accuracy: 0.9979\n",
      "Epoch 15/1000\n",
      "21/23 [==========================>...] - ETA: 0s - loss: 0.1032 - accuracy: 0.9565\n",
      "Epoch 15: saving model to model/two_hands_keypoint_classifier/two_hands_keypoint_classifier.hdf5\n",
      "23/23 [==============================] - 0s 6ms/step - loss: 0.1025 - accuracy: 0.9581 - val_loss: 0.0320 - val_accuracy: 0.9990\n",
      "Epoch 16/1000\n",
      "20/23 [=========================>....] - ETA: 0s - loss: 0.1015 - accuracy: 0.9594\n",
      "Epoch 16: saving model to model/two_hands_keypoint_classifier/two_hands_keypoint_classifier.hdf5\n",
      "23/23 [==============================] - 0s 6ms/step - loss: 0.0975 - accuracy: 0.9608 - val_loss: 0.0324 - val_accuracy: 0.9990\n",
      "Epoch 17/1000\n",
      "21/23 [==========================>...] - ETA: 0s - loss: 0.0717 - accuracy: 0.9732\n",
      "Epoch 17: saving model to model/two_hands_keypoint_classifier/two_hands_keypoint_classifier.hdf5\n",
      "23/23 [==============================] - 0s 6ms/step - loss: 0.0706 - accuracy: 0.9733 - val_loss: 0.0332 - val_accuracy: 0.9990\n",
      "Epoch 18/1000\n",
      "21/23 [==========================>...] - ETA: 0s - loss: 0.0773 - accuracy: 0.9710\n",
      "Epoch 18: saving model to model/two_hands_keypoint_classifier/two_hands_keypoint_classifier.hdf5\n",
      "23/23 [==============================] - 0s 6ms/step - loss: 0.0758 - accuracy: 0.9716 - val_loss: 0.0346 - val_accuracy: 0.9990\n",
      "Epoch 19/1000\n",
      "21/23 [==========================>...] - ETA: 0s - loss: 0.0808 - accuracy: 0.9650\n",
      "Epoch 19: saving model to model/two_hands_keypoint_classifier/two_hands_keypoint_classifier.hdf5\n",
      "23/23 [==============================] - 0s 6ms/step - loss: 0.0789 - accuracy: 0.9667 - val_loss: 0.0354 - val_accuracy: 0.9990\n",
      "Epoch 20/1000\n",
      "21/23 [==========================>...] - ETA: 0s - loss: 0.0643 - accuracy: 0.9758\n",
      "Epoch 20: saving model to model/two_hands_keypoint_classifier/two_hands_keypoint_classifier.hdf5\n",
      "23/23 [==============================] - 0s 6ms/step - loss: 0.0634 - accuracy: 0.9757 - val_loss: 0.0368 - val_accuracy: 0.9990\n",
      "Epoch 21/1000\n",
      "21/23 [==========================>...] - ETA: 0s - loss: 0.0665 - accuracy: 0.9740\n",
      "Epoch 21: saving model to model/two_hands_keypoint_classifier/two_hands_keypoint_classifier.hdf5\n",
      "23/23 [==============================] - 0s 6ms/step - loss: 0.0681 - accuracy: 0.9733 - val_loss: 0.0381 - val_accuracy: 0.9990\n",
      "Epoch 22/1000\n",
      "21/23 [==========================>...] - ETA: 0s - loss: 0.0632 - accuracy: 0.9799\n",
      "Epoch 22: saving model to model/two_hands_keypoint_classifier/two_hands_keypoint_classifier.hdf5\n",
      "23/23 [==============================] - 0s 6ms/step - loss: 0.0603 - accuracy: 0.9813 - val_loss: 0.0387 - val_accuracy: 0.9990\n",
      "Epoch 23/1000\n",
      "21/23 [==========================>...] - ETA: 0s - loss: 0.0649 - accuracy: 0.9758\n",
      "Epoch 23: saving model to model/two_hands_keypoint_classifier/two_hands_keypoint_classifier.hdf5\n",
      "23/23 [==============================] - 0s 6ms/step - loss: 0.0630 - accuracy: 0.9768 - val_loss: 0.0396 - val_accuracy: 0.9990\n",
      "Epoch 24/1000\n",
      "21/23 [==========================>...] - ETA: 0s - loss: 0.0481 - accuracy: 0.9855\n",
      "Epoch 24: saving model to model/two_hands_keypoint_classifier/two_hands_keypoint_classifier.hdf5\n",
      "23/23 [==============================] - 0s 6ms/step - loss: 0.0471 - accuracy: 0.9858 - val_loss: 0.0408 - val_accuracy: 0.9990\n",
      "Epoch 25/1000\n",
      "21/23 [==========================>...] - ETA: 0s - loss: 0.0468 - accuracy: 0.9833\n",
      "Epoch 25: saving model to model/two_hands_keypoint_classifier/two_hands_keypoint_classifier.hdf5\n",
      "23/23 [==============================] - 0s 6ms/step - loss: 0.0450 - accuracy: 0.9841 - val_loss: 0.0419 - val_accuracy: 0.9990\n",
      "Epoch 26/1000\n",
      "21/23 [==========================>...] - ETA: 0s - loss: 0.0540 - accuracy: 0.9795\n",
      "Epoch 26: saving model to model/two_hands_keypoint_classifier/two_hands_keypoint_classifier.hdf5\n",
      "23/23 [==============================] - 0s 6ms/step - loss: 0.0546 - accuracy: 0.9785 - val_loss: 0.0434 - val_accuracy: 0.9990\n",
      "Epoch 27/1000\n",
      "21/23 [==========================>...] - ETA: 0s - loss: 0.0461 - accuracy: 0.9807\n",
      "Epoch 27: saving model to model/two_hands_keypoint_classifier/two_hands_keypoint_classifier.hdf5\n",
      "23/23 [==============================] - 0s 6ms/step - loss: 0.0444 - accuracy: 0.9816 - val_loss: 0.0431 - val_accuracy: 0.9990\n",
      "Epoch 28/1000\n",
      "19/23 [=======================>......] - ETA: 0s - loss: 0.0475 - accuracy: 0.9844\n",
      "Epoch 28: saving model to model/two_hands_keypoint_classifier/two_hands_keypoint_classifier.hdf5\n",
      "23/23 [==============================] - 0s 9ms/step - loss: 0.0477 - accuracy: 0.9837 - val_loss: 0.0438 - val_accuracy: 0.9990\n",
      "Epoch 29/1000\n",
      "21/23 [==========================>...] - ETA: 0s - loss: 0.0465 - accuracy: 0.9829\n",
      "Epoch 29: saving model to model/two_hands_keypoint_classifier/two_hands_keypoint_classifier.hdf5\n",
      "23/23 [==============================] - 0s 6ms/step - loss: 0.0452 - accuracy: 0.9834 - val_loss: 0.0434 - val_accuracy: 0.9990\n",
      "Epoch 30/1000\n",
      "21/23 [==========================>...] - ETA: 0s - loss: 0.0487 - accuracy: 0.9825\n",
      "Epoch 30: saving model to model/two_hands_keypoint_classifier/two_hands_keypoint_classifier.hdf5\n",
      "23/23 [==============================] - 0s 6ms/step - loss: 0.0466 - accuracy: 0.9834 - val_loss: 0.0453 - val_accuracy: 0.9990\n",
      "Epoch 31/1000\n",
      "21/23 [==========================>...] - ETA: 0s - loss: 0.0416 - accuracy: 0.9862\n",
      "Epoch 31: saving model to model/two_hands_keypoint_classifier/two_hands_keypoint_classifier.hdf5\n",
      "23/23 [==============================] - 0s 6ms/step - loss: 0.0409 - accuracy: 0.9865 - val_loss: 0.0464 - val_accuracy: 0.9990\n",
      "Epoch 31: early stopping\n"
     ]
    },
    {
     "data": {
      "text/plain": [
       "<keras.src.callbacks.History at 0x7f700e5c7d30>"
      ]
     },
     "execution_count": 77,
     "metadata": {},
     "output_type": "execute_result"
    }
   ],
   "source": [
    "model.fit(\n",
    "    X_train,\n",
    "    y_train,\n",
    "    epochs=1000,\n",
    "    batch_size=128,\n",
    "    validation_data=(X_test, y_test),\n",
    "    callbacks=[cp_callback, es_callback]\n",
    ")"
   ]
  },
  {
   "cell_type": "code",
   "execution_count": 78,
   "metadata": {},
   "outputs": [
    {
     "name": "stdout",
     "output_type": "stream",
     "text": [
      "8/8 [==============================] - 0s 2ms/step - loss: 0.0464 - accuracy: 0.9990\n"
     ]
    }
   ],
   "source": [
    "# モデル評価\n",
    "val_loss, val_acc = model.evaluate(X_test, y_test, batch_size=128)"
   ]
  },
  {
   "cell_type": "code",
   "execution_count": 79,
   "metadata": {},
   "outputs": [],
   "source": [
    "# 保存したモデルのロード\n",
    "model = tf.keras.models.load_model(model_save_path)"
   ]
  },
  {
   "cell_type": "code",
   "execution_count": 80,
   "metadata": {},
   "outputs": [
    {
     "name": "stdout",
     "output_type": "stream",
     "text": [
      "1/1 [==============================] - 0s 80ms/step\n",
      "[1.5818116e-05 9.9998188e-01 1.1184720e-09 2.2214547e-06 1.6658952e-13\n",
      " 1.2424806e-09]\n",
      "1\n"
     ]
    }
   ],
   "source": [
    "# 推論テスト\n",
    "predict_result = model.predict(np.array([X_test[0]]))\n",
    "print(np.squeeze(predict_result))\n",
    "print(np.argmax(np.squeeze(predict_result)))"
   ]
  },
  {
   "cell_type": "markdown",
   "metadata": {},
   "source": [
    "# 混同行列"
   ]
  },
  {
   "cell_type": "code",
   "execution_count": 81,
   "metadata": {},
   "outputs": [
    {
     "name": "stdout",
     "output_type": "stream",
     "text": [
      " 1/31 [..............................] - ETA: 0s"
     ]
    },
    {
     "name": "stdout",
     "output_type": "stream",
     "text": [
      "31/31 [==============================] - 0s 4ms/step\n"
     ]
    },
    {
     "data": {
      "image/png": "[encoded data removed]",
      "text/plain": [
       "<Figure size 700x600 with 2 Axes>"
      ]
     },
     "metadata": {},
     "output_type": "display_data"
    },
    {
     "name": "stdout",
     "output_type": "stream",
     "text": [
      "Classification Report\n",
      "              precision    recall  f1-score   support\n",
      "\n",
      "           0       1.00      1.00      1.00       237\n",
      "           1       1.00      1.00      1.00       140\n",
      "           2       1.00      1.00      1.00       155\n",
      "           3       1.00      1.00      1.00       153\n",
      "           4       1.00      1.00      1.00       125\n",
      "           5       0.99      1.00      1.00       152\n",
      "\n",
      "    accuracy                           1.00       962\n",
      "   macro avg       1.00      1.00      1.00       962\n",
      "weighted avg       1.00      1.00      1.00       962\n",
      "\n"
     ]
    }
   ],
   "source": [
    "import pandas as pd\n",
    "import seaborn as sns\n",
    "import matplotlib.pyplot as plt\n",
    "from sklearn.metrics import confusion_matrix, classification_report\n",
    "\n",
    "def print_confusion_matrix(y_true, y_pred, report=True):\n",
    "    labels = sorted(list(set(y_true)))\n",
    "    cmx_data = confusion_matrix(y_true, y_pred, labels=labels)\n",
    "    \n",
    "    df_cmx = pd.DataFrame(cmx_data, index=labels, columns=labels)\n",
    " \n",
    "    fig, ax = plt.subplots(figsize=(7, 6))\n",
    "    sns.heatmap(df_cmx, annot=True, fmt='g' ,square=False)\n",
    "    ax.set_ylim(len(set(y_true)), 0)\n",
    "    plt.show()\n",
    "    \n",
    "    if report:\n",
    "        print('Classification Report')\n",
    "        print(classification_report(y_test, y_pred))\n",
    "\n",
    "Y_pred = model.predict(X_test)\n",
    "y_pred = np.argmax(Y_pred, axis=1)\n",
    "\n",
    "print_confusion_matrix(y_test, y_pred)"
   ]
  },
  {
   "cell_type": "markdown",
   "metadata": {},
   "source": [
    "# Tensorflow-Lite用のモデルへ変換"
   ]
  },
  {
   "cell_type": "code",
   "execution_count": 82,
   "metadata": {},
   "outputs": [
    {
     "name": "stderr",
     "output_type": "stream",
     "text": [
      "/tmp/myenv/lib/python3.10/site-packages/keras/src/engine/training.py:3103: UserWarning: You are saving your model as an HDF5 file via `model.save()`. This file format is considered legacy. We recommend using instead the native Keras format, e.g. `model.save('my_model.keras')`.\n",
      "  saving_api.save_model(\n"
     ]
    }
   ],
   "source": [
    "# 推論専用のモデルとして保存\n",
    "model.save(model_save_path, include_optimizer=False)"
   ]
  },
  {
   "cell_type": "code",
   "execution_count": 83,
   "metadata": {},
   "outputs": [
    {
     "name": "stdout",
     "output_type": "stream",
     "text": [
      "INFO:tensorflow:Assets written to: /tmp/tmp9jbx7do7/assets\n"
     ]
    },
    {
     "name": "stderr",
     "output_type": "stream",
     "text": [
      "INFO:tensorflow:Assets written to: /tmp/tmp9jbx7do7/assets\n",
      "2024-01-11 10:32:04.840394: W tensorflow/compiler/mlir/lite/python/tf_tfl_flatbuffer_helpers.cc:378] Ignored output_format.\n",
      "2024-01-11 10:32:04.840434: W tensorflow/compiler/mlir/lite/python/tf_tfl_flatbuffer_helpers.cc:381] Ignored drop_control_dependency.\n",
      "2024-01-11 10:32:04.840618: I tensorflow/cc/saved_model/reader.cc:83] Reading SavedModel from: /tmp/tmp9jbx7do7\n",
      "2024-01-11 10:32:04.841958: I tensorflow/cc/saved_model/reader.cc:51] Reading meta graph with tags { serve }\n",
      "2024-01-11 10:32:04.841969: I tensorflow/cc/saved_model/reader.cc:146] Reading SavedModel debug info (if present) from: /tmp/tmp9jbx7do7\n",
      "2024-01-11 10:32:04.845473: I tensorflow/cc/saved_model/loader.cc:233] Restoring SavedModel bundle.\n",
      "2024-01-11 10:32:04.906396: I tensorflow/cc/saved_model/loader.cc:217] Running initialization op on SavedModel bundle at path: /tmp/tmp9jbx7do7\n",
      "2024-01-11 10:32:04.923604: I tensorflow/cc/saved_model/loader.cc:316] SavedModel load for tags { serve }; Status: success: OK. Took 82986 microseconds.\n",
      "Summary on the non-converted ops:\n",
      "---------------------------------\n",
      " * Accepted dialects: tfl, builtin, func\n",
      " * Non-Converted Ops: 8, Total Ops 19, % non-converted = 42.11 %\n",
      " * 8 ARITH ops\n",
      "\n",
      "- arith.constant:    8 occurrences  (f32: 8)\n",
      "\n",
      "\n",
      "\n",
      "  (f32: 5)\n",
      "  (uq_8: 2)\n",
      "  (f32: 1)\n"
     ]
    },
    {
     "data": {
      "text/plain": [
       "17904"
      ]
     },
     "execution_count": 83,
     "metadata": {},
     "output_type": "execute_result"
    }
   ],
   "source": [
    "# モデルを変換(量子化)\n",
    "tflite_save_path = 'model/two_hands_keypoint_classifier/two_hands_keypoint_classifier_video.tflite'\n",
    "\n",
    "converter = tf.lite.TFLiteConverter.from_keras_model(model)\n",
    "converter.optimizations = [tf.lite.Optimize.DEFAULT]\n",
    "tflite_quantized_model = converter.convert()\n",
    "\n",
    "open(tflite_save_path, 'wb').write(tflite_quantized_model)"
   ]
  },
  {
   "cell_type": "markdown",
   "metadata": {},
   "source": [
    "# 推論テスト"
   ]
  },
  {
   "cell_type": "code",
   "execution_count": 84,
   "metadata": {},
   "outputs": [],
   "source": [
    "interpreter = tf.lite.Interpreter(model_path=tflite_save_path)\n",
    "interpreter.allocate_tensors()"
   ]
  },
  {
   "cell_type": "code",
   "execution_count": 85,
   "metadata": {},
   "outputs": [],
   "source": [
    "# 入出力テンソルを取得\n",
    "input_details = interpreter.get_input_details()\n",
    "output_details = interpreter.get_output_details()"
   ]
  },
  {
   "cell_type": "code",
   "execution_count": 86,
   "metadata": {},
   "outputs": [],
   "source": [
    "interpreter.set_tensor(input_details[0]['index'], np.array([X_test[0]]))"
   ]
  },
  {
   "cell_type": "code",
   "execution_count": 87,
   "metadata": {
    "scrolled": true
   },
   "outputs": [
    {
     "name": "stdout",
     "output_type": "stream",
     "text": [
      "CPU times: user 979 µs, sys: 0 ns, total: 979 µs\n",
      "Wall time: 855 µs\n"
     ]
    }
   ],
   "source": [
    "%%time\n",
    "# 推論実施\n",
    "interpreter.invoke()\n",
    "tflite_results = interpreter.get_tensor(output_details[0]['index'])"
   ]
  },
  {
   "cell_type": "code",
   "execution_count": 88,
   "metadata": {},
   "outputs": [
    {
     "name": "stdout",
     "output_type": "stream",
     "text": [
      "[1.5842483e-05 9.9998188e-01 1.0931567e-09 2.2918312e-06 1.6907745e-13\n",
      " 1.2722703e-09]\n",
      "1\n"
     ]
    }
   ],
   "source": [
    "print(np.squeeze(tflite_results))\n",
    "print(np.argmax(np.squeeze(tflite_results)))"
   ]
  }
 ],
 "metadata": {
  "kernelspec": {
   "display_name": "Python 3",
   "language": "python",
   "name": "python3"
  },
  "language_info": {
   "codemirror_mode": {
    "name": "ipython",
    "version": 3
   },
   "file_extension": ".py",
   "mimetype": "text/x-python",
   "name": "python",
   "nbconvert_exporter": "python",
   "pygments_lexer": "ipython3",
   "version": "3.10.12"
  }
 },
 "nbformat": 4,
 "nbformat_minor": 4
}
