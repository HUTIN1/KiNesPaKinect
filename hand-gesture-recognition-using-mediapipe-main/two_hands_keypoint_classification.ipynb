{
 "cells": [
  {
   "cell_type": "code",
   "execution_count": 1,
   "metadata": {},
   "outputs": [
    {
     "name": "stderr",
     "output_type": "stream",
     "text": [
      "2024-01-10 12:02:21.645487: E external/local_xla/xla/stream_executor/cuda/cuda_dnn.cc:9261] Unable to register cuDNN factory: Attempting to register factory for plugin cuDNN when one has already been registered\n",
      "2024-01-10 12:02:21.645521: E external/local_xla/xla/stream_executor/cuda/cuda_fft.cc:607] Unable to register cuFFT factory: Attempting to register factory for plugin cuFFT when one has already been registered\n",
      "2024-01-10 12:02:21.646782: E external/local_xla/xla/stream_executor/cuda/cuda_blas.cc:1515] Unable to register cuBLAS factory: Attempting to register factory for plugin cuBLAS when one has already been registered\n",
      "2024-01-10 12:02:21.653073: I tensorflow/core/platform/cpu_feature_guard.cc:182] This TensorFlow binary is optimized to use available CPU instructions in performance-critical operations.\n",
      "To enable the following instructions: AVX2 FMA, in other operations, rebuild TensorFlow with the appropriate compiler flags.\n",
      "2024-01-10 12:02:22.701559: W tensorflow/compiler/tf2tensorrt/utils/py_utils.cc:38] TF-TRT Warning: Could not find TensorRT\n"
     ]
    }
   ],
   "source": [
    "import csv\n",
    "\n",
    "import numpy as np\n",
    "import tensorflow as tf\n",
    "from sklearn.model_selection import train_test_split\n",
    "\n",
    "RANDOM_SEED = 42"
   ]
  },
  {
   "cell_type": "markdown",
   "metadata": {},
   "source": [
    "# 各パス指定"
   ]
  },
  {
   "cell_type": "code",
   "execution_count": 2,
   "metadata": {},
   "outputs": [],
   "source": [
    "dataset = 'model/two_hands_keypoint_classifier/two_hands_keypoint.csv'\n",
    "model_save_path = 'model/two_hands_keypoint_classifier/two_hands_keypoint_classifier.hdf5'"
   ]
  },
  {
   "cell_type": "markdown",
   "metadata": {},
   "source": [
    "# 分類数設定"
   ]
  },
  {
   "cell_type": "code",
   "execution_count": 3,
   "metadata": {},
   "outputs": [],
   "source": [
    "NUM_CLASSES = 5"
   ]
  },
  {
   "cell_type": "markdown",
   "metadata": {},
   "source": [
    "# 学習データ読み込み"
   ]
  },
  {
   "cell_type": "code",
   "execution_count": 4,
   "metadata": {},
   "outputs": [],
   "source": [
    "X_dataset = np.loadtxt(dataset, delimiter=',', dtype='float32', usecols=list(range(1, (21 * 2 * 2) + 1)))"
   ]
  },
  {
   "cell_type": "code",
   "execution_count": 5,
   "metadata": {},
   "outputs": [],
   "source": [
    "y_dataset = np.loadtxt(dataset, delimiter=',', dtype='int32', usecols=(0))"
   ]
  },
  {
   "cell_type": "code",
   "execution_count": 6,
   "metadata": {},
   "outputs": [],
   "source": [
    "X_train, X_test, y_train, y_test = train_test_split(X_dataset, y_dataset, train_size=0.75, random_state=RANDOM_SEED)"
   ]
  },
  {
   "cell_type": "markdown",
   "metadata": {},
   "source": [
    "# モデル構築"
   ]
  },
  {
   "cell_type": "code",
   "execution_count": 7,
   "metadata": {},
   "outputs": [],
   "source": [
    "model = tf.keras.models.Sequential([\n",
    "    tf.keras.layers.Input((21 * 2 * 2, )),\n",
    "    tf.keras.layers.Dense(80, activation='relu'),\n",
    "    tf.keras.layers.Dropout(0.2),\n",
    "    tf.keras.layers.Dense(40, activation='relu'),\n",
    "    tf.keras.layers.Dropout(0.2),\n",
    "    tf.keras.layers.Dense(20, activation='relu'),\n",
    "    tf.keras.layers.Dropout(0.4),\n",
    "    tf.keras.layers.Dense(10, activation='relu'),\n",
    "    tf.keras.layers.Dense(NUM_CLASSES, activation='softmax')\n",
    "])"
   ]
  },
  {
   "cell_type": "code",
   "execution_count": 8,
   "metadata": {},
   "outputs": [
    {
     "name": "stdout",
     "output_type": "stream",
     "text": [
      "Model: \"sequential\"\n",
      "_________________________________________________________________\n",
      " Layer (type)                Output Shape              Param #   \n",
      "=================================================================\n",
      " dense (Dense)               (None, 80)                6800      \n",
      "                                                                 \n",
      " dropout (Dropout)           (None, 80)                0         \n",
      "                                                                 \n",
      " dense_1 (Dense)             (None, 40)                3240      \n",
      "                                                                 \n",
      " dropout_1 (Dropout)         (None, 40)                0         \n",
      "                                                                 \n",
      " dense_2 (Dense)             (None, 20)                820       \n",
      "                                                                 \n",
      " dropout_2 (Dropout)         (None, 20)                0         \n",
      "                                                                 \n",
      " dense_3 (Dense)             (None, 10)                210       \n",
      "                                                                 \n",
      " dense_4 (Dense)             (None, 5)                 55        \n",
      "                                                                 \n",
      "=================================================================\n",
      "Total params: 11125 (43.46 KB)\n",
      "Trainable params: 11125 (43.46 KB)\n",
      "Non-trainable params: 0 (0.00 Byte)\n",
      "_________________________________________________________________\n"
     ]
    }
   ],
   "source": [
    "model.summary()  # tf.keras.utils.plot_model(model, show_shapes=True)"
   ]
  },
  {
   "cell_type": "code",
   "execution_count": 9,
   "metadata": {},
   "outputs": [],
   "source": [
    "# モデルチェックポイントのコールバック\n",
    "cp_callback = tf.keras.callbacks.ModelCheckpoint(\n",
    "    model_save_path, verbose=1, save_weights_only=False)\n",
    "# 早期打ち切り用コールバック\n",
    "es_callback = tf.keras.callbacks.EarlyStopping(patience=20, verbose=1)"
   ]
  },
  {
   "cell_type": "code",
   "execution_count": 10,
   "metadata": {},
   "outputs": [],
   "source": [
    "# モデルコンパイル\n",
    "model.compile(\n",
    "    optimizer='adam',\n",
    "    loss='sparse_categorical_crossentropy',\n",
    "    metrics=['accuracy']\n",
    ")"
   ]
  },
  {
   "cell_type": "markdown",
   "metadata": {},
   "source": [
    "# モデル訓練"
   ]
  },
  {
   "cell_type": "code",
   "execution_count": 11,
   "metadata": {
    "scrolled": true
   },
   "outputs": [
    {
     "name": "stdout",
     "output_type": "stream",
     "text": [
      "Epoch 1/1000\n"
     ]
    },
    {
     "name": "stdout",
     "output_type": "stream",
     "text": [
      "18/24 [=====================>........] - ETA: 0s - loss: 1.4639 - accuracy: 0.3346 \n",
      "Epoch 1: saving model to model/two_hands_keypoint_classifier/two_hands_keypoint_classifier.hdf5\n",
      "24/24 [==============================] - 2s 22ms/step - loss: 1.4255 - accuracy: 0.3470 - val_loss: 1.2207 - val_accuracy: 0.4550\n",
      "Epoch 2/1000\n",
      "15/24 [=================>............] - ETA: 0s - loss: 1.1629 - accuracy: 0.4771\n",
      "Epoch 2: saving model to model/two_hands_keypoint_classifier/two_hands_keypoint_classifier.hdf5\n"
     ]
    },
    {
     "name": "stderr",
     "output_type": "stream",
     "text": [
      "/tmp/myenv/lib/python3.10/site-packages/keras/src/engine/training.py:3103: UserWarning: You are saving your model as an HDF5 file via `model.save()`. This file format is considered legacy. We recommend using instead the native Keras format, e.g. `model.save('my_model.keras')`.\n",
      "  saving_api.save_model(\n"
     ]
    },
    {
     "name": "stdout",
     "output_type": "stream",
     "text": [
      "24/24 [==============================] - 0s 9ms/step - loss: 1.1089 - accuracy: 0.5053 - val_loss: 0.8180 - val_accuracy: 0.6970\n",
      "Epoch 3/1000\n",
      "13/24 [===============>..............] - ETA: 0s - loss: 0.8426 - accuracy: 0.6466\n",
      "Epoch 3: saving model to model/two_hands_keypoint_classifier/two_hands_keypoint_classifier.hdf5\n",
      "24/24 [==============================] - 0s 8ms/step - loss: 0.7966 - accuracy: 0.6673 - val_loss: 0.5278 - val_accuracy: 0.8260\n",
      "Epoch 4/1000\n",
      "14/24 [================>.............] - ETA: 0s - loss: 0.6238 - accuracy: 0.7427\n",
      "Epoch 4: saving model to model/two_hands_keypoint_classifier/two_hands_keypoint_classifier.hdf5\n",
      "24/24 [==============================] - 0s 10ms/step - loss: 0.5950 - accuracy: 0.7530 - val_loss: 0.3623 - val_accuracy: 0.8650\n",
      "Epoch 5/1000\n",
      "15/24 [=================>............] - ETA: 0s - loss: 0.4733 - accuracy: 0.8016\n",
      "Epoch 5: saving model to model/two_hands_keypoint_classifier/two_hands_keypoint_classifier.hdf5\n",
      "24/24 [==============================] - 0s 11ms/step - loss: 0.4708 - accuracy: 0.7990 - val_loss: 0.2834 - val_accuracy: 0.8570\n",
      "Epoch 6/1000\n",
      "13/24 [===============>..............] - ETA: 0s - loss: 0.3851 - accuracy: 0.8347\n",
      "Epoch 6: saving model to model/two_hands_keypoint_classifier/two_hands_keypoint_classifier.hdf5\n",
      "24/24 [==============================] - 0s 8ms/step - loss: 0.3841 - accuracy: 0.8297 - val_loss: 0.2366 - val_accuracy: 0.8580\n",
      "Epoch 7/1000\n",
      "16/24 [===================>..........] - ETA: 0s - loss: 0.3398 - accuracy: 0.8433\n",
      "Epoch 7: saving model to model/two_hands_keypoint_classifier/two_hands_keypoint_classifier.hdf5\n",
      "24/24 [==============================] - 0s 8ms/step - loss: 0.3390 - accuracy: 0.8397 - val_loss: 0.2080 - val_accuracy: 0.8690\n",
      "Epoch 8/1000\n",
      "14/24 [================>.............] - ETA: 0s - loss: 0.3184 - accuracy: 0.8532\n",
      "Epoch 8: saving model to model/two_hands_keypoint_classifier/two_hands_keypoint_classifier.hdf5\n",
      "24/24 [==============================] - 0s 9ms/step - loss: 0.3027 - accuracy: 0.8623 - val_loss: 0.1823 - val_accuracy: 0.8700\n",
      "Epoch 9/1000\n",
      "13/24 [===============>..............] - ETA: 0s - loss: 0.3051 - accuracy: 0.8576\n",
      "Epoch 9: saving model to model/two_hands_keypoint_classifier/two_hands_keypoint_classifier.hdf5\n",
      "24/24 [==============================] - 0s 9ms/step - loss: 0.2785 - accuracy: 0.8723 - val_loss: 0.1610 - val_accuracy: 0.9430\n",
      "Epoch 10/1000\n",
      "14/24 [================>.............] - ETA: 0s - loss: 0.2412 - accuracy: 0.9057\n",
      "Epoch 10: saving model to model/two_hands_keypoint_classifier/two_hands_keypoint_classifier.hdf5\n",
      "24/24 [==============================] - 0s 8ms/step - loss: 0.2369 - accuracy: 0.9130 - val_loss: 0.1397 - val_accuracy: 0.9920\n",
      "Epoch 11/1000\n",
      "14/24 [================>.............] - ETA: 0s - loss: 0.2236 - accuracy: 0.9498\n",
      "Epoch 11: saving model to model/two_hands_keypoint_classifier/two_hands_keypoint_classifier.hdf5\n",
      "24/24 [==============================] - 0s 9ms/step - loss: 0.2135 - accuracy: 0.9540 - val_loss: 0.1181 - val_accuracy: 0.9960\n",
      "Epoch 12/1000\n",
      "13/24 [===============>..............] - ETA: 0s - loss: 0.2117 - accuracy: 0.9513\n",
      "Epoch 12: saving model to model/two_hands_keypoint_classifier/two_hands_keypoint_classifier.hdf5\n",
      "24/24 [==============================] - 0s 8ms/step - loss: 0.1975 - accuracy: 0.9553 - val_loss: 0.0933 - val_accuracy: 0.9940\n",
      "Epoch 13/1000\n",
      "15/24 [=================>............] - ETA: 0s - loss: 0.1585 - accuracy: 0.9573\n",
      "Epoch 13: saving model to model/two_hands_keypoint_classifier/two_hands_keypoint_classifier.hdf5\n",
      "24/24 [==============================] - 0s 7ms/step - loss: 0.1588 - accuracy: 0.9560 - val_loss: 0.0678 - val_accuracy: 0.9930\n",
      "Epoch 14/1000\n",
      "15/24 [=================>............] - ETA: 0s - loss: 0.1398 - accuracy: 0.9609\n",
      "Epoch 14: saving model to model/two_hands_keypoint_classifier/two_hands_keypoint_classifier.hdf5\n",
      "24/24 [==============================] - 0s 7ms/step - loss: 0.1382 - accuracy: 0.9607 - val_loss: 0.0555 - val_accuracy: 0.9920\n",
      "Epoch 15/1000\n",
      "15/24 [=================>............] - ETA: 0s - loss: 0.1149 - accuracy: 0.9656\n",
      "Epoch 15: saving model to model/two_hands_keypoint_classifier/two_hands_keypoint_classifier.hdf5\n",
      "24/24 [==============================] - 0s 8ms/step - loss: 0.1175 - accuracy: 0.9633 - val_loss: 0.0341 - val_accuracy: 0.9950\n",
      "Epoch 16/1000\n",
      "24/24 [==============================] - ETA: 0s - loss: 0.1121 - accuracy: 0.9630\n",
      "Epoch 16: saving model to model/two_hands_keypoint_classifier/two_hands_keypoint_classifier.hdf5\n",
      "24/24 [==============================] - 0s 9ms/step - loss: 0.1121 - accuracy: 0.9630 - val_loss: 0.0334 - val_accuracy: 0.9940\n",
      "Epoch 17/1000\n",
      "13/24 [===============>..............] - ETA: 0s - loss: 0.1049 - accuracy: 0.9706\n",
      "Epoch 17: saving model to model/two_hands_keypoint_classifier/two_hands_keypoint_classifier.hdf5\n",
      "24/24 [==============================] - 0s 8ms/step - loss: 0.0921 - accuracy: 0.9713 - val_loss: 0.0299 - val_accuracy: 0.9940\n",
      "Epoch 18/1000\n",
      "19/24 [======================>.......] - ETA: 0s - loss: 0.0865 - accuracy: 0.9745\n",
      "Epoch 18: saving model to model/two_hands_keypoint_classifier/two_hands_keypoint_classifier.hdf5\n",
      "24/24 [==============================] - 0s 10ms/step - loss: 0.0861 - accuracy: 0.9737 - val_loss: 0.0292 - val_accuracy: 0.9940\n",
      "Epoch 19/1000\n",
      "13/24 [===============>..............] - ETA: 0s - loss: 0.0923 - accuracy: 0.9694\n",
      "Epoch 19: saving model to model/two_hands_keypoint_classifier/two_hands_keypoint_classifier.hdf5\n",
      "24/24 [==============================] - 0s 8ms/step - loss: 0.0870 - accuracy: 0.9733 - val_loss: 0.0214 - val_accuracy: 0.9960\n",
      "Epoch 20/1000\n",
      "13/24 [===============>..............] - ETA: 0s - loss: 0.0739 - accuracy: 0.9736\n",
      "Epoch 20: saving model to model/two_hands_keypoint_classifier/two_hands_keypoint_classifier.hdf5\n",
      "24/24 [==============================] - 0s 7ms/step - loss: 0.0792 - accuracy: 0.9730 - val_loss: 0.0205 - val_accuracy: 0.9960\n",
      "Epoch 21/1000\n",
      "13/24 [===============>..............] - ETA: 0s - loss: 0.0833 - accuracy: 0.9736\n",
      "Epoch 21: saving model to model/two_hands_keypoint_classifier/two_hands_keypoint_classifier.hdf5\n",
      "24/24 [==============================] - 0s 8ms/step - loss: 0.0852 - accuracy: 0.9730 - val_loss: 0.0263 - val_accuracy: 0.9940\n",
      "Epoch 22/1000\n",
      "14/24 [================>.............] - ETA: 0s - loss: 0.0738 - accuracy: 0.9799\n",
      "Epoch 22: saving model to model/two_hands_keypoint_classifier/two_hands_keypoint_classifier.hdf5\n",
      "24/24 [==============================] - 0s 8ms/step - loss: 0.0732 - accuracy: 0.9790 - val_loss: 0.0222 - val_accuracy: 0.9950\n",
      "Epoch 23/1000\n",
      "12/24 [==============>...............] - ETA: 0s - loss: 0.0623 - accuracy: 0.9831\n",
      "Epoch 23: saving model to model/two_hands_keypoint_classifier/two_hands_keypoint_classifier.hdf5\n",
      "24/24 [==============================] - 0s 8ms/step - loss: 0.0646 - accuracy: 0.9817 - val_loss: 0.0201 - val_accuracy: 0.9950\n",
      "Epoch 24/1000\n",
      "13/24 [===============>..............] - ETA: 0s - loss: 0.0570 - accuracy: 0.9814\n",
      "Epoch 24: saving model to model/two_hands_keypoint_classifier/two_hands_keypoint_classifier.hdf5\n",
      "24/24 [==============================] - 0s 8ms/step - loss: 0.0615 - accuracy: 0.9803 - val_loss: 0.0215 - val_accuracy: 0.9960\n",
      "Epoch 25/1000\n",
      "12/24 [==============>...............] - ETA: 0s - loss: 0.0511 - accuracy: 0.9876\n",
      "Epoch 25: saving model to model/two_hands_keypoint_classifier/two_hands_keypoint_classifier.hdf5\n",
      "24/24 [==============================] - 0s 8ms/step - loss: 0.0562 - accuracy: 0.9847 - val_loss: 0.0195 - val_accuracy: 0.9950\n",
      "Epoch 26/1000\n",
      "13/24 [===============>..............] - ETA: 0s - loss: 0.0602 - accuracy: 0.9826\n",
      "Epoch 26: saving model to model/two_hands_keypoint_classifier/two_hands_keypoint_classifier.hdf5\n",
      "24/24 [==============================] - 0s 9ms/step - loss: 0.0582 - accuracy: 0.9820 - val_loss: 0.0159 - val_accuracy: 0.9960\n",
      "Epoch 27/1000\n",
      "13/24 [===============>..............] - ETA: 0s - loss: 0.0563 - accuracy: 0.9802\n",
      "Epoch 27: saving model to model/two_hands_keypoint_classifier/two_hands_keypoint_classifier.hdf5\n",
      "24/24 [==============================] - 0s 8ms/step - loss: 0.0549 - accuracy: 0.9830 - val_loss: 0.0153 - val_accuracy: 0.9970\n",
      "Epoch 28/1000\n",
      "14/24 [================>.............] - ETA: 0s - loss: 0.0611 - accuracy: 0.9844\n",
      "Epoch 28: saving model to model/two_hands_keypoint_classifier/two_hands_keypoint_classifier.hdf5\n",
      "24/24 [==============================] - 0s 8ms/step - loss: 0.0581 - accuracy: 0.9833 - val_loss: 0.0161 - val_accuracy: 0.9970\n",
      "Epoch 29/1000\n",
      "13/24 [===============>..............] - ETA: 0s - loss: 0.0515 - accuracy: 0.9838\n",
      "Epoch 29: saving model to model/two_hands_keypoint_classifier/two_hands_keypoint_classifier.hdf5\n",
      "24/24 [==============================] - 0s 8ms/step - loss: 0.0528 - accuracy: 0.9833 - val_loss: 0.0151 - val_accuracy: 0.9970\n",
      "Epoch 30/1000\n",
      "13/24 [===============>..............] - ETA: 0s - loss: 0.0508 - accuracy: 0.9886\n",
      "Epoch 30: saving model to model/two_hands_keypoint_classifier/two_hands_keypoint_classifier.hdf5\n",
      "24/24 [==============================] - 0s 8ms/step - loss: 0.0498 - accuracy: 0.9880 - val_loss: 0.0185 - val_accuracy: 0.9960\n",
      "Epoch 31/1000\n",
      "21/24 [=========================>....] - ETA: 0s - loss: 0.0510 - accuracy: 0.9851\n",
      "Epoch 31: saving model to model/two_hands_keypoint_classifier/two_hands_keypoint_classifier.hdf5\n",
      "24/24 [==============================] - 0s 10ms/step - loss: 0.0506 - accuracy: 0.9853 - val_loss: 0.0194 - val_accuracy: 0.9960\n",
      "Epoch 32/1000\n",
      "15/24 [=================>............] - ETA: 0s - loss: 0.0461 - accuracy: 0.9911\n",
      "Epoch 32: saving model to model/two_hands_keypoint_classifier/two_hands_keypoint_classifier.hdf5\n",
      "24/24 [==============================] - 0s 8ms/step - loss: 0.0502 - accuracy: 0.9887 - val_loss: 0.0225 - val_accuracy: 0.9960\n",
      "Epoch 33/1000\n",
      "14/24 [================>.............] - ETA: 0s - loss: 0.0458 - accuracy: 0.9866\n",
      "Epoch 33: saving model to model/two_hands_keypoint_classifier/two_hands_keypoint_classifier.hdf5\n",
      "24/24 [==============================] - 0s 8ms/step - loss: 0.0448 - accuracy: 0.9880 - val_loss: 0.0160 - val_accuracy: 0.9980\n",
      "Epoch 34/1000\n",
      "14/24 [================>.............] - ETA: 0s - loss: 0.0558 - accuracy: 0.9838\n",
      "Epoch 34: saving model to model/two_hands_keypoint_classifier/two_hands_keypoint_classifier.hdf5\n",
      "24/24 [==============================] - 0s 8ms/step - loss: 0.0530 - accuracy: 0.9850 - val_loss: 0.0182 - val_accuracy: 0.9970\n",
      "Epoch 35/1000\n",
      "14/24 [================>.............] - ETA: 0s - loss: 0.0407 - accuracy: 0.9877\n",
      "Epoch 35: saving model to model/two_hands_keypoint_classifier/two_hands_keypoint_classifier.hdf5\n",
      "24/24 [==============================] - 0s 8ms/step - loss: 0.0397 - accuracy: 0.9880 - val_loss: 0.0197 - val_accuracy: 0.9970\n",
      "Epoch 36/1000\n",
      "13/24 [===============>..............] - ETA: 0s - loss: 0.0371 - accuracy: 0.9898\n",
      "Epoch 36: saving model to model/two_hands_keypoint_classifier/two_hands_keypoint_classifier.hdf5\n",
      "24/24 [==============================] - 0s 8ms/step - loss: 0.0403 - accuracy: 0.9893 - val_loss: 0.0225 - val_accuracy: 0.9960\n",
      "Epoch 37/1000\n",
      "13/24 [===============>..............] - ETA: 0s - loss: 0.0408 - accuracy: 0.9880\n",
      "Epoch 37: saving model to model/two_hands_keypoint_classifier/two_hands_keypoint_classifier.hdf5\n",
      "24/24 [==============================] - 0s 8ms/step - loss: 0.0435 - accuracy: 0.9873 - val_loss: 0.0191 - val_accuracy: 0.9970\n",
      "Epoch 38/1000\n",
      "20/24 [========================>.....] - ETA: 0s - loss: 0.0492 - accuracy: 0.9863\n",
      "Epoch 38: saving model to model/two_hands_keypoint_classifier/two_hands_keypoint_classifier.hdf5\n",
      "24/24 [==============================] - 0s 10ms/step - loss: 0.0483 - accuracy: 0.9870 - val_loss: 0.0233 - val_accuracy: 0.9960\n",
      "Epoch 39/1000\n",
      "13/24 [===============>..............] - ETA: 0s - loss: 0.0387 - accuracy: 0.9892\n",
      "Epoch 39: saving model to model/two_hands_keypoint_classifier/two_hands_keypoint_classifier.hdf5\n",
      "24/24 [==============================] - 0s 8ms/step - loss: 0.0479 - accuracy: 0.9857 - val_loss: 0.0187 - val_accuracy: 0.9980\n",
      "Epoch 40/1000\n",
      "13/24 [===============>..............] - ETA: 0s - loss: 0.0464 - accuracy: 0.9874\n",
      "Epoch 40: saving model to model/two_hands_keypoint_classifier/two_hands_keypoint_classifier.hdf5\n",
      "24/24 [==============================] - 0s 8ms/step - loss: 0.0466 - accuracy: 0.9863 - val_loss: 0.0211 - val_accuracy: 0.9970\n",
      "Epoch 41/1000\n",
      "14/24 [================>.............] - ETA: 0s - loss: 0.0402 - accuracy: 0.9888\n",
      "Epoch 41: saving model to model/two_hands_keypoint_classifier/two_hands_keypoint_classifier.hdf5\n",
      "24/24 [==============================] - 0s 8ms/step - loss: 0.0408 - accuracy: 0.9887 - val_loss: 0.0204 - val_accuracy: 0.9980\n",
      "Epoch 42/1000\n",
      "13/24 [===============>..............] - ETA: 0s - loss: 0.0419 - accuracy: 0.9868\n",
      "Epoch 42: saving model to model/two_hands_keypoint_classifier/two_hands_keypoint_classifier.hdf5\n",
      "24/24 [==============================] - 0s 8ms/step - loss: 0.0440 - accuracy: 0.9863 - val_loss: 0.0214 - val_accuracy: 0.9970\n",
      "Epoch 43/1000\n",
      "14/24 [================>.............] - ETA: 0s - loss: 0.0479 - accuracy: 0.9860\n",
      "Epoch 43: saving model to model/two_hands_keypoint_classifier/two_hands_keypoint_classifier.hdf5\n",
      "24/24 [==============================] - 0s 8ms/step - loss: 0.0429 - accuracy: 0.9867 - val_loss: 0.0230 - val_accuracy: 0.9970\n",
      "Epoch 44/1000\n",
      "13/24 [===============>..............] - ETA: 0s - loss: 0.0405 - accuracy: 0.9904\n",
      "Epoch 44: saving model to model/two_hands_keypoint_classifier/two_hands_keypoint_classifier.hdf5\n",
      "24/24 [==============================] - 0s 8ms/step - loss: 0.0374 - accuracy: 0.9917 - val_loss: 0.0231 - val_accuracy: 0.9970\n",
      "Epoch 45/1000\n",
      "15/24 [=================>............] - ETA: 0s - loss: 0.0371 - accuracy: 0.9911\n",
      "Epoch 45: saving model to model/two_hands_keypoint_classifier/two_hands_keypoint_classifier.hdf5\n",
      "24/24 [==============================] - 0s 10ms/step - loss: 0.0336 - accuracy: 0.9903 - val_loss: 0.0311 - val_accuracy: 0.9960\n",
      "Epoch 46/1000\n",
      "14/24 [================>.............] - ETA: 0s - loss: 0.0471 - accuracy: 0.9872\n",
      "Epoch 46: saving model to model/two_hands_keypoint_classifier/two_hands_keypoint_classifier.hdf5\n",
      "24/24 [==============================] - 0s 7ms/step - loss: 0.0421 - accuracy: 0.9893 - val_loss: 0.0256 - val_accuracy: 0.9970\n",
      "Epoch 47/1000\n",
      "14/24 [================>.............] - ETA: 0s - loss: 0.0341 - accuracy: 0.9916\n",
      "Epoch 47: saving model to model/two_hands_keypoint_classifier/two_hands_keypoint_classifier.hdf5\n",
      "24/24 [==============================] - 0s 8ms/step - loss: 0.0344 - accuracy: 0.9910 - val_loss: 0.0231 - val_accuracy: 0.9980\n",
      "Epoch 48/1000\n",
      "14/24 [================>.............] - ETA: 0s - loss: 0.0354 - accuracy: 0.9894\n",
      "Epoch 48: saving model to model/two_hands_keypoint_classifier/two_hands_keypoint_classifier.hdf5\n",
      "24/24 [==============================] - 0s 8ms/step - loss: 0.0337 - accuracy: 0.9907 - val_loss: 0.0233 - val_accuracy: 0.9980\n",
      "Epoch 49/1000\n",
      "13/24 [===============>..............] - ETA: 0s - loss: 0.0379 - accuracy: 0.9898\n",
      "Epoch 49: saving model to model/two_hands_keypoint_classifier/two_hands_keypoint_classifier.hdf5\n",
      "24/24 [==============================] - 0s 8ms/step - loss: 0.0364 - accuracy: 0.9913 - val_loss: 0.0271 - val_accuracy: 0.9970\n",
      "Epoch 49: early stopping\n"
     ]
    },
    {
     "data": {
      "text/plain": [
       "<keras.src.callbacks.History at 0x7f70087127d0>"
      ]
     },
     "execution_count": 11,
     "metadata": {},
     "output_type": "execute_result"
    }
   ],
   "source": [
    "model.fit(\n",
    "    X_train,\n",
    "    y_train,\n",
    "    epochs=1000,\n",
    "    batch_size=128,\n",
    "    validation_data=(X_test, y_test),\n",
    "    callbacks=[cp_callback, es_callback]\n",
    ")"
   ]
  },
  {
   "cell_type": "code",
   "execution_count": 12,
   "metadata": {},
   "outputs": [
    {
     "name": "stdout",
     "output_type": "stream",
     "text": [
      "8/8 [==============================] - 0s 6ms/step - loss: 0.0271 - accuracy: 0.9970\n"
     ]
    }
   ],
   "source": [
    "# モデル評価\n",
    "val_loss, val_acc = model.evaluate(X_test, y_test, batch_size=128)"
   ]
  },
  {
   "cell_type": "code",
   "execution_count": 13,
   "metadata": {},
   "outputs": [],
   "source": [
    "# 保存したモデルのロード\n",
    "model = tf.keras.models.load_model(model_save_path)"
   ]
  },
  {
   "cell_type": "code",
   "execution_count": 14,
   "metadata": {},
   "outputs": [
    {
     "name": "stdout",
     "output_type": "stream",
     "text": [
      "1/1 [==============================] - 0s 107ms/step\n",
      "[5.1718654e-08 9.9999750e-01 2.4847989e-06 9.0764243e-11 7.2476491e-09]\n",
      "1\n"
     ]
    }
   ],
   "source": [
    "# 推論テスト\n",
    "predict_result = model.predict(np.array([X_test[0]]))\n",
    "print(np.squeeze(predict_result))\n",
    "print(np.argmax(np.squeeze(predict_result)))"
   ]
  },
  {
   "cell_type": "markdown",
   "metadata": {},
   "source": [
    "# 混同行列"
   ]
  },
  {
   "cell_type": "code",
   "execution_count": 15,
   "metadata": {},
   "outputs": [
    {
     "name": "stdout",
     "output_type": "stream",
     "text": [
      "32/32 [==============================] - 0s 1ms/step\n"
     ]
    },
    {
     "data": {
      "image/png": "[encoded data removed]",
      "text/plain": [
       "<Figure size 700x600 with 2 Axes>"
      ]
     },
     "metadata": {},
     "output_type": "display_data"
    },
    {
     "name": "stdout",
     "output_type": "stream",
     "text": [
      "Classification Report\n",
      "              precision    recall  f1-score   support\n",
      "\n",
      "           0       1.00      0.99      1.00       295\n",
      "           1       1.00      1.00      1.00       206\n",
      "           2       1.00      0.99      1.00       161\n",
      "           3       1.00      1.00      1.00       213\n",
      "           4       0.98      1.00      0.99       125\n",
      "\n",
      "    accuracy                           1.00      1000\n",
      "   macro avg       1.00      1.00      1.00      1000\n",
      "weighted avg       1.00      1.00      1.00      1000\n",
      "\n"
     ]
    }
   ],
   "source": [
    "import pandas as pd\n",
    "import seaborn as sns\n",
    "import matplotlib.pyplot as plt\n",
    "from sklearn.metrics import confusion_matrix, classification_report\n",
    "\n",
    "def print_confusion_matrix(y_true, y_pred, report=True):\n",
    "    labels = sorted(list(set(y_true)))\n",
    "    cmx_data = confusion_matrix(y_true, y_pred, labels=labels)\n",
    "    \n",
    "    df_cmx = pd.DataFrame(cmx_data, index=labels, columns=labels)\n",
    " \n",
    "    fig, ax = plt.subplots(figsize=(7, 6))\n",
    "    sns.heatmap(df_cmx, annot=True, fmt='g' ,square=False)\n",
    "    ax.set_ylim(len(set(y_true)), 0)\n",
    "    plt.show()\n",
    "    \n",
    "    if report:\n",
    "        print('Classification Report')\n",
    "        print(classification_report(y_test, y_pred))\n",
    "\n",
    "Y_pred = model.predict(X_test)\n",
    "y_pred = np.argmax(Y_pred, axis=1)\n",
    "\n",
    "print_confusion_matrix(y_test, y_pred)"
   ]
  },
  {
   "cell_type": "markdown",
   "metadata": {},
   "source": [
    "# Tensorflow-Lite用のモデルへ変換"
   ]
  },
  {
   "cell_type": "code",
   "execution_count": 16,
   "metadata": {},
   "outputs": [
    {
     "name": "stderr",
     "output_type": "stream",
     "text": [
      "/tmp/myenv/lib/python3.10/site-packages/keras/src/engine/training.py:3103: UserWarning: You are saving your model as an HDF5 file via `model.save()`. This file format is considered legacy. We recommend using instead the native Keras format, e.g. `model.save('my_model.keras')`.\n",
      "  saving_api.save_model(\n"
     ]
    }
   ],
   "source": [
    "# 推論専用のモデルとして保存\n",
    "model.save(model_save_path, include_optimizer=False)"
   ]
  },
  {
   "cell_type": "code",
   "execution_count": 17,
   "metadata": {},
   "outputs": [
    {
     "name": "stdout",
     "output_type": "stream",
     "text": [
      "INFO:tensorflow:Assets written to: /tmp/tmpw8hzi85m/assets\n"
     ]
    },
    {
     "name": "stderr",
     "output_type": "stream",
     "text": [
      "INFO:tensorflow:Assets written to: /tmp/tmpw8hzi85m/assets\n",
      "2024-01-10 12:02:40.379965: W tensorflow/compiler/mlir/lite/python/tf_tfl_flatbuffer_helpers.cc:378] Ignored output_format.\n",
      "2024-01-10 12:02:40.379992: W tensorflow/compiler/mlir/lite/python/tf_tfl_flatbuffer_helpers.cc:381] Ignored drop_control_dependency.\n",
      "2024-01-10 12:02:40.380296: I tensorflow/cc/saved_model/reader.cc:83] Reading SavedModel from: /tmp/tmpw8hzi85m\n",
      "2024-01-10 12:02:40.382117: I tensorflow/cc/saved_model/reader.cc:51] Reading meta graph with tags { serve }\n",
      "2024-01-10 12:02:40.382129: I tensorflow/cc/saved_model/reader.cc:146] Reading SavedModel debug info (if present) from: /tmp/tmpw8hzi85m\n",
      "2024-01-10 12:02:40.385392: I tensorflow/compiler/mlir/mlir_graph_optimization_pass.cc:388] MLIR V1 optimization pass is not enabled\n",
      "2024-01-10 12:02:40.388719: I tensorflow/cc/saved_model/loader.cc:233] Restoring SavedModel bundle.\n",
      "2024-01-10 12:02:40.447027: I tensorflow/cc/saved_model/loader.cc:217] Running initialization op on SavedModel bundle at path: /tmp/tmpw8hzi85m\n",
      "2024-01-10 12:02:40.464744: I tensorflow/cc/saved_model/loader.cc:316] SavedModel load for tags { serve }; Status: success: OK. Took 84451 microseconds.\n",
      "2024-01-10 12:02:40.483581: I tensorflow/compiler/mlir/tensorflow/utils/dump_mlir_util.cc:269] disabling MLIR crash reproducer, set env var `MLIR_CRASH_REPRODUCER_DIRECTORY` to enable.\n",
      "Summary on the non-converted ops:\n",
      "---------------------------------\n",
      " * Accepted dialects: tfl, builtin, func\n",
      " * Non-Converted Ops: 8, Total Ops 19, % non-converted = 42.11 %\n",
      " * 8 ARITH ops\n",
      "\n",
      "- arith.constant:    8 occurrences  (f32: 8)\n",
      "\n",
      "\n",
      "\n",
      "  (f32: 5)\n",
      "  (uq_8: 2)\n",
      "  (f32: 1)\n"
     ]
    },
    {
     "data": {
      "text/plain": [
       "17776"
      ]
     },
     "execution_count": 17,
     "metadata": {},
     "output_type": "execute_result"
    }
   ],
   "source": [
    "# モデルを変換(量子化)\n",
    "tflite_save_path = 'model/two_hands_keypoint_classifier/two_hands_keypoint_classifier.tflite'\n",
    "\n",
    "converter = tf.lite.TFLiteConverter.from_keras_model(model)\n",
    "converter.optimizations = [tf.lite.Optimize.DEFAULT]\n",
    "tflite_quantized_model = converter.convert()\n",
    "\n",
    "open(tflite_save_path, 'wb').write(tflite_quantized_model)"
   ]
  },
  {
   "cell_type": "markdown",
   "metadata": {},
   "source": [
    "# 推論テスト"
   ]
  },
  {
   "cell_type": "code",
   "execution_count": 18,
   "metadata": {},
   "outputs": [
    {
     "name": "stderr",
     "output_type": "stream",
     "text": [
      "INFO: Created TensorFlow Lite XNNPACK delegate for CPU.\n"
     ]
    }
   ],
   "source": [
    "interpreter = tf.lite.Interpreter(model_path=tflite_save_path)\n",
    "interpreter.allocate_tensors()"
   ]
  },
  {
   "cell_type": "code",
   "execution_count": 19,
   "metadata": {},
   "outputs": [],
   "source": [
    "# 入出力テンソルを取得\n",
    "input_details = interpreter.get_input_details()\n",
    "output_details = interpreter.get_output_details()"
   ]
  },
  {
   "cell_type": "code",
   "execution_count": 20,
   "metadata": {},
   "outputs": [],
   "source": [
    "interpreter.set_tensor(input_details[0]['index'], np.array([X_test[0]]))"
   ]
  },
  {
   "cell_type": "code",
   "execution_count": 21,
   "metadata": {
    "scrolled": true
   },
   "outputs": [
    {
     "name": "stdout",
     "output_type": "stream",
     "text": [
      "CPU times: user 397 µs, sys: 52 µs, total: 449 µs\n",
      "Wall time: 372 µs\n"
     ]
    }
   ],
   "source": [
    "%%time\n",
    "# 推論実施\n",
    "interpreter.invoke()\n",
    "tflite_results = interpreter.get_tensor(output_details[0]['index'])"
   ]
  },
  {
   "cell_type": "code",
   "execution_count": 22,
   "metadata": {},
   "outputs": [
    {
     "name": "stdout",
     "output_type": "stream",
     "text": [
      "[5.1789527e-08 9.9999750e-01 2.4446829e-06 8.9107749e-11 7.1883814e-09]\n",
      "1\n"
     ]
    }
   ],
   "source": [
    "print(np.squeeze(tflite_results))\n",
    "print(np.argmax(np.squeeze(tflite_results)))"
   ]
  }
 ],
 "metadata": {
  "kernelspec": {
   "display_name": "Python 3",
   "language": "python",
   "name": "python3"
  },
  "language_info": {
   "codemirror_mode": {
    "name": "ipython",
    "version": 3
   },
   "file_extension": ".py",
   "mimetype": "text/x-python",
   "name": "python",
   "nbconvert_exporter": "python",
   "pygments_lexer": "ipython3",
   "version": "3.10.12"
  }
 },
 "nbformat": 4,
 "nbformat_minor": 4
}
