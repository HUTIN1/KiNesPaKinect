{
 "cells": [
  {
   "cell_type": "code",
   "execution_count": 1,
   "metadata": {},
   "outputs": [
    {
     "name": "stderr",
     "output_type": "stream",
     "text": [
      "2024-01-08 16:00:41.192563: E external/local_xla/xla/stream_executor/cuda/cuda_dnn.cc:9261] Unable to register cuDNN factory: Attempting to register factory for plugin cuDNN when one has already been registered\n",
      "2024-01-08 16:00:41.192614: E external/local_xla/xla/stream_executor/cuda/cuda_fft.cc:607] Unable to register cuFFT factory: Attempting to register factory for plugin cuFFT when one has already been registered\n",
      "2024-01-08 16:00:41.194826: E external/local_xla/xla/stream_executor/cuda/cuda_blas.cc:1515] Unable to register cuBLAS factory: Attempting to register factory for plugin cuBLAS when one has already been registered\n",
      "2024-01-08 16:00:41.207874: I tensorflow/core/platform/cpu_feature_guard.cc:182] This TensorFlow binary is optimized to use available CPU instructions in performance-critical operations.\n",
      "To enable the following instructions: AVX2 FMA, in other operations, rebuild TensorFlow with the appropriate compiler flags.\n",
      "2024-01-08 16:00:43.155971: W tensorflow/compiler/tf2tensorrt/utils/py_utils.cc:38] TF-TRT Warning: Could not find TensorRT\n"
     ]
    }
   ],
   "source": [
    "import csv\n",
    "\n",
    "import numpy as np\n",
    "import tensorflow as tf\n",
    "from sklearn.model_selection import train_test_split\n",
    "\n",
    "RANDOM_SEED = 42"
   ]
  },
  {
   "cell_type": "markdown",
   "metadata": {},
   "source": [
    "# 各パス指定"
   ]
  },
  {
   "cell_type": "code",
   "execution_count": 2,
   "metadata": {},
   "outputs": [],
   "source": [
    "dataset = 'model/keypoint_classifier/keypoint.csv'\n",
    "model_save_path = 'model/keypoint_classifier/keypoint_classifier.hdf5'"
   ]
  },
  {
   "cell_type": "markdown",
   "metadata": {},
   "source": [
    "# 分類数設定"
   ]
  },
  {
   "cell_type": "code",
   "execution_count": 3,
   "metadata": {},
   "outputs": [],
   "source": [
    "NUM_CLASSES = 5"
   ]
  },
  {
   "cell_type": "markdown",
   "metadata": {},
   "source": [
    "# 学習データ読み込み"
   ]
  },
  {
   "cell_type": "code",
   "execution_count": 4,
   "metadata": {},
   "outputs": [],
   "source": [
    "X_dataset = np.loadtxt(dataset, delimiter=',', dtype='float32', usecols=list(range(1, (21 * 2) + 1)))"
   ]
  },
  {
   "cell_type": "code",
   "execution_count": 5,
   "metadata": {},
   "outputs": [],
   "source": [
    "y_dataset = np.loadtxt(dataset, delimiter=',', dtype='int32', usecols=(0))"
   ]
  },
  {
   "cell_type": "code",
   "execution_count": 6,
   "metadata": {},
   "outputs": [],
   "source": [
    "X_train, X_test, y_train, y_test = train_test_split(X_dataset, y_dataset, train_size=0.75, random_state=RANDOM_SEED)"
   ]
  },
  {
   "cell_type": "markdown",
   "metadata": {},
   "source": [
    "# モデル構築"
   ]
  },
  {
   "cell_type": "code",
   "execution_count": 7,
   "metadata": {},
   "outputs": [],
   "source": [
    "model = tf.keras.models.Sequential([\n",
    "    tf.keras.layers.Input((21 * 2, )),\n",
    "    tf.keras.layers.Dropout(0.2),\n",
    "    tf.keras.layers.Dense(20, activation='relu'),\n",
    "    tf.keras.layers.Dropout(0.4),\n",
    "    tf.keras.layers.Dense(10, activation='relu'),\n",
    "    tf.keras.layers.Dense(NUM_CLASSES, activation='softmax')\n",
    "])"
   ]
  },
  {
   "cell_type": "code",
   "execution_count": 8,
   "metadata": {},
   "outputs": [
    {
     "name": "stdout",
     "output_type": "stream",
     "text": [
      "Model: \"sequential\"\n",
      "_________________________________________________________________\n",
      " Layer (type)                Output Shape              Param #   \n",
      "=================================================================\n",
      " dropout (Dropout)           (None, 42)                0         \n",
      "                                                                 \n",
      " dense (Dense)               (None, 20)                860       \n",
      "                                                                 \n",
      " dropout_1 (Dropout)         (None, 20)                0         \n",
      "                                                                 \n",
      " dense_1 (Dense)             (None, 10)                210       \n",
      "                                                                 \n",
      " dense_2 (Dense)             (None, 4)                 44        \n",
      "                                                                 \n",
      "=================================================================\n",
      "Total params: 1114 (4.35 KB)\n",
      "Trainable params: 1114 (4.35 KB)\n",
      "Non-trainable params: 0 (0.00 Byte)\n",
      "_________________________________________________________________\n"
     ]
    }
   ],
   "source": [
    "model.summary()  # tf.keras.utils.plot_model(model, show_shapes=True)"
   ]
  },
  {
   "cell_type": "code",
   "execution_count": 9,
   "metadata": {},
   "outputs": [],
   "source": [
    "# モデルチェックポイントのコールバック\n",
    "cp_callback = tf.keras.callbacks.ModelCheckpoint(\n",
    "    model_save_path, verbose=1, save_weights_only=False)\n",
    "# 早期打ち切り用コールバック\n",
    "es_callback = tf.keras.callbacks.EarlyStopping(patience=20, verbose=1)"
   ]
  },
  {
   "cell_type": "code",
   "execution_count": 10,
   "metadata": {},
   "outputs": [],
   "source": [
    "# モデルコンパイル\n",
    "model.compile(\n",
    "    optimizer='adam',\n",
    "    loss='sparse_categorical_crossentropy',\n",
    "    metrics=['accuracy']\n",
    ")"
   ]
  },
  {
   "cell_type": "markdown",
   "metadata": {},
   "source": [
    "# モデル訓練"
   ]
  },
  {
   "cell_type": "code",
   "execution_count": 11,
   "metadata": {
    "scrolled": true
   },
   "outputs": [
    {
     "name": "stdout",
     "output_type": "stream",
     "text": [
      "Epoch 1/1000\n",
      "21/32 [==================>...........] - ETA: 0s - loss: 1.4270 - accuracy: 0.2861 \n",
      "Epoch 1: saving model to model/keypoint_classifier/keypoint_classifier.hdf5\n",
      "32/32 [==============================] - 1s 12ms/step - loss: 1.4104 - accuracy: 0.2951 - val_loss: 1.3184 - val_accuracy: 0.5225\n",
      "Epoch 2/1000\n",
      "23/32 [====================>.........] - ETA: 0s - loss: 1.3479 - accuracy: 0.3645\n",
      "Epoch 2: saving model to model/keypoint_classifier/keypoint_classifier.hdf5\n"
     ]
    },
    {
     "name": "stderr",
     "output_type": "stream",
     "text": [
      "/tmp/venv/lib/python3.10/site-packages/keras/src/engine/training.py:3103: UserWarning: You are saving your model as an HDF5 file via `model.save()`. This file format is considered legacy. We recommend using instead the native Keras format, e.g. `model.save('my_model.keras')`.\n",
      "  saving_api.save_model(\n"
     ]
    },
    {
     "name": "stdout",
     "output_type": "stream",
     "text": [
      "32/32 [==============================] - 0s 5ms/step - loss: 1.3447 - accuracy: 0.3694 - val_loss: 1.2710 - val_accuracy: 0.5646\n",
      "Epoch 3/1000\n",
      "27/32 [========================>.....] - ETA: 0s - loss: 1.2897 - accuracy: 0.4227\n",
      "Epoch 3: saving model to model/keypoint_classifier/keypoint_classifier.hdf5\n",
      "32/32 [==============================] - 0s 8ms/step - loss: 1.2887 - accuracy: 0.4248 - val_loss: 1.1970 - val_accuracy: 0.5934\n",
      "Epoch 4/1000\n",
      "31/32 [============================>.] - ETA: 0s - loss: 1.2338 - accuracy: 0.4594\n",
      "Epoch 4: saving model to model/keypoint_classifier/keypoint_classifier.hdf5\n",
      "32/32 [==============================] - 0s 6ms/step - loss: 1.2334 - accuracy: 0.4590 - val_loss: 1.1107 - val_accuracy: 0.5911\n",
      "Epoch 5/1000\n",
      "20/32 [=================>............] - ETA: 0s - loss: 1.1994 - accuracy: 0.4723\n",
      "Epoch 5: saving model to model/keypoint_classifier/keypoint_classifier.hdf5\n",
      "32/32 [==============================] - 0s 6ms/step - loss: 1.1920 - accuracy: 0.4728 - val_loss: 1.0350 - val_accuracy: 0.6450\n",
      "Epoch 6/1000\n",
      "32/32 [==============================] - ETA: 0s - loss: 1.1464 - accuracy: 0.5001\n",
      "Epoch 6: saving model to model/keypoint_classifier/keypoint_classifier.hdf5\n",
      "32/32 [==============================] - 0s 7ms/step - loss: 1.1464 - accuracy: 0.5001 - val_loss: 0.9733 - val_accuracy: 0.6524\n",
      "Epoch 7/1000\n",
      "29/32 [==========================>...] - ETA: 0s - loss: 1.0961 - accuracy: 0.5105\n",
      "Epoch 7: saving model to model/keypoint_classifier/keypoint_classifier.hdf5\n",
      "32/32 [==============================] - 0s 7ms/step - loss: 1.0942 - accuracy: 0.5151 - val_loss: 0.9132 - val_accuracy: 0.6915\n",
      "Epoch 8/1000\n",
      "18/32 [===============>..............] - ETA: 0s - loss: 1.0909 - accuracy: 0.5104\n",
      "Epoch 8: saving model to model/keypoint_classifier/keypoint_classifier.hdf5\n",
      "32/32 [==============================] - 0s 6ms/step - loss: 1.0783 - accuracy: 0.5230 - val_loss: 0.8620 - val_accuracy: 0.7387\n",
      "Epoch 9/1000\n",
      "18/32 [===============>..............] - ETA: 0s - loss: 1.0309 - accuracy: 0.5469\n",
      "Epoch 9: saving model to model/keypoint_classifier/keypoint_classifier.hdf5\n",
      "32/32 [==============================] - 0s 5ms/step - loss: 1.0344 - accuracy: 0.5481 - val_loss: 0.8187 - val_accuracy: 0.7852\n",
      "Epoch 10/1000\n",
      "20/32 [=================>............] - ETA: 0s - loss: 1.0304 - accuracy: 0.5617\n",
      "Epoch 10: saving model to model/keypoint_classifier/keypoint_classifier.hdf5\n",
      "32/32 [==============================] - 0s 5ms/step - loss: 1.0336 - accuracy: 0.5540 - val_loss: 0.7824 - val_accuracy: 0.8347\n",
      "Epoch 11/1000\n",
      "21/32 [==================>...........] - ETA: 0s - loss: 1.0061 - accuracy: 0.5670\n",
      "Epoch 11: saving model to model/keypoint_classifier/keypoint_classifier.hdf5\n",
      "32/32 [==============================] - 0s 6ms/step - loss: 0.9943 - accuracy: 0.5730 - val_loss: 0.7496 - val_accuracy: 0.8421\n",
      "Epoch 12/1000\n",
      "20/32 [=================>............] - ETA: 0s - loss: 0.9473 - accuracy: 0.6145\n",
      "Epoch 12: saving model to model/keypoint_classifier/keypoint_classifier.hdf5\n",
      "32/32 [==============================] - 0s 6ms/step - loss: 0.9585 - accuracy: 0.6020 - val_loss: 0.7083 - val_accuracy: 0.8561\n",
      "Epoch 13/1000\n",
      "19/32 [================>.............] - ETA: 0s - loss: 0.9581 - accuracy: 0.6020\n",
      "Epoch 13: saving model to model/keypoint_classifier/keypoint_classifier.hdf5\n",
      "32/32 [==============================] - 0s 6ms/step - loss: 0.9539 - accuracy: 0.6040 - val_loss: 0.6763 - val_accuracy: 0.8716\n",
      "Epoch 14/1000\n",
      "18/32 [===============>..............] - ETA: 0s - loss: 0.9355 - accuracy: 0.6102\n",
      "Epoch 14: saving model to model/keypoint_classifier/keypoint_classifier.hdf5\n",
      "32/32 [==============================] - 0s 6ms/step - loss: 0.9280 - accuracy: 0.6124 - val_loss: 0.6443 - val_accuracy: 0.8760\n",
      "Epoch 15/1000\n",
      "19/32 [================>.............] - ETA: 0s - loss: 0.8873 - accuracy: 0.6488\n",
      "Epoch 15: saving model to model/keypoint_classifier/keypoint_classifier.hdf5\n",
      "32/32 [==============================] - 0s 6ms/step - loss: 0.8974 - accuracy: 0.6392 - val_loss: 0.6195 - val_accuracy: 0.8900\n",
      "Epoch 16/1000\n",
      "18/32 [===============>..............] - ETA: 0s - loss: 0.8870 - accuracy: 0.6489\n",
      "Epoch 16: saving model to model/keypoint_classifier/keypoint_classifier.hdf5\n",
      "32/32 [==============================] - 0s 6ms/step - loss: 0.8857 - accuracy: 0.6471 - val_loss: 0.5970 - val_accuracy: 0.9011\n",
      "Epoch 17/1000\n",
      "18/32 [===============>..............] - ETA: 0s - loss: 0.8613 - accuracy: 0.6523\n",
      "Epoch 17: saving model to model/keypoint_classifier/keypoint_classifier.hdf5\n",
      "32/32 [==============================] - 0s 6ms/step - loss: 0.8708 - accuracy: 0.6493 - val_loss: 0.5761 - val_accuracy: 0.8989\n",
      "Epoch 18/1000\n",
      "19/32 [================>.............] - ETA: 0s - loss: 0.8635 - accuracy: 0.6513\n",
      "Epoch 18: saving model to model/keypoint_classifier/keypoint_classifier.hdf5\n",
      "32/32 [==============================] - 0s 6ms/step - loss: 0.8558 - accuracy: 0.6579 - val_loss: 0.5559 - val_accuracy: 0.9100\n",
      "Epoch 19/1000\n",
      "19/32 [================>.............] - ETA: 0s - loss: 0.8432 - accuracy: 0.6612\n",
      "Epoch 19: saving model to model/keypoint_classifier/keypoint_classifier.hdf5\n",
      "32/32 [==============================] - 0s 7ms/step - loss: 0.8464 - accuracy: 0.6576 - val_loss: 0.5330 - val_accuracy: 0.9092\n",
      "Epoch 20/1000\n",
      "20/32 [=================>............] - ETA: 0s - loss: 0.7969 - accuracy: 0.6949\n",
      "Epoch 20: saving model to model/keypoint_classifier/keypoint_classifier.hdf5\n",
      "32/32 [==============================] - 0s 6ms/step - loss: 0.8014 - accuracy: 0.6941 - val_loss: 0.5064 - val_accuracy: 0.9188\n",
      "Epoch 21/1000\n",
      "19/32 [================>.............] - ETA: 0s - loss: 0.8229 - accuracy: 0.6674\n",
      "Epoch 21: saving model to model/keypoint_classifier/keypoint_classifier.hdf5\n",
      "32/32 [==============================] - 0s 6ms/step - loss: 0.8144 - accuracy: 0.6704 - val_loss: 0.4964 - val_accuracy: 0.9210\n",
      "Epoch 22/1000\n",
      "32/32 [==============================] - ETA: 0s - loss: 0.8153 - accuracy: 0.6739\n",
      "Epoch 22: saving model to model/keypoint_classifier/keypoint_classifier.hdf5\n",
      "32/32 [==============================] - 0s 7ms/step - loss: 0.8153 - accuracy: 0.6739 - val_loss: 0.4909 - val_accuracy: 0.9173\n",
      "Epoch 23/1000\n",
      "18/32 [===============>..............] - ETA: 0s - loss: 0.7776 - accuracy: 0.6936\n",
      "Epoch 23: saving model to model/keypoint_classifier/keypoint_classifier.hdf5\n",
      "32/32 [==============================] - 0s 6ms/step - loss: 0.7937 - accuracy: 0.6914 - val_loss: 0.4724 - val_accuracy: 0.9181\n",
      "Epoch 24/1000\n",
      "32/32 [==============================] - ETA: 0s - loss: 0.7816 - accuracy: 0.7000\n",
      "Epoch 24: saving model to model/keypoint_classifier/keypoint_classifier.hdf5\n",
      "32/32 [==============================] - 0s 6ms/step - loss: 0.7816 - accuracy: 0.7000 - val_loss: 0.4599 - val_accuracy: 0.9225\n",
      "Epoch 25/1000\n",
      "19/32 [================>.............] - ETA: 0s - loss: 0.7811 - accuracy: 0.6982\n",
      "Epoch 25: saving model to model/keypoint_classifier/keypoint_classifier.hdf5\n",
      "32/32 [==============================] - 0s 6ms/step - loss: 0.7693 - accuracy: 0.7047 - val_loss: 0.4496 - val_accuracy: 0.9277\n",
      "Epoch 26/1000\n",
      "19/32 [================>.............] - ETA: 0s - loss: 0.7500 - accuracy: 0.7076\n",
      "Epoch 26: saving model to model/keypoint_classifier/keypoint_classifier.hdf5\n",
      "32/32 [==============================] - 0s 6ms/step - loss: 0.7580 - accuracy: 0.7042 - val_loss: 0.4336 - val_accuracy: 0.9321\n",
      "Epoch 27/1000\n",
      "23/32 [====================>.........] - ETA: 0s - loss: 0.7542 - accuracy: 0.7038\n",
      "Epoch 27: saving model to model/keypoint_classifier/keypoint_classifier.hdf5\n",
      "32/32 [==============================] - 0s 5ms/step - loss: 0.7472 - accuracy: 0.7047 - val_loss: 0.4252 - val_accuracy: 0.9343\n",
      "Epoch 28/1000\n",
      "20/32 [=================>............] - ETA: 0s - loss: 0.7314 - accuracy: 0.7281\n",
      "Epoch 28: saving model to model/keypoint_classifier/keypoint_classifier.hdf5\n",
      "32/32 [==============================] - 0s 5ms/step - loss: 0.7239 - accuracy: 0.7285 - val_loss: 0.4062 - val_accuracy: 0.9292\n",
      "Epoch 29/1000\n",
      "21/32 [==================>...........] - ETA: 0s - loss: 0.7374 - accuracy: 0.7035\n",
      "Epoch 29: saving model to model/keypoint_classifier/keypoint_classifier.hdf5\n",
      "32/32 [==============================] - 0s 5ms/step - loss: 0.7292 - accuracy: 0.7123 - val_loss: 0.4025 - val_accuracy: 0.9321\n",
      "Epoch 30/1000\n",
      "20/32 [=================>............] - ETA: 0s - loss: 0.7276 - accuracy: 0.7148\n",
      "Epoch 30: saving model to model/keypoint_classifier/keypoint_classifier.hdf5\n",
      "32/32 [==============================] - 0s 5ms/step - loss: 0.7272 - accuracy: 0.7202 - val_loss: 0.3951 - val_accuracy: 0.9358\n",
      "Epoch 31/1000\n",
      "23/32 [====================>.........] - ETA: 0s - loss: 0.7070 - accuracy: 0.7225\n",
      "Epoch 31: saving model to model/keypoint_classifier/keypoint_classifier.hdf5\n",
      "32/32 [==============================] - 0s 7ms/step - loss: 0.7011 - accuracy: 0.7268 - val_loss: 0.3857 - val_accuracy: 0.9314\n",
      "Epoch 32/1000\n",
      "21/32 [==================>...........] - ETA: 0s - loss: 0.7229 - accuracy: 0.7173\n",
      "Epoch 32: saving model to model/keypoint_classifier/keypoint_classifier.hdf5\n",
      "32/32 [==============================] - 0s 6ms/step - loss: 0.7232 - accuracy: 0.7224 - val_loss: 0.3783 - val_accuracy: 0.9395\n",
      "Epoch 33/1000\n",
      "15/32 [=============>................] - ETA: 0s - loss: 0.6840 - accuracy: 0.7354\n",
      "Epoch 33: saving model to model/keypoint_classifier/keypoint_classifier.hdf5\n",
      "32/32 [==============================] - 0s 6ms/step - loss: 0.6897 - accuracy: 0.7352 - val_loss: 0.3782 - val_accuracy: 0.9351\n",
      "Epoch 34/1000\n",
      "18/32 [===============>..............] - ETA: 0s - loss: 0.6937 - accuracy: 0.7391\n",
      "Epoch 34: saving model to model/keypoint_classifier/keypoint_classifier.hdf5\n",
      "32/32 [==============================] - 0s 6ms/step - loss: 0.7002 - accuracy: 0.7317 - val_loss: 0.3699 - val_accuracy: 0.9417\n",
      "Epoch 35/1000\n",
      "32/32 [==============================] - ETA: 0s - loss: 0.6916 - accuracy: 0.7283\n",
      "Epoch 35: saving model to model/keypoint_classifier/keypoint_classifier.hdf5\n",
      "32/32 [==============================] - 0s 6ms/step - loss: 0.6916 - accuracy: 0.7283 - val_loss: 0.3678 - val_accuracy: 0.9395\n",
      "Epoch 36/1000\n",
      "17/32 [==============>...............] - ETA: 0s - loss: 0.7097 - accuracy: 0.7201\n",
      "Epoch 36: saving model to model/keypoint_classifier/keypoint_classifier.hdf5\n",
      "32/32 [==============================] - 0s 6ms/step - loss: 0.6849 - accuracy: 0.7337 - val_loss: 0.3627 - val_accuracy: 0.9424\n",
      "Epoch 37/1000\n",
      "18/32 [===============>..............] - ETA: 0s - loss: 0.6688 - accuracy: 0.7426\n",
      "Epoch 37: saving model to model/keypoint_classifier/keypoint_classifier.hdf5\n",
      "32/32 [==============================] - 0s 6ms/step - loss: 0.6819 - accuracy: 0.7334 - val_loss: 0.3568 - val_accuracy: 0.9432\n",
      "Epoch 38/1000\n",
      "21/32 [==================>...........] - ETA: 0s - loss: 0.6729 - accuracy: 0.7407\n",
      "Epoch 38: saving model to model/keypoint_classifier/keypoint_classifier.hdf5\n",
      "32/32 [==============================] - 0s 5ms/step - loss: 0.6613 - accuracy: 0.7475 - val_loss: 0.3495 - val_accuracy: 0.9469\n",
      "Epoch 39/1000\n",
      "22/32 [===================>..........] - ETA: 0s - loss: 0.6625 - accuracy: 0.7411\n",
      "Epoch 39: saving model to model/keypoint_classifier/keypoint_classifier.hdf5\n",
      "32/32 [==============================] - 0s 5ms/step - loss: 0.6740 - accuracy: 0.7394 - val_loss: 0.3399 - val_accuracy: 0.9439\n",
      "Epoch 40/1000\n",
      "22/32 [===================>..........] - ETA: 0s - loss: 0.6887 - accuracy: 0.7326\n",
      "Epoch 40: saving model to model/keypoint_classifier/keypoint_classifier.hdf5\n",
      "32/32 [==============================] - 0s 5ms/step - loss: 0.6785 - accuracy: 0.7364 - val_loss: 0.3457 - val_accuracy: 0.9506\n",
      "Epoch 41/1000\n",
      "22/32 [===================>..........] - ETA: 0s - loss: 0.6744 - accuracy: 0.7496\n",
      "Epoch 41: saving model to model/keypoint_classifier/keypoint_classifier.hdf5\n",
      "32/32 [==============================] - 0s 5ms/step - loss: 0.6722 - accuracy: 0.7490 - val_loss: 0.3450 - val_accuracy: 0.9483\n",
      "Epoch 42/1000\n",
      "21/32 [==================>...........] - ETA: 0s - loss: 0.6541 - accuracy: 0.7560\n",
      "Epoch 42: saving model to model/keypoint_classifier/keypoint_classifier.hdf5\n",
      "32/32 [==============================] - 0s 5ms/step - loss: 0.6404 - accuracy: 0.7635 - val_loss: 0.3344 - val_accuracy: 0.9417\n",
      "Epoch 43/1000\n",
      "23/32 [====================>.........] - ETA: 0s - loss: 0.6508 - accuracy: 0.7466\n",
      "Epoch 43: saving model to model/keypoint_classifier/keypoint_classifier.hdf5\n",
      "32/32 [==============================] - 0s 7ms/step - loss: 0.6538 - accuracy: 0.7494 - val_loss: 0.3271 - val_accuracy: 0.9506\n",
      "Epoch 44/1000\n",
      "21/32 [==================>...........] - ETA: 0s - loss: 0.6535 - accuracy: 0.7589\n",
      "Epoch 44: saving model to model/keypoint_classifier/keypoint_classifier.hdf5\n",
      "32/32 [==============================] - 0s 6ms/step - loss: 0.6485 - accuracy: 0.7598 - val_loss: 0.3211 - val_accuracy: 0.9498\n",
      "Epoch 45/1000\n",
      "18/32 [===============>..............] - ETA: 0s - loss: 0.6344 - accuracy: 0.7626\n",
      "Epoch 45: saving model to model/keypoint_classifier/keypoint_classifier.hdf5\n",
      "32/32 [==============================] - 0s 6ms/step - loss: 0.6384 - accuracy: 0.7586 - val_loss: 0.3215 - val_accuracy: 0.9520\n",
      "Epoch 46/1000\n",
      "22/32 [===================>..........] - ETA: 0s - loss: 0.6719 - accuracy: 0.7450\n",
      "Epoch 46: saving model to model/keypoint_classifier/keypoint_classifier.hdf5\n",
      "32/32 [==============================] - 0s 5ms/step - loss: 0.6586 - accuracy: 0.7504 - val_loss: 0.3257 - val_accuracy: 0.9491\n",
      "Epoch 47/1000\n",
      "18/32 [===============>..............] - ETA: 0s - loss: 0.6299 - accuracy: 0.7578\n",
      "Epoch 47: saving model to model/keypoint_classifier/keypoint_classifier.hdf5\n",
      "32/32 [==============================] - 0s 6ms/step - loss: 0.6272 - accuracy: 0.7613 - val_loss: 0.3203 - val_accuracy: 0.9402\n",
      "Epoch 48/1000\n",
      "19/32 [================>.............] - ETA: 0s - loss: 0.6513 - accuracy: 0.7479\n",
      "Epoch 48: saving model to model/keypoint_classifier/keypoint_classifier.hdf5\n",
      "32/32 [==============================] - 0s 6ms/step - loss: 0.6322 - accuracy: 0.7608 - val_loss: 0.3159 - val_accuracy: 0.9491\n",
      "Epoch 49/1000\n",
      "21/32 [==================>...........] - ETA: 0s - loss: 0.6334 - accuracy: 0.7560\n",
      "Epoch 49: saving model to model/keypoint_classifier/keypoint_classifier.hdf5\n",
      "32/32 [==============================] - 0s 5ms/step - loss: 0.6407 - accuracy: 0.7546 - val_loss: 0.3102 - val_accuracy: 0.9506\n",
      "Epoch 50/1000\n",
      "20/32 [=================>............] - ETA: 0s - loss: 0.6275 - accuracy: 0.7551\n",
      "Epoch 50: saving model to model/keypoint_classifier/keypoint_classifier.hdf5\n",
      "32/32 [==============================] - 0s 5ms/step - loss: 0.6255 - accuracy: 0.7568 - val_loss: 0.3073 - val_accuracy: 0.9550\n",
      "Epoch 51/1000\n",
      "20/32 [=================>............] - ETA: 0s - loss: 0.6113 - accuracy: 0.7699\n",
      "Epoch 51: saving model to model/keypoint_classifier/keypoint_classifier.hdf5\n",
      "32/32 [==============================] - 0s 5ms/step - loss: 0.6098 - accuracy: 0.7701 - val_loss: 0.3008 - val_accuracy: 0.9520\n",
      "Epoch 52/1000\n",
      "22/32 [===================>..........] - ETA: 0s - loss: 0.6182 - accuracy: 0.7624\n",
      "Epoch 52: saving model to model/keypoint_classifier/keypoint_classifier.hdf5\n",
      "32/32 [==============================] - 0s 5ms/step - loss: 0.6090 - accuracy: 0.7640 - val_loss: 0.2997 - val_accuracy: 0.9513\n",
      "Epoch 53/1000\n",
      "21/32 [==================>...........] - ETA: 0s - loss: 0.6340 - accuracy: 0.7623\n",
      "Epoch 53: saving model to model/keypoint_classifier/keypoint_classifier.hdf5\n",
      "32/32 [==============================] - 0s 5ms/step - loss: 0.6299 - accuracy: 0.7640 - val_loss: 0.3083 - val_accuracy: 0.9483\n",
      "Epoch 54/1000\n",
      "16/32 [==============>...............] - ETA: 0s - loss: 0.6197 - accuracy: 0.7637\n",
      "Epoch 54: saving model to model/keypoint_classifier/keypoint_classifier.hdf5\n",
      "32/32 [==============================] - 0s 6ms/step - loss: 0.6225 - accuracy: 0.7674 - val_loss: 0.3078 - val_accuracy: 0.9483\n",
      "Epoch 55/1000\n",
      "31/32 [============================>.] - ETA: 0s - loss: 0.6187 - accuracy: 0.7634\n",
      "Epoch 55: saving model to model/keypoint_classifier/keypoint_classifier.hdf5\n",
      "32/32 [==============================] - 0s 9ms/step - loss: 0.6199 - accuracy: 0.7640 - val_loss: 0.2968 - val_accuracy: 0.9535\n",
      "Epoch 56/1000\n",
      "18/32 [===============>..............] - ETA: 0s - loss: 0.6088 - accuracy: 0.7730\n",
      "Epoch 56: saving model to model/keypoint_classifier/keypoint_classifier.hdf5\n",
      "32/32 [==============================] - 0s 7ms/step - loss: 0.5879 - accuracy: 0.7839 - val_loss: 0.3003 - val_accuracy: 0.9513\n",
      "Epoch 57/1000\n",
      "19/32 [================>.............] - ETA: 0s - loss: 0.5854 - accuracy: 0.7784\n",
      "Epoch 57: saving model to model/keypoint_classifier/keypoint_classifier.hdf5\n",
      "32/32 [==============================] - 0s 6ms/step - loss: 0.5999 - accuracy: 0.7731 - val_loss: 0.2920 - val_accuracy: 0.9513\n",
      "Epoch 58/1000\n",
      "17/32 [==============>...............] - ETA: 0s - loss: 0.6311 - accuracy: 0.7633\n",
      "Epoch 58: saving model to model/keypoint_classifier/keypoint_classifier.hdf5\n",
      "32/32 [==============================] - 0s 6ms/step - loss: 0.6111 - accuracy: 0.7672 - val_loss: 0.2894 - val_accuracy: 0.9550\n",
      "Epoch 59/1000\n",
      "19/32 [================>.............] - ETA: 0s - loss: 0.5802 - accuracy: 0.7817\n",
      "Epoch 59: saving model to model/keypoint_classifier/keypoint_classifier.hdf5\n",
      "32/32 [==============================] - 0s 7ms/step - loss: 0.5979 - accuracy: 0.7741 - val_loss: 0.2893 - val_accuracy: 0.9557\n",
      "Epoch 60/1000\n",
      "27/32 [========================>.....] - ETA: 0s - loss: 0.6102 - accuracy: 0.7705\n",
      "Epoch 60: saving model to model/keypoint_classifier/keypoint_classifier.hdf5\n",
      "32/32 [==============================] - 0s 8ms/step - loss: 0.6082 - accuracy: 0.7714 - val_loss: 0.2925 - val_accuracy: 0.9483\n",
      "Epoch 61/1000\n",
      "29/32 [==========================>...] - ETA: 0s - loss: 0.5879 - accuracy: 0.7759\n",
      "Epoch 61: saving model to model/keypoint_classifier/keypoint_classifier.hdf5\n",
      "32/32 [==============================] - 0s 7ms/step - loss: 0.5937 - accuracy: 0.7746 - val_loss: 0.2874 - val_accuracy: 0.9506\n",
      "Epoch 62/1000\n",
      "30/32 [===========================>..] - ETA: 0s - loss: 0.5838 - accuracy: 0.7833\n",
      "Epoch 62: saving model to model/keypoint_classifier/keypoint_classifier.hdf5\n",
      "32/32 [==============================] - 0s 7ms/step - loss: 0.5833 - accuracy: 0.7834 - val_loss: 0.2853 - val_accuracy: 0.9513\n",
      "Epoch 63/1000\n",
      "18/32 [===============>..............] - ETA: 0s - loss: 0.5806 - accuracy: 0.7821\n",
      "Epoch 63: saving model to model/keypoint_classifier/keypoint_classifier.hdf5\n",
      "32/32 [==============================] - 0s 6ms/step - loss: 0.5960 - accuracy: 0.7746 - val_loss: 0.2902 - val_accuracy: 0.9483\n",
      "Epoch 64/1000\n",
      "18/32 [===============>..............] - ETA: 0s - loss: 0.5758 - accuracy: 0.7917\n",
      "Epoch 64: saving model to model/keypoint_classifier/keypoint_classifier.hdf5\n",
      "32/32 [==============================] - 0s 6ms/step - loss: 0.5888 - accuracy: 0.7837 - val_loss: 0.2879 - val_accuracy: 0.9513\n",
      "Epoch 65/1000\n",
      "19/32 [================>.............] - ETA: 0s - loss: 0.5813 - accuracy: 0.7841\n",
      "Epoch 65: saving model to model/keypoint_classifier/keypoint_classifier.hdf5\n",
      "32/32 [==============================] - 0s 6ms/step - loss: 0.5809 - accuracy: 0.7824 - val_loss: 0.2829 - val_accuracy: 0.9520\n",
      "Epoch 66/1000\n",
      "31/32 [============================>.] - ETA: 0s - loss: 0.5776 - accuracy: 0.7891\n",
      "Epoch 66: saving model to model/keypoint_classifier/keypoint_classifier.hdf5\n",
      "32/32 [==============================] - 0s 7ms/step - loss: 0.5756 - accuracy: 0.7886 - val_loss: 0.2795 - val_accuracy: 0.9513\n",
      "Epoch 67/1000\n",
      "17/32 [==============>...............] - ETA: 0s - loss: 0.5865 - accuracy: 0.7840\n",
      "Epoch 67: saving model to model/keypoint_classifier/keypoint_classifier.hdf5\n",
      "32/32 [==============================] - 0s 6ms/step - loss: 0.5779 - accuracy: 0.7905 - val_loss: 0.2762 - val_accuracy: 0.9565\n",
      "Epoch 68/1000\n",
      "19/32 [================>.............] - ETA: 0s - loss: 0.5678 - accuracy: 0.7808\n",
      "Epoch 68: saving model to model/keypoint_classifier/keypoint_classifier.hdf5\n",
      "32/32 [==============================] - 0s 6ms/step - loss: 0.5620 - accuracy: 0.7859 - val_loss: 0.2710 - val_accuracy: 0.9528\n",
      "Epoch 69/1000\n",
      "21/32 [==================>...........] - ETA: 0s - loss: 0.5920 - accuracy: 0.7723\n",
      "Epoch 69: saving model to model/keypoint_classifier/keypoint_classifier.hdf5\n",
      "32/32 [==============================] - 0s 5ms/step - loss: 0.5822 - accuracy: 0.7797 - val_loss: 0.2815 - val_accuracy: 0.9542\n",
      "Epoch 70/1000\n",
      "22/32 [===================>..........] - ETA: 0s - loss: 0.6025 - accuracy: 0.7834\n",
      "Epoch 70: saving model to model/keypoint_classifier/keypoint_classifier.hdf5\n",
      "32/32 [==============================] - 0s 5ms/step - loss: 0.5796 - accuracy: 0.7901 - val_loss: 0.2851 - val_accuracy: 0.9587\n",
      "Epoch 71/1000\n",
      "21/32 [==================>...........] - ETA: 0s - loss: 0.5920 - accuracy: 0.7794\n",
      "Epoch 71: saving model to model/keypoint_classifier/keypoint_classifier.hdf5\n",
      "32/32 [==============================] - 0s 5ms/step - loss: 0.5959 - accuracy: 0.7780 - val_loss: 0.2727 - val_accuracy: 0.9550\n",
      "Epoch 72/1000\n",
      "21/32 [==================>...........] - ETA: 0s - loss: 0.5661 - accuracy: 0.7958\n",
      "Epoch 72: saving model to model/keypoint_classifier/keypoint_classifier.hdf5\n",
      "32/32 [==============================] - 0s 5ms/step - loss: 0.5711 - accuracy: 0.7908 - val_loss: 0.2696 - val_accuracy: 0.9624\n",
      "Epoch 73/1000\n",
      "22/32 [===================>..........] - ETA: 0s - loss: 0.5857 - accuracy: 0.7731\n",
      "Epoch 73: saving model to model/keypoint_classifier/keypoint_classifier.hdf5\n",
      "32/32 [==============================] - 0s 5ms/step - loss: 0.5772 - accuracy: 0.7805 - val_loss: 0.2777 - val_accuracy: 0.9557\n",
      "Epoch 74/1000\n",
      "17/32 [==============>...............] - ETA: 0s - loss: 0.5474 - accuracy: 0.8038\n",
      "Epoch 74: saving model to model/keypoint_classifier/keypoint_classifier.hdf5\n",
      "32/32 [==============================] - 0s 6ms/step - loss: 0.5623 - accuracy: 0.7940 - val_loss: 0.2769 - val_accuracy: 0.9601\n",
      "Epoch 75/1000\n",
      "18/32 [===============>..............] - ETA: 0s - loss: 0.5572 - accuracy: 0.7821\n",
      "Epoch 75: saving model to model/keypoint_classifier/keypoint_classifier.hdf5\n",
      "32/32 [==============================] - 0s 6ms/step - loss: 0.5694 - accuracy: 0.7893 - val_loss: 0.2711 - val_accuracy: 0.9572\n",
      "Epoch 76/1000\n",
      "18/32 [===============>..............] - ETA: 0s - loss: 0.5767 - accuracy: 0.7886\n",
      "Epoch 76: saving model to model/keypoint_classifier/keypoint_classifier.hdf5\n",
      "32/32 [==============================] - 0s 6ms/step - loss: 0.5735 - accuracy: 0.7891 - val_loss: 0.2667 - val_accuracy: 0.9572\n",
      "Epoch 77/1000\n",
      "22/32 [===================>..........] - ETA: 0s - loss: 0.5589 - accuracy: 0.7901\n",
      "Epoch 77: saving model to model/keypoint_classifier/keypoint_classifier.hdf5\n",
      "32/32 [==============================] - 0s 7ms/step - loss: 0.5715 - accuracy: 0.7886 - val_loss: 0.2683 - val_accuracy: 0.9631\n",
      "Epoch 78/1000\n",
      "19/32 [================>.............] - ETA: 0s - loss: 0.5577 - accuracy: 0.7952\n",
      "Epoch 78: saving model to model/keypoint_classifier/keypoint_classifier.hdf5\n",
      "32/32 [==============================] - 0s 6ms/step - loss: 0.5571 - accuracy: 0.7952 - val_loss: 0.2795 - val_accuracy: 0.9535\n",
      "Epoch 79/1000\n",
      "21/32 [==================>...........] - ETA: 0s - loss: 0.5553 - accuracy: 0.7850\n",
      "Epoch 79: saving model to model/keypoint_classifier/keypoint_classifier.hdf5\n",
      "32/32 [==============================] - 0s 6ms/step - loss: 0.5463 - accuracy: 0.7950 - val_loss: 0.2660 - val_accuracy: 0.9601\n",
      "Epoch 80/1000\n",
      "21/32 [==================>...........] - ETA: 0s - loss: 0.5547 - accuracy: 0.7995\n",
      "Epoch 80: saving model to model/keypoint_classifier/keypoint_classifier.hdf5\n",
      "32/32 [==============================] - 0s 5ms/step - loss: 0.5654 - accuracy: 0.7933 - val_loss: 0.2716 - val_accuracy: 0.9572\n",
      "Epoch 81/1000\n",
      "22/32 [===================>..........] - ETA: 0s - loss: 0.5730 - accuracy: 0.7884\n",
      "Epoch 81: saving model to model/keypoint_classifier/keypoint_classifier.hdf5\n",
      "32/32 [==============================] - 0s 5ms/step - loss: 0.5648 - accuracy: 0.7918 - val_loss: 0.2750 - val_accuracy: 0.9594\n",
      "Epoch 82/1000\n",
      "21/32 [==================>...........] - ETA: 0s - loss: 0.5683 - accuracy: 0.7812\n",
      "Epoch 82: saving model to model/keypoint_classifier/keypoint_classifier.hdf5\n",
      "32/32 [==============================] - 0s 5ms/step - loss: 0.5762 - accuracy: 0.7795 - val_loss: 0.2749 - val_accuracy: 0.9579\n",
      "Epoch 83/1000\n",
      "22/32 [===================>..........] - ETA: 0s - loss: 0.5608 - accuracy: 0.7962\n",
      "Epoch 83: saving model to model/keypoint_classifier/keypoint_classifier.hdf5\n",
      "32/32 [==============================] - 0s 5ms/step - loss: 0.5641 - accuracy: 0.7881 - val_loss: 0.2650 - val_accuracy: 0.9675\n",
      "Epoch 84/1000\n",
      "22/32 [===================>..........] - ETA: 0s - loss: 0.5364 - accuracy: 0.8026\n",
      "Epoch 84: saving model to model/keypoint_classifier/keypoint_classifier.hdf5\n",
      "32/32 [==============================] - 0s 6ms/step - loss: 0.5382 - accuracy: 0.8006 - val_loss: 0.2628 - val_accuracy: 0.9587\n",
      "Epoch 85/1000\n",
      "19/32 [================>.............] - ETA: 0s - loss: 0.5507 - accuracy: 0.7936\n",
      "Epoch 85: saving model to model/keypoint_classifier/keypoint_classifier.hdf5\n",
      "32/32 [==============================] - 0s 6ms/step - loss: 0.5536 - accuracy: 0.7947 - val_loss: 0.2601 - val_accuracy: 0.9646\n",
      "Epoch 86/1000\n",
      "18/32 [===============>..............] - ETA: 0s - loss: 0.5665 - accuracy: 0.7869\n",
      "Epoch 86: saving model to model/keypoint_classifier/keypoint_classifier.hdf5\n",
      "32/32 [==============================] - 0s 6ms/step - loss: 0.5710 - accuracy: 0.7869 - val_loss: 0.2754 - val_accuracy: 0.9572\n",
      "Epoch 87/1000\n",
      "21/32 [==================>...........] - ETA: 0s - loss: 0.5437 - accuracy: 0.8058\n",
      "Epoch 87: saving model to model/keypoint_classifier/keypoint_classifier.hdf5\n",
      "32/32 [==============================] - 0s 8ms/step - loss: 0.5500 - accuracy: 0.8021 - val_loss: 0.2676 - val_accuracy: 0.9668\n",
      "Epoch 88/1000\n",
      "22/32 [===================>..........] - ETA: 0s - loss: 0.5632 - accuracy: 0.7947\n",
      "Epoch 88: saving model to model/keypoint_classifier/keypoint_classifier.hdf5\n",
      "32/32 [==============================] - 0s 6ms/step - loss: 0.5599 - accuracy: 0.7940 - val_loss: 0.2673 - val_accuracy: 0.9646\n",
      "Epoch 89/1000\n",
      "17/32 [==============>...............] - ETA: 0s - loss: 0.5309 - accuracy: 0.8093\n",
      "Epoch 89: saving model to model/keypoint_classifier/keypoint_classifier.hdf5\n",
      "32/32 [==============================] - 0s 6ms/step - loss: 0.5479 - accuracy: 0.7984 - val_loss: 0.2596 - val_accuracy: 0.9683\n",
      "Epoch 90/1000\n",
      "21/32 [==================>...........] - ETA: 0s - loss: 0.5611 - accuracy: 0.7898\n",
      "Epoch 90: saving model to model/keypoint_classifier/keypoint_classifier.hdf5\n",
      "32/32 [==============================] - 0s 5ms/step - loss: 0.5566 - accuracy: 0.7910 - val_loss: 0.2710 - val_accuracy: 0.9668\n",
      "Epoch 91/1000\n",
      "21/32 [==================>...........] - ETA: 0s - loss: 0.5727 - accuracy: 0.7835\n",
      "Epoch 91: saving model to model/keypoint_classifier/keypoint_classifier.hdf5\n",
      "32/32 [==============================] - 0s 5ms/step - loss: 0.5574 - accuracy: 0.7913 - val_loss: 0.2680 - val_accuracy: 0.9631\n",
      "Epoch 92/1000\n",
      "24/32 [=====================>........] - ETA: 0s - loss: 0.5463 - accuracy: 0.7939\n",
      "Epoch 92: saving model to model/keypoint_classifier/keypoint_classifier.hdf5\n",
      "32/32 [==============================] - 0s 5ms/step - loss: 0.5500 - accuracy: 0.7920 - val_loss: 0.2636 - val_accuracy: 0.9661\n",
      "Epoch 93/1000\n",
      "20/32 [=================>............] - ETA: 0s - loss: 0.5361 - accuracy: 0.7977\n",
      "Epoch 93: saving model to model/keypoint_classifier/keypoint_classifier.hdf5\n",
      "32/32 [==============================] - 0s 5ms/step - loss: 0.5391 - accuracy: 0.7977 - val_loss: 0.2595 - val_accuracy: 0.9624\n",
      "Epoch 94/1000\n",
      "22/32 [===================>..........] - ETA: 0s - loss: 0.5371 - accuracy: 0.8033\n",
      "Epoch 94: saving model to model/keypoint_classifier/keypoint_classifier.hdf5\n",
      "32/32 [==============================] - 0s 5ms/step - loss: 0.5262 - accuracy: 0.8061 - val_loss: 0.2567 - val_accuracy: 0.9675\n",
      "Epoch 95/1000\n",
      "21/32 [==================>...........] - ETA: 0s - loss: 0.5297 - accuracy: 0.8021\n",
      "Epoch 95: saving model to model/keypoint_classifier/keypoint_classifier.hdf5\n",
      "32/32 [==============================] - 0s 5ms/step - loss: 0.5379 - accuracy: 0.7984 - val_loss: 0.2477 - val_accuracy: 0.9668\n",
      "Epoch 96/1000\n",
      "20/32 [=================>............] - ETA: 0s - loss: 0.5391 - accuracy: 0.8082\n",
      "Epoch 96: saving model to model/keypoint_classifier/keypoint_classifier.hdf5\n",
      "32/32 [==============================] - 0s 6ms/step - loss: 0.5421 - accuracy: 0.8075 - val_loss: 0.2561 - val_accuracy: 0.9646\n",
      "Epoch 97/1000\n",
      "24/32 [=====================>........] - ETA: 0s - loss: 0.5612 - accuracy: 0.7891\n",
      "Epoch 97: saving model to model/keypoint_classifier/keypoint_classifier.hdf5\n",
      "32/32 [==============================] - 0s 7ms/step - loss: 0.5627 - accuracy: 0.7891 - val_loss: 0.2602 - val_accuracy: 0.9668\n",
      "Epoch 98/1000\n",
      "17/32 [==============>...............] - ETA: 0s - loss: 0.5456 - accuracy: 0.7983\n",
      "Epoch 98: saving model to model/keypoint_classifier/keypoint_classifier.hdf5\n",
      "32/32 [==============================] - 0s 6ms/step - loss: 0.5438 - accuracy: 0.7974 - val_loss: 0.2608 - val_accuracy: 0.9690\n",
      "Epoch 99/1000\n",
      "31/32 [============================>.] - ETA: 0s - loss: 0.5456 - accuracy: 0.7986\n",
      "Epoch 99: saving model to model/keypoint_classifier/keypoint_classifier.hdf5\n",
      "32/32 [==============================] - 0s 7ms/step - loss: 0.5458 - accuracy: 0.7979 - val_loss: 0.2608 - val_accuracy: 0.9638\n",
      "Epoch 100/1000\n",
      "18/32 [===============>..............] - ETA: 0s - loss: 0.5528 - accuracy: 0.7895\n",
      "Epoch 100: saving model to model/keypoint_classifier/keypoint_classifier.hdf5\n",
      "32/32 [==============================] - 0s 6ms/step - loss: 0.5533 - accuracy: 0.7913 - val_loss: 0.2713 - val_accuracy: 0.9624\n",
      "Epoch 101/1000\n",
      "21/32 [==================>...........] - ETA: 0s - loss: 0.5499 - accuracy: 0.7958\n",
      "Epoch 101: saving model to model/keypoint_classifier/keypoint_classifier.hdf5\n",
      "32/32 [==============================] - 0s 5ms/step - loss: 0.5728 - accuracy: 0.7856 - val_loss: 0.2768 - val_accuracy: 0.9572\n",
      "Epoch 102/1000\n",
      "20/32 [=================>............] - ETA: 0s - loss: 0.5349 - accuracy: 0.8078\n",
      "Epoch 102: saving model to model/keypoint_classifier/keypoint_classifier.hdf5\n",
      "32/32 [==============================] - 0s 5ms/step - loss: 0.5404 - accuracy: 0.8029 - val_loss: 0.2691 - val_accuracy: 0.9646\n",
      "Epoch 103/1000\n",
      "20/32 [=================>............] - ETA: 0s - loss: 0.5445 - accuracy: 0.7969\n",
      "Epoch 103: saving model to model/keypoint_classifier/keypoint_classifier.hdf5\n",
      "32/32 [==============================] - 0s 5ms/step - loss: 0.5484 - accuracy: 0.7947 - val_loss: 0.2677 - val_accuracy: 0.9624\n",
      "Epoch 104/1000\n",
      "22/32 [===================>..........] - ETA: 0s - loss: 0.5297 - accuracy: 0.8129\n",
      "Epoch 104: saving model to model/keypoint_classifier/keypoint_classifier.hdf5\n",
      "32/32 [==============================] - 0s 5ms/step - loss: 0.5367 - accuracy: 0.8046 - val_loss: 0.2584 - val_accuracy: 0.9653\n",
      "Epoch 105/1000\n",
      "19/32 [================>.............] - ETA: 0s - loss: 0.5382 - accuracy: 0.7965\n",
      "Epoch 105: saving model to model/keypoint_classifier/keypoint_classifier.hdf5\n",
      "32/32 [==============================] - 0s 6ms/step - loss: 0.5267 - accuracy: 0.8033 - val_loss: 0.2509 - val_accuracy: 0.9727\n",
      "Epoch 106/1000\n",
      "20/32 [=================>............] - ETA: 0s - loss: 0.5249 - accuracy: 0.8121\n",
      "Epoch 106: saving model to model/keypoint_classifier/keypoint_classifier.hdf5\n",
      "32/32 [==============================] - 0s 6ms/step - loss: 0.5297 - accuracy: 0.8093 - val_loss: 0.2559 - val_accuracy: 0.9683\n",
      "Epoch 107/1000\n",
      "21/32 [==================>...........] - ETA: 0s - loss: 0.5331 - accuracy: 0.7976\n",
      "Epoch 107: saving model to model/keypoint_classifier/keypoint_classifier.hdf5\n",
      "32/32 [==============================] - 0s 7ms/step - loss: 0.5349 - accuracy: 0.8019 - val_loss: 0.2650 - val_accuracy: 0.9601\n",
      "Epoch 108/1000\n",
      "20/32 [=================>............] - ETA: 0s - loss: 0.5582 - accuracy: 0.7945\n",
      "Epoch 108: saving model to model/keypoint_classifier/keypoint_classifier.hdf5\n",
      "32/32 [==============================] - 0s 6ms/step - loss: 0.5437 - accuracy: 0.8014 - val_loss: 0.2565 - val_accuracy: 0.9683\n",
      "Epoch 109/1000\n",
      "18/32 [===============>..............] - ETA: 0s - loss: 0.4946 - accuracy: 0.8194\n",
      "Epoch 109: saving model to model/keypoint_classifier/keypoint_classifier.hdf5\n",
      "32/32 [==============================] - 0s 6ms/step - loss: 0.5031 - accuracy: 0.8132 - val_loss: 0.2407 - val_accuracy: 0.9631\n",
      "Epoch 110/1000\n",
      "20/32 [=================>............] - ETA: 0s - loss: 0.5442 - accuracy: 0.7820\n",
      "Epoch 110: saving model to model/keypoint_classifier/keypoint_classifier.hdf5\n",
      "32/32 [==============================] - 0s 6ms/step - loss: 0.5427 - accuracy: 0.7861 - val_loss: 0.2645 - val_accuracy: 0.9653\n",
      "Epoch 111/1000\n",
      "17/32 [==============>...............] - ETA: 0s - loss: 0.4954 - accuracy: 0.8125\n",
      "Epoch 111: saving model to model/keypoint_classifier/keypoint_classifier.hdf5\n",
      "32/32 [==============================] - 0s 6ms/step - loss: 0.5080 - accuracy: 0.8083 - val_loss: 0.2563 - val_accuracy: 0.9675\n",
      "Epoch 112/1000\n",
      "21/32 [==================>...........] - ETA: 0s - loss: 0.5508 - accuracy: 0.7984\n",
      "Epoch 112: saving model to model/keypoint_classifier/keypoint_classifier.hdf5\n",
      "32/32 [==============================] - 0s 6ms/step - loss: 0.5400 - accuracy: 0.8019 - val_loss: 0.2678 - val_accuracy: 0.9705\n",
      "Epoch 113/1000\n",
      "19/32 [================>.............] - ETA: 0s - loss: 0.5401 - accuracy: 0.7940\n",
      "Epoch 113: saving model to model/keypoint_classifier/keypoint_classifier.hdf5\n",
      "32/32 [==============================] - 0s 6ms/step - loss: 0.5518 - accuracy: 0.7928 - val_loss: 0.2684 - val_accuracy: 0.9742\n",
      "Epoch 114/1000\n",
      "20/32 [=================>............] - ETA: 0s - loss: 0.5515 - accuracy: 0.7926\n",
      "Epoch 114: saving model to model/keypoint_classifier/keypoint_classifier.hdf5\n",
      "32/32 [==============================] - 0s 5ms/step - loss: 0.5284 - accuracy: 0.8043 - val_loss: 0.2597 - val_accuracy: 0.9764\n",
      "Epoch 115/1000\n",
      "21/32 [==================>...........] - ETA: 0s - loss: 0.5229 - accuracy: 0.8010\n",
      "Epoch 115: saving model to model/keypoint_classifier/keypoint_classifier.hdf5\n",
      "32/32 [==============================] - 0s 5ms/step - loss: 0.5212 - accuracy: 0.8041 - val_loss: 0.2581 - val_accuracy: 0.9727\n",
      "Epoch 116/1000\n",
      "16/32 [==============>...............] - ETA: 0s - loss: 0.4950 - accuracy: 0.8145\n",
      "Epoch 116: saving model to model/keypoint_classifier/keypoint_classifier.hdf5\n",
      "32/32 [==============================] - 0s 7ms/step - loss: 0.5111 - accuracy: 0.8100 - val_loss: 0.2424 - val_accuracy: 0.9749\n",
      "Epoch 117/1000\n",
      "19/32 [================>.............] - ETA: 0s - loss: 0.5628 - accuracy: 0.7858\n",
      "Epoch 117: saving model to model/keypoint_classifier/keypoint_classifier.hdf5\n",
      "32/32 [==============================] - 0s 6ms/step - loss: 0.5474 - accuracy: 0.7918 - val_loss: 0.2593 - val_accuracy: 0.9668\n",
      "Epoch 118/1000\n",
      "19/32 [================>.............] - ETA: 0s - loss: 0.5439 - accuracy: 0.7973\n",
      "Epoch 118: saving model to model/keypoint_classifier/keypoint_classifier.hdf5\n",
      "32/32 [==============================] - 0s 6ms/step - loss: 0.5328 - accuracy: 0.8041 - val_loss: 0.2659 - val_accuracy: 0.9616\n",
      "Epoch 119/1000\n",
      "18/32 [===============>..............] - ETA: 0s - loss: 0.5394 - accuracy: 0.8021\n",
      "Epoch 119: saving model to model/keypoint_classifier/keypoint_classifier.hdf5\n",
      "32/32 [==============================] - 0s 6ms/step - loss: 0.5365 - accuracy: 0.8006 - val_loss: 0.2556 - val_accuracy: 0.9712\n",
      "Epoch 120/1000\n",
      "31/32 [============================>.] - ETA: 0s - loss: 0.5149 - accuracy: 0.8143\n",
      "Epoch 120: saving model to model/keypoint_classifier/keypoint_classifier.hdf5\n",
      "32/32 [==============================] - 0s 7ms/step - loss: 0.5136 - accuracy: 0.8144 - val_loss: 0.2584 - val_accuracy: 0.9697\n",
      "Epoch 121/1000\n",
      "16/32 [==============>...............] - ETA: 0s - loss: 0.5028 - accuracy: 0.8125\n",
      "Epoch 121: saving model to model/keypoint_classifier/keypoint_classifier.hdf5\n",
      "32/32 [==============================] - 0s 6ms/step - loss: 0.5107 - accuracy: 0.8093 - val_loss: 0.2589 - val_accuracy: 0.9661\n",
      "Epoch 122/1000\n",
      "18/32 [===============>..............] - ETA: 0s - loss: 0.5409 - accuracy: 0.8008\n",
      "Epoch 122: saving model to model/keypoint_classifier/keypoint_classifier.hdf5\n",
      "32/32 [==============================] - 0s 6ms/step - loss: 0.5273 - accuracy: 0.8056 - val_loss: 0.2605 - val_accuracy: 0.9646\n",
      "Epoch 123/1000\n",
      "20/32 [=================>............] - ETA: 0s - loss: 0.5098 - accuracy: 0.8148\n",
      "Epoch 123: saving model to model/keypoint_classifier/keypoint_classifier.hdf5\n",
      "32/32 [==============================] - 0s 6ms/step - loss: 0.5228 - accuracy: 0.8083 - val_loss: 0.2576 - val_accuracy: 0.9631\n",
      "Epoch 124/1000\n",
      "19/32 [================>.............] - ETA: 0s - loss: 0.5296 - accuracy: 0.8022\n",
      "Epoch 124: saving model to model/keypoint_classifier/keypoint_classifier.hdf5\n",
      "32/32 [==============================] - 0s 6ms/step - loss: 0.5165 - accuracy: 0.8073 - val_loss: 0.2626 - val_accuracy: 0.9653\n",
      "Epoch 125/1000\n",
      "22/32 [===================>..........] - ETA: 0s - loss: 0.5417 - accuracy: 0.8058\n",
      "Epoch 125: saving model to model/keypoint_classifier/keypoint_classifier.hdf5\n",
      "32/32 [==============================] - 0s 6ms/step - loss: 0.5365 - accuracy: 0.8036 - val_loss: 0.2652 - val_accuracy: 0.9668\n",
      "Epoch 126/1000\n",
      "19/32 [================>.............] - ETA: 0s - loss: 0.5481 - accuracy: 0.8109\n",
      "Epoch 126: saving model to model/keypoint_classifier/keypoint_classifier.hdf5\n",
      "32/32 [==============================] - 0s 6ms/step - loss: 0.5251 - accuracy: 0.8157 - val_loss: 0.2560 - val_accuracy: 0.9668\n",
      "Epoch 127/1000\n",
      "21/32 [==================>...........] - ETA: 0s - loss: 0.4663 - accuracy: 0.8352\n",
      "Epoch 127: saving model to model/keypoint_classifier/keypoint_classifier.hdf5\n",
      "32/32 [==============================] - 0s 5ms/step - loss: 0.4777 - accuracy: 0.8321 - val_loss: 0.2548 - val_accuracy: 0.9594\n",
      "Epoch 128/1000\n",
      "17/32 [==============>...............] - ETA: 0s - loss: 0.4875 - accuracy: 0.8185\n",
      "Epoch 128: saving model to model/keypoint_classifier/keypoint_classifier.hdf5\n",
      "32/32 [==============================] - 0s 6ms/step - loss: 0.5184 - accuracy: 0.8070 - val_loss: 0.2651 - val_accuracy: 0.9601\n",
      "Epoch 129/1000\n",
      "18/32 [===============>..............] - ETA: 0s - loss: 0.4964 - accuracy: 0.8186\n",
      "Epoch 129: saving model to model/keypoint_classifier/keypoint_classifier.hdf5\n",
      "32/32 [==============================] - 0s 6ms/step - loss: 0.5220 - accuracy: 0.8088 - val_loss: 0.2667 - val_accuracy: 0.9653\n",
      "Epoch 129: early stopping\n"
     ]
    },
    {
     "data": {
      "text/plain": [
       "<keras.src.callbacks.History at 0x7f95d416d0c0>"
      ]
     },
     "execution_count": 11,
     "metadata": {},
     "output_type": "execute_result"
    }
   ],
   "source": [
    "model.fit(\n",
    "    X_train,\n",
    "    y_train,\n",
    "    epochs=1000,\n",
    "    batch_size=128,\n",
    "    validation_data=(X_test, y_test),\n",
    "    callbacks=[cp_callback, es_callback]\n",
    ")"
   ]
  },
  {
   "cell_type": "code",
   "execution_count": 12,
   "metadata": {},
   "outputs": [
    {
     "name": "stdout",
     "output_type": "stream",
     "text": [
      "11/11 [==============================] - 0s 2ms/step - loss: 0.2667 - accuracy: 0.9653\n"
     ]
    }
   ],
   "source": [
    "# モデル評価\n",
    "val_loss, val_acc = model.evaluate(X_test, y_test, batch_size=128)"
   ]
  },
  {
   "cell_type": "code",
   "execution_count": 13,
   "metadata": {},
   "outputs": [],
   "source": [
    "# 保存したモデルのロード\n",
    "model = tf.keras.models.load_model(model_save_path)"
   ]
  },
  {
   "cell_type": "code",
   "execution_count": 14,
   "metadata": {},
   "outputs": [
    {
     "name": "stdout",
     "output_type": "stream",
     "text": [
      "1/1 [==============================] - 0s 102ms/step\n",
      "[0.0939476  0.02317493 0.0080833  0.8747942 ]\n",
      "3\n"
     ]
    }
   ],
   "source": [
    "# 推論テスト\n",
    "predict_result = model.predict(np.array([X_test[0]]))\n",
    "print(np.squeeze(predict_result))\n",
    "print(np.argmax(np.squeeze(predict_result)))"
   ]
  },
  {
   "cell_type": "markdown",
   "metadata": {},
   "source": [
    "# 混同行列"
   ]
  },
  {
   "cell_type": "code",
   "execution_count": 17,
   "metadata": {},
   "outputs": [
    {
     "name": "stdout",
     "output_type": "stream",
     "text": [
      "43/43 [==============================] - 0s 2ms/step\n"
     ]
    },
    {
     "data": {
      "image/png": "[encoded data removed]",
      "text/plain": [
       "<Figure size 700x600 with 2 Axes>"
      ]
     },
     "metadata": {},
     "output_type": "display_data"
    },
    {
     "name": "stdout",
     "output_type": "stream",
     "text": [
      "Classification Report\n",
      "              precision    recall  f1-score   support\n",
      "\n",
      "           0       1.00      0.95      0.97       403\n",
      "           1       0.93      0.97      0.95       383\n",
      "           2       0.95      0.98      0.96       329\n",
      "           3       0.99      0.96      0.98       240\n",
      "\n",
      "    accuracy                           0.97      1355\n",
      "   macro avg       0.97      0.97      0.97      1355\n",
      "weighted avg       0.97      0.97      0.97      1355\n",
      "\n"
     ]
    }
   ],
   "source": [
    "import pandas as pd\n",
    "import seaborn as sns\n",
    "import matplotlib.pyplot as plt\n",
    "from sklearn.metrics import confusion_matrix, classification_report\n",
    "\n",
    "def print_confusion_matrix(y_true, y_pred, report=True):\n",
    "    labels = sorted(list(set(y_true)))\n",
    "    cmx_data = confusion_matrix(y_true, y_pred, labels=labels)\n",
    "    \n",
    "    df_cmx = pd.DataFrame(cmx_data, index=labels, columns=labels)\n",
    " \n",
    "    fig, ax = plt.subplots(figsize=(7, 6))\n",
    "    sns.heatmap(df_cmx, annot=True, fmt='g' ,square=False)\n",
    "    ax.set_ylim(len(set(y_true)), 0)\n",
    "    plt.show()\n",
    "    \n",
    "    if report:\n",
    "        print('Classification Report')\n",
    "        print(classification_report(y_test, y_pred))\n",
    "\n",
    "Y_pred = model.predict(X_test)\n",
    "y_pred = np.argmax(Y_pred, axis=1)\n",
    "\n",
    "print_confusion_matrix(y_test, y_pred)"
   ]
  },
  {
   "cell_type": "markdown",
   "metadata": {},
   "source": [
    "# Tensorflow-Lite用のモデルへ変換"
   ]
  },
  {
   "cell_type": "code",
   "execution_count": 18,
   "metadata": {},
   "outputs": [
    {
     "name": "stderr",
     "output_type": "stream",
     "text": [
      "/tmp/venv/lib/python3.10/site-packages/keras/src/engine/training.py:3103: UserWarning: You are saving your model as an HDF5 file via `model.save()`. This file format is considered legacy. We recommend using instead the native Keras format, e.g. `model.save('my_model.keras')`.\n",
      "  saving_api.save_model(\n"
     ]
    }
   ],
   "source": [
    "# 推論専用のモデルとして保存\n",
    "model.save(model_save_path, include_optimizer=False)"
   ]
  },
  {
   "cell_type": "code",
   "execution_count": 19,
   "metadata": {},
   "outputs": [
    {
     "name": "stdout",
     "output_type": "stream",
     "text": [
      "INFO:tensorflow:Assets written to: /tmp/tmp6l7x6k4s/assets\n"
     ]
    },
    {
     "name": "stderr",
     "output_type": "stream",
     "text": [
      "INFO:tensorflow:Assets written to: /tmp/tmp6l7x6k4s/assets\n",
      "2024-01-08 16:04:23.964820: W tensorflow/compiler/mlir/lite/python/tf_tfl_flatbuffer_helpers.cc:378] Ignored output_format.\n",
      "2024-01-08 16:04:23.964852: W tensorflow/compiler/mlir/lite/python/tf_tfl_flatbuffer_helpers.cc:381] Ignored drop_control_dependency.\n",
      "2024-01-08 16:04:23.965243: I tensorflow/cc/saved_model/reader.cc:83] Reading SavedModel from: /tmp/tmp6l7x6k4s\n",
      "2024-01-08 16:04:23.966832: I tensorflow/cc/saved_model/reader.cc:51] Reading meta graph with tags { serve }\n",
      "2024-01-08 16:04:23.966847: I tensorflow/cc/saved_model/reader.cc:146] Reading SavedModel debug info (if present) from: /tmp/tmp6l7x6k4s\n",
      "2024-01-08 16:04:23.969766: I tensorflow/compiler/mlir/mlir_graph_optimization_pass.cc:388] MLIR V1 optimization pass is not enabled\n",
      "2024-01-08 16:04:23.970817: I tensorflow/cc/saved_model/loader.cc:233] Restoring SavedModel bundle.\n",
      "2024-01-08 16:04:24.018801: I tensorflow/cc/saved_model/loader.cc:217] Running initialization op on SavedModel bundle at path: /tmp/tmp6l7x6k4s\n",
      "2024-01-08 16:04:24.032917: I tensorflow/cc/saved_model/loader.cc:316] SavedModel load for tags { serve }; Status: success: OK. Took 67676 microseconds.\n",
      "2024-01-08 16:04:24.049538: I tensorflow/compiler/mlir/tensorflow/utils/dump_mlir_util.cc:269] disabling MLIR crash reproducer, set env var `MLIR_CRASH_REPRODUCER_DIRECTORY` to enable.\n",
      "Summary on the non-converted ops:\n",
      "---------------------------------\n",
      " * Accepted dialects: tfl, builtin, func\n",
      " * Non-Converted Ops: 6, Total Ops 13, % non-converted = 46.15 %\n",
      " * 6 ARITH ops\n",
      "\n",
      "- arith.constant:    6 occurrences  (f32: 6)\n",
      "\n",
      "\n",
      "\n",
      "  (f32: 3)\n",
      "  (f32: 1)\n"
     ]
    },
    {
     "data": {
      "text/plain": [
       "6544"
      ]
     },
     "execution_count": 19,
     "metadata": {},
     "output_type": "execute_result"
    }
   ],
   "source": [
    "# モデルを変換(量子化)\n",
    "tflite_save_path = 'model/keypoint_classifier/keypoint_classifier_3.tflite'\n",
    "\n",
    "converter = tf.lite.TFLiteConverter.from_keras_model(model)\n",
    "converter.optimizations = [tf.lite.Optimize.DEFAULT]\n",
    "tflite_quantized_model = converter.convert()\n",
    "\n",
    "open(tflite_save_path, 'wb').write(tflite_quantized_model)"
   ]
  },
  {
   "cell_type": "markdown",
   "metadata": {},
   "source": [
    "# 推論テスト"
   ]
  },
  {
   "cell_type": "code",
   "execution_count": 20,
   "metadata": {},
   "outputs": [
    {
     "name": "stderr",
     "output_type": "stream",
     "text": [
      "INFO: Created TensorFlow Lite XNNPACK delegate for CPU.\n"
     ]
    }
   ],
   "source": [
    "interpreter = tf.lite.Interpreter(model_path=tflite_save_path)\n",
    "interpreter.allocate_tensors()"
   ]
  },
  {
   "cell_type": "code",
   "execution_count": 21,
   "metadata": {},
   "outputs": [],
   "source": [
    "# 入出力テンソルを取得\n",
    "input_details = interpreter.get_input_details()\n",
    "output_details = interpreter.get_output_details()"
   ]
  },
  {
   "cell_type": "code",
   "execution_count": 22,
   "metadata": {},
   "outputs": [],
   "source": [
    "interpreter.set_tensor(input_details[0]['index'], np.array([X_test[0]]))"
   ]
  },
  {
   "cell_type": "code",
   "execution_count": 23,
   "metadata": {
    "scrolled": true
   },
   "outputs": [
    {
     "name": "stdout",
     "output_type": "stream",
     "text": [
      "CPU times: user 485 µs, sys: 47 µs, total: 532 µs\n",
      "Wall time: 455 µs\n"
     ]
    }
   ],
   "source": [
    "%%time\n",
    "# 推論実施\n",
    "interpreter.invoke()\n",
    "tflite_results = interpreter.get_tensor(output_details[0]['index'])"
   ]
  },
  {
   "cell_type": "code",
   "execution_count": 24,
   "metadata": {},
   "outputs": [
    {
     "name": "stdout",
     "output_type": "stream",
     "text": [
      "[0.09394757 0.02317491 0.0080833  0.8747942 ]\n",
      "3\n"
     ]
    }
   ],
   "source": [
    "print(np.squeeze(tflite_results))\n",
    "print(np.argmax(np.squeeze(tflite_results)))"
   ]
  }
 ],
 "metadata": {
  "kernelspec": {
   "display_name": "Python 3",
   "language": "python",
   "name": "python3"
  },
  "language_info": {
   "codemirror_mode": {
    "name": "ipython",
    "version": 3
   },
   "file_extension": ".py",
   "mimetype": "text/x-python",
   "name": "python",
   "nbconvert_exporter": "python",
   "pygments_lexer": "ipython3",
   "version": "3.10.12"
  }
 },
 "nbformat": 4,
 "nbformat_minor": 4
}
