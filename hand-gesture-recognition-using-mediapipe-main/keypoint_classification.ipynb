{
 "cells": [
  {
   "cell_type": "code",
   "execution_count": 111,
   "metadata": {},
   "outputs": [],
   "source": [
    "import csv\n",
    "\n",
    "import numpy as np\n",
    "import tensorflow as tf\n",
    "from sklearn.model_selection import train_test_split\n",
    "\n",
    "RANDOM_SEED = 42"
   ]
  },
  {
   "cell_type": "markdown",
   "metadata": {},
   "source": [
    "# 各パス指定"
   ]
  },
  {
   "cell_type": "code",
   "execution_count": 112,
   "metadata": {},
   "outputs": [],
   "source": [
    "dataset = 'model/keypoint_classifier/keypoint.csv'\n",
    "model_save_path = 'model/keypoint_classifier/keypoint_classifier.hdf5'"
   ]
  },
  {
   "cell_type": "markdown",
   "metadata": {},
   "source": [
    "# 分類数設定"
   ]
  },
  {
   "cell_type": "code",
   "execution_count": 113,
   "metadata": {},
   "outputs": [],
   "source": [
    "NUM_CLASSES = 6"
   ]
  },
  {
   "cell_type": "markdown",
   "metadata": {},
   "source": [
    "# 学習データ読み込み"
   ]
  },
  {
   "cell_type": "code",
   "execution_count": 114,
   "metadata": {},
   "outputs": [],
   "source": [
    "X_dataset = np.loadtxt(dataset, delimiter=',', dtype='float32', usecols=list(range(1, (21 * 2) + 1)))"
   ]
  },
  {
   "cell_type": "code",
   "execution_count": 115,
   "metadata": {},
   "outputs": [],
   "source": [
    "y_dataset = np.loadtxt(dataset, delimiter=',', dtype='int32', usecols=(0))"
   ]
  },
  {
   "cell_type": "code",
   "execution_count": 116,
   "metadata": {},
   "outputs": [],
   "source": [
    "X_train, X_test, y_train, y_test = train_test_split(X_dataset, y_dataset, train_size=0.75, random_state=RANDOM_SEED)"
   ]
  },
  {
   "cell_type": "markdown",
   "metadata": {},
   "source": [
    "# モデル構築"
   ]
  },
  {
   "cell_type": "code",
   "execution_count": 117,
   "metadata": {},
   "outputs": [],
   "source": [
    "model = tf.keras.models.Sequential([\n",
    "    tf.keras.layers.Input((21 * 2, )),\n",
    "    tf.keras.layers.Dropout(0.2),\n",
    "    tf.keras.layers.Dense(20, activation='relu'),\n",
    "    tf.keras.layers.Dropout(0.4),\n",
    "    tf.keras.layers.Dense(10, activation='relu'),\n",
    "    tf.keras.layers.Dense(NUM_CLASSES, activation='softmax')\n",
    "])"
   ]
  },
  {
   "cell_type": "code",
   "execution_count": 118,
   "metadata": {},
   "outputs": [
    {
     "name": "stdout",
     "output_type": "stream",
     "text": [
      "Model: \"sequential_5\"\n",
      "_________________________________________________________________\n",
      " Layer (type)                Output Shape              Param #   \n",
      "=================================================================\n",
      " dropout_10 (Dropout)        (None, 42)                0         \n",
      "                                                                 \n",
      " dense_15 (Dense)            (None, 20)                860       \n",
      "                                                                 \n",
      " dropout_11 (Dropout)        (None, 20)                0         \n",
      "                                                                 \n",
      " dense_16 (Dense)            (None, 10)                210       \n",
      "                                                                 \n",
      " dense_17 (Dense)            (None, 6)                 66        \n",
      "                                                                 \n",
      "=================================================================\n",
      "Total params: 1136 (4.44 KB)\n",
      "Trainable params: 1136 (4.44 KB)\n",
      "Non-trainable params: 0 (0.00 Byte)\n",
      "_________________________________________________________________\n"
     ]
    }
   ],
   "source": [
    "model.summary()  # tf.keras.utils.plot_model(model, show_shapes=True)"
   ]
  },
  {
   "cell_type": "code",
   "execution_count": 119,
   "metadata": {},
   "outputs": [],
   "source": [
    "# モデルチェックポイントのコールバック\n",
    "cp_callback = tf.keras.callbacks.ModelCheckpoint(\n",
    "    model_save_path, verbose=1, save_weights_only=False)\n",
    "# 早期打ち切り用コールバック\n",
    "es_callback = tf.keras.callbacks.EarlyStopping(patience=20, verbose=1)"
   ]
  },
  {
   "cell_type": "code",
   "execution_count": 120,
   "metadata": {},
   "outputs": [],
   "source": [
    "# モデルコンパイル\n",
    "model.compile(\n",
    "    optimizer='adam',\n",
    "    loss='sparse_categorical_crossentropy',\n",
    "    metrics=['accuracy']\n",
    ")"
   ]
  },
  {
   "cell_type": "markdown",
   "metadata": {},
   "source": [
    "# モデル訓練"
   ]
  },
  {
   "cell_type": "code",
   "execution_count": 121,
   "metadata": {
    "scrolled": true
   },
   "outputs": [
    {
     "name": "stdout",
     "output_type": "stream",
     "text": [
      "Epoch 1/1000\n"
     ]
    },
    {
     "name": "stdout",
     "output_type": "stream",
     "text": [
      "28/51 [===============>..............] - ETA: 0s - loss: 1.8212 - accuracy: 0.1836 \n",
      "Epoch 1: saving model to model/keypoint_classifier/keypoint_classifier.hdf5\n",
      "51/51 [==============================] - 1s 7ms/step - loss: 1.7949 - accuracy: 0.1998 - val_loss: 1.7072 - val_accuracy: 0.3439\n",
      "Epoch 2/1000\n",
      "49/51 [===========================>..] - ETA: 0s - loss: 1.7094 - accuracy: 0.2789\n",
      "Epoch 2: saving model to model/keypoint_classifier/keypoint_classifier.hdf5\n"
     ]
    },
    {
     "name": "stderr",
     "output_type": "stream",
     "text": [
      "/tmp/myenv/lib/python3.10/site-packages/keras/src/engine/training.py:3103: UserWarning: You are saving your model as an HDF5 file via `model.save()`. This file format is considered legacy. We recommend using instead the native Keras format, e.g. `model.save('my_model.keras')`.\n",
      "  saving_api.save_model(\n"
     ]
    },
    {
     "name": "stdout",
     "output_type": "stream",
     "text": [
      "51/51 [==============================] - 0s 4ms/step - loss: 1.7080 - accuracy: 0.2802 - val_loss: 1.6298 - val_accuracy: 0.4068\n",
      "Epoch 3/1000\n",
      "48/51 [===========================>..] - ETA: 0s - loss: 1.6500 - accuracy: 0.3219\n",
      "Epoch 3: saving model to model/keypoint_classifier/keypoint_classifier.hdf5\n",
      "51/51 [==============================] - 0s 4ms/step - loss: 1.6496 - accuracy: 0.3237 - val_loss: 1.5336 - val_accuracy: 0.4506\n",
      "Epoch 4/1000\n",
      "51/51 [==============================] - ETA: 0s - loss: 1.5723 - accuracy: 0.3608\n",
      "Epoch 4: saving model to model/keypoint_classifier/keypoint_classifier.hdf5\n",
      "51/51 [==============================] - 0s 4ms/step - loss: 1.5723 - accuracy: 0.3608 - val_loss: 1.4311 - val_accuracy: 0.5140\n",
      "Epoch 5/1000\n",
      "26/51 [==============>...............] - ETA: 0s - loss: 1.5098 - accuracy: 0.3963\n",
      "Epoch 5: saving model to model/keypoint_classifier/keypoint_classifier.hdf5\n",
      "51/51 [==============================] - 0s 3ms/step - loss: 1.5108 - accuracy: 0.4001 - val_loss: 1.3298 - val_accuracy: 0.5704\n",
      "Epoch 6/1000\n",
      "27/51 [==============>...............] - ETA: 0s - loss: 1.4438 - accuracy: 0.4253\n",
      "Epoch 6: saving model to model/keypoint_classifier/keypoint_classifier.hdf5\n",
      "51/51 [==============================] - 0s 3ms/step - loss: 1.4252 - accuracy: 0.4349 - val_loss: 1.1922 - val_accuracy: 0.5983\n",
      "Epoch 7/1000\n",
      "26/51 [==============>...............] - ETA: 0s - loss: 1.3808 - accuracy: 0.4495\n",
      "Epoch 7: saving model to model/keypoint_classifier/keypoint_classifier.hdf5\n",
      "51/51 [==============================] - 0s 3ms/step - loss: 1.3671 - accuracy: 0.4599 - val_loss: 1.0986 - val_accuracy: 0.6305\n",
      "Epoch 8/1000\n",
      "50/51 [============================>.] - ETA: 0s - loss: 1.3139 - accuracy: 0.4864\n",
      "Epoch 8: saving model to model/keypoint_classifier/keypoint_classifier.hdf5\n",
      "51/51 [==============================] - 0s 4ms/step - loss: 1.3152 - accuracy: 0.4854 - val_loss: 1.0155 - val_accuracy: 0.7246\n",
      "Epoch 9/1000\n",
      "51/51 [==============================] - ETA: 0s - loss: 1.2766 - accuracy: 0.5045\n",
      "Epoch 9: saving model to model/keypoint_classifier/keypoint_classifier.hdf5\n",
      "51/51 [==============================] - 0s 4ms/step - loss: 1.2766 - accuracy: 0.5045 - val_loss: 0.9420 - val_accuracy: 0.7390\n",
      "Epoch 10/1000\n",
      "51/51 [==============================] - ETA: 0s - loss: 1.2339 - accuracy: 0.5216\n",
      "Epoch 10: saving model to model/keypoint_classifier/keypoint_classifier.hdf5\n",
      "51/51 [==============================] - 0s 4ms/step - loss: 1.2339 - accuracy: 0.5216 - val_loss: 0.8807 - val_accuracy: 0.7950\n",
      "Epoch 11/1000\n",
      "27/51 [==============>...............] - ETA: 0s - loss: 1.1847 - accuracy: 0.5353\n",
      "Epoch 11: saving model to model/keypoint_classifier/keypoint_classifier.hdf5\n",
      "51/51 [==============================] - 0s 3ms/step - loss: 1.1860 - accuracy: 0.5373 - val_loss: 0.8350 - val_accuracy: 0.8089\n",
      "Epoch 12/1000\n",
      "51/51 [==============================] - ETA: 0s - loss: 1.1719 - accuracy: 0.5499\n",
      "Epoch 12: saving model to model/keypoint_classifier/keypoint_classifier.hdf5\n",
      "51/51 [==============================] - 0s 4ms/step - loss: 1.1719 - accuracy: 0.5499 - val_loss: 0.7876 - val_accuracy: 0.8169\n",
      "Epoch 13/1000\n",
      "46/51 [==========================>...] - ETA: 0s - loss: 1.1454 - accuracy: 0.5593\n",
      "Epoch 13: saving model to model/keypoint_classifier/keypoint_classifier.hdf5\n",
      "51/51 [==============================] - 0s 5ms/step - loss: 1.1463 - accuracy: 0.5603 - val_loss: 0.7585 - val_accuracy: 0.8392\n",
      "Epoch 14/1000\n",
      "51/51 [==============================] - ETA: 0s - loss: 1.1166 - accuracy: 0.5715\n",
      "Epoch 14: saving model to model/keypoint_classifier/keypoint_classifier.hdf5\n",
      "51/51 [==============================] - 0s 4ms/step - loss: 1.1166 - accuracy: 0.5715 - val_loss: 0.7223 - val_accuracy: 0.8476\n",
      "Epoch 15/1000\n",
      "27/51 [==============>...............] - ETA: 0s - loss: 1.1200 - accuracy: 0.5628\n",
      "Epoch 15: saving model to model/keypoint_classifier/keypoint_classifier.hdf5\n",
      "51/51 [==============================] - 0s 3ms/step - loss: 1.1004 - accuracy: 0.5760 - val_loss: 0.6960 - val_accuracy: 0.8425\n",
      "Epoch 16/1000\n",
      "27/51 [==============>...............] - ETA: 0s - loss: 1.0720 - accuracy: 0.5964\n",
      "Epoch 16: saving model to model/keypoint_classifier/keypoint_classifier.hdf5\n",
      "51/51 [==============================] - 0s 4ms/step - loss: 1.0724 - accuracy: 0.5899 - val_loss: 0.6596 - val_accuracy: 0.8835\n",
      "Epoch 17/1000\n",
      "28/51 [===============>..............] - ETA: 0s - loss: 1.0584 - accuracy: 0.5904\n",
      "Epoch 17: saving model to model/keypoint_classifier/keypoint_classifier.hdf5\n",
      "51/51 [==============================] - 0s 3ms/step - loss: 1.0495 - accuracy: 0.5977 - val_loss: 0.6493 - val_accuracy: 0.8966\n",
      "Epoch 18/1000\n",
      "28/51 [===============>..............] - ETA: 0s - loss: 1.0434 - accuracy: 0.6024\n",
      "Epoch 18: saving model to model/keypoint_classifier/keypoint_classifier.hdf5\n",
      "51/51 [==============================] - 0s 3ms/step - loss: 1.0338 - accuracy: 0.6062 - val_loss: 0.6333 - val_accuracy: 0.8760\n",
      "Epoch 19/1000\n",
      "48/51 [===========================>..] - ETA: 0s - loss: 1.0128 - accuracy: 0.6118\n",
      "Epoch 19: saving model to model/keypoint_classifier/keypoint_classifier.hdf5\n",
      "51/51 [==============================] - 0s 4ms/step - loss: 1.0128 - accuracy: 0.6123 - val_loss: 0.6099 - val_accuracy: 0.8886\n",
      "Epoch 20/1000\n",
      "27/51 [==============>...............] - ETA: 0s - loss: 1.0217 - accuracy: 0.6114\n",
      "Epoch 20: saving model to model/keypoint_classifier/keypoint_classifier.hdf5\n",
      "51/51 [==============================] - 0s 3ms/step - loss: 1.0135 - accuracy: 0.6111 - val_loss: 0.6042 - val_accuracy: 0.9021\n",
      "Epoch 21/1000\n",
      "27/51 [==============>...............] - ETA: 0s - loss: 0.9933 - accuracy: 0.6209\n",
      "Epoch 21: saving model to model/keypoint_classifier/keypoint_classifier.hdf5\n",
      "51/51 [==============================] - 0s 3ms/step - loss: 0.9935 - accuracy: 0.6204 - val_loss: 0.5743 - val_accuracy: 0.9007\n",
      "Epoch 22/1000\n",
      "26/51 [==============>...............] - ETA: 0s - loss: 0.9884 - accuracy: 0.6178\n",
      "Epoch 22: saving model to model/keypoint_classifier/keypoint_classifier.hdf5\n",
      "51/51 [==============================] - 0s 3ms/step - loss: 0.9861 - accuracy: 0.6253 - val_loss: 0.5765 - val_accuracy: 0.9082\n",
      "Epoch 23/1000\n",
      "27/51 [==============>...............] - ETA: 0s - loss: 0.9902 - accuracy: 0.6291\n",
      "Epoch 23: saving model to model/keypoint_classifier/keypoint_classifier.hdf5\n",
      "51/51 [==============================] - 0s 3ms/step - loss: 0.9853 - accuracy: 0.6314 - val_loss: 0.5700 - val_accuracy: 0.9110\n",
      "Epoch 24/1000\n",
      "51/51 [==============================] - ETA: 0s - loss: 0.9630 - accuracy: 0.6403\n",
      "Epoch 24: saving model to model/keypoint_classifier/keypoint_classifier.hdf5\n",
      "51/51 [==============================] - 0s 4ms/step - loss: 0.9630 - accuracy: 0.6403 - val_loss: 0.5449 - val_accuracy: 0.9054\n",
      "Epoch 25/1000\n",
      "51/51 [==============================] - ETA: 0s - loss: 0.9618 - accuracy: 0.6367\n",
      "Epoch 25: saving model to model/keypoint_classifier/keypoint_classifier.hdf5\n",
      "51/51 [==============================] - 0s 4ms/step - loss: 0.9618 - accuracy: 0.6367 - val_loss: 0.5381 - val_accuracy: 0.9250\n",
      "Epoch 26/1000\n",
      "27/51 [==============>...............] - ETA: 0s - loss: 0.9333 - accuracy: 0.6461\n",
      "Epoch 26: saving model to model/keypoint_classifier/keypoint_classifier.hdf5\n",
      "51/51 [==============================] - 0s 3ms/step - loss: 0.9177 - accuracy: 0.6499 - val_loss: 0.5298 - val_accuracy: 0.8966\n",
      "Epoch 27/1000\n",
      "27/51 [==============>...............] - ETA: 0s - loss: 0.9524 - accuracy: 0.6345\n",
      "Epoch 27: saving model to model/keypoint_classifier/keypoint_classifier.hdf5\n",
      "51/51 [==============================] - 0s 3ms/step - loss: 0.9451 - accuracy: 0.6406 - val_loss: 0.5331 - val_accuracy: 0.9226\n",
      "Epoch 28/1000\n",
      "27/51 [==============>...............] - ETA: 0s - loss: 0.9413 - accuracy: 0.6444\n",
      "Epoch 28: saving model to model/keypoint_classifier/keypoint_classifier.hdf5\n",
      "51/51 [==============================] - 0s 3ms/step - loss: 0.9265 - accuracy: 0.6507 - val_loss: 0.5100 - val_accuracy: 0.9254\n",
      "Epoch 29/1000\n",
      "43/51 [========================>.....] - ETA: 0s - loss: 0.9030 - accuracy: 0.6602\n",
      "Epoch 29: saving model to model/keypoint_classifier/keypoint_classifier.hdf5\n",
      "51/51 [==============================] - 0s 5ms/step - loss: 0.9056 - accuracy: 0.6605 - val_loss: 0.4980 - val_accuracy: 0.9320\n",
      "Epoch 30/1000\n",
      "28/51 [===============>..............] - ETA: 0s - loss: 0.8961 - accuracy: 0.6694\n",
      "Epoch 30: saving model to model/keypoint_classifier/keypoint_classifier.hdf5\n",
      "51/51 [==============================] - 0s 3ms/step - loss: 0.9001 - accuracy: 0.6634 - val_loss: 0.5056 - val_accuracy: 0.9427\n",
      "Epoch 31/1000\n",
      "27/51 [==============>...............] - ETA: 0s - loss: 0.8766 - accuracy: 0.6704\n",
      "Epoch 31: saving model to model/keypoint_classifier/keypoint_classifier.hdf5\n",
      "51/51 [==============================] - 0s 3ms/step - loss: 0.8901 - accuracy: 0.6620 - val_loss: 0.4967 - val_accuracy: 0.9310\n",
      "Epoch 32/1000\n",
      "26/51 [==============>...............] - ETA: 0s - loss: 0.8784 - accuracy: 0.6668\n",
      "Epoch 32: saving model to model/keypoint_classifier/keypoint_classifier.hdf5\n",
      "51/51 [==============================] - 0s 3ms/step - loss: 0.8669 - accuracy: 0.6740 - val_loss: 0.4786 - val_accuracy: 0.9129\n",
      "Epoch 33/1000\n",
      "27/51 [==============>...............] - ETA: 0s - loss: 0.8570 - accuracy: 0.6817\n",
      "Epoch 33: saving model to model/keypoint_classifier/keypoint_classifier.hdf5\n",
      "51/51 [==============================] - 0s 3ms/step - loss: 0.8695 - accuracy: 0.6678 - val_loss: 0.4846 - val_accuracy: 0.9231\n",
      "Epoch 34/1000\n",
      "27/51 [==============>...............] - ETA: 0s - loss: 0.8886 - accuracy: 0.6649\n",
      "Epoch 34: saving model to model/keypoint_classifier/keypoint_classifier.hdf5\n",
      "51/51 [==============================] - 0s 3ms/step - loss: 0.8843 - accuracy: 0.6670 - val_loss: 0.4903 - val_accuracy: 0.9348\n",
      "Epoch 35/1000\n",
      "44/51 [========================>.....] - ETA: 0s - loss: 0.8767 - accuracy: 0.6665\n",
      "Epoch 35: saving model to model/keypoint_classifier/keypoint_classifier.hdf5\n",
      "51/51 [==============================] - 0s 4ms/step - loss: 0.8738 - accuracy: 0.6673 - val_loss: 0.4713 - val_accuracy: 0.9376\n",
      "Epoch 36/1000\n",
      "51/51 [==============================] - ETA: 0s - loss: 0.8685 - accuracy: 0.6749\n",
      "Epoch 36: saving model to model/keypoint_classifier/keypoint_classifier.hdf5\n",
      "51/51 [==============================] - 0s 4ms/step - loss: 0.8685 - accuracy: 0.6749 - val_loss: 0.4801 - val_accuracy: 0.9366\n",
      "Epoch 37/1000\n",
      "26/51 [==============>...............] - ETA: 0s - loss: 0.8631 - accuracy: 0.6746\n",
      "Epoch 37: saving model to model/keypoint_classifier/keypoint_classifier.hdf5\n",
      "51/51 [==============================] - 0s 3ms/step - loss: 0.8706 - accuracy: 0.6760 - val_loss: 0.4761 - val_accuracy: 0.9343\n",
      "Epoch 38/1000\n",
      "51/51 [==============================] - ETA: 0s - loss: 0.8668 - accuracy: 0.6710\n",
      "Epoch 38: saving model to model/keypoint_classifier/keypoint_classifier.hdf5\n",
      "51/51 [==============================] - 0s 3ms/step - loss: 0.8668 - accuracy: 0.6710 - val_loss: 0.4647 - val_accuracy: 0.9376\n",
      "Epoch 39/1000\n",
      "27/51 [==============>...............] - ETA: 0s - loss: 0.8374 - accuracy: 0.6884\n",
      "Epoch 39: saving model to model/keypoint_classifier/keypoint_classifier.hdf5\n",
      "51/51 [==============================] - 0s 3ms/step - loss: 0.8339 - accuracy: 0.6841 - val_loss: 0.4651 - val_accuracy: 0.9385\n",
      "Epoch 40/1000\n",
      "51/51 [==============================] - ETA: 0s - loss: 0.8239 - accuracy: 0.6918\n",
      "Epoch 40: saving model to model/keypoint_classifier/keypoint_classifier.hdf5\n",
      "51/51 [==============================] - 0s 4ms/step - loss: 0.8239 - accuracy: 0.6918 - val_loss: 0.4483 - val_accuracy: 0.9324\n",
      "Epoch 41/1000\n",
      "27/51 [==============>...............] - ETA: 0s - loss: 0.8172 - accuracy: 0.6918\n",
      "Epoch 41: saving model to model/keypoint_classifier/keypoint_classifier.hdf5\n",
      "51/51 [==============================] - 0s 3ms/step - loss: 0.8324 - accuracy: 0.6903 - val_loss: 0.4561 - val_accuracy: 0.9329\n",
      "Epoch 42/1000\n",
      "47/51 [==========================>...] - ETA: 0s - loss: 0.8360 - accuracy: 0.6857\n",
      "Epoch 42: saving model to model/keypoint_classifier/keypoint_classifier.hdf5\n",
      "51/51 [==============================] - 0s 5ms/step - loss: 0.8382 - accuracy: 0.6848 - val_loss: 0.4566 - val_accuracy: 0.9259\n",
      "Epoch 43/1000\n",
      "51/51 [==============================] - ETA: 0s - loss: 0.8223 - accuracy: 0.6907\n",
      "Epoch 43: saving model to model/keypoint_classifier/keypoint_classifier.hdf5\n",
      "51/51 [==============================] - 0s 4ms/step - loss: 0.8223 - accuracy: 0.6907 - val_loss: 0.4542 - val_accuracy: 0.9366\n",
      "Epoch 44/1000\n",
      "51/51 [==============================] - ETA: 0s - loss: 0.8274 - accuracy: 0.6942\n",
      "Epoch 44: saving model to model/keypoint_classifier/keypoint_classifier.hdf5\n",
      "51/51 [==============================] - 0s 4ms/step - loss: 0.8274 - accuracy: 0.6942 - val_loss: 0.4529 - val_accuracy: 0.9390\n",
      "Epoch 45/1000\n",
      "51/51 [==============================] - ETA: 0s - loss: 0.8211 - accuracy: 0.6937\n",
      "Epoch 45: saving model to model/keypoint_classifier/keypoint_classifier.hdf5\n",
      "51/51 [==============================] - 0s 4ms/step - loss: 0.8211 - accuracy: 0.6937 - val_loss: 0.4680 - val_accuracy: 0.9315\n",
      "Epoch 46/1000\n",
      "48/51 [===========================>..] - ETA: 0s - loss: 0.8345 - accuracy: 0.6948\n",
      "Epoch 46: saving model to model/keypoint_classifier/keypoint_classifier.hdf5\n",
      "51/51 [==============================] - 0s 4ms/step - loss: 0.8352 - accuracy: 0.6937 - val_loss: 0.4590 - val_accuracy: 0.9362\n",
      "Epoch 47/1000\n",
      "46/51 [==========================>...] - ETA: 0s - loss: 0.8123 - accuracy: 0.7006\n",
      "Epoch 47: saving model to model/keypoint_classifier/keypoint_classifier.hdf5\n",
      "51/51 [==============================] - 0s 4ms/step - loss: 0.8109 - accuracy: 0.7027 - val_loss: 0.4497 - val_accuracy: 0.9380\n",
      "Epoch 48/1000\n",
      "39/51 [=====================>........] - ETA: 0s - loss: 0.7770 - accuracy: 0.7073\n",
      "Epoch 48: saving model to model/keypoint_classifier/keypoint_classifier.hdf5\n",
      "51/51 [==============================] - 0s 5ms/step - loss: 0.7824 - accuracy: 0.7052 - val_loss: 0.4391 - val_accuracy: 0.9259\n",
      "Epoch 49/1000\n",
      "46/51 [==========================>...] - ETA: 0s - loss: 0.8012 - accuracy: 0.7045\n",
      "Epoch 49: saving model to model/keypoint_classifier/keypoint_classifier.hdf5\n",
      "51/51 [==============================] - 0s 4ms/step - loss: 0.7935 - accuracy: 0.7075 - val_loss: 0.4529 - val_accuracy: 0.9371\n",
      "Epoch 50/1000\n",
      "46/51 [==========================>...] - ETA: 0s - loss: 0.8045 - accuracy: 0.6972\n",
      "Epoch 50: saving model to model/keypoint_classifier/keypoint_classifier.hdf5\n",
      "51/51 [==============================] - 0s 6ms/step - loss: 0.8032 - accuracy: 0.6977 - val_loss: 0.4489 - val_accuracy: 0.9133\n",
      "Epoch 51/1000\n",
      "45/51 [=========================>....] - ETA: 0s - loss: 0.7932 - accuracy: 0.7094\n",
      "Epoch 51: saving model to model/keypoint_classifier/keypoint_classifier.hdf5\n",
      "51/51 [==============================] - 0s 7ms/step - loss: 0.7945 - accuracy: 0.7095 - val_loss: 0.4232 - val_accuracy: 0.9413\n",
      "Epoch 52/1000\n",
      "46/51 [==========================>...] - ETA: 0s - loss: 0.7928 - accuracy: 0.7108\n",
      "Epoch 52: saving model to model/keypoint_classifier/keypoint_classifier.hdf5\n",
      "51/51 [==============================] - 0s 6ms/step - loss: 0.8003 - accuracy: 0.7064 - val_loss: 0.4405 - val_accuracy: 0.9324\n",
      "Epoch 53/1000\n",
      "49/51 [===========================>..] - ETA: 0s - loss: 0.8009 - accuracy: 0.7007\n",
      "Epoch 53: saving model to model/keypoint_classifier/keypoint_classifier.hdf5\n",
      "51/51 [==============================] - 0s 6ms/step - loss: 0.8028 - accuracy: 0.7004 - val_loss: 0.4300 - val_accuracy: 0.9413\n",
      "Epoch 54/1000\n",
      "34/51 [===================>..........] - ETA: 0s - loss: 0.7828 - accuracy: 0.7061\n",
      "Epoch 54: saving model to model/keypoint_classifier/keypoint_classifier.hdf5\n",
      "51/51 [==============================] - 0s 5ms/step - loss: 0.7859 - accuracy: 0.7103 - val_loss: 0.4310 - val_accuracy: 0.9390\n",
      "Epoch 55/1000\n",
      "46/51 [==========================>...] - ETA: 0s - loss: 0.7654 - accuracy: 0.7165\n",
      "Epoch 55: saving model to model/keypoint_classifier/keypoint_classifier.hdf5\n",
      "51/51 [==============================] - 0s 6ms/step - loss: 0.7664 - accuracy: 0.7173 - val_loss: 0.4332 - val_accuracy: 0.9366\n",
      "Epoch 56/1000\n",
      "42/51 [=======================>......] - ETA: 0s - loss: 0.7903 - accuracy: 0.7074\n",
      "Epoch 56: saving model to model/keypoint_classifier/keypoint_classifier.hdf5\n",
      "51/51 [==============================] - 0s 7ms/step - loss: 0.7847 - accuracy: 0.7094 - val_loss: 0.4393 - val_accuracy: 0.9380\n",
      "Epoch 57/1000\n",
      "51/51 [==============================] - ETA: 0s - loss: 0.7658 - accuracy: 0.7162\n",
      "Epoch 57: saving model to model/keypoint_classifier/keypoint_classifier.hdf5\n",
      "51/51 [==============================] - 0s 5ms/step - loss: 0.7658 - accuracy: 0.7162 - val_loss: 0.4257 - val_accuracy: 0.9338\n",
      "Epoch 58/1000\n",
      "49/51 [===========================>..] - ETA: 0s - loss: 0.7842 - accuracy: 0.7149\n",
      "Epoch 58: saving model to model/keypoint_classifier/keypoint_classifier.hdf5\n",
      "51/51 [==============================] - 0s 6ms/step - loss: 0.7819 - accuracy: 0.7156 - val_loss: 0.4303 - val_accuracy: 0.9362\n",
      "Epoch 59/1000\n",
      "34/51 [===================>..........] - ETA: 0s - loss: 0.7754 - accuracy: 0.7123\n",
      "Epoch 59: saving model to model/keypoint_classifier/keypoint_classifier.hdf5\n",
      "51/51 [==============================] - 0s 5ms/step - loss: 0.7544 - accuracy: 0.7204 - val_loss: 0.4249 - val_accuracy: 0.9320\n",
      "Epoch 60/1000\n",
      "47/51 [==========================>...] - ETA: 0s - loss: 0.7672 - accuracy: 0.7123\n",
      "Epoch 60: saving model to model/keypoint_classifier/keypoint_classifier.hdf5\n",
      "51/51 [==============================] - 0s 5ms/step - loss: 0.7638 - accuracy: 0.7136 - val_loss: 0.4325 - val_accuracy: 0.9292\n",
      "Epoch 61/1000\n",
      "50/51 [============================>.] - ETA: 0s - loss: 0.7557 - accuracy: 0.7200\n",
      "Epoch 61: saving model to model/keypoint_classifier/keypoint_classifier.hdf5\n",
      "51/51 [==============================] - 0s 5ms/step - loss: 0.7549 - accuracy: 0.7203 - val_loss: 0.4211 - val_accuracy: 0.9408\n",
      "Epoch 62/1000\n",
      "48/51 [===========================>..] - ETA: 0s - loss: 0.7747 - accuracy: 0.7111\n",
      "Epoch 62: saving model to model/keypoint_classifier/keypoint_classifier.hdf5\n",
      "51/51 [==============================] - 0s 5ms/step - loss: 0.7740 - accuracy: 0.7106 - val_loss: 0.4322 - val_accuracy: 0.9245\n",
      "Epoch 63/1000\n",
      "48/51 [===========================>..] - ETA: 0s - loss: 0.7428 - accuracy: 0.7212\n",
      "Epoch 63: saving model to model/keypoint_classifier/keypoint_classifier.hdf5\n",
      "51/51 [==============================] - 0s 7ms/step - loss: 0.7375 - accuracy: 0.7243 - val_loss: 0.4262 - val_accuracy: 0.9338\n",
      "Epoch 64/1000\n",
      "36/51 [====================>.........] - ETA: 0s - loss: 0.7189 - accuracy: 0.7329\n",
      "Epoch 64: saving model to model/keypoint_classifier/keypoint_classifier.hdf5\n",
      "51/51 [==============================] - 0s 5ms/step - loss: 0.7298 - accuracy: 0.7300 - val_loss: 0.4079 - val_accuracy: 0.9338\n",
      "Epoch 65/1000\n",
      "36/51 [====================>.........] - ETA: 0s - loss: 0.7512 - accuracy: 0.7194\n",
      "Epoch 65: saving model to model/keypoint_classifier/keypoint_classifier.hdf5\n",
      "51/51 [==============================] - 0s 5ms/step - loss: 0.7459 - accuracy: 0.7213 - val_loss: 0.4294 - val_accuracy: 0.9352\n",
      "Epoch 66/1000\n",
      "33/51 [==================>...........] - ETA: 0s - loss: 0.7166 - accuracy: 0.7313\n",
      "Epoch 66: saving model to model/keypoint_classifier/keypoint_classifier.hdf5\n",
      "51/51 [==============================] - 0s 5ms/step - loss: 0.7236 - accuracy: 0.7290 - val_loss: 0.4187 - val_accuracy: 0.9371\n",
      "Epoch 67/1000\n",
      "50/51 [============================>.] - ETA: 0s - loss: 0.7301 - accuracy: 0.7289\n",
      "Epoch 67: saving model to model/keypoint_classifier/keypoint_classifier.hdf5\n",
      "51/51 [==============================] - 0s 5ms/step - loss: 0.7311 - accuracy: 0.7288 - val_loss: 0.4202 - val_accuracy: 0.9338\n",
      "Epoch 68/1000\n",
      "49/51 [===========================>..] - ETA: 0s - loss: 0.7273 - accuracy: 0.7313\n",
      "Epoch 68: saving model to model/keypoint_classifier/keypoint_classifier.hdf5\n",
      "51/51 [==============================] - 0s 6ms/step - loss: 0.7279 - accuracy: 0.7317 - val_loss: 0.4108 - val_accuracy: 0.9413\n",
      "Epoch 69/1000\n",
      "48/51 [===========================>..] - ETA: 0s - loss: 0.7271 - accuracy: 0.7324\n",
      "Epoch 69: saving model to model/keypoint_classifier/keypoint_classifier.hdf5\n",
      "51/51 [==============================] - 0s 6ms/step - loss: 0.7275 - accuracy: 0.7328 - val_loss: 0.4274 - val_accuracy: 0.9292\n",
      "Epoch 70/1000\n",
      "50/51 [============================>.] - ETA: 0s - loss: 0.7041 - accuracy: 0.7394\n",
      "Epoch 70: saving model to model/keypoint_classifier/keypoint_classifier.hdf5\n",
      "51/51 [==============================] - 0s 5ms/step - loss: 0.7043 - accuracy: 0.7397 - val_loss: 0.4075 - val_accuracy: 0.9404\n",
      "Epoch 71/1000\n",
      "51/51 [==============================] - ETA: 0s - loss: 0.7272 - accuracy: 0.7314\n",
      "Epoch 71: saving model to model/keypoint_classifier/keypoint_classifier.hdf5\n",
      "51/51 [==============================] - 0s 6ms/step - loss: 0.7272 - accuracy: 0.7314 - val_loss: 0.4223 - val_accuracy: 0.9394\n",
      "Epoch 72/1000\n",
      "40/51 [======================>.......] - ETA: 0s - loss: 0.7328 - accuracy: 0.7301\n",
      "Epoch 72: saving model to model/keypoint_classifier/keypoint_classifier.hdf5\n",
      "51/51 [==============================] - 0s 6ms/step - loss: 0.7308 - accuracy: 0.7316 - val_loss: 0.4174 - val_accuracy: 0.9329\n",
      "Epoch 73/1000\n",
      "49/51 [===========================>..] - ETA: 0s - loss: 0.7297 - accuracy: 0.7350\n",
      "Epoch 73: saving model to model/keypoint_classifier/keypoint_classifier.hdf5\n",
      "51/51 [==============================] - 0s 5ms/step - loss: 0.7307 - accuracy: 0.7341 - val_loss: 0.4294 - val_accuracy: 0.9324\n",
      "Epoch 74/1000\n",
      "50/51 [============================>.] - ETA: 0s - loss: 0.7207 - accuracy: 0.7375\n",
      "Epoch 74: saving model to model/keypoint_classifier/keypoint_classifier.hdf5\n",
      "51/51 [==============================] - 0s 5ms/step - loss: 0.7212 - accuracy: 0.7370 - val_loss: 0.4247 - val_accuracy: 0.9282\n",
      "Epoch 75/1000\n",
      "49/51 [===========================>..] - ETA: 0s - loss: 0.7114 - accuracy: 0.7468\n",
      "Epoch 75: saving model to model/keypoint_classifier/keypoint_classifier.hdf5\n",
      "51/51 [==============================] - 0s 5ms/step - loss: 0.7087 - accuracy: 0.7481 - val_loss: 0.4160 - val_accuracy: 0.9334\n",
      "Epoch 76/1000\n",
      "34/51 [===================>..........] - ETA: 0s - loss: 0.7011 - accuracy: 0.7385\n",
      "Epoch 76: saving model to model/keypoint_classifier/keypoint_classifier.hdf5\n",
      "51/51 [==============================] - 0s 5ms/step - loss: 0.6980 - accuracy: 0.7387 - val_loss: 0.4068 - val_accuracy: 0.9352\n",
      "Epoch 77/1000\n",
      "36/51 [====================>.........] - ETA: 0s - loss: 0.7142 - accuracy: 0.7420\n",
      "Epoch 77: saving model to model/keypoint_classifier/keypoint_classifier.hdf5\n",
      "51/51 [==============================] - 0s 5ms/step - loss: 0.7175 - accuracy: 0.7409 - val_loss: 0.4170 - val_accuracy: 0.9315\n",
      "Epoch 78/1000\n",
      "36/51 [====================>.........] - ETA: 0s - loss: 0.6880 - accuracy: 0.7507\n",
      "Epoch 78: saving model to model/keypoint_classifier/keypoint_classifier.hdf5\n",
      "51/51 [==============================] - 0s 5ms/step - loss: 0.6891 - accuracy: 0.7490 - val_loss: 0.4090 - val_accuracy: 0.9334\n",
      "Epoch 79/1000\n",
      "51/51 [==============================] - ETA: 0s - loss: 0.6933 - accuracy: 0.7473\n",
      "Epoch 79: saving model to model/keypoint_classifier/keypoint_classifier.hdf5\n",
      "51/51 [==============================] - 0s 6ms/step - loss: 0.6933 - accuracy: 0.7473 - val_loss: 0.4092 - val_accuracy: 0.9357\n",
      "Epoch 80/1000\n",
      "48/51 [===========================>..] - ETA: 0s - loss: 0.6953 - accuracy: 0.7438\n",
      "Epoch 80: saving model to model/keypoint_classifier/keypoint_classifier.hdf5\n",
      "51/51 [==============================] - 0s 5ms/step - loss: 0.6953 - accuracy: 0.7457 - val_loss: 0.3996 - val_accuracy: 0.9376\n",
      "Epoch 81/1000\n",
      "35/51 [===================>..........] - ETA: 0s - loss: 0.6942 - accuracy: 0.7513\n",
      "Epoch 81: saving model to model/keypoint_classifier/keypoint_classifier.hdf5\n",
      "51/51 [==============================] - 0s 5ms/step - loss: 0.6897 - accuracy: 0.7533 - val_loss: 0.4276 - val_accuracy: 0.9292\n",
      "Epoch 82/1000\n",
      "36/51 [====================>.........] - ETA: 0s - loss: 0.6916 - accuracy: 0.7563\n",
      "Epoch 82: saving model to model/keypoint_classifier/keypoint_classifier.hdf5\n",
      "51/51 [==============================] - 0s 5ms/step - loss: 0.6808 - accuracy: 0.7564 - val_loss: 0.4151 - val_accuracy: 0.9329\n",
      "Epoch 83/1000\n",
      "45/51 [=========================>....] - ETA: 0s - loss: 0.6708 - accuracy: 0.7557\n",
      "Epoch 83: saving model to model/keypoint_classifier/keypoint_classifier.hdf5\n",
      "51/51 [==============================] - 0s 6ms/step - loss: 0.6757 - accuracy: 0.7535 - val_loss: 0.4059 - val_accuracy: 0.9343\n",
      "Epoch 84/1000\n",
      "49/51 [===========================>..] - ETA: 0s - loss: 0.6931 - accuracy: 0.7503\n",
      "Epoch 84: saving model to model/keypoint_classifier/keypoint_classifier.hdf5\n",
      "51/51 [==============================] - 0s 5ms/step - loss: 0.6959 - accuracy: 0.7482 - val_loss: 0.4093 - val_accuracy: 0.9343\n",
      "Epoch 85/1000\n",
      "48/51 [===========================>..] - ETA: 0s - loss: 0.6682 - accuracy: 0.7557\n",
      "Epoch 85: saving model to model/keypoint_classifier/keypoint_classifier.hdf5\n",
      "51/51 [==============================] - 0s 5ms/step - loss: 0.6697 - accuracy: 0.7544 - val_loss: 0.4076 - val_accuracy: 0.9338\n",
      "Epoch 86/1000\n",
      "51/51 [==============================] - ETA: 0s - loss: 0.6806 - accuracy: 0.7547\n",
      "Epoch 86: saving model to model/keypoint_classifier/keypoint_classifier.hdf5\n",
      "51/51 [==============================] - 0s 6ms/step - loss: 0.6806 - accuracy: 0.7547 - val_loss: 0.4110 - val_accuracy: 0.9324\n",
      "Epoch 87/1000\n",
      "36/51 [====================>.........] - ETA: 0s - loss: 0.6871 - accuracy: 0.7509\n",
      "Epoch 87: saving model to model/keypoint_classifier/keypoint_classifier.hdf5\n",
      "51/51 [==============================] - 0s 5ms/step - loss: 0.6793 - accuracy: 0.7580 - val_loss: 0.4110 - val_accuracy: 0.9282\n",
      "Epoch 88/1000\n",
      "51/51 [==============================] - ETA: 0s - loss: 0.6802 - accuracy: 0.7557\n",
      "Epoch 88: saving model to model/keypoint_classifier/keypoint_classifier.hdf5\n",
      "51/51 [==============================] - 0s 5ms/step - loss: 0.6802 - accuracy: 0.7557 - val_loss: 0.4116 - val_accuracy: 0.9348\n",
      "Epoch 89/1000\n",
      "50/51 [============================>.] - ETA: 0s - loss: 0.6936 - accuracy: 0.7505\n",
      "Epoch 89: saving model to model/keypoint_classifier/keypoint_classifier.hdf5\n",
      "51/51 [==============================] - 0s 5ms/step - loss: 0.6935 - accuracy: 0.7504 - val_loss: 0.4295 - val_accuracy: 0.9268\n",
      "Epoch 90/1000\n",
      "34/51 [===================>..........] - ETA: 0s - loss: 0.6627 - accuracy: 0.7610\n",
      "Epoch 90: saving model to model/keypoint_classifier/keypoint_classifier.hdf5\n",
      "51/51 [==============================] - 0s 5ms/step - loss: 0.6709 - accuracy: 0.7582 - val_loss: 0.4182 - val_accuracy: 0.9282\n",
      "Epoch 91/1000\n",
      "37/51 [====================>.........] - ETA: 0s - loss: 0.6912 - accuracy: 0.7551\n",
      "Epoch 91: saving model to model/keypoint_classifier/keypoint_classifier.hdf5\n",
      "51/51 [==============================] - 0s 5ms/step - loss: 0.6852 - accuracy: 0.7580 - val_loss: 0.4037 - val_accuracy: 0.9357\n",
      "Epoch 92/1000\n",
      "51/51 [==============================] - ETA: 0s - loss: 0.6735 - accuracy: 0.7572\n",
      "Epoch 92: saving model to model/keypoint_classifier/keypoint_classifier.hdf5\n",
      "51/51 [==============================] - 0s 5ms/step - loss: 0.6735 - accuracy: 0.7572 - val_loss: 0.4193 - val_accuracy: 0.9324\n",
      "Epoch 93/1000\n",
      "34/51 [===================>..........] - ETA: 0s - loss: 0.6706 - accuracy: 0.7608\n",
      "Epoch 93: saving model to model/keypoint_classifier/keypoint_classifier.hdf5\n",
      "51/51 [==============================] - 0s 5ms/step - loss: 0.6777 - accuracy: 0.7533 - val_loss: 0.4180 - val_accuracy: 0.9282\n",
      "Epoch 94/1000\n",
      "45/51 [=========================>....] - ETA: 0s - loss: 0.6908 - accuracy: 0.7507\n",
      "Epoch 94: saving model to model/keypoint_classifier/keypoint_classifier.hdf5\n",
      "51/51 [==============================] - 0s 7ms/step - loss: 0.6901 - accuracy: 0.7502 - val_loss: 0.4403 - val_accuracy: 0.9259\n",
      "Epoch 95/1000\n",
      "50/51 [============================>.] - ETA: 0s - loss: 0.6845 - accuracy: 0.7542\n",
      "Epoch 95: saving model to model/keypoint_classifier/keypoint_classifier.hdf5\n",
      "51/51 [==============================] - 0s 5ms/step - loss: 0.6836 - accuracy: 0.7547 - val_loss: 0.4173 - val_accuracy: 0.9287\n",
      "Epoch 96/1000\n",
      "51/51 [==============================] - ETA: 0s - loss: 0.6609 - accuracy: 0.7669\n",
      "Epoch 96: saving model to model/keypoint_classifier/keypoint_classifier.hdf5\n",
      "51/51 [==============================] - 0s 5ms/step - loss: 0.6609 - accuracy: 0.7669 - val_loss: 0.4257 - val_accuracy: 0.9208\n",
      "Epoch 97/1000\n",
      "49/51 [===========================>..] - ETA: 0s - loss: 0.6574 - accuracy: 0.7664\n",
      "Epoch 97: saving model to model/keypoint_classifier/keypoint_classifier.hdf5\n",
      "51/51 [==============================] - 0s 5ms/step - loss: 0.6554 - accuracy: 0.7672 - val_loss: 0.4242 - val_accuracy: 0.9236\n",
      "Epoch 98/1000\n",
      "34/51 [===================>..........] - ETA: 0s - loss: 0.6465 - accuracy: 0.7624\n",
      "Epoch 98: saving model to model/keypoint_classifier/keypoint_classifier.hdf5\n",
      "51/51 [==============================] - 0s 5ms/step - loss: 0.6564 - accuracy: 0.7592 - val_loss: 0.4238 - val_accuracy: 0.9231\n",
      "Epoch 99/1000\n",
      "45/51 [=========================>....] - ETA: 0s - loss: 0.6475 - accuracy: 0.7649\n",
      "Epoch 99: saving model to model/keypoint_classifier/keypoint_classifier.hdf5\n",
      "51/51 [==============================] - 0s 6ms/step - loss: 0.6494 - accuracy: 0.7662 - val_loss: 0.4152 - val_accuracy: 0.9231\n",
      "Epoch 100/1000\n",
      "35/51 [===================>..........] - ETA: 0s - loss: 0.6640 - accuracy: 0.7632\n",
      "Epoch 100: saving model to model/keypoint_classifier/keypoint_classifier.hdf5\n",
      "51/51 [==============================] - 0s 5ms/step - loss: 0.6604 - accuracy: 0.7644 - val_loss: 0.4291 - val_accuracy: 0.9245\n",
      "Epoch 100: early stopping\n"
     ]
    },
    {
     "data": {
      "text/plain": [
       "<keras.src.callbacks.History at 0x7f32a8f03b50>"
      ]
     },
     "execution_count": 121,
     "metadata": {},
     "output_type": "execute_result"
    }
   ],
   "source": [
    "model.fit(\n",
    "    X_train,\n",
    "    y_train,\n",
    "    epochs=1000,\n",
    "    batch_size=128,\n",
    "    validation_data=(X_test, y_test),\n",
    "    callbacks=[cp_callback, es_callback]\n",
    ")"
   ]
  },
  {
   "cell_type": "code",
   "execution_count": 122,
   "metadata": {},
   "outputs": [
    {
     "name": "stdout",
     "output_type": "stream",
     "text": [
      "17/17 [==============================] - 0s 5ms/step - loss: 0.4291 - accuracy: 0.9245\n"
     ]
    }
   ],
   "source": [
    "# モデル評価\n",
    "val_loss, val_acc = model.evaluate(X_test, y_test, batch_size=128)"
   ]
  },
  {
   "cell_type": "code",
   "execution_count": 123,
   "metadata": {},
   "outputs": [],
   "source": [
    "# 保存したモデルのロード\n",
    "model = tf.keras.models.load_model(model_save_path)"
   ]
  },
  {
   "cell_type": "code",
   "execution_count": 124,
   "metadata": {},
   "outputs": [
    {
     "name": "stdout",
     "output_type": "stream",
     "text": [
      "1/1 [==============================] - 0s 71ms/step\n",
      "[6.1490852e-02 1.5677991e-03 3.9888441e-04 4.3719542e-01 2.6687529e-04\n",
      " 4.9908015e-01]\n",
      "5\n"
     ]
    }
   ],
   "source": [
    "# 推論テスト\n",
    "predict_result = model.predict(np.array([X_test[0]]))\n",
    "print(np.squeeze(predict_result))\n",
    "print(np.argmax(np.squeeze(predict_result)))"
   ]
  },
  {
   "cell_type": "markdown",
   "metadata": {},
   "source": [
    "# 混同行列"
   ]
  },
  {
   "cell_type": "code",
   "execution_count": 125,
   "metadata": {},
   "outputs": [
    {
     "name": "stdout",
     "output_type": "stream",
     "text": [
      "68/68 [==============================] - 0s 2ms/step\n"
     ]
    },
    {
     "data": {
      "image/png": "[encoded data removed]",
      "text/plain": [
       "<Figure size 700x600 with 2 Axes>"
      ]
     },
     "metadata": {},
     "output_type": "display_data"
    },
    {
     "name": "stdout",
     "output_type": "stream",
     "text": [
      "Classification Report\n",
      "              precision    recall  f1-score   support\n",
      "\n",
      "           0       0.99      0.96      0.97       497\n",
      "           1       0.93      0.85      0.89       264\n",
      "           2       0.88      1.00      0.94       404\n",
      "           3       0.92      0.87      0.89       386\n",
      "           4       1.00      0.95      0.97       219\n",
      "           5       0.87      0.89      0.88       376\n",
      "\n",
      "    accuracy                           0.92      2146\n",
      "   macro avg       0.93      0.92      0.92      2146\n",
      "weighted avg       0.93      0.92      0.92      2146\n",
      "\n"
     ]
    }
   ],
   "source": [
    "import pandas as pd\n",
    "import seaborn as sns\n",
    "import matplotlib.pyplot as plt\n",
    "from sklearn.metrics import confusion_matrix, classification_report\n",
    "\n",
    "def print_confusion_matrix(y_true, y_pred, report=True):\n",
    "    labels = sorted(list(set(y_true)))\n",
    "    cmx_data = confusion_matrix(y_true, y_pred, labels=labels)\n",
    "    \n",
    "    df_cmx = pd.DataFrame(cmx_data, index=labels, columns=labels)\n",
    " \n",
    "    fig, ax = plt.subplots(figsize=(7, 6))\n",
    "    sns.heatmap(df_cmx, annot=True, fmt='g' ,square=False)\n",
    "    ax.set_ylim(len(set(y_true)), 0)\n",
    "    plt.show()\n",
    "    \n",
    "    if report:\n",
    "        print('Classification Report')\n",
    "        print(classification_report(y_test, y_pred))\n",
    "\n",
    "Y_pred = model.predict(X_test)\n",
    "y_pred = np.argmax(Y_pred, axis=1)\n",
    "\n",
    "print_confusion_matrix(y_test, y_pred)"
   ]
  },
  {
   "cell_type": "markdown",
   "metadata": {},
   "source": [
    "# Tensorflow-Lite用のモデルへ変換"
   ]
  },
  {
   "cell_type": "code",
   "execution_count": 126,
   "metadata": {},
   "outputs": [
    {
     "name": "stderr",
     "output_type": "stream",
     "text": [
      "/tmp/myenv/lib/python3.10/site-packages/keras/src/engine/training.py:3103: UserWarning: You are saving your model as an HDF5 file via `model.save()`. This file format is considered legacy. We recommend using instead the native Keras format, e.g. `model.save('my_model.keras')`.\n",
      "  saving_api.save_model(\n"
     ]
    }
   ],
   "source": [
    "# 推論専用のモデルとして保存\n",
    "model.save(model_save_path, include_optimizer=False)"
   ]
  },
  {
   "cell_type": "code",
   "execution_count": 127,
   "metadata": {},
   "outputs": [
    {
     "name": "stdout",
     "output_type": "stream",
     "text": [
      "INFO:tensorflow:Assets written to: /tmp/tmpigsp1u_j/assets\n"
     ]
    },
    {
     "name": "stderr",
     "output_type": "stream",
     "text": [
      "INFO:tensorflow:Assets written to: /tmp/tmpigsp1u_j/assets\n",
      "2024-01-11 10:35:18.057472: W tensorflow/compiler/mlir/lite/python/tf_tfl_flatbuffer_helpers.cc:378] Ignored output_format.\n",
      "2024-01-11 10:35:18.057494: W tensorflow/compiler/mlir/lite/python/tf_tfl_flatbuffer_helpers.cc:381] Ignored drop_control_dependency.\n",
      "2024-01-11 10:35:18.057677: I tensorflow/cc/saved_model/reader.cc:83] Reading SavedModel from: /tmp/tmpigsp1u_j\n",
      "2024-01-11 10:35:18.058661: I tensorflow/cc/saved_model/reader.cc:51] Reading meta graph with tags { serve }\n",
      "2024-01-11 10:35:18.058673: I tensorflow/cc/saved_model/reader.cc:146] Reading SavedModel debug info (if present) from: /tmp/tmpigsp1u_j\n",
      "2024-01-11 10:35:18.061174: I tensorflow/cc/saved_model/loader.cc:233] Restoring SavedModel bundle.\n",
      "2024-01-11 10:35:18.105890: I tensorflow/cc/saved_model/loader.cc:217] Running initialization op on SavedModel bundle at path: /tmp/tmpigsp1u_j\n",
      "2024-01-11 10:35:18.121454: I tensorflow/cc/saved_model/loader.cc:316] SavedModel load for tags { serve }; Status: success: OK. Took 63777 microseconds.\n",
      "Summary on the non-converted ops:\n",
      "---------------------------------\n",
      " * Accepted dialects: tfl, builtin, func\n",
      " * Non-Converted Ops: 6, Total Ops 13, % non-converted = 46.15 %\n",
      " * 6 ARITH ops\n",
      "\n",
      "- arith.constant:    6 occurrences  (f32: 6)\n",
      "\n",
      "\n",
      "\n",
      "  (f32: 3)\n",
      "  (f32: 1)\n"
     ]
    },
    {
     "data": {
      "text/plain": [
       "6696"
      ]
     },
     "execution_count": 127,
     "metadata": {},
     "output_type": "execute_result"
    }
   ],
   "source": [
    "# モデルを変換(量子化)\n",
    "tflite_save_path = 'model/keypoint_classifier/keypoint_classifier_3.tflite'\n",
    "\n",
    "converter = tf.lite.TFLiteConverter.from_keras_model(model)\n",
    "converter.optimizations = [tf.lite.Optimize.DEFAULT]\n",
    "tflite_quantized_model = converter.convert()\n",
    "\n",
    "open(tflite_save_path, 'wb').write(tflite_quantized_model)"
   ]
  },
  {
   "cell_type": "markdown",
   "metadata": {},
   "source": [
    "# 推論テスト"
   ]
  },
  {
   "cell_type": "code",
   "execution_count": 128,
   "metadata": {},
   "outputs": [],
   "source": [
    "interpreter = tf.lite.Interpreter(model_path=tflite_save_path)\n",
    "interpreter.allocate_tensors()"
   ]
  },
  {
   "cell_type": "code",
   "execution_count": 129,
   "metadata": {},
   "outputs": [],
   "source": [
    "# 入出力テンソルを取得\n",
    "input_details = interpreter.get_input_details()\n",
    "output_details = interpreter.get_output_details()"
   ]
  },
  {
   "cell_type": "code",
   "execution_count": 130,
   "metadata": {},
   "outputs": [],
   "source": [
    "interpreter.set_tensor(input_details[0]['index'], np.array([X_test[0]]))"
   ]
  },
  {
   "cell_type": "code",
   "execution_count": 131,
   "metadata": {
    "scrolled": true
   },
   "outputs": [
    {
     "name": "stdout",
     "output_type": "stream",
     "text": [
      "CPU times: user 123 µs, sys: 8 µs, total: 131 µs\n",
      "Wall time: 120 µs\n"
     ]
    }
   ],
   "source": [
    "%%time\n",
    "# 推論実施\n",
    "interpreter.invoke()\n",
    "tflite_results = interpreter.get_tensor(output_details[0]['index'])"
   ]
  },
  {
   "cell_type": "code",
   "execution_count": 132,
   "metadata": {},
   "outputs": [
    {
     "name": "stdout",
     "output_type": "stream",
     "text": [
      "[6.1490837e-02 1.5677986e-03 3.9888392e-04 4.3719560e-01 2.6687508e-04\n",
      " 4.9908003e-01]\n",
      "5\n"
     ]
    }
   ],
   "source": [
    "print(np.squeeze(tflite_results))\n",
    "print(np.argmax(np.squeeze(tflite_results)))"
   ]
  }
 ],
 "metadata": {
  "kernelspec": {
   "display_name": "Python 3",
   "language": "python",
   "name": "python3"
  },
  "language_info": {
   "codemirror_mode": {
    "name": "ipython",
    "version": 3
   },
   "file_extension": ".py",
   "mimetype": "text/x-python",
   "name": "python",
   "nbconvert_exporter": "python",
   "pygments_lexer": "ipython3",
   "version": "3.10.12"
  }
 },
 "nbformat": 4,
 "nbformat_minor": 4
}
