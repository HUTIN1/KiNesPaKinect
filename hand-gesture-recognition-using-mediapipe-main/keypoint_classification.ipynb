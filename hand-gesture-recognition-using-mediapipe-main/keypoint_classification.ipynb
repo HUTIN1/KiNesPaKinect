{
 "cells": [
  {
   "cell_type": "code",
   "execution_count": 23,
   "metadata": {},
   "outputs": [],
   "source": [
    "import csv\n",
    "\n",
    "import numpy as np\n",
    "import tensorflow as tf\n",
    "from sklearn.model_selection import train_test_split\n",
    "\n",
    "RANDOM_SEED = 42"
   ]
  },
  {
   "cell_type": "markdown",
   "metadata": {},
   "source": [
    "# 各パス指定"
   ]
  },
  {
   "cell_type": "code",
   "execution_count": 24,
   "metadata": {},
   "outputs": [],
   "source": [
    "dataset = 'model/keypoint_classifier/keypoint.csv'\n",
    "model_save_path = 'model/keypoint_classifier/keypoint_classifier.hdf5'"
   ]
  },
  {
   "cell_type": "markdown",
   "metadata": {},
   "source": [
    "# 分類数設定"
   ]
  },
  {
   "cell_type": "code",
   "execution_count": 25,
   "metadata": {},
   "outputs": [],
   "source": [
    "NUM_CLASSES = 6"
   ]
  },
  {
   "cell_type": "markdown",
   "metadata": {},
   "source": [
    "# 学習データ読み込み"
   ]
  },
  {
   "cell_type": "code",
   "execution_count": 26,
   "metadata": {},
   "outputs": [],
   "source": [
    "X_dataset = np.loadtxt(dataset, delimiter=',', dtype='float32', usecols=list(range(1, (21 * 2) + 1)))"
   ]
  },
  {
   "cell_type": "code",
   "execution_count": 27,
   "metadata": {},
   "outputs": [],
   "source": [
    "y_dataset = np.loadtxt(dataset, delimiter=',', dtype='int32', usecols=(0))"
   ]
  },
  {
   "cell_type": "code",
   "execution_count": 28,
   "metadata": {},
   "outputs": [],
   "source": [
    "X_train, X_test, y_train, y_test = train_test_split(X_dataset, y_dataset, train_size=0.75, random_state=RANDOM_SEED)"
   ]
  },
  {
   "cell_type": "markdown",
   "metadata": {},
   "source": [
    "# モデル構築"
   ]
  },
  {
   "cell_type": "code",
   "execution_count": 29,
   "metadata": {},
   "outputs": [],
   "source": [
    "model = tf.keras.models.Sequential([\n",
    "    tf.keras.layers.Input((21 * 2, )),\n",
    "    tf.keras.layers.Dropout(0.2),\n",
    "    tf.keras.layers.Dense(20, activation='relu'),\n",
    "    tf.keras.layers.Dropout(0.4),\n",
    "    tf.keras.layers.Dense(10, activation='relu'),\n",
    "    tf.keras.layers.Dense(NUM_CLASSES, activation='softmax')\n",
    "])"
   ]
  },
  {
   "cell_type": "code",
   "execution_count": 30,
   "metadata": {},
   "outputs": [
    {
     "name": "stdout",
     "output_type": "stream",
     "text": [
      "Model: \"sequential_1\"\n",
      "_________________________________________________________________\n",
      " Layer (type)                Output Shape              Param #   \n",
      "=================================================================\n",
      " dropout_2 (Dropout)         (None, 42)                0         \n",
      "                                                                 \n",
      " dense_3 (Dense)             (None, 20)                860       \n",
      "                                                                 \n",
      " dropout_3 (Dropout)         (None, 20)                0         \n",
      "                                                                 \n",
      " dense_4 (Dense)             (None, 10)                210       \n",
      "                                                                 \n",
      " dense_5 (Dense)             (None, 6)                 66        \n",
      "                                                                 \n",
      "=================================================================\n",
      "Total params: 1136 (4.44 KB)\n",
      "Trainable params: 1136 (4.44 KB)\n",
      "Non-trainable params: 0 (0.00 Byte)\n",
      "_________________________________________________________________\n"
     ]
    }
   ],
   "source": [
    "model.summary()  # tf.keras.utils.plot_model(model, show_shapes=True)"
   ]
  },
  {
   "cell_type": "code",
   "execution_count": 31,
   "metadata": {},
   "outputs": [],
   "source": [
    "# モデルチェックポイントのコールバック\n",
    "cp_callback = tf.keras.callbacks.ModelCheckpoint(\n",
    "    model_save_path, verbose=1, save_weights_only=False)\n",
    "# 早期打ち切り用コールバック\n",
    "es_callback = tf.keras.callbacks.EarlyStopping(patience=20, verbose=1)"
   ]
  },
  {
   "cell_type": "code",
   "execution_count": 32,
   "metadata": {},
   "outputs": [],
   "source": [
    "# モデルコンパイル\n",
    "model.compile(\n",
    "    optimizer='adam',\n",
    "    loss='sparse_categorical_crossentropy',\n",
    "    metrics=['accuracy']\n",
    ")"
   ]
  },
  {
   "cell_type": "markdown",
   "metadata": {},
   "source": [
    "# モデル訓練"
   ]
  },
  {
   "cell_type": "code",
   "execution_count": 33,
   "metadata": {
    "scrolled": true
   },
   "outputs": [
    {
     "name": "stdout",
     "output_type": "stream",
     "text": [
      "Epoch 1/1000\n"
     ]
    },
    {
     "name": "stdout",
     "output_type": "stream",
     "text": [
      "30/36 [========================>.....] - ETA: 0s - loss: 1.8819 - accuracy: 0.1456 \n",
      "Epoch 1: saving model to model/keypoint_classifier/keypoint_classifier.hdf5\n",
      "36/36 [==============================] - 1s 8ms/step - loss: 1.8716 - accuracy: 0.1515 - val_loss: 1.7734 - val_accuracy: 0.2652\n",
      "Epoch 2/1000\n",
      "26/36 [====================>.........] - ETA: 0s - loss: 1.7808 - accuracy: 0.2320\n",
      "Epoch 2: saving model to model/keypoint_classifier/keypoint_classifier.hdf5\n",
      "36/36 [==============================] - 0s 4ms/step - loss: 1.7740 - accuracy: 0.2410 - val_loss: 1.7210 - val_accuracy: 0.3674\n",
      "Epoch 3/1000\n",
      " 1/36 [..............................] - ETA: 0s - loss: 1.7378 - accuracy: 0.2969"
     ]
    },
    {
     "name": "stderr",
     "output_type": "stream",
     "text": [
      "/tmp/myenv/lib/python3.10/site-packages/keras/src/engine/training.py:3103: UserWarning: You are saving your model as an HDF5 file via `model.save()`. This file format is considered legacy. We recommend using instead the native Keras format, e.g. `model.save('my_model.keras')`.\n",
      "  saving_api.save_model(\n"
     ]
    },
    {
     "name": "stdout",
     "output_type": "stream",
     "text": [
      "21/36 [================>.............] - ETA: 0s - loss: 1.7434 - accuracy: 0.2723\n",
      "Epoch 3: saving model to model/keypoint_classifier/keypoint_classifier.hdf5\n",
      "36/36 [==============================] - 0s 4ms/step - loss: 1.7251 - accuracy: 0.2961 - val_loss: 1.6543 - val_accuracy: 0.3607\n",
      "Epoch 4/1000\n",
      "25/36 [===================>..........] - ETA: 0s - loss: 1.6794 - accuracy: 0.3272\n",
      "Epoch 4: saving model to model/keypoint_classifier/keypoint_classifier.hdf5\n",
      "36/36 [==============================] - 0s 4ms/step - loss: 1.6717 - accuracy: 0.3386 - val_loss: 1.5536 - val_accuracy: 0.4596\n",
      "Epoch 5/1000\n",
      "25/36 [===================>..........] - ETA: 0s - loss: 1.6185 - accuracy: 0.3694\n",
      "Epoch 5: saving model to model/keypoint_classifier/keypoint_classifier.hdf5\n",
      "36/36 [==============================] - 0s 4ms/step - loss: 1.6054 - accuracy: 0.3740 - val_loss: 1.4429 - val_accuracy: 0.5104\n",
      "Epoch 6/1000\n",
      "26/36 [====================>.........] - ETA: 0s - loss: 1.5555 - accuracy: 0.3855\n",
      "Epoch 6: saving model to model/keypoint_classifier/keypoint_classifier.hdf5\n",
      "36/36 [==============================] - 0s 4ms/step - loss: 1.5301 - accuracy: 0.4010 - val_loss: 1.3361 - val_accuracy: 0.5391\n",
      "Epoch 7/1000\n",
      "26/36 [====================>.........] - ETA: 0s - loss: 1.4999 - accuracy: 0.4081\n",
      "Epoch 7: saving model to model/keypoint_classifier/keypoint_classifier.hdf5\n",
      "36/36 [==============================] - 0s 4ms/step - loss: 1.4836 - accuracy: 0.4168 - val_loss: 1.2342 - val_accuracy: 0.5999\n",
      "Epoch 8/1000\n",
      "27/36 [=====================>........] - ETA: 0s - loss: 1.4240 - accuracy: 0.4410\n",
      "Epoch 8: saving model to model/keypoint_classifier/keypoint_classifier.hdf5\n",
      "36/36 [==============================] - 0s 4ms/step - loss: 1.4107 - accuracy: 0.4520 - val_loss: 1.1334 - val_accuracy: 0.6774\n",
      "Epoch 9/1000\n",
      "26/36 [====================>.........] - ETA: 0s - loss: 1.3566 - accuracy: 0.4793\n",
      "Epoch 9: saving model to model/keypoint_classifier/keypoint_classifier.hdf5\n",
      "36/36 [==============================] - 0s 4ms/step - loss: 1.3558 - accuracy: 0.4772 - val_loss: 1.0607 - val_accuracy: 0.7769\n",
      "Epoch 10/1000\n",
      "27/36 [=====================>........] - ETA: 0s - loss: 1.3094 - accuracy: 0.4907\n",
      "Epoch 10: saving model to model/keypoint_classifier/keypoint_classifier.hdf5\n",
      "36/36 [==============================] - 0s 4ms/step - loss: 1.3092 - accuracy: 0.4937 - val_loss: 0.9720 - val_accuracy: 0.8210\n",
      "Epoch 11/1000\n",
      "32/36 [=========================>....] - ETA: 0s - loss: 1.2590 - accuracy: 0.5183\n",
      "Epoch 11: saving model to model/keypoint_classifier/keypoint_classifier.hdf5\n",
      "36/36 [==============================] - 0s 6ms/step - loss: 1.2582 - accuracy: 0.5186 - val_loss: 0.9056 - val_accuracy: 0.8370\n",
      "Epoch 12/1000\n",
      "30/36 [========================>.....] - ETA: 0s - loss: 1.2141 - accuracy: 0.5396\n",
      "Epoch 12: saving model to model/keypoint_classifier/keypoint_classifier.hdf5\n",
      "36/36 [==============================] - 0s 7ms/step - loss: 1.2130 - accuracy: 0.5438 - val_loss: 0.8370 - val_accuracy: 0.8510\n",
      "Epoch 13/1000\n",
      "32/36 [=========================>....] - ETA: 0s - loss: 1.1724 - accuracy: 0.5583\n",
      "Epoch 13: saving model to model/keypoint_classifier/keypoint_classifier.hdf5\n",
      "36/36 [==============================] - 0s 6ms/step - loss: 1.1710 - accuracy: 0.5580 - val_loss: 0.7796 - val_accuracy: 0.8624\n",
      "Epoch 14/1000\n",
      "21/36 [================>.............] - ETA: 0s - loss: 1.1493 - accuracy: 0.5592\n",
      "Epoch 14: saving model to model/keypoint_classifier/keypoint_classifier.hdf5\n",
      "36/36 [==============================] - 0s 5ms/step - loss: 1.1438 - accuracy: 0.5663 - val_loss: 0.7399 - val_accuracy: 0.8677\n",
      "Epoch 15/1000\n",
      "31/36 [========================>.....] - ETA: 0s - loss: 1.1143 - accuracy: 0.5781\n",
      "Epoch 15: saving model to model/keypoint_classifier/keypoint_classifier.hdf5\n",
      "36/36 [==============================] - 0s 7ms/step - loss: 1.1083 - accuracy: 0.5810 - val_loss: 0.7010 - val_accuracy: 0.8737\n",
      "Epoch 16/1000\n",
      "33/36 [==========================>...] - ETA: 0s - loss: 1.1216 - accuracy: 0.5722\n",
      "Epoch 16: saving model to model/keypoint_classifier/keypoint_classifier.hdf5\n",
      "36/36 [==============================] - 0s 6ms/step - loss: 1.1173 - accuracy: 0.5734 - val_loss: 0.6734 - val_accuracy: 0.8684\n",
      "Epoch 17/1000\n",
      "36/36 [==============================] - ETA: 0s - loss: 1.0698 - accuracy: 0.5966\n",
      "Epoch 17: saving model to model/keypoint_classifier/keypoint_classifier.hdf5\n",
      "36/36 [==============================] - 0s 6ms/step - loss: 1.0698 - accuracy: 0.5966 - val_loss: 0.6397 - val_accuracy: 0.8804\n",
      "Epoch 18/1000\n",
      "36/36 [==============================] - ETA: 0s - loss: 1.0686 - accuracy: 0.5977\n",
      "Epoch 18: saving model to model/keypoint_classifier/keypoint_classifier.hdf5\n",
      "36/36 [==============================] - 0s 6ms/step - loss: 1.0686 - accuracy: 0.5977 - val_loss: 0.6286 - val_accuracy: 0.8871\n",
      "Epoch 19/1000\n",
      "19/36 [==============>...............] - ETA: 0s - loss: 1.0086 - accuracy: 0.6316\n",
      "Epoch 19: saving model to model/keypoint_classifier/keypoint_classifier.hdf5\n",
      "36/36 [==============================] - 0s 5ms/step - loss: 1.0029 - accuracy: 0.6313 - val_loss: 0.5837 - val_accuracy: 0.8904\n",
      "Epoch 20/1000\n",
      "20/36 [===============>..............] - ETA: 0s - loss: 0.9946 - accuracy: 0.6199\n",
      "Epoch 20: saving model to model/keypoint_classifier/keypoint_classifier.hdf5\n",
      "36/36 [==============================] - 0s 5ms/step - loss: 0.9967 - accuracy: 0.6344 - val_loss: 0.5724 - val_accuracy: 0.8871\n",
      "Epoch 21/1000\n",
      "21/36 [================>.............] - ETA: 0s - loss: 1.0113 - accuracy: 0.6138\n",
      "Epoch 21: saving model to model/keypoint_classifier/keypoint_classifier.hdf5\n",
      "36/36 [==============================] - 0s 6ms/step - loss: 1.0057 - accuracy: 0.6142 - val_loss: 0.5620 - val_accuracy: 0.8991\n",
      "Epoch 22/1000\n",
      "23/36 [==================>...........] - ETA: 0s - loss: 0.9854 - accuracy: 0.6284\n",
      "Epoch 22: saving model to model/keypoint_classifier/keypoint_classifier.hdf5\n",
      "36/36 [==============================] - 0s 7ms/step - loss: 0.9641 - accuracy: 0.6349 - val_loss: 0.5349 - val_accuracy: 0.9051\n",
      "Epoch 23/1000\n",
      "34/36 [===========================>..] - ETA: 0s - loss: 0.9853 - accuracy: 0.6427\n",
      "Epoch 23: saving model to model/keypoint_classifier/keypoint_classifier.hdf5\n",
      "36/36 [==============================] - 0s 6ms/step - loss: 0.9808 - accuracy: 0.6442 - val_loss: 0.5368 - val_accuracy: 0.8971\n",
      "Epoch 24/1000\n",
      "29/36 [=======================>......] - ETA: 0s - loss: 0.9719 - accuracy: 0.6390\n",
      "Epoch 24: saving model to model/keypoint_classifier/keypoint_classifier.hdf5\n",
      "36/36 [==============================] - 0s 7ms/step - loss: 0.9684 - accuracy: 0.6389 - val_loss: 0.5265 - val_accuracy: 0.9005\n",
      "Epoch 25/1000\n",
      "35/36 [============================>.] - ETA: 0s - loss: 0.9488 - accuracy: 0.6446\n",
      "Epoch 25: saving model to model/keypoint_classifier/keypoint_classifier.hdf5\n",
      "36/36 [==============================] - 0s 6ms/step - loss: 0.9480 - accuracy: 0.6451 - val_loss: 0.5084 - val_accuracy: 0.9112\n",
      "Epoch 26/1000\n",
      "34/36 [===========================>..] - ETA: 0s - loss: 0.9135 - accuracy: 0.6562\n",
      "Epoch 26: saving model to model/keypoint_classifier/keypoint_classifier.hdf5\n",
      "36/36 [==============================] - 0s 6ms/step - loss: 0.9117 - accuracy: 0.6569 - val_loss: 0.4912 - val_accuracy: 0.9138\n",
      "Epoch 27/1000\n",
      "19/36 [==============>...............] - ETA: 0s - loss: 0.9494 - accuracy: 0.6423\n",
      "Epoch 27: saving model to model/keypoint_classifier/keypoint_classifier.hdf5\n",
      "36/36 [==============================] - 0s 5ms/step - loss: 0.9433 - accuracy: 0.6469 - val_loss: 0.4984 - val_accuracy: 0.9132\n",
      "Epoch 28/1000\n",
      "30/36 [========================>.....] - ETA: 0s - loss: 0.9138 - accuracy: 0.6630\n",
      "Epoch 28: saving model to model/keypoint_classifier/keypoint_classifier.hdf5\n",
      "36/36 [==============================] - 0s 7ms/step - loss: 0.9180 - accuracy: 0.6598 - val_loss: 0.4912 - val_accuracy: 0.9205\n",
      "Epoch 29/1000\n",
      "34/36 [===========================>..] - ETA: 0s - loss: 0.9268 - accuracy: 0.6510\n",
      "Epoch 29: saving model to model/keypoint_classifier/keypoint_classifier.hdf5\n",
      "36/36 [==============================] - 0s 7ms/step - loss: 0.9202 - accuracy: 0.6547 - val_loss: 0.4862 - val_accuracy: 0.9158\n",
      "Epoch 30/1000\n",
      "22/36 [=================>............] - ETA: 0s - loss: 0.9255 - accuracy: 0.6634\n",
      "Epoch 30: saving model to model/keypoint_classifier/keypoint_classifier.hdf5\n",
      "36/36 [==============================] - 0s 7ms/step - loss: 0.9062 - accuracy: 0.6712 - val_loss: 0.4694 - val_accuracy: 0.9192\n",
      "Epoch 31/1000\n",
      "19/36 [==============>...............] - ETA: 0s - loss: 0.8851 - accuracy: 0.6776\n",
      "Epoch 31: saving model to model/keypoint_classifier/keypoint_classifier.hdf5\n",
      "36/36 [==============================] - 0s 5ms/step - loss: 0.8905 - accuracy: 0.6736 - val_loss: 0.4600 - val_accuracy: 0.9299\n",
      "Epoch 32/1000\n",
      "34/36 [===========================>..] - ETA: 0s - loss: 0.8904 - accuracy: 0.6666\n",
      "Epoch 32: saving model to model/keypoint_classifier/keypoint_classifier.hdf5\n",
      "36/36 [==============================] - 0s 6ms/step - loss: 0.8875 - accuracy: 0.6690 - val_loss: 0.4505 - val_accuracy: 0.9232\n",
      "Epoch 33/1000\n",
      "36/36 [==============================] - ETA: 0s - loss: 0.8736 - accuracy: 0.6714\n",
      "Epoch 33: saving model to model/keypoint_classifier/keypoint_classifier.hdf5\n",
      "36/36 [==============================] - 0s 6ms/step - loss: 0.8736 - accuracy: 0.6714 - val_loss: 0.4511 - val_accuracy: 0.9259\n",
      "Epoch 34/1000\n",
      "36/36 [==============================] - ETA: 0s - loss: 0.8890 - accuracy: 0.6712\n",
      "Epoch 34: saving model to model/keypoint_classifier/keypoint_classifier.hdf5\n",
      "36/36 [==============================] - 0s 6ms/step - loss: 0.8890 - accuracy: 0.6712 - val_loss: 0.4447 - val_accuracy: 0.9272\n",
      "Epoch 35/1000\n",
      "19/36 [==============>...............] - ETA: 0s - loss: 0.8448 - accuracy: 0.6875\n",
      "Epoch 35: saving model to model/keypoint_classifier/keypoint_classifier.hdf5\n",
      "36/36 [==============================] - 0s 5ms/step - loss: 0.8562 - accuracy: 0.6850 - val_loss: 0.4367 - val_accuracy: 0.9305\n",
      "Epoch 36/1000\n",
      "19/36 [==============>...............] - ETA: 0s - loss: 0.8392 - accuracy: 0.6994\n",
      "Epoch 36: saving model to model/keypoint_classifier/keypoint_classifier.hdf5\n",
      "36/36 [==============================] - 0s 5ms/step - loss: 0.8551 - accuracy: 0.6875 - val_loss: 0.4378 - val_accuracy: 0.9305\n",
      "Epoch 37/1000\n",
      "19/36 [==============>...............] - ETA: 0s - loss: 0.8481 - accuracy: 0.6859\n",
      "Epoch 37: saving model to model/keypoint_classifier/keypoint_classifier.hdf5\n",
      "36/36 [==============================] - 0s 5ms/step - loss: 0.8486 - accuracy: 0.6850 - val_loss: 0.4247 - val_accuracy: 0.9332\n",
      "Epoch 38/1000\n",
      "19/36 [==============>...............] - ETA: 0s - loss: 0.8540 - accuracy: 0.6850\n",
      "Epoch 38: saving model to model/keypoint_classifier/keypoint_classifier.hdf5\n",
      "36/36 [==============================] - 0s 5ms/step - loss: 0.8426 - accuracy: 0.6912 - val_loss: 0.4180 - val_accuracy: 0.9319\n",
      "Epoch 39/1000\n",
      "32/36 [=========================>....] - ETA: 0s - loss: 0.8312 - accuracy: 0.7024\n",
      "Epoch 39: saving model to model/keypoint_classifier/keypoint_classifier.hdf5\n",
      "36/36 [==============================] - 0s 6ms/step - loss: 0.8289 - accuracy: 0.7026 - val_loss: 0.4162 - val_accuracy: 0.9345\n",
      "Epoch 40/1000\n",
      "35/36 [============================>.] - ETA: 0s - loss: 0.8308 - accuracy: 0.6931\n",
      "Epoch 40: saving model to model/keypoint_classifier/keypoint_classifier.hdf5\n",
      "36/36 [==============================] - 0s 6ms/step - loss: 0.8302 - accuracy: 0.6933 - val_loss: 0.4108 - val_accuracy: 0.9312\n",
      "Epoch 41/1000\n",
      "36/36 [==============================] - ETA: 0s - loss: 0.8350 - accuracy: 0.6924\n",
      "Epoch 41: saving model to model/keypoint_classifier/keypoint_classifier.hdf5\n",
      "36/36 [==============================] - 0s 8ms/step - loss: 0.8350 - accuracy: 0.6924 - val_loss: 0.4126 - val_accuracy: 0.9339\n",
      "Epoch 42/1000\n",
      "36/36 [==============================] - ETA: 0s - loss: 0.8206 - accuracy: 0.6999\n",
      "Epoch 42: saving model to model/keypoint_classifier/keypoint_classifier.hdf5\n",
      "36/36 [==============================] - 0s 6ms/step - loss: 0.8206 - accuracy: 0.6999 - val_loss: 0.4111 - val_accuracy: 0.9352\n",
      "Epoch 43/1000\n",
      "29/36 [=======================>......] - ETA: 0s - loss: 0.8383 - accuracy: 0.6832\n",
      "Epoch 43: saving model to model/keypoint_classifier/keypoint_classifier.hdf5\n",
      "36/36 [==============================] - 0s 7ms/step - loss: 0.8290 - accuracy: 0.6897 - val_loss: 0.4141 - val_accuracy: 0.9332\n",
      "Epoch 44/1000\n",
      "32/36 [=========================>....] - ETA: 0s - loss: 0.8109 - accuracy: 0.7131\n",
      "Epoch 44: saving model to model/keypoint_classifier/keypoint_classifier.hdf5\n",
      "36/36 [==============================] - 0s 6ms/step - loss: 0.8109 - accuracy: 0.7104 - val_loss: 0.4066 - val_accuracy: 0.9325\n",
      "Epoch 45/1000\n",
      "35/36 [============================>.] - ETA: 0s - loss: 0.8182 - accuracy: 0.7049\n",
      "Epoch 45: saving model to model/keypoint_classifier/keypoint_classifier.hdf5\n",
      "36/36 [==============================] - 0s 6ms/step - loss: 0.8182 - accuracy: 0.7048 - val_loss: 0.3996 - val_accuracy: 0.9339\n",
      "Epoch 46/1000\n",
      "35/36 [============================>.] - ETA: 0s - loss: 0.8060 - accuracy: 0.7145\n",
      "Epoch 46: saving model to model/keypoint_classifier/keypoint_classifier.hdf5\n",
      "36/36 [==============================] - 0s 6ms/step - loss: 0.8062 - accuracy: 0.7144 - val_loss: 0.3979 - val_accuracy: 0.9365\n",
      "Epoch 47/1000\n",
      "36/36 [==============================] - ETA: 0s - loss: 0.7961 - accuracy: 0.7135\n",
      "Epoch 47: saving model to model/keypoint_classifier/keypoint_classifier.hdf5\n",
      "36/36 [==============================] - 0s 6ms/step - loss: 0.7961 - accuracy: 0.7135 - val_loss: 0.3999 - val_accuracy: 0.9379\n",
      "Epoch 48/1000\n",
      "33/36 [==========================>...] - ETA: 0s - loss: 0.7976 - accuracy: 0.7107\n",
      "Epoch 48: saving model to model/keypoint_classifier/keypoint_classifier.hdf5\n",
      "36/36 [==============================] - 0s 6ms/step - loss: 0.7939 - accuracy: 0.7129 - val_loss: 0.3969 - val_accuracy: 0.9359\n",
      "Epoch 49/1000\n",
      "34/36 [===========================>..] - ETA: 0s - loss: 0.7721 - accuracy: 0.7231\n",
      "Epoch 49: saving model to model/keypoint_classifier/keypoint_classifier.hdf5\n",
      "36/36 [==============================] - 0s 6ms/step - loss: 0.7729 - accuracy: 0.7233 - val_loss: 0.3817 - val_accuracy: 0.9379\n",
      "Epoch 50/1000\n",
      "34/36 [===========================>..] - ETA: 0s - loss: 0.7824 - accuracy: 0.7144\n",
      "Epoch 50: saving model to model/keypoint_classifier/keypoint_classifier.hdf5\n",
      "36/36 [==============================] - 0s 6ms/step - loss: 0.7787 - accuracy: 0.7164 - val_loss: 0.3780 - val_accuracy: 0.9379\n",
      "Epoch 51/1000\n",
      "25/36 [===================>..........] - ETA: 0s - loss: 0.7914 - accuracy: 0.7163\n",
      "Epoch 51: saving model to model/keypoint_classifier/keypoint_classifier.hdf5\n",
      "36/36 [==============================] - 0s 7ms/step - loss: 0.7894 - accuracy: 0.7131 - val_loss: 0.3775 - val_accuracy: 0.9479\n",
      "Epoch 52/1000\n",
      "20/36 [===============>..............] - ETA: 0s - loss: 0.7840 - accuracy: 0.7207\n",
      "Epoch 52: saving model to model/keypoint_classifier/keypoint_classifier.hdf5\n",
      "36/36 [==============================] - 0s 6ms/step - loss: 0.7823 - accuracy: 0.7182 - val_loss: 0.3645 - val_accuracy: 0.9486\n",
      "Epoch 53/1000\n",
      "19/36 [==============>...............] - ETA: 0s - loss: 0.7667 - accuracy: 0.7282\n",
      "Epoch 53: saving model to model/keypoint_classifier/keypoint_classifier.hdf5\n",
      "36/36 [==============================] - 0s 5ms/step - loss: 0.7611 - accuracy: 0.7289 - val_loss: 0.3690 - val_accuracy: 0.9479\n",
      "Epoch 54/1000\n",
      "21/36 [================>.............] - ETA: 0s - loss: 0.7627 - accuracy: 0.7292\n",
      "Epoch 54: saving model to model/keypoint_classifier/keypoint_classifier.hdf5\n",
      "36/36 [==============================] - 0s 5ms/step - loss: 0.7547 - accuracy: 0.7329 - val_loss: 0.3710 - val_accuracy: 0.9559\n",
      "Epoch 55/1000\n",
      "20/36 [===============>..............] - ETA: 0s - loss: 0.7839 - accuracy: 0.7172\n",
      "Epoch 55: saving model to model/keypoint_classifier/keypoint_classifier.hdf5\n",
      "36/36 [==============================] - 0s 6ms/step - loss: 0.7710 - accuracy: 0.7233 - val_loss: 0.3796 - val_accuracy: 0.9452\n",
      "Epoch 56/1000\n",
      "19/36 [==============>...............] - ETA: 0s - loss: 0.7507 - accuracy: 0.7270\n",
      "Epoch 56: saving model to model/keypoint_classifier/keypoint_classifier.hdf5\n",
      "36/36 [==============================] - 0s 6ms/step - loss: 0.7487 - accuracy: 0.7249 - val_loss: 0.3674 - val_accuracy: 0.9492\n",
      "Epoch 57/1000\n",
      "28/36 [======================>.......] - ETA: 0s - loss: 0.7462 - accuracy: 0.7333\n",
      "Epoch 57: saving model to model/keypoint_classifier/keypoint_classifier.hdf5\n",
      "36/36 [==============================] - 0s 9ms/step - loss: 0.7425 - accuracy: 0.7347 - val_loss: 0.3601 - val_accuracy: 0.9546\n",
      "Epoch 58/1000\n",
      "29/36 [=======================>......] - ETA: 0s - loss: 0.7437 - accuracy: 0.7357\n",
      "Epoch 58: saving model to model/keypoint_classifier/keypoint_classifier.hdf5\n",
      "36/36 [==============================] - 0s 9ms/step - loss: 0.7399 - accuracy: 0.7380 - val_loss: 0.3635 - val_accuracy: 0.9405\n",
      "Epoch 59/1000\n",
      "34/36 [===========================>..] - ETA: 0s - loss: 0.7551 - accuracy: 0.7355\n",
      "Epoch 59: saving model to model/keypoint_classifier/keypoint_classifier.hdf5\n",
      "36/36 [==============================] - 0s 6ms/step - loss: 0.7587 - accuracy: 0.7351 - val_loss: 0.3625 - val_accuracy: 0.9532\n",
      "Epoch 60/1000\n",
      "36/36 [==============================] - ETA: 0s - loss: 0.7389 - accuracy: 0.7340\n",
      "Epoch 60: saving model to model/keypoint_classifier/keypoint_classifier.hdf5\n",
      "36/36 [==============================] - 0s 6ms/step - loss: 0.7389 - accuracy: 0.7340 - val_loss: 0.3674 - val_accuracy: 0.9512\n",
      "Epoch 61/1000\n",
      "32/36 [=========================>....] - ETA: 0s - loss: 0.7185 - accuracy: 0.7427\n",
      "Epoch 61: saving model to model/keypoint_classifier/keypoint_classifier.hdf5\n",
      "36/36 [==============================] - 0s 5ms/step - loss: 0.7172 - accuracy: 0.7429 - val_loss: 0.3545 - val_accuracy: 0.9499\n",
      "Epoch 62/1000\n",
      "20/36 [===============>..............] - ETA: 0s - loss: 0.7148 - accuracy: 0.7555\n",
      "Epoch 62: saving model to model/keypoint_classifier/keypoint_classifier.hdf5\n",
      "36/36 [==============================] - 0s 7ms/step - loss: 0.7086 - accuracy: 0.7494 - val_loss: 0.3482 - val_accuracy: 0.9539\n",
      "Epoch 63/1000\n",
      "28/36 [======================>.......] - ETA: 0s - loss: 0.7382 - accuracy: 0.7324\n",
      "Epoch 63: saving model to model/keypoint_classifier/keypoint_classifier.hdf5\n",
      "36/36 [==============================] - 0s 7ms/step - loss: 0.7380 - accuracy: 0.7325 - val_loss: 0.3539 - val_accuracy: 0.9532\n",
      "Epoch 64/1000\n",
      "31/36 [========================>.....] - ETA: 0s - loss: 0.7024 - accuracy: 0.7505\n",
      "Epoch 64: saving model to model/keypoint_classifier/keypoint_classifier.hdf5\n",
      "36/36 [==============================] - 0s 7ms/step - loss: 0.7098 - accuracy: 0.7476 - val_loss: 0.3546 - val_accuracy: 0.9566\n",
      "Epoch 65/1000\n",
      "32/36 [=========================>....] - ETA: 0s - loss: 0.7176 - accuracy: 0.7480\n",
      "Epoch 65: saving model to model/keypoint_classifier/keypoint_classifier.hdf5\n",
      "36/36 [==============================] - 0s 6ms/step - loss: 0.7190 - accuracy: 0.7472 - val_loss: 0.3638 - val_accuracy: 0.9532\n",
      "Epoch 66/1000\n",
      "31/36 [========================>.....] - ETA: 0s - loss: 0.7054 - accuracy: 0.7482\n",
      "Epoch 66: saving model to model/keypoint_classifier/keypoint_classifier.hdf5\n",
      "36/36 [==============================] - 0s 6ms/step - loss: 0.7011 - accuracy: 0.7489 - val_loss: 0.3457 - val_accuracy: 0.9586\n",
      "Epoch 67/1000\n",
      "34/36 [===========================>..] - ETA: 0s - loss: 0.7112 - accuracy: 0.7445\n",
      "Epoch 67: saving model to model/keypoint_classifier/keypoint_classifier.hdf5\n",
      "36/36 [==============================] - 0s 6ms/step - loss: 0.7138 - accuracy: 0.7438 - val_loss: 0.3434 - val_accuracy: 0.9552\n",
      "Epoch 68/1000\n",
      "30/36 [========================>.....] - ETA: 0s - loss: 0.6932 - accuracy: 0.7547\n",
      "Epoch 68: saving model to model/keypoint_classifier/keypoint_classifier.hdf5\n",
      "36/36 [==============================] - 0s 7ms/step - loss: 0.7023 - accuracy: 0.7525 - val_loss: 0.3461 - val_accuracy: 0.9519\n",
      "Epoch 69/1000\n",
      "35/36 [============================>.] - ETA: 0s - loss: 0.6889 - accuracy: 0.7647\n",
      "Epoch 69: saving model to model/keypoint_classifier/keypoint_classifier.hdf5\n",
      "36/36 [==============================] - 0s 6ms/step - loss: 0.6897 - accuracy: 0.7643 - val_loss: 0.3505 - val_accuracy: 0.9526\n",
      "Epoch 70/1000\n",
      "36/36 [==============================] - ETA: 0s - loss: 0.6944 - accuracy: 0.7472\n",
      "Epoch 70: saving model to model/keypoint_classifier/keypoint_classifier.hdf5\n",
      "36/36 [==============================] - 0s 6ms/step - loss: 0.6944 - accuracy: 0.7472 - val_loss: 0.3512 - val_accuracy: 0.9559\n",
      "Epoch 71/1000\n",
      "35/36 [============================>.] - ETA: 0s - loss: 0.6894 - accuracy: 0.7551\n",
      "Epoch 71: saving model to model/keypoint_classifier/keypoint_classifier.hdf5\n",
      "36/36 [==============================] - 0s 6ms/step - loss: 0.6893 - accuracy: 0.7552 - val_loss: 0.3447 - val_accuracy: 0.9539\n",
      "Epoch 72/1000\n",
      "34/36 [===========================>..] - ETA: 0s - loss: 0.7101 - accuracy: 0.7534\n",
      "Epoch 72: saving model to model/keypoint_classifier/keypoint_classifier.hdf5\n",
      "36/36 [==============================] - 0s 6ms/step - loss: 0.7096 - accuracy: 0.7527 - val_loss: 0.3543 - val_accuracy: 0.9552\n",
      "Epoch 73/1000\n",
      "36/36 [==============================] - ETA: 0s - loss: 0.6787 - accuracy: 0.7616\n",
      "Epoch 73: saving model to model/keypoint_classifier/keypoint_classifier.hdf5\n",
      "36/36 [==============================] - 0s 6ms/step - loss: 0.6787 - accuracy: 0.7616 - val_loss: 0.3481 - val_accuracy: 0.9559\n",
      "Epoch 74/1000\n",
      "18/36 [==============>...............] - ETA: 0s - loss: 0.6991 - accuracy: 0.7435\n",
      "Epoch 74: saving model to model/keypoint_classifier/keypoint_classifier.hdf5\n",
      "36/36 [==============================] - 0s 5ms/step - loss: 0.6819 - accuracy: 0.7567 - val_loss: 0.3386 - val_accuracy: 0.9539\n",
      "Epoch 75/1000\n",
      "20/36 [===============>..............] - ETA: 0s - loss: 0.7068 - accuracy: 0.7469\n",
      "Epoch 75: saving model to model/keypoint_classifier/keypoint_classifier.hdf5\n",
      "36/36 [==============================] - 0s 5ms/step - loss: 0.7007 - accuracy: 0.7545 - val_loss: 0.3506 - val_accuracy: 0.9526\n",
      "Epoch 76/1000\n",
      "36/36 [==============================] - ETA: 0s - loss: 0.6751 - accuracy: 0.7583\n",
      "Epoch 76: saving model to model/keypoint_classifier/keypoint_classifier.hdf5\n",
      "36/36 [==============================] - 0s 7ms/step - loss: 0.6751 - accuracy: 0.7583 - val_loss: 0.3431 - val_accuracy: 0.9512\n",
      "Epoch 77/1000\n",
      "34/36 [===========================>..] - ETA: 0s - loss: 0.6800 - accuracy: 0.7672\n",
      "Epoch 77: saving model to model/keypoint_classifier/keypoint_classifier.hdf5\n",
      "36/36 [==============================] - 0s 6ms/step - loss: 0.6814 - accuracy: 0.7648 - val_loss: 0.3464 - val_accuracy: 0.9532\n",
      "Epoch 78/1000\n",
      "34/36 [===========================>..] - ETA: 0s - loss: 0.6691 - accuracy: 0.7571\n",
      "Epoch 78: saving model to model/keypoint_classifier/keypoint_classifier.hdf5\n",
      "36/36 [==============================] - 0s 6ms/step - loss: 0.6685 - accuracy: 0.7581 - val_loss: 0.3393 - val_accuracy: 0.9526\n",
      "Epoch 79/1000\n",
      "36/36 [==============================] - ETA: 0s - loss: 0.6668 - accuracy: 0.7628\n",
      "Epoch 79: saving model to model/keypoint_classifier/keypoint_classifier.hdf5\n",
      "36/36 [==============================] - 0s 6ms/step - loss: 0.6668 - accuracy: 0.7628 - val_loss: 0.3414 - val_accuracy: 0.9539\n",
      "Epoch 80/1000\n",
      "35/36 [============================>.] - ETA: 0s - loss: 0.6676 - accuracy: 0.7721\n",
      "Epoch 80: saving model to model/keypoint_classifier/keypoint_classifier.hdf5\n",
      "36/36 [==============================] - 0s 6ms/step - loss: 0.6668 - accuracy: 0.7726 - val_loss: 0.3407 - val_accuracy: 0.9539\n",
      "Epoch 81/1000\n",
      "35/36 [============================>.] - ETA: 0s - loss: 0.6557 - accuracy: 0.7674\n",
      "Epoch 81: saving model to model/keypoint_classifier/keypoint_classifier.hdf5\n",
      "36/36 [==============================] - 0s 6ms/step - loss: 0.6553 - accuracy: 0.7677 - val_loss: 0.3347 - val_accuracy: 0.9546\n",
      "Epoch 82/1000\n",
      "34/36 [===========================>..] - ETA: 0s - loss: 0.6604 - accuracy: 0.7691\n",
      "Epoch 82: saving model to model/keypoint_classifier/keypoint_classifier.hdf5\n",
      "36/36 [==============================] - 0s 6ms/step - loss: 0.6612 - accuracy: 0.7677 - val_loss: 0.3360 - val_accuracy: 0.9526\n",
      "Epoch 83/1000\n",
      "34/36 [===========================>..] - ETA: 0s - loss: 0.6745 - accuracy: 0.7626\n",
      "Epoch 83: saving model to model/keypoint_classifier/keypoint_classifier.hdf5\n",
      "36/36 [==============================] - 0s 6ms/step - loss: 0.6730 - accuracy: 0.7630 - val_loss: 0.3590 - val_accuracy: 0.9519\n",
      "Epoch 84/1000\n",
      "33/36 [==========================>...] - ETA: 0s - loss: 0.6695 - accuracy: 0.7678\n",
      "Epoch 84: saving model to model/keypoint_classifier/keypoint_classifier.hdf5\n",
      "36/36 [==============================] - 0s 6ms/step - loss: 0.6639 - accuracy: 0.7697 - val_loss: 0.3334 - val_accuracy: 0.9526\n",
      "Epoch 85/1000\n",
      "19/36 [==============>...............] - ETA: 0s - loss: 0.6655 - accuracy: 0.7701\n",
      "Epoch 85: saving model to model/keypoint_classifier/keypoint_classifier.hdf5\n",
      "36/36 [==============================] - 0s 5ms/step - loss: 0.6524 - accuracy: 0.7685 - val_loss: 0.3353 - val_accuracy: 0.9519\n",
      "Epoch 86/1000\n",
      "21/36 [================>.............] - ETA: 0s - loss: 0.6678 - accuracy: 0.7660\n",
      "Epoch 86: saving model to model/keypoint_classifier/keypoint_classifier.hdf5\n",
      "36/36 [==============================] - 0s 5ms/step - loss: 0.6616 - accuracy: 0.7697 - val_loss: 0.3407 - val_accuracy: 0.9519\n",
      "Epoch 87/1000\n",
      "20/36 [===============>..............] - ETA: 0s - loss: 0.6282 - accuracy: 0.7824\n",
      "Epoch 87: saving model to model/keypoint_classifier/keypoint_classifier.hdf5\n",
      "36/36 [==============================] - 0s 5ms/step - loss: 0.6392 - accuracy: 0.7757 - val_loss: 0.3319 - val_accuracy: 0.9559\n",
      "Epoch 88/1000\n",
      "36/36 [==============================] - ETA: 0s - loss: 0.6601 - accuracy: 0.7783\n",
      "Epoch 88: saving model to model/keypoint_classifier/keypoint_classifier.hdf5\n",
      "36/36 [==============================] - 0s 6ms/step - loss: 0.6601 - accuracy: 0.7783 - val_loss: 0.3414 - val_accuracy: 0.9492\n",
      "Epoch 89/1000\n",
      "36/36 [==============================] - ETA: 0s - loss: 0.6401 - accuracy: 0.7750\n",
      "Epoch 89: saving model to model/keypoint_classifier/keypoint_classifier.hdf5\n",
      "36/36 [==============================] - 0s 6ms/step - loss: 0.6401 - accuracy: 0.7750 - val_loss: 0.3339 - val_accuracy: 0.9519\n",
      "Epoch 90/1000\n",
      "36/36 [==============================] - ETA: 0s - loss: 0.6304 - accuracy: 0.7739\n",
      "Epoch 90: saving model to model/keypoint_classifier/keypoint_classifier.hdf5\n",
      "36/36 [==============================] - 0s 6ms/step - loss: 0.6304 - accuracy: 0.7739 - val_loss: 0.3320 - val_accuracy: 0.9559\n",
      "Epoch 91/1000\n",
      "36/36 [==============================] - ETA: 0s - loss: 0.6578 - accuracy: 0.7726\n",
      "Epoch 91: saving model to model/keypoint_classifier/keypoint_classifier.hdf5\n",
      "36/36 [==============================] - 0s 6ms/step - loss: 0.6578 - accuracy: 0.7726 - val_loss: 0.3375 - val_accuracy: 0.9526\n",
      "Epoch 92/1000\n",
      "18/36 [==============>...............] - ETA: 0s - loss: 0.6287 - accuracy: 0.7843\n",
      "Epoch 92: saving model to model/keypoint_classifier/keypoint_classifier.hdf5\n",
      "36/36 [==============================] - 0s 5ms/step - loss: 0.6264 - accuracy: 0.7859 - val_loss: 0.3318 - val_accuracy: 0.9546\n",
      "Epoch 93/1000\n",
      "19/36 [==============>...............] - ETA: 0s - loss: 0.6385 - accuracy: 0.7796\n",
      "Epoch 93: saving model to model/keypoint_classifier/keypoint_classifier.hdf5\n",
      "36/36 [==============================] - 0s 5ms/step - loss: 0.6260 - accuracy: 0.7864 - val_loss: 0.3318 - val_accuracy: 0.9492\n",
      "Epoch 94/1000\n",
      "36/36 [==============================] - ETA: 0s - loss: 0.6268 - accuracy: 0.7850\n",
      "Epoch 94: saving model to model/keypoint_classifier/keypoint_classifier.hdf5\n",
      "36/36 [==============================] - 0s 6ms/step - loss: 0.6268 - accuracy: 0.7850 - val_loss: 0.3306 - val_accuracy: 0.9519\n",
      "Epoch 95/1000\n",
      "19/36 [==============>...............] - ETA: 0s - loss: 0.6229 - accuracy: 0.7882\n",
      "Epoch 95: saving model to model/keypoint_classifier/keypoint_classifier.hdf5\n",
      "36/36 [==============================] - 0s 5ms/step - loss: 0.6322 - accuracy: 0.7801 - val_loss: 0.3400 - val_accuracy: 0.9546\n",
      "Epoch 96/1000\n",
      "19/36 [==============>...............] - ETA: 0s - loss: 0.6244 - accuracy: 0.7788\n",
      "Epoch 96: saving model to model/keypoint_classifier/keypoint_classifier.hdf5\n",
      "36/36 [==============================] - 0s 5ms/step - loss: 0.6306 - accuracy: 0.7726 - val_loss: 0.3272 - val_accuracy: 0.9546\n",
      "Epoch 97/1000\n",
      "19/36 [==============>...............] - ETA: 0s - loss: 0.6087 - accuracy: 0.7866\n",
      "Epoch 97: saving model to model/keypoint_classifier/keypoint_classifier.hdf5\n",
      "36/36 [==============================] - 0s 5ms/step - loss: 0.5987 - accuracy: 0.7942 - val_loss: 0.3245 - val_accuracy: 0.9519\n",
      "Epoch 98/1000\n",
      "35/36 [============================>.] - ETA: 0s - loss: 0.6198 - accuracy: 0.7891\n",
      "Epoch 98: saving model to model/keypoint_classifier/keypoint_classifier.hdf5\n",
      "36/36 [==============================] - 0s 7ms/step - loss: 0.6205 - accuracy: 0.7886 - val_loss: 0.3210 - val_accuracy: 0.9546\n",
      "Epoch 99/1000\n",
      "31/36 [========================>.....] - ETA: 0s - loss: 0.6374 - accuracy: 0.7707\n",
      "Epoch 99: saving model to model/keypoint_classifier/keypoint_classifier.hdf5\n",
      "36/36 [==============================] - 0s 7ms/step - loss: 0.6342 - accuracy: 0.7746 - val_loss: 0.3359 - val_accuracy: 0.9512\n",
      "Epoch 100/1000\n",
      "19/36 [==============>...............] - ETA: 0s - loss: 0.6088 - accuracy: 0.7858\n",
      "Epoch 100: saving model to model/keypoint_classifier/keypoint_classifier.hdf5\n",
      "36/36 [==============================] - 0s 5ms/step - loss: 0.6111 - accuracy: 0.7884 - val_loss: 0.3303 - val_accuracy: 0.9499\n",
      "Epoch 101/1000\n",
      "20/36 [===============>..............] - ETA: 0s - loss: 0.5947 - accuracy: 0.7934\n",
      "Epoch 101: saving model to model/keypoint_classifier/keypoint_classifier.hdf5\n",
      "36/36 [==============================] - 0s 5ms/step - loss: 0.5963 - accuracy: 0.7953 - val_loss: 0.3376 - val_accuracy: 0.9506\n",
      "Epoch 102/1000\n",
      "35/36 [============================>.] - ETA: 0s - loss: 0.6225 - accuracy: 0.7951\n",
      "Epoch 102: saving model to model/keypoint_classifier/keypoint_classifier.hdf5\n",
      "36/36 [==============================] - 0s 6ms/step - loss: 0.6220 - accuracy: 0.7953 - val_loss: 0.3375 - val_accuracy: 0.9546\n",
      "Epoch 103/1000\n",
      "34/36 [===========================>..] - ETA: 0s - loss: 0.6134 - accuracy: 0.7893\n",
      "Epoch 103: saving model to model/keypoint_classifier/keypoint_classifier.hdf5\n",
      "36/36 [==============================] - 0s 6ms/step - loss: 0.6094 - accuracy: 0.7917 - val_loss: 0.3155 - val_accuracy: 0.9559\n",
      "Epoch 104/1000\n",
      "35/36 [============================>.] - ETA: 0s - loss: 0.6149 - accuracy: 0.7810\n",
      "Epoch 104: saving model to model/keypoint_classifier/keypoint_classifier.hdf5\n",
      "36/36 [==============================] - 0s 6ms/step - loss: 0.6153 - accuracy: 0.7810 - val_loss: 0.3252 - val_accuracy: 0.9546\n",
      "Epoch 105/1000\n",
      "33/36 [==========================>...] - ETA: 0s - loss: 0.6065 - accuracy: 0.7983\n",
      "Epoch 105: saving model to model/keypoint_classifier/keypoint_classifier.hdf5\n",
      "36/36 [==============================] - 0s 8ms/step - loss: 0.6030 - accuracy: 0.7975 - val_loss: 0.3341 - val_accuracy: 0.9486\n",
      "Epoch 106/1000\n",
      "32/36 [=========================>....] - ETA: 0s - loss: 0.6038 - accuracy: 0.7937\n",
      "Epoch 106: saving model to model/keypoint_classifier/keypoint_classifier.hdf5\n",
      "36/36 [==============================] - 0s 6ms/step - loss: 0.6024 - accuracy: 0.7924 - val_loss: 0.3190 - val_accuracy: 0.9519\n",
      "Epoch 107/1000\n",
      "18/36 [==============>...............] - ETA: 0s - loss: 0.6139 - accuracy: 0.7904\n",
      "Epoch 107: saving model to model/keypoint_classifier/keypoint_classifier.hdf5\n",
      "36/36 [==============================] - 0s 5ms/step - loss: 0.6035 - accuracy: 0.7879 - val_loss: 0.3258 - val_accuracy: 0.9506\n",
      "Epoch 108/1000\n",
      "19/36 [==============>...............] - ETA: 0s - loss: 0.6214 - accuracy: 0.7780\n",
      "Epoch 108: saving model to model/keypoint_classifier/keypoint_classifier.hdf5\n",
      "36/36 [==============================] - 0s 5ms/step - loss: 0.6002 - accuracy: 0.7897 - val_loss: 0.3266 - val_accuracy: 0.9512\n",
      "Epoch 109/1000\n",
      "21/36 [================>.............] - ETA: 0s - loss: 0.6112 - accuracy: 0.7961\n",
      "Epoch 109: saving model to model/keypoint_classifier/keypoint_classifier.hdf5\n",
      "36/36 [==============================] - 0s 5ms/step - loss: 0.6056 - accuracy: 0.7935 - val_loss: 0.3253 - val_accuracy: 0.9479\n",
      "Epoch 110/1000\n",
      "21/36 [================>.............] - ETA: 0s - loss: 0.5748 - accuracy: 0.8047\n",
      "Epoch 110: saving model to model/keypoint_classifier/keypoint_classifier.hdf5\n",
      "36/36 [==============================] - 0s 5ms/step - loss: 0.5763 - accuracy: 0.8066 - val_loss: 0.3229 - val_accuracy: 0.9506\n",
      "Epoch 111/1000\n",
      "21/36 [================>.............] - ETA: 0s - loss: 0.5826 - accuracy: 0.7939\n",
      "Epoch 111: saving model to model/keypoint_classifier/keypoint_classifier.hdf5\n",
      "36/36 [==============================] - 0s 5ms/step - loss: 0.5852 - accuracy: 0.7955 - val_loss: 0.3295 - val_accuracy: 0.9499\n",
      "Epoch 112/1000\n",
      "20/36 [===============>..............] - ETA: 0s - loss: 0.5536 - accuracy: 0.8137\n",
      "Epoch 112: saving model to model/keypoint_classifier/keypoint_classifier.hdf5\n",
      "36/36 [==============================] - 0s 5ms/step - loss: 0.5760 - accuracy: 0.8026 - val_loss: 0.3280 - val_accuracy: 0.9479\n",
      "Epoch 113/1000\n",
      "20/36 [===============>..............] - ETA: 0s - loss: 0.6222 - accuracy: 0.7879\n",
      "Epoch 113: saving model to model/keypoint_classifier/keypoint_classifier.hdf5\n",
      "36/36 [==============================] - 0s 5ms/step - loss: 0.5954 - accuracy: 0.7964 - val_loss: 0.3246 - val_accuracy: 0.9486\n",
      "Epoch 114/1000\n",
      "21/36 [================>.............] - ETA: 0s - loss: 0.5673 - accuracy: 0.7984\n",
      "Epoch 114: saving model to model/keypoint_classifier/keypoint_classifier.hdf5\n",
      "36/36 [==============================] - 0s 6ms/step - loss: 0.5711 - accuracy: 0.8017 - val_loss: 0.3270 - val_accuracy: 0.9492\n",
      "Epoch 115/1000\n",
      "20/36 [===============>..............] - ETA: 0s - loss: 0.5816 - accuracy: 0.8023\n",
      "Epoch 115: saving model to model/keypoint_classifier/keypoint_classifier.hdf5\n",
      "36/36 [==============================] - 0s 6ms/step - loss: 0.5891 - accuracy: 0.7988 - val_loss: 0.3303 - val_accuracy: 0.9466\n",
      "Epoch 116/1000\n",
      "35/36 [============================>.] - ETA: 0s - loss: 0.5699 - accuracy: 0.7969\n",
      "Epoch 116: saving model to model/keypoint_classifier/keypoint_classifier.hdf5\n",
      "36/36 [==============================] - 0s 6ms/step - loss: 0.5699 - accuracy: 0.7968 - val_loss: 0.3169 - val_accuracy: 0.9466\n",
      "Epoch 117/1000\n",
      "20/36 [===============>..............] - ETA: 0s - loss: 0.5992 - accuracy: 0.7984\n",
      "Epoch 117: saving model to model/keypoint_classifier/keypoint_classifier.hdf5\n",
      "36/36 [==============================] - 0s 5ms/step - loss: 0.5896 - accuracy: 0.8040 - val_loss: 0.3272 - val_accuracy: 0.9432\n",
      "Epoch 118/1000\n",
      "21/36 [================>.............] - ETA: 0s - loss: 0.5786 - accuracy: 0.7887\n",
      "Epoch 118: saving model to model/keypoint_classifier/keypoint_classifier.hdf5\n",
      "36/36 [==============================] - 0s 5ms/step - loss: 0.5875 - accuracy: 0.7915 - val_loss: 0.3426 - val_accuracy: 0.9512\n",
      "Epoch 119/1000\n",
      "20/36 [===============>..............] - ETA: 0s - loss: 0.5827 - accuracy: 0.7996\n",
      "Epoch 119: saving model to model/keypoint_classifier/keypoint_classifier.hdf5\n",
      "36/36 [==============================] - 0s 5ms/step - loss: 0.5701 - accuracy: 0.8086 - val_loss: 0.3209 - val_accuracy: 0.9446\n",
      "Epoch 120/1000\n",
      "21/36 [================>.............] - ETA: 0s - loss: 0.5961 - accuracy: 0.8036\n",
      "Epoch 120: saving model to model/keypoint_classifier/keypoint_classifier.hdf5\n",
      "36/36 [==============================] - 0s 5ms/step - loss: 0.5829 - accuracy: 0.8008 - val_loss: 0.3291 - val_accuracy: 0.9446\n",
      "Epoch 121/1000\n",
      "21/36 [================>.............] - ETA: 0s - loss: 0.5839 - accuracy: 0.8002\n",
      "Epoch 121: saving model to model/keypoint_classifier/keypoint_classifier.hdf5\n",
      "36/36 [==============================] - 0s 5ms/step - loss: 0.5826 - accuracy: 0.8000 - val_loss: 0.3281 - val_accuracy: 0.9472\n",
      "Epoch 122/1000\n",
      "19/36 [==============>...............] - ETA: 0s - loss: 0.5377 - accuracy: 0.8252\n",
      "Epoch 122: saving model to model/keypoint_classifier/keypoint_classifier.hdf5\n",
      "36/36 [==============================] - 0s 7ms/step - loss: 0.5405 - accuracy: 0.8193 - val_loss: 0.3258 - val_accuracy: 0.9466\n",
      "Epoch 123/1000\n",
      "19/36 [==============>...............] - ETA: 0s - loss: 0.5609 - accuracy: 0.7969\n",
      "Epoch 123: saving model to model/keypoint_classifier/keypoint_classifier.hdf5\n",
      "36/36 [==============================] - 0s 5ms/step - loss: 0.5663 - accuracy: 0.8015 - val_loss: 0.3246 - val_accuracy: 0.9472\n",
      "Epoch 123: early stopping\n"
     ]
    },
    {
     "data": {
      "text/plain": [
       "<keras.src.callbacks.History at 0x7f5032ab0be0>"
      ]
     },
     "execution_count": 33,
     "metadata": {},
     "output_type": "execute_result"
    }
   ],
   "source": [
    "model.fit(\n",
    "    X_train,\n",
    "    y_train,\n",
    "    epochs=1000,\n",
    "    batch_size=128,\n",
    "    validation_data=(X_test, y_test),\n",
    "    callbacks=[cp_callback, es_callback]\n",
    ")"
   ]
  },
  {
   "cell_type": "code",
   "execution_count": 34,
   "metadata": {},
   "outputs": [
    {
     "name": "stdout",
     "output_type": "stream",
     "text": [
      "12/12 [==============================] - 0s 3ms/step - loss: 0.3246 - accuracy: 0.9472\n"
     ]
    }
   ],
   "source": [
    "# モデル評価\n",
    "val_loss, val_acc = model.evaluate(X_test, y_test, batch_size=128)"
   ]
  },
  {
   "cell_type": "code",
   "execution_count": 35,
   "metadata": {},
   "outputs": [],
   "source": [
    "# 保存したモデルのロード\n",
    "model = tf.keras.models.load_model(model_save_path)"
   ]
  },
  {
   "cell_type": "code",
   "execution_count": 36,
   "metadata": {},
   "outputs": [
    {
     "name": "stdout",
     "output_type": "stream",
     "text": [
      "1/1 [==============================] - 0s 71ms/step\n",
      "[0.03041605 0.02234123 0.00741564 0.34492698 0.00259885 0.5923013 ]\n",
      "5\n"
     ]
    }
   ],
   "source": [
    "# 推論テスト\n",
    "predict_result = model.predict(np.array([X_test[0]]))\n",
    "print(np.squeeze(predict_result))\n",
    "print(np.argmax(np.squeeze(predict_result)))"
   ]
  },
  {
   "cell_type": "markdown",
   "metadata": {},
   "source": [
    "# 混同行列"
   ]
  },
  {
   "cell_type": "code",
   "execution_count": 37,
   "metadata": {},
   "outputs": [
    {
     "name": "stdout",
     "output_type": "stream",
     "text": [
      "47/47 [==============================] - 0s 3ms/step\n"
     ]
    },
    {
     "data": {
      "image/png": "[encoded data removed]",
      "text/plain": [
       "<Figure size 700x600 with 2 Axes>"
      ]
     },
     "metadata": {},
     "output_type": "display_data"
    },
    {
     "name": "stdout",
     "output_type": "stream",
     "text": [
      "Classification Report\n",
      "              precision    recall  f1-score   support\n",
      "\n",
      "           0       1.00      1.00      1.00       240\n",
      "           1       0.92      0.95      0.94       244\n",
      "           2       0.94      1.00      0.97       433\n",
      "           3       0.94      0.90      0.92       167\n",
      "           4       1.00      0.96      0.98       209\n",
      "           5       0.88      0.79      0.84       204\n",
      "\n",
      "    accuracy                           0.95      1497\n",
      "   macro avg       0.95      0.93      0.94      1497\n",
      "weighted avg       0.95      0.95      0.95      1497\n",
      "\n"
     ]
    }
   ],
   "source": [
    "import pandas as pd\n",
    "import seaborn as sns\n",
    "import matplotlib.pyplot as plt\n",
    "from sklearn.metrics import confusion_matrix, classification_report\n",
    "\n",
    "def print_confusion_matrix(y_true, y_pred, report=True):\n",
    "    labels = sorted(list(set(y_true)))\n",
    "    cmx_data = confusion_matrix(y_true, y_pred, labels=labels)\n",
    "    \n",
    "    df_cmx = pd.DataFrame(cmx_data, index=labels, columns=labels)\n",
    " \n",
    "    fig, ax = plt.subplots(figsize=(7, 6))\n",
    "    sns.heatmap(df_cmx, annot=True, fmt='g' ,square=False)\n",
    "    ax.set_ylim(len(set(y_true)), 0)\n",
    "    plt.show()\n",
    "    \n",
    "    if report:\n",
    "        print('Classification Report')\n",
    "        print(classification_report(y_test, y_pred))\n",
    "\n",
    "Y_pred = model.predict(X_test)\n",
    "y_pred = np.argmax(Y_pred, axis=1)\n",
    "\n",
    "print_confusion_matrix(y_test, y_pred)"
   ]
  },
  {
   "cell_type": "markdown",
   "metadata": {},
   "source": [
    "# Tensorflow-Lite用のモデルへ変換"
   ]
  },
  {
   "cell_type": "code",
   "execution_count": 38,
   "metadata": {},
   "outputs": [
    {
     "name": "stderr",
     "output_type": "stream",
     "text": [
      "/tmp/myenv/lib/python3.10/site-packages/keras/src/engine/training.py:3103: UserWarning: You are saving your model as an HDF5 file via `model.save()`. This file format is considered legacy. We recommend using instead the native Keras format, e.g. `model.save('my_model.keras')`.\n",
      "  saving_api.save_model(\n"
     ]
    }
   ],
   "source": [
    "# 推論専用のモデルとして保存\n",
    "model.save(model_save_path, include_optimizer=False)"
   ]
  },
  {
   "cell_type": "code",
   "execution_count": 39,
   "metadata": {},
   "outputs": [
    {
     "name": "stdout",
     "output_type": "stream",
     "text": [
      "INFO:tensorflow:Assets written to: /tmp/tmpues7ugsi/assets\n"
     ]
    },
    {
     "name": "stderr",
     "output_type": "stream",
     "text": [
      "INFO:tensorflow:Assets written to: /tmp/tmpues7ugsi/assets\n",
      "2024-01-11 09:39:10.574701: W tensorflow/compiler/mlir/lite/python/tf_tfl_flatbuffer_helpers.cc:378] Ignored output_format.\n",
      "2024-01-11 09:39:10.574723: W tensorflow/compiler/mlir/lite/python/tf_tfl_flatbuffer_helpers.cc:381] Ignored drop_control_dependency.\n",
      "2024-01-11 09:39:10.574892: I tensorflow/cc/saved_model/reader.cc:83] Reading SavedModel from: /tmp/tmpues7ugsi\n",
      "2024-01-11 09:39:10.576081: I tensorflow/cc/saved_model/reader.cc:51] Reading meta graph with tags { serve }\n",
      "2024-01-11 09:39:10.576092: I tensorflow/cc/saved_model/reader.cc:146] Reading SavedModel debug info (if present) from: /tmp/tmpues7ugsi\n",
      "2024-01-11 09:39:10.581327: I tensorflow/cc/saved_model/loader.cc:233] Restoring SavedModel bundle.\n",
      "2024-01-11 09:39:10.623288: I tensorflow/cc/saved_model/loader.cc:217] Running initialization op on SavedModel bundle at path: /tmp/tmpues7ugsi\n",
      "2024-01-11 09:39:10.638215: I tensorflow/cc/saved_model/loader.cc:316] SavedModel load for tags { serve }; Status: success: OK. Took 63324 microseconds.\n",
      "Summary on the non-converted ops:\n",
      "---------------------------------\n",
      " * Accepted dialects: tfl, builtin, func\n",
      " * Non-Converted Ops: 6, Total Ops 13, % non-converted = 46.15 %\n",
      " * 6 ARITH ops\n",
      "\n",
      "- arith.constant:    6 occurrences  (f32: 6)\n",
      "\n",
      "\n",
      "\n",
      "  (f32: 3)\n",
      "  (f32: 1)\n"
     ]
    },
    {
     "data": {
      "text/plain": [
       "6660"
      ]
     },
     "execution_count": 39,
     "metadata": {},
     "output_type": "execute_result"
    }
   ],
   "source": [
    "# モデルを変換(量子化)\n",
    "tflite_save_path = 'model/keypoint_classifier/keypoint_classifier_3.tflite'\n",
    "\n",
    "converter = tf.lite.TFLiteConverter.from_keras_model(model)\n",
    "converter.optimizations = [tf.lite.Optimize.DEFAULT]\n",
    "tflite_quantized_model = converter.convert()\n",
    "\n",
    "open(tflite_save_path, 'wb').write(tflite_quantized_model)"
   ]
  },
  {
   "cell_type": "markdown",
   "metadata": {},
   "source": [
    "# 推論テスト"
   ]
  },
  {
   "cell_type": "code",
   "execution_count": 40,
   "metadata": {},
   "outputs": [],
   "source": [
    "interpreter = tf.lite.Interpreter(model_path=tflite_save_path)\n",
    "interpreter.allocate_tensors()"
   ]
  },
  {
   "cell_type": "code",
   "execution_count": 41,
   "metadata": {},
   "outputs": [],
   "source": [
    "# 入出力テンソルを取得\n",
    "input_details = interpreter.get_input_details()\n",
    "output_details = interpreter.get_output_details()"
   ]
  },
  {
   "cell_type": "code",
   "execution_count": 42,
   "metadata": {},
   "outputs": [],
   "source": [
    "interpreter.set_tensor(input_details[0]['index'], np.array([X_test[0]]))"
   ]
  },
  {
   "cell_type": "code",
   "execution_count": 43,
   "metadata": {
    "scrolled": true
   },
   "outputs": [
    {
     "name": "stdout",
     "output_type": "stream",
     "text": [
      "CPU times: user 772 µs, sys: 62 µs, total: 834 µs\n",
      "Wall time: 771 µs\n"
     ]
    }
   ],
   "source": [
    "%%time\n",
    "# 推論実施\n",
    "interpreter.invoke()\n",
    "tflite_results = interpreter.get_tensor(output_details[0]['index'])"
   ]
  },
  {
   "cell_type": "code",
   "execution_count": 44,
   "metadata": {},
   "outputs": [
    {
     "name": "stdout",
     "output_type": "stream",
     "text": [
      "[0.03041604 0.02234122 0.00741563 0.34492692 0.00259884 0.5923013 ]\n",
      "5\n"
     ]
    }
   ],
   "source": [
    "print(np.squeeze(tflite_results))\n",
    "print(np.argmax(np.squeeze(tflite_results)))"
   ]
  }
 ],
 "metadata": {
  "kernelspec": {
   "display_name": "Python 3",
   "language": "python",
   "name": "python3"
  },
  "language_info": {
   "codemirror_mode": {
    "name": "ipython",
    "version": 3
   },
   "file_extension": ".py",
   "mimetype": "text/x-python",
   "name": "python",
   "nbconvert_exporter": "python",
   "pygments_lexer": "ipython3",
   "version": "3.10.12"
  }
 },
 "nbformat": 4,
 "nbformat_minor": 4
}
