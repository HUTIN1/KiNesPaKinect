{
 "cells": [
  {
   "cell_type": "code",
   "execution_count": 45,
   "metadata": {},
   "outputs": [],
   "source": [
    "import csv\n",
    "\n",
    "import numpy as np\n",
    "import tensorflow as tf\n",
    "from sklearn.model_selection import train_test_split\n",
    "\n",
    "RANDOM_SEED = 42"
   ]
  },
  {
   "cell_type": "markdown",
   "metadata": {},
   "source": [
    "# 各パス指定"
   ]
  },
  {
   "cell_type": "code",
   "execution_count": 46,
   "metadata": {},
   "outputs": [],
   "source": [
    "dataset = 'model/keypoint_classifier/keypoint.csv'\n",
    "model_save_path = 'model/keypoint_classifier/keypoint_classifier.hdf5'"
   ]
  },
  {
   "cell_type": "markdown",
   "metadata": {},
   "source": [
    "# 分類数設定"
   ]
  },
  {
   "cell_type": "code",
   "execution_count": 47,
   "metadata": {},
   "outputs": [],
   "source": [
    "NUM_CLASSES = 6"
   ]
  },
  {
   "cell_type": "markdown",
   "metadata": {},
   "source": [
    "# 学習データ読み込み"
   ]
  },
  {
   "cell_type": "code",
   "execution_count": 48,
   "metadata": {},
   "outputs": [],
   "source": [
    "X_dataset = np.loadtxt(dataset, delimiter=',', dtype='float32', usecols=list(range(1, (21 * 2) + 1)))"
   ]
  },
  {
   "cell_type": "code",
   "execution_count": 49,
   "metadata": {},
   "outputs": [],
   "source": [
    "y_dataset = np.loadtxt(dataset, delimiter=',', dtype='int32', usecols=(0))"
   ]
  },
  {
   "cell_type": "code",
   "execution_count": 50,
   "metadata": {},
   "outputs": [],
   "source": [
    "X_train, X_test, y_train, y_test = train_test_split(X_dataset, y_dataset, train_size=0.75, random_state=RANDOM_SEED)"
   ]
  },
  {
   "cell_type": "markdown",
   "metadata": {},
   "source": [
    "# モデル構築"
   ]
  },
  {
   "cell_type": "code",
   "execution_count": 51,
   "metadata": {},
   "outputs": [],
   "source": [
    "model = tf.keras.models.Sequential([\n",
    "    tf.keras.layers.Input((21 * 2, )),\n",
    "    tf.keras.layers.Dropout(0.2),\n",
    "    tf.keras.layers.Dense(20, activation='relu'),\n",
    "    tf.keras.layers.Dropout(0.4),\n",
    "    tf.keras.layers.Dense(10, activation='relu'),\n",
    "    tf.keras.layers.Dense(NUM_CLASSES, activation='softmax')\n",
    "])"
   ]
  },
  {
   "cell_type": "code",
   "execution_count": 52,
   "metadata": {},
   "outputs": [
    {
     "name": "stdout",
     "output_type": "stream",
     "text": [
      "Model: \"sequential_2\"\n",
      "_________________________________________________________________\n",
      " Layer (type)                Output Shape              Param #   \n",
      "=================================================================\n",
      " dropout_4 (Dropout)         (None, 42)                0         \n",
      "                                                                 \n",
      " dense_6 (Dense)             (None, 20)                860       \n",
      "                                                                 \n",
      " dropout_5 (Dropout)         (None, 20)                0         \n",
      "                                                                 \n",
      " dense_7 (Dense)             (None, 10)                210       \n",
      "                                                                 \n",
      " dense_8 (Dense)             (None, 6)                 66        \n",
      "                                                                 \n",
      "=================================================================\n",
      "Total params: 1136 (4.44 KB)\n",
      "Trainable params: 1136 (4.44 KB)\n",
      "Non-trainable params: 0 (0.00 Byte)\n",
      "_________________________________________________________________\n"
     ]
    }
   ],
   "source": [
    "model.summary()  # tf.keras.utils.plot_model(model, show_shapes=True)"
   ]
  },
  {
   "cell_type": "code",
   "execution_count": 53,
   "metadata": {},
   "outputs": [],
   "source": [
    "# モデルチェックポイントのコールバック\n",
    "cp_callback = tf.keras.callbacks.ModelCheckpoint(\n",
    "    model_save_path, verbose=1, save_weights_only=False)\n",
    "# 早期打ち切り用コールバック\n",
    "es_callback = tf.keras.callbacks.EarlyStopping(patience=20, verbose=1)"
   ]
  },
  {
   "cell_type": "code",
   "execution_count": 54,
   "metadata": {},
   "outputs": [],
   "source": [
    "# モデルコンパイル\n",
    "model.compile(\n",
    "    optimizer='adam',\n",
    "    loss='sparse_categorical_crossentropy',\n",
    "    metrics=['accuracy']\n",
    ")"
   ]
  },
  {
   "cell_type": "markdown",
   "metadata": {},
   "source": [
    "# モデル訓練"
   ]
  },
  {
   "cell_type": "code",
   "execution_count": 55,
   "metadata": {
    "scrolled": true
   },
   "outputs": [
    {
     "name": "stdout",
     "output_type": "stream",
     "text": [
      "Epoch 1/1000\n"
     ]
    },
    {
     "name": "stdout",
     "output_type": "stream",
     "text": [
      "34/59 [================>.............] - ETA: 0s - loss: 1.8054 - accuracy: 0.2036 \n",
      "Epoch 1: saving model to model/keypoint_classifier/keypoint_classifier.hdf5\n",
      "59/59 [==============================] - 1s 5ms/step - loss: 1.7808 - accuracy: 0.2188 - val_loss: 1.7040 - val_accuracy: 0.3235\n",
      "Epoch 2/1000\n",
      "34/59 [================>.............] - ETA: 0s - loss: 1.7147 - accuracy: 0.2709\n",
      "Epoch 2: saving model to model/keypoint_classifier/keypoint_classifier.hdf5\n",
      "59/59 [==============================] - 0s 3ms/step - loss: 1.6986 - accuracy: 0.2832 - val_loss: 1.5766 - val_accuracy: 0.4229\n",
      "Epoch 3/1000\n",
      " 1/59 [..............................] - ETA: 0s - loss: 1.6704 - accuracy: 0.2891"
     ]
    },
    {
     "name": "stderr",
     "output_type": "stream",
     "text": [
      "/tmp/myenv/lib/python3.10/site-packages/keras/src/engine/training.py:3103: UserWarning: You are saving your model as an HDF5 file via `model.save()`. This file format is considered legacy. We recommend using instead the native Keras format, e.g. `model.save('my_model.keras')`.\n",
      "  saving_api.save_model(\n"
     ]
    },
    {
     "name": "stdout",
     "output_type": "stream",
     "text": [
      "32/59 [===============>..............] - ETA: 0s - loss: 1.6478 - accuracy: 0.3169\n",
      "Epoch 3: saving model to model/keypoint_classifier/keypoint_classifier.hdf5\n",
      "59/59 [==============================] - 0s 3ms/step - loss: 1.6301 - accuracy: 0.3262 - val_loss: 1.4728 - val_accuracy: 0.4891\n",
      "Epoch 4/1000\n",
      "49/59 [=======================>......] - ETA: 0s - loss: 1.5680 - accuracy: 0.3672\n",
      "Epoch 4: saving model to model/keypoint_classifier/keypoint_classifier.hdf5\n",
      "59/59 [==============================] - 0s 4ms/step - loss: 1.5620 - accuracy: 0.3709 - val_loss: 1.3580 - val_accuracy: 0.5561\n",
      "Epoch 5/1000\n",
      "32/59 [===============>..............] - ETA: 0s - loss: 1.5102 - accuracy: 0.3870\n",
      "Epoch 5: saving model to model/keypoint_classifier/keypoint_classifier.hdf5\n",
      "59/59 [==============================] - 0s 3ms/step - loss: 1.4886 - accuracy: 0.4020 - val_loss: 1.2431 - val_accuracy: 0.6446\n",
      "Epoch 6/1000\n",
      "53/59 [=========================>....] - ETA: 0s - loss: 1.4224 - accuracy: 0.4444\n",
      "Epoch 6: saving model to model/keypoint_classifier/keypoint_classifier.hdf5\n",
      "59/59 [==============================] - 0s 4ms/step - loss: 1.4175 - accuracy: 0.4469 - val_loss: 1.1459 - val_accuracy: 0.6535\n",
      "Epoch 7/1000\n",
      "59/59 [==============================] - ETA: 0s - loss: 1.3575 - accuracy: 0.4690\n",
      "Epoch 7: saving model to model/keypoint_classifier/keypoint_classifier.hdf5\n",
      "59/59 [==============================] - 0s 3ms/step - loss: 1.3575 - accuracy: 0.4690 - val_loss: 1.0459 - val_accuracy: 0.7443\n",
      "Epoch 8/1000\n",
      "31/59 [==============>...............] - ETA: 0s - loss: 1.3095 - accuracy: 0.4942\n",
      "Epoch 8: saving model to model/keypoint_classifier/keypoint_classifier.hdf5\n",
      "59/59 [==============================] - 0s 3ms/step - loss: 1.3018 - accuracy: 0.4984 - val_loss: 0.9690 - val_accuracy: 0.8247\n",
      "Epoch 9/1000\n",
      "31/59 [==============>...............] - ETA: 0s - loss: 1.2587 - accuracy: 0.5154\n",
      "Epoch 9: saving model to model/keypoint_classifier/keypoint_classifier.hdf5\n",
      "59/59 [==============================] - 0s 3ms/step - loss: 1.2522 - accuracy: 0.5233 - val_loss: 0.9069 - val_accuracy: 0.8506\n",
      "Epoch 10/1000\n",
      "46/59 [======================>.......] - ETA: 0s - loss: 1.2206 - accuracy: 0.5248\n",
      "Epoch 10: saving model to model/keypoint_classifier/keypoint_classifier.hdf5\n",
      "59/59 [==============================] - 0s 4ms/step - loss: 1.2138 - accuracy: 0.5294 - val_loss: 0.8528 - val_accuracy: 0.8687\n",
      "Epoch 11/1000\n",
      "58/59 [============================>.] - ETA: 0s - loss: 1.1881 - accuracy: 0.5497\n",
      "Epoch 11: saving model to model/keypoint_classifier/keypoint_classifier.hdf5\n",
      "59/59 [==============================] - 0s 3ms/step - loss: 1.1880 - accuracy: 0.5497 - val_loss: 0.8131 - val_accuracy: 0.8740\n",
      "Epoch 12/1000\n",
      "30/59 [==============>...............] - ETA: 0s - loss: 1.1682 - accuracy: 0.5599\n",
      "Epoch 12: saving model to model/keypoint_classifier/keypoint_classifier.hdf5\n",
      "59/59 [==============================] - 0s 3ms/step - loss: 1.1551 - accuracy: 0.5575 - val_loss: 0.7843 - val_accuracy: 0.8910\n",
      "Epoch 13/1000\n",
      "33/59 [===============>..............] - ETA: 0s - loss: 1.1381 - accuracy: 0.5632\n",
      "Epoch 13: saving model to model/keypoint_classifier/keypoint_classifier.hdf5\n",
      "59/59 [==============================] - 0s 3ms/step - loss: 1.1335 - accuracy: 0.5628 - val_loss: 0.7584 - val_accuracy: 0.8970\n",
      "Epoch 14/1000\n",
      "58/59 [============================>.] - ETA: 0s - loss: 1.1155 - accuracy: 0.5700\n",
      "Epoch 14: saving model to model/keypoint_classifier/keypoint_classifier.hdf5\n",
      "59/59 [==============================] - 0s 4ms/step - loss: 1.1157 - accuracy: 0.5699 - val_loss: 0.7414 - val_accuracy: 0.9067\n",
      "Epoch 15/1000\n",
      "53/59 [=========================>....] - ETA: 0s - loss: 1.0767 - accuracy: 0.5867\n",
      "Epoch 15: saving model to model/keypoint_classifier/keypoint_classifier.hdf5\n",
      "59/59 [==============================] - 0s 4ms/step - loss: 1.0786 - accuracy: 0.5855 - val_loss: 0.7001 - val_accuracy: 0.9091\n",
      "Epoch 16/1000\n",
      "45/59 [=====================>........] - ETA: 0s - loss: 1.0804 - accuracy: 0.5856\n",
      "Epoch 16: saving model to model/keypoint_classifier/keypoint_classifier.hdf5\n",
      "59/59 [==============================] - 0s 4ms/step - loss: 1.0788 - accuracy: 0.5850 - val_loss: 0.6834 - val_accuracy: 0.9087\n",
      "Epoch 17/1000\n",
      "46/59 [======================>.......] - ETA: 0s - loss: 1.0512 - accuracy: 0.5999\n",
      "Epoch 17: saving model to model/keypoint_classifier/keypoint_classifier.hdf5\n",
      "59/59 [==============================] - 0s 4ms/step - loss: 1.0393 - accuracy: 0.6061 - val_loss: 0.6627 - val_accuracy: 0.9168\n",
      "Epoch 18/1000\n",
      "46/59 [======================>.......] - ETA: 0s - loss: 1.0487 - accuracy: 0.6051\n",
      "Epoch 18: saving model to model/keypoint_classifier/keypoint_classifier.hdf5\n",
      "59/59 [==============================] - 0s 4ms/step - loss: 1.0425 - accuracy: 0.6088 - val_loss: 0.6461 - val_accuracy: 0.9152\n",
      "Epoch 19/1000\n",
      "47/59 [======================>.......] - ETA: 0s - loss: 1.0233 - accuracy: 0.6170\n",
      "Epoch 19: saving model to model/keypoint_classifier/keypoint_classifier.hdf5\n",
      "59/59 [==============================] - 0s 4ms/step - loss: 1.0267 - accuracy: 0.6134 - val_loss: 0.6398 - val_accuracy: 0.9120\n",
      "Epoch 20/1000\n",
      "48/59 [=======================>......] - ETA: 0s - loss: 1.0111 - accuracy: 0.6108\n",
      "Epoch 20: saving model to model/keypoint_classifier/keypoint_classifier.hdf5\n",
      "59/59 [==============================] - 0s 4ms/step - loss: 1.0166 - accuracy: 0.6091 - val_loss: 0.6322 - val_accuracy: 0.9305\n",
      "Epoch 21/1000\n",
      "51/59 [========================>.....] - ETA: 0s - loss: 1.0031 - accuracy: 0.6146\n",
      "Epoch 21: saving model to model/keypoint_classifier/keypoint_classifier.hdf5\n",
      "59/59 [==============================] - 0s 3ms/step - loss: 1.0012 - accuracy: 0.6203 - val_loss: 0.6063 - val_accuracy: 0.9273\n",
      "Epoch 22/1000\n",
      "49/59 [=======================>......] - ETA: 0s - loss: 1.0001 - accuracy: 0.6232\n",
      "Epoch 22: saving model to model/keypoint_classifier/keypoint_classifier.hdf5\n",
      "59/59 [==============================] - 0s 4ms/step - loss: 1.0019 - accuracy: 0.6228 - val_loss: 0.5900 - val_accuracy: 0.9293\n",
      "Epoch 23/1000\n",
      "50/59 [========================>.....] - ETA: 0s - loss: 0.9916 - accuracy: 0.6225\n",
      "Epoch 23: saving model to model/keypoint_classifier/keypoint_classifier.hdf5\n",
      "59/59 [==============================] - 0s 3ms/step - loss: 0.9811 - accuracy: 0.6266 - val_loss: 0.5783 - val_accuracy: 0.9313\n",
      "Epoch 24/1000\n",
      "52/59 [=========================>....] - ETA: 0s - loss: 0.9786 - accuracy: 0.6288\n",
      "Epoch 24: saving model to model/keypoint_classifier/keypoint_classifier.hdf5\n",
      "59/59 [==============================] - 0s 3ms/step - loss: 0.9772 - accuracy: 0.6289 - val_loss: 0.5716 - val_accuracy: 0.9342\n",
      "Epoch 25/1000\n",
      "50/59 [========================>.....] - ETA: 0s - loss: 0.9543 - accuracy: 0.6352\n",
      "Epoch 25: saving model to model/keypoint_classifier/keypoint_classifier.hdf5\n",
      "59/59 [==============================] - 0s 3ms/step - loss: 0.9526 - accuracy: 0.6356 - val_loss: 0.5583 - val_accuracy: 0.9326\n",
      "Epoch 26/1000\n",
      "50/59 [========================>.....] - ETA: 0s - loss: 0.9635 - accuracy: 0.6386\n",
      "Epoch 26: saving model to model/keypoint_classifier/keypoint_classifier.hdf5\n",
      "59/59 [==============================] - 0s 3ms/step - loss: 0.9651 - accuracy: 0.6365 - val_loss: 0.5550 - val_accuracy: 0.9334\n",
      "Epoch 27/1000\n",
      "49/59 [=======================>......] - ETA: 0s - loss: 0.9330 - accuracy: 0.6387\n",
      "Epoch 27: saving model to model/keypoint_classifier/keypoint_classifier.hdf5\n",
      "59/59 [==============================] - 0s 3ms/step - loss: 0.9291 - accuracy: 0.6415 - val_loss: 0.5403 - val_accuracy: 0.9297\n",
      "Epoch 28/1000\n",
      "47/59 [======================>.......] - ETA: 0s - loss: 0.9408 - accuracy: 0.6474\n",
      "Epoch 28: saving model to model/keypoint_classifier/keypoint_classifier.hdf5\n",
      "59/59 [==============================] - 0s 3ms/step - loss: 0.9406 - accuracy: 0.6440 - val_loss: 0.5482 - val_accuracy: 0.9212\n",
      "Epoch 29/1000\n",
      "47/59 [======================>.......] - ETA: 0s - loss: 0.9309 - accuracy: 0.6446\n",
      "Epoch 29: saving model to model/keypoint_classifier/keypoint_classifier.hdf5\n",
      "59/59 [==============================] - 0s 4ms/step - loss: 0.9214 - accuracy: 0.6485 - val_loss: 0.5292 - val_accuracy: 0.9358\n",
      "Epoch 30/1000\n",
      "50/59 [========================>.....] - ETA: 0s - loss: 0.9072 - accuracy: 0.6544\n",
      "Epoch 30: saving model to model/keypoint_classifier/keypoint_classifier.hdf5\n",
      "59/59 [==============================] - 0s 3ms/step - loss: 0.9101 - accuracy: 0.6535 - val_loss: 0.5374 - val_accuracy: 0.9297\n",
      "Epoch 31/1000\n",
      "50/59 [========================>.....] - ETA: 0s - loss: 0.8990 - accuracy: 0.6644\n",
      "Epoch 31: saving model to model/keypoint_classifier/keypoint_classifier.hdf5\n",
      "59/59 [==============================] - 0s 3ms/step - loss: 0.9021 - accuracy: 0.6616 - val_loss: 0.5178 - val_accuracy: 0.9245\n",
      "Epoch 32/1000\n",
      "49/59 [=======================>......] - ETA: 0s - loss: 0.8967 - accuracy: 0.6614\n",
      "Epoch 32: saving model to model/keypoint_classifier/keypoint_classifier.hdf5\n",
      "59/59 [==============================] - 0s 3ms/step - loss: 0.9027 - accuracy: 0.6577 - val_loss: 0.5226 - val_accuracy: 0.9289\n",
      "Epoch 33/1000\n",
      "50/59 [========================>.....] - ETA: 0s - loss: 0.9135 - accuracy: 0.6575\n",
      "Epoch 33: saving model to model/keypoint_classifier/keypoint_classifier.hdf5\n",
      "59/59 [==============================] - 0s 3ms/step - loss: 0.9101 - accuracy: 0.6589 - val_loss: 0.5248 - val_accuracy: 0.9358\n",
      "Epoch 34/1000\n",
      "49/59 [=======================>......] - ETA: 0s - loss: 0.8871 - accuracy: 0.6629\n",
      "Epoch 34: saving model to model/keypoint_classifier/keypoint_classifier.hdf5\n",
      "59/59 [==============================] - 0s 3ms/step - loss: 0.8868 - accuracy: 0.6625 - val_loss: 0.5010 - val_accuracy: 0.9374\n",
      "Epoch 35/1000\n",
      "48/59 [=======================>......] - ETA: 0s - loss: 0.8854 - accuracy: 0.6660\n",
      "Epoch 35: saving model to model/keypoint_classifier/keypoint_classifier.hdf5\n",
      "59/59 [==============================] - 0s 3ms/step - loss: 0.8831 - accuracy: 0.6674 - val_loss: 0.5141 - val_accuracy: 0.9350\n",
      "Epoch 36/1000\n",
      "49/59 [=======================>......] - ETA: 0s - loss: 0.8713 - accuracy: 0.6685\n",
      "Epoch 36: saving model to model/keypoint_classifier/keypoint_classifier.hdf5\n",
      "59/59 [==============================] - 0s 3ms/step - loss: 0.8681 - accuracy: 0.6702 - val_loss: 0.4919 - val_accuracy: 0.9366\n",
      "Epoch 37/1000\n",
      "50/59 [========================>.....] - ETA: 0s - loss: 0.8725 - accuracy: 0.6687\n",
      "Epoch 37: saving model to model/keypoint_classifier/keypoint_classifier.hdf5\n",
      "59/59 [==============================] - 0s 3ms/step - loss: 0.8733 - accuracy: 0.6679 - val_loss: 0.4964 - val_accuracy: 0.9338\n",
      "Epoch 38/1000\n",
      "51/59 [========================>.....] - ETA: 0s - loss: 0.8692 - accuracy: 0.6806\n",
      "Epoch 38: saving model to model/keypoint_classifier/keypoint_classifier.hdf5\n",
      "59/59 [==============================] - 0s 4ms/step - loss: 0.8712 - accuracy: 0.6776 - val_loss: 0.4981 - val_accuracy: 0.9293\n",
      "Epoch 39/1000\n",
      "47/59 [======================>.......] - ETA: 0s - loss: 0.8557 - accuracy: 0.6802\n",
      "Epoch 39: saving model to model/keypoint_classifier/keypoint_classifier.hdf5\n",
      "59/59 [==============================] - 0s 4ms/step - loss: 0.8552 - accuracy: 0.6803 - val_loss: 0.4795 - val_accuracy: 0.9402\n",
      "Epoch 40/1000\n",
      "49/59 [=======================>......] - ETA: 0s - loss: 0.8599 - accuracy: 0.6738\n",
      "Epoch 40: saving model to model/keypoint_classifier/keypoint_classifier.hdf5\n",
      "59/59 [==============================] - 0s 3ms/step - loss: 0.8545 - accuracy: 0.6761 - val_loss: 0.4884 - val_accuracy: 0.9390\n",
      "Epoch 41/1000\n",
      "50/59 [========================>.....] - ETA: 0s - loss: 0.8577 - accuracy: 0.6812\n",
      "Epoch 41: saving model to model/keypoint_classifier/keypoint_classifier.hdf5\n",
      "59/59 [==============================] - 0s 3ms/step - loss: 0.8623 - accuracy: 0.6803 - val_loss: 0.4808 - val_accuracy: 0.9439\n",
      "Epoch 42/1000\n",
      "49/59 [=======================>......] - ETA: 0s - loss: 0.8632 - accuracy: 0.6778\n",
      "Epoch 42: saving model to model/keypoint_classifier/keypoint_classifier.hdf5\n",
      "59/59 [==============================] - 0s 3ms/step - loss: 0.8638 - accuracy: 0.6769 - val_loss: 0.4822 - val_accuracy: 0.9394\n",
      "Epoch 43/1000\n",
      "50/59 [========================>.....] - ETA: 0s - loss: 0.8267 - accuracy: 0.6861\n",
      "Epoch 43: saving model to model/keypoint_classifier/keypoint_classifier.hdf5\n",
      "59/59 [==============================] - 0s 3ms/step - loss: 0.8283 - accuracy: 0.6849 - val_loss: 0.4737 - val_accuracy: 0.9326\n",
      "Epoch 44/1000\n",
      "50/59 [========================>.....] - ETA: 0s - loss: 0.8248 - accuracy: 0.6917\n",
      "Epoch 44: saving model to model/keypoint_classifier/keypoint_classifier.hdf5\n",
      "59/59 [==============================] - 0s 4ms/step - loss: 0.8206 - accuracy: 0.6930 - val_loss: 0.4717 - val_accuracy: 0.9455\n",
      "Epoch 45/1000\n",
      "51/59 [========================>.....] - ETA: 0s - loss: 0.8220 - accuracy: 0.6910\n",
      "Epoch 45: saving model to model/keypoint_classifier/keypoint_classifier.hdf5\n",
      "59/59 [==============================] - 0s 3ms/step - loss: 0.8213 - accuracy: 0.6912 - val_loss: 0.4689 - val_accuracy: 0.9398\n",
      "Epoch 46/1000\n",
      "51/59 [========================>.....] - ETA: 0s - loss: 0.8288 - accuracy: 0.6900\n",
      "Epoch 46: saving model to model/keypoint_classifier/keypoint_classifier.hdf5\n",
      "59/59 [==============================] - 0s 3ms/step - loss: 0.8304 - accuracy: 0.6900 - val_loss: 0.4793 - val_accuracy: 0.9390\n",
      "Epoch 47/1000\n",
      "50/59 [========================>.....] - ETA: 0s - loss: 0.8194 - accuracy: 0.6936\n",
      "Epoch 47: saving model to model/keypoint_classifier/keypoint_classifier.hdf5\n",
      "59/59 [==============================] - 0s 3ms/step - loss: 0.8259 - accuracy: 0.6887 - val_loss: 0.4719 - val_accuracy: 0.9435\n",
      "Epoch 48/1000\n",
      "48/59 [=======================>......] - ETA: 0s - loss: 0.8122 - accuracy: 0.6999\n",
      "Epoch 48: saving model to model/keypoint_classifier/keypoint_classifier.hdf5\n",
      "59/59 [==============================] - 0s 4ms/step - loss: 0.8111 - accuracy: 0.7025 - val_loss: 0.4708 - val_accuracy: 0.9386\n",
      "Epoch 49/1000\n",
      "51/59 [========================>.....] - ETA: 0s - loss: 0.7972 - accuracy: 0.7053\n",
      "Epoch 49: saving model to model/keypoint_classifier/keypoint_classifier.hdf5\n",
      "59/59 [==============================] - 0s 3ms/step - loss: 0.7998 - accuracy: 0.7062 - val_loss: 0.4508 - val_accuracy: 0.9426\n",
      "Epoch 50/1000\n",
      "47/59 [======================>.......] - ETA: 0s - loss: 0.8147 - accuracy: 0.6928\n",
      "Epoch 50: saving model to model/keypoint_classifier/keypoint_classifier.hdf5\n",
      "59/59 [==============================] - 0s 4ms/step - loss: 0.8130 - accuracy: 0.6965 - val_loss: 0.4468 - val_accuracy: 0.9414\n",
      "Epoch 51/1000\n",
      "47/59 [======================>.......] - ETA: 0s - loss: 0.8104 - accuracy: 0.6938\n",
      "Epoch 51: saving model to model/keypoint_classifier/keypoint_classifier.hdf5\n",
      "59/59 [==============================] - 0s 4ms/step - loss: 0.8109 - accuracy: 0.6923 - val_loss: 0.4543 - val_accuracy: 0.9431\n",
      "Epoch 52/1000\n",
      "49/59 [=======================>......] - ETA: 0s - loss: 0.8069 - accuracy: 0.6940\n",
      "Epoch 52: saving model to model/keypoint_classifier/keypoint_classifier.hdf5\n",
      "59/59 [==============================] - 0s 3ms/step - loss: 0.8068 - accuracy: 0.6965 - val_loss: 0.4504 - val_accuracy: 0.9338\n",
      "Epoch 53/1000\n",
      "49/59 [=======================>......] - ETA: 0s - loss: 0.7936 - accuracy: 0.7020\n",
      "Epoch 53: saving model to model/keypoint_classifier/keypoint_classifier.hdf5\n",
      "59/59 [==============================] - 0s 3ms/step - loss: 0.7873 - accuracy: 0.7056 - val_loss: 0.4447 - val_accuracy: 0.9443\n",
      "Epoch 54/1000\n",
      "49/59 [=======================>......] - ETA: 0s - loss: 0.7964 - accuracy: 0.7071\n",
      "Epoch 54: saving model to model/keypoint_classifier/keypoint_classifier.hdf5\n",
      "59/59 [==============================] - 0s 3ms/step - loss: 0.7965 - accuracy: 0.7083 - val_loss: 0.4593 - val_accuracy: 0.9394\n",
      "Epoch 55/1000\n",
      "50/59 [========================>.....] - ETA: 0s - loss: 0.7967 - accuracy: 0.7075\n",
      "Epoch 55: saving model to model/keypoint_classifier/keypoint_classifier.hdf5\n",
      "59/59 [==============================] - 0s 3ms/step - loss: 0.7965 - accuracy: 0.7078 - val_loss: 0.4373 - val_accuracy: 0.9374\n",
      "Epoch 56/1000\n",
      "50/59 [========================>.....] - ETA: 0s - loss: 0.7933 - accuracy: 0.7059\n",
      "Epoch 56: saving model to model/keypoint_classifier/keypoint_classifier.hdf5\n",
      "59/59 [==============================] - 0s 3ms/step - loss: 0.7906 - accuracy: 0.7082 - val_loss: 0.4501 - val_accuracy: 0.9463\n",
      "Epoch 57/1000\n",
      "50/59 [========================>.....] - ETA: 0s - loss: 0.8003 - accuracy: 0.7066\n",
      "Epoch 57: saving model to model/keypoint_classifier/keypoint_classifier.hdf5\n",
      "59/59 [==============================] - 0s 3ms/step - loss: 0.7986 - accuracy: 0.7081 - val_loss: 0.4459 - val_accuracy: 0.9523\n",
      "Epoch 58/1000\n",
      "59/59 [==============================] - ETA: 0s - loss: 0.7800 - accuracy: 0.7124\n",
      "Epoch 58: saving model to model/keypoint_classifier/keypoint_classifier.hdf5\n",
      "59/59 [==============================] - 0s 4ms/step - loss: 0.7800 - accuracy: 0.7124 - val_loss: 0.4378 - val_accuracy: 0.9398\n",
      "Epoch 59/1000\n",
      "49/59 [=======================>......] - ETA: 0s - loss: 0.7738 - accuracy: 0.7205\n",
      "Epoch 59: saving model to model/keypoint_classifier/keypoint_classifier.hdf5\n",
      "59/59 [==============================] - 0s 3ms/step - loss: 0.7755 - accuracy: 0.7176 - val_loss: 0.4302 - val_accuracy: 0.9455\n",
      "Epoch 60/1000\n",
      "49/59 [=======================>......] - ETA: 0s - loss: 0.7845 - accuracy: 0.7129\n",
      "Epoch 60: saving model to model/keypoint_classifier/keypoint_classifier.hdf5\n",
      "59/59 [==============================] - 0s 3ms/step - loss: 0.7841 - accuracy: 0.7120 - val_loss: 0.4323 - val_accuracy: 0.9447\n",
      "Epoch 61/1000\n",
      "48/59 [=======================>......] - ETA: 0s - loss: 0.7735 - accuracy: 0.7113\n",
      "Epoch 61: saving model to model/keypoint_classifier/keypoint_classifier.hdf5\n",
      "59/59 [==============================] - 0s 4ms/step - loss: 0.7741 - accuracy: 0.7144 - val_loss: 0.4459 - val_accuracy: 0.9394\n",
      "Epoch 62/1000\n",
      "49/59 [=======================>......] - ETA: 0s - loss: 0.7803 - accuracy: 0.7100\n",
      "Epoch 62: saving model to model/keypoint_classifier/keypoint_classifier.hdf5\n",
      "59/59 [==============================] - 0s 4ms/step - loss: 0.7777 - accuracy: 0.7128 - val_loss: 0.4555 - val_accuracy: 0.9459\n",
      "Epoch 63/1000\n",
      "46/59 [======================>.......] - ETA: 0s - loss: 0.7658 - accuracy: 0.7206\n",
      "Epoch 63: saving model to model/keypoint_classifier/keypoint_classifier.hdf5\n",
      "59/59 [==============================] - 0s 4ms/step - loss: 0.7669 - accuracy: 0.7229 - val_loss: 0.4383 - val_accuracy: 0.9499\n",
      "Epoch 64/1000\n",
      "48/59 [=======================>......] - ETA: 0s - loss: 0.7658 - accuracy: 0.7238\n",
      "Epoch 64: saving model to model/keypoint_classifier/keypoint_classifier.hdf5\n",
      "59/59 [==============================] - 0s 3ms/step - loss: 0.7590 - accuracy: 0.7249 - val_loss: 0.4443 - val_accuracy: 0.9467\n",
      "Epoch 65/1000\n",
      "49/59 [=======================>......] - ETA: 0s - loss: 0.7647 - accuracy: 0.7191\n",
      "Epoch 65: saving model to model/keypoint_classifier/keypoint_classifier.hdf5\n",
      "59/59 [==============================] - 0s 4ms/step - loss: 0.7640 - accuracy: 0.7167 - val_loss: 0.4313 - val_accuracy: 0.9499\n",
      "Epoch 66/1000\n",
      "52/59 [=========================>....] - ETA: 0s - loss: 0.7755 - accuracy: 0.7081\n",
      "Epoch 66: saving model to model/keypoint_classifier/keypoint_classifier.hdf5\n",
      "59/59 [==============================] - 0s 3ms/step - loss: 0.7731 - accuracy: 0.7094 - val_loss: 0.4380 - val_accuracy: 0.9499\n",
      "Epoch 67/1000\n",
      "51/59 [========================>.....] - ETA: 0s - loss: 0.7749 - accuracy: 0.7152\n",
      "Epoch 67: saving model to model/keypoint_classifier/keypoint_classifier.hdf5\n",
      "59/59 [==============================] - 0s 3ms/step - loss: 0.7738 - accuracy: 0.7153 - val_loss: 0.4405 - val_accuracy: 0.9459\n",
      "Epoch 68/1000\n",
      "49/59 [=======================>......] - ETA: 0s - loss: 0.7521 - accuracy: 0.7243\n",
      "Epoch 68: saving model to model/keypoint_classifier/keypoint_classifier.hdf5\n",
      "59/59 [==============================] - 0s 4ms/step - loss: 0.7527 - accuracy: 0.7230 - val_loss: 0.4423 - val_accuracy: 0.9483\n",
      "Epoch 69/1000\n",
      "50/59 [========================>.....] - ETA: 0s - loss: 0.7676 - accuracy: 0.7166\n",
      "Epoch 69: saving model to model/keypoint_classifier/keypoint_classifier.hdf5\n",
      "59/59 [==============================] - 0s 3ms/step - loss: 0.7736 - accuracy: 0.7145 - val_loss: 0.4289 - val_accuracy: 0.9503\n",
      "Epoch 70/1000\n",
      "50/59 [========================>.....] - ETA: 0s - loss: 0.7550 - accuracy: 0.7262\n",
      "Epoch 70: saving model to model/keypoint_classifier/keypoint_classifier.hdf5\n",
      "59/59 [==============================] - 0s 3ms/step - loss: 0.7582 - accuracy: 0.7264 - val_loss: 0.4382 - val_accuracy: 0.9523\n",
      "Epoch 71/1000\n",
      "50/59 [========================>.....] - ETA: 0s - loss: 0.7663 - accuracy: 0.7197\n",
      "Epoch 71: saving model to model/keypoint_classifier/keypoint_classifier.hdf5\n",
      "59/59 [==============================] - 0s 3ms/step - loss: 0.7599 - accuracy: 0.7233 - val_loss: 0.4279 - val_accuracy: 0.9527\n",
      "Epoch 72/1000\n",
      "49/59 [=======================>......] - ETA: 0s - loss: 0.7545 - accuracy: 0.7216\n",
      "Epoch 72: saving model to model/keypoint_classifier/keypoint_classifier.hdf5\n",
      "59/59 [==============================] - 0s 4ms/step - loss: 0.7518 - accuracy: 0.7230 - val_loss: 0.4449 - val_accuracy: 0.9471\n",
      "Epoch 73/1000\n",
      "49/59 [=======================>......] - ETA: 0s - loss: 0.7421 - accuracy: 0.7309\n",
      "Epoch 73: saving model to model/keypoint_classifier/keypoint_classifier.hdf5\n",
      "59/59 [==============================] - 0s 3ms/step - loss: 0.7461 - accuracy: 0.7278 - val_loss: 0.4271 - val_accuracy: 0.9511\n",
      "Epoch 74/1000\n",
      "51/59 [========================>.....] - ETA: 0s - loss: 0.7565 - accuracy: 0.7276\n",
      "Epoch 74: saving model to model/keypoint_classifier/keypoint_classifier.hdf5\n",
      "59/59 [==============================] - 0s 3ms/step - loss: 0.7529 - accuracy: 0.7293 - val_loss: 0.4250 - val_accuracy: 0.9540\n",
      "Epoch 75/1000\n",
      "55/59 [==========================>...] - ETA: 0s - loss: 0.7457 - accuracy: 0.7205\n",
      "Epoch 75: saving model to model/keypoint_classifier/keypoint_classifier.hdf5\n",
      "59/59 [==============================] - 0s 4ms/step - loss: 0.7442 - accuracy: 0.7211 - val_loss: 0.4265 - val_accuracy: 0.9507\n",
      "Epoch 76/1000\n",
      "45/59 [=====================>........] - ETA: 0s - loss: 0.7464 - accuracy: 0.7330\n",
      "Epoch 76: saving model to model/keypoint_classifier/keypoint_classifier.hdf5\n",
      "59/59 [==============================] - 0s 4ms/step - loss: 0.7489 - accuracy: 0.7299 - val_loss: 0.4343 - val_accuracy: 0.9487\n",
      "Epoch 77/1000\n",
      "46/59 [======================>.......] - ETA: 0s - loss: 0.7660 - accuracy: 0.7225\n",
      "Epoch 77: saving model to model/keypoint_classifier/keypoint_classifier.hdf5\n",
      "59/59 [==============================] - 0s 4ms/step - loss: 0.7521 - accuracy: 0.7261 - val_loss: 0.4398 - val_accuracy: 0.9495\n",
      "Epoch 78/1000\n",
      "49/59 [=======================>......] - ETA: 0s - loss: 0.7487 - accuracy: 0.7221\n",
      "Epoch 78: saving model to model/keypoint_classifier/keypoint_classifier.hdf5\n",
      "59/59 [==============================] - 0s 3ms/step - loss: 0.7401 - accuracy: 0.7231 - val_loss: 0.4247 - val_accuracy: 0.9451\n",
      "Epoch 79/1000\n",
      "51/59 [========================>.....] - ETA: 0s - loss: 0.7525 - accuracy: 0.7218\n",
      "Epoch 79: saving model to model/keypoint_classifier/keypoint_classifier.hdf5\n",
      "59/59 [==============================] - 0s 3ms/step - loss: 0.7463 - accuracy: 0.7243 - val_loss: 0.4422 - val_accuracy: 0.9435\n",
      "Epoch 80/1000\n",
      "48/59 [=======================>......] - ETA: 0s - loss: 0.7509 - accuracy: 0.7279\n",
      "Epoch 80: saving model to model/keypoint_classifier/keypoint_classifier.hdf5\n",
      "59/59 [==============================] - 0s 3ms/step - loss: 0.7501 - accuracy: 0.7270 - val_loss: 0.4404 - val_accuracy: 0.9463\n",
      "Epoch 81/1000\n",
      "51/59 [========================>.....] - ETA: 0s - loss: 0.7169 - accuracy: 0.7394\n",
      "Epoch 81: saving model to model/keypoint_classifier/keypoint_classifier.hdf5\n",
      "59/59 [==============================] - 0s 3ms/step - loss: 0.7224 - accuracy: 0.7390 - val_loss: 0.4343 - val_accuracy: 0.9532\n",
      "Epoch 82/1000\n",
      "50/59 [========================>.....] - ETA: 0s - loss: 0.7375 - accuracy: 0.7355\n",
      "Epoch 82: saving model to model/keypoint_classifier/keypoint_classifier.hdf5\n",
      "59/59 [==============================] - 0s 3ms/step - loss: 0.7367 - accuracy: 0.7353 - val_loss: 0.4063 - val_accuracy: 0.9536\n",
      "Epoch 83/1000\n",
      "50/59 [========================>.....] - ETA: 0s - loss: 0.7264 - accuracy: 0.7353\n",
      "Epoch 83: saving model to model/keypoint_classifier/keypoint_classifier.hdf5\n",
      "59/59 [==============================] - 0s 3ms/step - loss: 0.7282 - accuracy: 0.7347 - val_loss: 0.4376 - val_accuracy: 0.9532\n",
      "Epoch 84/1000\n",
      "50/59 [========================>.....] - ETA: 0s - loss: 0.7236 - accuracy: 0.7400\n",
      "Epoch 84: saving model to model/keypoint_classifier/keypoint_classifier.hdf5\n",
      "59/59 [==============================] - 0s 3ms/step - loss: 0.7282 - accuracy: 0.7379 - val_loss: 0.4186 - val_accuracy: 0.9503\n",
      "Epoch 85/1000\n",
      "51/59 [========================>.....] - ETA: 0s - loss: 0.7168 - accuracy: 0.7402\n",
      "Epoch 85: saving model to model/keypoint_classifier/keypoint_classifier.hdf5\n",
      "59/59 [==============================] - 0s 3ms/step - loss: 0.7158 - accuracy: 0.7386 - val_loss: 0.4225 - val_accuracy: 0.9479\n",
      "Epoch 86/1000\n",
      "50/59 [========================>.....] - ETA: 0s - loss: 0.7566 - accuracy: 0.7267\n",
      "Epoch 86: saving model to model/keypoint_classifier/keypoint_classifier.hdf5\n",
      "59/59 [==============================] - 0s 3ms/step - loss: 0.7455 - accuracy: 0.7305 - val_loss: 0.4423 - val_accuracy: 0.9459\n",
      "Epoch 87/1000\n",
      "50/59 [========================>.....] - ETA: 0s - loss: 0.7306 - accuracy: 0.7266\n",
      "Epoch 87: saving model to model/keypoint_classifier/keypoint_classifier.hdf5\n",
      "59/59 [==============================] - 0s 3ms/step - loss: 0.7374 - accuracy: 0.7238 - val_loss: 0.4409 - val_accuracy: 0.9495\n",
      "Epoch 88/1000\n",
      "50/59 [========================>.....] - ETA: 0s - loss: 0.7143 - accuracy: 0.7450\n",
      "Epoch 88: saving model to model/keypoint_classifier/keypoint_classifier.hdf5\n",
      "59/59 [==============================] - 0s 3ms/step - loss: 0.7144 - accuracy: 0.7419 - val_loss: 0.4103 - val_accuracy: 0.9491\n",
      "Epoch 89/1000\n",
      "50/59 [========================>.....] - ETA: 0s - loss: 0.7406 - accuracy: 0.7273\n",
      "Epoch 89: saving model to model/keypoint_classifier/keypoint_classifier.hdf5\n",
      "59/59 [==============================] - 0s 3ms/step - loss: 0.7347 - accuracy: 0.7318 - val_loss: 0.4436 - val_accuracy: 0.9463\n",
      "Epoch 90/1000\n",
      "49/59 [=======================>......] - ETA: 0s - loss: 0.7335 - accuracy: 0.7272\n",
      "Epoch 90: saving model to model/keypoint_classifier/keypoint_classifier.hdf5\n",
      "59/59 [==============================] - 0s 4ms/step - loss: 0.7342 - accuracy: 0.7277 - val_loss: 0.4361 - val_accuracy: 0.9536\n",
      "Epoch 91/1000\n",
      "48/59 [=======================>......] - ETA: 0s - loss: 0.7269 - accuracy: 0.7350\n",
      "Epoch 91: saving model to model/keypoint_classifier/keypoint_classifier.hdf5\n",
      "59/59 [==============================] - 0s 4ms/step - loss: 0.7233 - accuracy: 0.7366 - val_loss: 0.4337 - val_accuracy: 0.9475\n",
      "Epoch 92/1000\n",
      "47/59 [======================>.......] - ETA: 0s - loss: 0.7019 - accuracy: 0.7460\n",
      "Epoch 92: saving model to model/keypoint_classifier/keypoint_classifier.hdf5\n",
      "59/59 [==============================] - 0s 3ms/step - loss: 0.7028 - accuracy: 0.7476 - val_loss: 0.4364 - val_accuracy: 0.9326\n",
      "Epoch 93/1000\n",
      "50/59 [========================>.....] - ETA: 0s - loss: 0.7144 - accuracy: 0.7367\n",
      "Epoch 93: saving model to model/keypoint_classifier/keypoint_classifier.hdf5\n",
      "59/59 [==============================] - 0s 3ms/step - loss: 0.7173 - accuracy: 0.7394 - val_loss: 0.4179 - val_accuracy: 0.9495\n",
      "Epoch 94/1000\n",
      "48/59 [=======================>......] - ETA: 0s - loss: 0.7188 - accuracy: 0.7410\n",
      "Epoch 94: saving model to model/keypoint_classifier/keypoint_classifier.hdf5\n",
      "59/59 [==============================] - 0s 4ms/step - loss: 0.7133 - accuracy: 0.7441 - val_loss: 0.4118 - val_accuracy: 0.9431\n",
      "Epoch 95/1000\n",
      "50/59 [========================>.....] - ETA: 0s - loss: 0.7163 - accuracy: 0.7380\n",
      "Epoch 95: saving model to model/keypoint_classifier/keypoint_classifier.hdf5\n",
      "59/59 [==============================] - 0s 3ms/step - loss: 0.7221 - accuracy: 0.7342 - val_loss: 0.4468 - val_accuracy: 0.9479\n",
      "Epoch 96/1000\n",
      "45/59 [=====================>........] - ETA: 0s - loss: 0.7098 - accuracy: 0.7486\n",
      "Epoch 96: saving model to model/keypoint_classifier/keypoint_classifier.hdf5\n",
      "59/59 [==============================] - 0s 4ms/step - loss: 0.7113 - accuracy: 0.7467 - val_loss: 0.4057 - val_accuracy: 0.9491\n",
      "Epoch 97/1000\n",
      "49/59 [=======================>......] - ETA: 0s - loss: 0.7203 - accuracy: 0.7406\n",
      "Epoch 97: saving model to model/keypoint_classifier/keypoint_classifier.hdf5\n",
      "59/59 [==============================] - 0s 3ms/step - loss: 0.7164 - accuracy: 0.7410 - val_loss: 0.4189 - val_accuracy: 0.9443\n",
      "Epoch 98/1000\n",
      "49/59 [=======================>......] - ETA: 0s - loss: 0.7131 - accuracy: 0.7427\n",
      "Epoch 98: saving model to model/keypoint_classifier/keypoint_classifier.hdf5\n",
      "59/59 [==============================] - 0s 3ms/step - loss: 0.7109 - accuracy: 0.7420 - val_loss: 0.4281 - val_accuracy: 0.9406\n",
      "Epoch 99/1000\n",
      "44/59 [=====================>........] - ETA: 0s - loss: 0.7208 - accuracy: 0.7401\n",
      "Epoch 99: saving model to model/keypoint_classifier/keypoint_classifier.hdf5\n",
      "59/59 [==============================] - 0s 4ms/step - loss: 0.7163 - accuracy: 0.7420 - val_loss: 0.4117 - val_accuracy: 0.9499\n",
      "Epoch 100/1000\n",
      "48/59 [=======================>......] - ETA: 0s - loss: 0.7113 - accuracy: 0.7451\n",
      "Epoch 100: saving model to model/keypoint_classifier/keypoint_classifier.hdf5\n",
      "59/59 [==============================] - 0s 3ms/step - loss: 0.7116 - accuracy: 0.7437 - val_loss: 0.4152 - val_accuracy: 0.9475\n",
      "Epoch 101/1000\n",
      "47/59 [======================>.......] - ETA: 0s - loss: 0.7274 - accuracy: 0.7360\n",
      "Epoch 101: saving model to model/keypoint_classifier/keypoint_classifier.hdf5\n",
      "59/59 [==============================] - 0s 4ms/step - loss: 0.7200 - accuracy: 0.7375 - val_loss: 0.4282 - val_accuracy: 0.9483\n",
      "Epoch 102/1000\n",
      "50/59 [========================>.....] - ETA: 0s - loss: 0.7107 - accuracy: 0.7400\n",
      "Epoch 102: saving model to model/keypoint_classifier/keypoint_classifier.hdf5\n",
      "59/59 [==============================] - 0s 3ms/step - loss: 0.7108 - accuracy: 0.7405 - val_loss: 0.4333 - val_accuracy: 0.9439\n",
      "Epoch 103/1000\n",
      "50/59 [========================>.....] - ETA: 0s - loss: 0.7175 - accuracy: 0.7361\n",
      "Epoch 103: saving model to model/keypoint_classifier/keypoint_classifier.hdf5\n",
      "59/59 [==============================] - 0s 3ms/step - loss: 0.7185 - accuracy: 0.7344 - val_loss: 0.4248 - val_accuracy: 0.9499\n",
      "Epoch 104/1000\n",
      "49/59 [=======================>......] - ETA: 0s - loss: 0.6960 - accuracy: 0.7447\n",
      "Epoch 104: saving model to model/keypoint_classifier/keypoint_classifier.hdf5\n",
      "59/59 [==============================] - 0s 4ms/step - loss: 0.6966 - accuracy: 0.7450 - val_loss: 0.4082 - val_accuracy: 0.9443\n",
      "Epoch 105/1000\n",
      "49/59 [=======================>......] - ETA: 0s - loss: 0.7024 - accuracy: 0.7417\n",
      "Epoch 105: saving model to model/keypoint_classifier/keypoint_classifier.hdf5\n",
      "59/59 [==============================] - 0s 4ms/step - loss: 0.6994 - accuracy: 0.7450 - val_loss: 0.4336 - val_accuracy: 0.9366\n",
      "Epoch 106/1000\n",
      "47/59 [======================>.......] - ETA: 0s - loss: 0.7020 - accuracy: 0.7409\n",
      "Epoch 106: saving model to model/keypoint_classifier/keypoint_classifier.hdf5\n",
      "59/59 [==============================] - 0s 4ms/step - loss: 0.7035 - accuracy: 0.7385 - val_loss: 0.4286 - val_accuracy: 0.9346\n",
      "Epoch 107/1000\n",
      "49/59 [=======================>......] - ETA: 0s - loss: 0.7004 - accuracy: 0.7468\n",
      "Epoch 107: saving model to model/keypoint_classifier/keypoint_classifier.hdf5\n",
      "59/59 [==============================] - 0s 3ms/step - loss: 0.6994 - accuracy: 0.7471 - val_loss: 0.4157 - val_accuracy: 0.9390\n",
      "Epoch 108/1000\n",
      "50/59 [========================>.....] - ETA: 0s - loss: 0.7079 - accuracy: 0.7423\n",
      "Epoch 108: saving model to model/keypoint_classifier/keypoint_classifier.hdf5\n",
      "59/59 [==============================] - 0s 3ms/step - loss: 0.7024 - accuracy: 0.7443 - val_loss: 0.4212 - val_accuracy: 0.9471\n",
      "Epoch 109/1000\n",
      "48/59 [=======================>......] - ETA: 0s - loss: 0.7087 - accuracy: 0.7373\n",
      "Epoch 109: saving model to model/keypoint_classifier/keypoint_classifier.hdf5\n",
      "59/59 [==============================] - 0s 3ms/step - loss: 0.7126 - accuracy: 0.7355 - val_loss: 0.4261 - val_accuracy: 0.9467\n",
      "Epoch 110/1000\n",
      "49/59 [=======================>......] - ETA: 0s - loss: 0.7033 - accuracy: 0.7481\n",
      "Epoch 110: saving model to model/keypoint_classifier/keypoint_classifier.hdf5\n",
      "59/59 [==============================] - 0s 3ms/step - loss: 0.7000 - accuracy: 0.7497 - val_loss: 0.4259 - val_accuracy: 0.9459\n",
      "Epoch 111/1000\n",
      "50/59 [========================>.....] - ETA: 0s - loss: 0.7066 - accuracy: 0.7455\n",
      "Epoch 111: saving model to model/keypoint_classifier/keypoint_classifier.hdf5\n",
      "59/59 [==============================] - 0s 3ms/step - loss: 0.7066 - accuracy: 0.7462 - val_loss: 0.4089 - val_accuracy: 0.9410\n",
      "Epoch 112/1000\n",
      "50/59 [========================>.....] - ETA: 0s - loss: 0.7108 - accuracy: 0.7502\n",
      "Epoch 112: saving model to model/keypoint_classifier/keypoint_classifier.hdf5\n",
      "59/59 [==============================] - 0s 3ms/step - loss: 0.7156 - accuracy: 0.7474 - val_loss: 0.4372 - val_accuracy: 0.9378\n",
      "Epoch 113/1000\n",
      "51/59 [========================>.....] - ETA: 0s - loss: 0.6868 - accuracy: 0.7486\n",
      "Epoch 113: saving model to model/keypoint_classifier/keypoint_classifier.hdf5\n",
      "59/59 [==============================] - 0s 3ms/step - loss: 0.6895 - accuracy: 0.7476 - val_loss: 0.4196 - val_accuracy: 0.9410\n",
      "Epoch 114/1000\n",
      "50/59 [========================>.....] - ETA: 0s - loss: 0.6830 - accuracy: 0.7494\n",
      "Epoch 114: saving model to model/keypoint_classifier/keypoint_classifier.hdf5\n",
      "59/59 [==============================] - 0s 3ms/step - loss: 0.6826 - accuracy: 0.7489 - val_loss: 0.4233 - val_accuracy: 0.9305\n",
      "Epoch 115/1000\n",
      "50/59 [========================>.....] - ETA: 0s - loss: 0.6950 - accuracy: 0.7437\n",
      "Epoch 115: saving model to model/keypoint_classifier/keypoint_classifier.hdf5\n",
      "59/59 [==============================] - 0s 4ms/step - loss: 0.6851 - accuracy: 0.7460 - val_loss: 0.4257 - val_accuracy: 0.9406\n",
      "Epoch 116/1000\n",
      "48/59 [=======================>......] - ETA: 0s - loss: 0.6970 - accuracy: 0.7521\n",
      "Epoch 116: saving model to model/keypoint_classifier/keypoint_classifier.hdf5\n",
      "59/59 [==============================] - 0s 4ms/step - loss: 0.6917 - accuracy: 0.7541 - val_loss: 0.4185 - val_accuracy: 0.9374\n",
      "Epoch 116: early stopping\n"
     ]
    },
    {
     "data": {
      "text/plain": [
       "<keras.src.callbacks.History at 0x7f4278338d90>"
      ]
     },
     "execution_count": 55,
     "metadata": {},
     "output_type": "execute_result"
    }
   ],
   "source": [
    "model.fit(\n",
    "    X_train,\n",
    "    y_train,\n",
    "    epochs=1000,\n",
    "    batch_size=128,\n",
    "    validation_data=(X_test, y_test),\n",
    "    callbacks=[cp_callback, es_callback]\n",
    ")"
   ]
  },
  {
   "cell_type": "code",
   "execution_count": 56,
   "metadata": {},
   "outputs": [
    {
     "name": "stdout",
     "output_type": "stream",
     "text": [
      " 1/20 [>.............................] - ETA: 0s - loss: 0.4246 - accuracy: 0.9453"
     ]
    },
    {
     "name": "stdout",
     "output_type": "stream",
     "text": [
      "20/20 [==============================] - 0s 4ms/step - loss: 0.4185 - accuracy: 0.9374\n"
     ]
    }
   ],
   "source": [
    "# モデル評価\n",
    "val_loss, val_acc = model.evaluate(X_test, y_test, batch_size=128)"
   ]
  },
  {
   "cell_type": "code",
   "execution_count": 57,
   "metadata": {},
   "outputs": [],
   "source": [
    "# 保存したモデルのロード\n",
    "model = tf.keras.models.load_model(model_save_path)"
   ]
  },
  {
   "cell_type": "code",
   "execution_count": 58,
   "metadata": {},
   "outputs": [
    {
     "name": "stdout",
     "output_type": "stream",
     "text": [
      "1/1 [==============================] - 0s 62ms/step\n",
      "[3.2905243e-02 2.3387214e-03 1.7475383e-03 6.8908185e-01 3.6236280e-04\n",
      " 2.7356434e-01]\n",
      "3\n"
     ]
    }
   ],
   "source": [
    "# 推論テスト\n",
    "predict_result = model.predict(np.array([X_test[0]]))\n",
    "print(np.squeeze(predict_result))\n",
    "print(np.argmax(np.squeeze(predict_result)))"
   ]
  },
  {
   "cell_type": "markdown",
   "metadata": {},
   "source": [
    "# 混同行列"
   ]
  },
  {
   "cell_type": "code",
   "execution_count": 59,
   "metadata": {},
   "outputs": [
    {
     "name": "stdout",
     "output_type": "stream",
     "text": [
      "78/78 [==============================] - 0s 1ms/step\n"
     ]
    },
    {
     "data": {
      "image/png": "[encoded data removed]",
      "text/plain": [
       "<Figure size 700x600 with 2 Axes>"
      ]
     },
     "metadata": {},
     "output_type": "display_data"
    },
    {
     "name": "stdout",
     "output_type": "stream",
     "text": [
      "Classification Report\n",
      "              precision    recall  f1-score   support\n",
      "\n",
      "           0       0.99      0.98      0.99       495\n",
      "           1       0.91      0.98      0.94       606\n",
      "           2       0.94      0.99      0.96       395\n",
      "           3       0.97      0.84      0.90       385\n",
      "           4       1.00      0.92      0.96       223\n",
      "           5       0.85      0.87      0.86       372\n",
      "\n",
      "    accuracy                           0.94      2476\n",
      "   macro avg       0.94      0.93      0.94      2476\n",
      "weighted avg       0.94      0.94      0.94      2476\n",
      "\n"
     ]
    }
   ],
   "source": [
    "import pandas as pd\n",
    "import seaborn as sns\n",
    "import matplotlib.pyplot as plt\n",
    "from sklearn.metrics import confusion_matrix, classification_report\n",
    "\n",
    "def print_confusion_matrix(y_true, y_pred, report=True):\n",
    "    labels = sorted(list(set(y_true)))\n",
    "    cmx_data = confusion_matrix(y_true, y_pred, labels=labels)\n",
    "    \n",
    "    df_cmx = pd.DataFrame(cmx_data, index=labels, columns=labels)\n",
    " \n",
    "    fig, ax = plt.subplots(figsize=(7, 6))\n",
    "    sns.heatmap(df_cmx, annot=True, fmt='g' ,square=False)\n",
    "    ax.set_ylim(len(set(y_true)), 0)\n",
    "    plt.show()\n",
    "    \n",
    "    if report:\n",
    "        print('Classification Report')\n",
    "        print(classification_report(y_test, y_pred))\n",
    "\n",
    "Y_pred = model.predict(X_test)\n",
    "y_pred = np.argmax(Y_pred, axis=1)\n",
    "\n",
    "print_confusion_matrix(y_test, y_pred)"
   ]
  },
  {
   "cell_type": "markdown",
   "metadata": {},
   "source": [
    "# Tensorflow-Lite用のモデルへ変換"
   ]
  },
  {
   "cell_type": "code",
   "execution_count": 60,
   "metadata": {},
   "outputs": [
    {
     "name": "stderr",
     "output_type": "stream",
     "text": [
      "/tmp/myenv/lib/python3.10/site-packages/keras/src/engine/training.py:3103: UserWarning: You are saving your model as an HDF5 file via `model.save()`. This file format is considered legacy. We recommend using instead the native Keras format, e.g. `model.save('my_model.keras')`.\n",
      "  saving_api.save_model(\n"
     ]
    }
   ],
   "source": [
    "# 推論専用のモデルとして保存\n",
    "model.save(model_save_path, include_optimizer=False)"
   ]
  },
  {
   "cell_type": "code",
   "execution_count": 61,
   "metadata": {},
   "outputs": [
    {
     "name": "stdout",
     "output_type": "stream",
     "text": [
      "INFO:tensorflow:Assets written to: /tmp/tmpn51zgumj/assets\n"
     ]
    },
    {
     "name": "stderr",
     "output_type": "stream",
     "text": [
      "INFO:tensorflow:Assets written to: /tmp/tmpn51zgumj/assets\n",
      "2024-01-12 09:54:56.673553: W tensorflow/compiler/mlir/lite/python/tf_tfl_flatbuffer_helpers.cc:378] Ignored output_format.\n",
      "2024-01-12 09:54:56.673587: W tensorflow/compiler/mlir/lite/python/tf_tfl_flatbuffer_helpers.cc:381] Ignored drop_control_dependency.\n",
      "2024-01-12 09:54:56.673790: I tensorflow/cc/saved_model/reader.cc:83] Reading SavedModel from: /tmp/tmpn51zgumj\n",
      "2024-01-12 09:54:56.674826: I tensorflow/cc/saved_model/reader.cc:51] Reading meta graph with tags { serve }\n",
      "2024-01-12 09:54:56.674840: I tensorflow/cc/saved_model/reader.cc:146] Reading SavedModel debug info (if present) from: /tmp/tmpn51zgumj\n",
      "2024-01-12 09:54:56.677601: I tensorflow/cc/saved_model/loader.cc:233] Restoring SavedModel bundle.\n",
      "2024-01-12 09:54:56.724395: I tensorflow/cc/saved_model/loader.cc:217] Running initialization op on SavedModel bundle at path: /tmp/tmpn51zgumj\n",
      "2024-01-12 09:54:56.739362: I tensorflow/cc/saved_model/loader.cc:316] SavedModel load for tags { serve }; Status: success: OK. Took 65574 microseconds.\n",
      "Summary on the non-converted ops:\n",
      "---------------------------------\n",
      " * Accepted dialects: tfl, builtin, func\n",
      " * Non-Converted Ops: 6, Total Ops 13, % non-converted = 46.15 %\n",
      " * 6 ARITH ops\n",
      "\n",
      "- arith.constant:    6 occurrences  (f32: 6)\n",
      "\n",
      "\n",
      "\n",
      "  (f32: 3)\n",
      "  (f32: 1)\n"
     ]
    },
    {
     "data": {
      "text/plain": [
       "6660"
      ]
     },
     "execution_count": 61,
     "metadata": {},
     "output_type": "execute_result"
    }
   ],
   "source": [
    "# モデルを変換(量子化)\n",
    "tflite_save_path = 'model/keypoint_classifier/keypoint_classifier_3.tflite'\n",
    "\n",
    "converter = tf.lite.TFLiteConverter.from_keras_model(model)\n",
    "converter.optimizations = [tf.lite.Optimize.DEFAULT]\n",
    "tflite_quantized_model = converter.convert()\n",
    "\n",
    "open(tflite_save_path, 'wb').write(tflite_quantized_model)"
   ]
  },
  {
   "cell_type": "markdown",
   "metadata": {},
   "source": [
    "# 推論テスト"
   ]
  },
  {
   "cell_type": "code",
   "execution_count": 62,
   "metadata": {},
   "outputs": [],
   "source": [
    "interpreter = tf.lite.Interpreter(model_path=tflite_save_path)\n",
    "interpreter.allocate_tensors()"
   ]
  },
  {
   "cell_type": "code",
   "execution_count": 63,
   "metadata": {},
   "outputs": [],
   "source": [
    "# 入出力テンソルを取得\n",
    "input_details = interpreter.get_input_details()\n",
    "output_details = interpreter.get_output_details()"
   ]
  },
  {
   "cell_type": "code",
   "execution_count": 64,
   "metadata": {},
   "outputs": [],
   "source": [
    "interpreter.set_tensor(input_details[0]['index'], np.array([X_test[0]]))"
   ]
  },
  {
   "cell_type": "code",
   "execution_count": 65,
   "metadata": {
    "scrolled": true
   },
   "outputs": [
    {
     "name": "stdout",
     "output_type": "stream",
     "text": [
      "CPU times: user 282 µs, sys: 20 µs, total: 302 µs\n",
      "Wall time: 223 µs\n"
     ]
    }
   ],
   "source": [
    "%%time\n",
    "# 推論実施\n",
    "interpreter.invoke()\n",
    "tflite_results = interpreter.get_tensor(output_details[0]['index'])"
   ]
  },
  {
   "cell_type": "code",
   "execution_count": 66,
   "metadata": {},
   "outputs": [
    {
     "name": "stdout",
     "output_type": "stream",
     "text": [
      "[3.2905266e-02 2.3387247e-03 1.7475429e-03 6.8908161e-01 3.6236388e-04\n",
      " 2.7356446e-01]\n",
      "3\n"
     ]
    }
   ],
   "source": [
    "print(np.squeeze(tflite_results))\n",
    "print(np.argmax(np.squeeze(tflite_results)))"
   ]
  }
 ],
 "metadata": {
  "kernelspec": {
   "display_name": "Python 3",
   "language": "python",
   "name": "python3"
  },
  "language_info": {
   "codemirror_mode": {
    "name": "ipython",
    "version": 3
   },
   "file_extension": ".py",
   "mimetype": "text/x-python",
   "name": "python",
   "nbconvert_exporter": "python",
   "pygments_lexer": "ipython3",
   "version": "3.10.12"
  }
 },
 "nbformat": 4,
 "nbformat_minor": 4
}
